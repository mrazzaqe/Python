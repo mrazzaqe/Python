{
 "cells": [
  {
   "cell_type": "code",
   "execution_count": 2,
   "metadata": {},
   "outputs": [
    {
     "name": "stdout",
     "output_type": "stream",
     "text": [
      "<class '__main__.Myclass'>\n"
     ]
    }
   ],
   "source": [
    "#Create a class named Myclass with a property named x:\n",
    "\n",
    "class Myclass:\n",
    "    x= 5\n",
    "print(Myclass)    "
   ]
  },
  {
   "cell_type": "code",
   "execution_count": 3,
   "metadata": {},
   "outputs": [
    {
     "name": "stdout",
     "output_type": "stream",
     "text": [
      "5\n"
     ]
    }
   ],
   "source": [
    "#Creating a object name p1 and print the value of x:\n",
    "p1=Myclass()\n",
    "print(p1.x)"
   ]
  },
  {
   "cell_type": "code",
   "execution_count": 5,
   "metadata": {},
   "outputs": [
    {
     "name": "stdout",
     "output_type": "stream",
     "text": [
      "10\n"
     ]
    }
   ],
   "source": [
    "class Myclass:\n",
    "    x = 5\n",
    "    y = 10\n",
    "    p1 = Myclass()\n",
    "    print(p1.y)"
   ]
  },
  {
   "cell_type": "code",
   "execution_count": 7,
   "metadata": {},
   "outputs": [
    {
     "name": "stdout",
     "output_type": "stream",
     "text": [
      "Jhon\n",
      "64\n"
     ]
    }
   ],
   "source": [
    "#The __init__() Function\n",
    "#Create a class named person, use the __init__()function to assign  values  for name and age\n",
    "class person:\n",
    "    def __init__(self,name,age) -> None:\n",
    "        self.name = name\n",
    "        self.age = age\n",
    "p1 = person(\"Jhon\", 64)\n",
    "print(p1.name)\n",
    "print(p1.age)        \n",
    "     "
   ]
  }
 ],
 "metadata": {
  "interpreter": {
   "hash": "955b5dbf1c9568fcdca6427b82ed9dd3b5652756bab72d537c2112a7dd2607f3"
  },
  "kernelspec": {
   "display_name": "Python 3.10.0 64-bit",
   "language": "python",
   "name": "python3"
  },
  "language_info": {
   "codemirror_mode": {
    "name": "ipython",
    "version": 3
   },
   "file_extension": ".py",
   "mimetype": "text/x-python",
   "name": "python",
   "nbconvert_exporter": "python",
   "pygments_lexer": "ipython3",
   "version": "3.10.0"
  },
  "orig_nbformat": 4
 },
 "nbformat": 4,
 "nbformat_minor": 2
}
