{
 "cells": [
  {
   "cell_type": "code",
   "execution_count": 18,
   "metadata": {},
   "outputs": [],
   "source": [
    "# Function\n",
    "def evens():\n",
    "    e = []\n",
    "    for num in range(10):\n",
    "        if num%2 == 0:\n",
    "            e.append(num**2)\n",
    "    return e"
   ]
  },
  {
   "cell_type": "code",
   "execution_count": 16,
   "metadata": {},
   "outputs": [
    {
     "name": "stdout",
     "output_type": "stream",
     "text": [
      "3\n"
     ]
    }
   ],
   "source": [
    "ev = evens()\n",
    "print(ev)"
   ]
  },
  {
   "cell_type": "code",
   "execution_count": 26,
   "metadata": {},
   "outputs": [],
   "source": [
    "# Function with args\n",
    "def evens(start, stop):\n",
    "    e = []\n",
    "    for num in range(start, stop+1):\n",
    "        if num%2 == 0:\n",
    "            e.append(num**2)\n",
    "    return e"
   ]
  },
  {
   "cell_type": "code",
   "execution_count": 28,
   "metadata": {},
   "outputs": [
    {
     "name": "stdout",
     "output_type": "stream",
     "text": [
      "[100, 144, 196, 256, 324, 400]\n"
     ]
    }
   ],
   "source": [
    "ev = evens(10, 20)\n",
    "print(ev)"
   ]
  },
  {
   "cell_type": "code",
   "execution_count": 33,
   "metadata": {},
   "outputs": [],
   "source": [
    "# Function with kwargs\n",
    "def evens(start, stop, step=1, power=2):\n",
    "    e = []\n",
    "    for num in range(start, stop+1, step):\n",
    "        if num%2 == 0:\n",
    "            e.append(num**power)\n",
    "    return e"
   ]
  },
  {
   "cell_type": "code",
   "execution_count": 38,
   "metadata": {},
   "outputs": [
    {
     "name": "stdout",
     "output_type": "stream",
     "text": [
      "[1000, 1728, 2744, 4096, 5832, 8000, 10648, 13824, 17576, 21952, 27000]\n"
     ]
    }
   ],
   "source": [
    "ev = evens(10,30, power=3, step=2)\n",
    "print(ev)"
   ]
  },
  {
   "cell_type": "code",
   "execution_count": 50,
   "metadata": {},
   "outputs": [],
   "source": [
    "# Dyanamic *args\n",
    "def evens(*nums):\n",
    "    e = []\n",
    "    for num in nums:\n",
    "        if num % 2 == 0:\n",
    "            e.append(num**2)\n",
    "        else:\n",
    "            e.append(num**3)\n",
    "    return e\n"
   ]
  },
  {
   "cell_type": "code",
   "execution_count": 52,
   "metadata": {},
   "outputs": [
    {
     "data": {
      "text/plain": [
       "[27, 27, 16, 36, 125, 36, 343, 64, 729]"
      ]
     },
     "execution_count": 52,
     "metadata": {},
     "output_type": "execute_result"
    }
   ],
   "source": [
    "evens(3,3,4,6,5,6,7,8,9)"
   ]
  },
  {
   "cell_type": "code",
   "execution_count": 58,
   "metadata": {},
   "outputs": [],
   "source": [
    "# Dyanamic **kwargs\n",
    "def marks(**kwargs):\n",
    "    print(kwargs)\n",
    "    for key in kwargs.keys():\n",
    "        kwargs[key] += 5\n",
    "    return kwargs"
   ]
  },
  {
   "cell_type": "code",
   "execution_count": 56,
   "metadata": {},
   "outputs": [
    {
     "name": "stdout",
     "output_type": "stream",
     "text": [
      "{'Maths': 89, 'Physics': 88, 'Chemistry': 23, 'Computer': 90}\n"
     ]
    },
    {
     "data": {
      "text/plain": [
       "{'Maths': 94, 'Physics': 93, 'Chemistry': 28, 'Computer': 95}"
      ]
     },
     "execution_count": 56,
     "metadata": {},
     "output_type": "execute_result"
    }
   ],
   "source": [
    "marks(Maths=89, Physics=88, Chemistry=23, Computer=90)"
   ]
  },
  {
   "cell_type": "code",
   "execution_count": 89,
   "metadata": {},
   "outputs": [],
   "source": [
    "# generators\n",
    "def evens(start, stop, step=2, power=2):\n",
    "    for num in range(start, stop+1, step):\n",
    "        if num%2 == 0:\n",
    "            num = num**power\n",
    "        yield num"
   ]
  },
  {
   "cell_type": "code",
   "execution_count": 104,
   "metadata": {},
   "outputs": [],
   "source": [
    "ev = evens(10,30)"
   ]
  },
  {
   "cell_type": "code",
   "execution_count": 105,
   "metadata": {},
   "outputs": [
    {
     "data": {
      "text/plain": [
       "100"
      ]
     },
     "execution_count": 105,
     "metadata": {},
     "output_type": "execute_result"
    }
   ],
   "source": [
    "next(ev)"
   ]
  },
  {
   "cell_type": "code",
   "execution_count": 118,
   "metadata": {},
   "outputs": [],
   "source": [
    "# Decorators\n",
    "def dec(function):\n",
    "    def warapper(*args, **kwargs):\n",
    "        print(\"Decorating/....\")\n",
    "        f = function(*args, **kwargs)\n",
    "        return f\n",
    "    return warapper\n"
   ]
  },
  {
   "cell_type": "code",
   "execution_count": 119,
   "metadata": {},
   "outputs": [],
   "source": [
    "@dec\n",
    "def marks(**kwargs):\n",
    "    for key in kwargs.keys():\n",
    "        kwargs[key] += 5\n",
    "    return kwargs"
   ]
  },
  {
   "cell_type": "code",
   "execution_count": 121,
   "metadata": {},
   "outputs": [
    {
     "name": "stdout",
     "output_type": "stream",
     "text": [
      "Decorating/....\n",
      "{'Maths': 89, 'Physics': 88, 'Chemistry': 23, 'Computer': 90}\n"
     ]
    },
    {
     "data": {
      "text/plain": [
       "{'Maths': 94, 'Physics': 93, 'Chemistry': 28, 'Computer': 95}"
      ]
     },
     "execution_count": 121,
     "metadata": {},
     "output_type": "execute_result"
    }
   ],
   "source": [
    "marks(Maths=89, Physics=88, Chemistry=23, Computer=90)"
   ]
  },
  {
   "cell_type": "code",
   "execution_count": 122,
   "metadata": {},
   "outputs": [],
   "source": [
    "@dec\n",
    "def evens(*nums):\n",
    "    e = []\n",
    "    for num in nums:\n",
    "        if num % 2 == 0:\n",
    "            e.append(num**2)\n",
    "        else:\n",
    "            e.append(num**3)\n",
    "    return e"
   ]
  },
  {
   "cell_type": "code",
   "execution_count": 123,
   "metadata": {},
   "outputs": [
    {
     "name": "stdout",
     "output_type": "stream",
     "text": [
      "Decorating/....\n"
     ]
    },
    {
     "data": {
      "text/plain": [
       "[4, 27, 16, 125, 36]"
      ]
     },
     "execution_count": 123,
     "metadata": {},
     "output_type": "execute_result"
    }
   ],
   "source": [
    "evens(2,3,4,5,6)"
   ]
  },
  {
   "cell_type": "code",
   "execution_count": 132,
   "metadata": {},
   "outputs": [],
   "source": [
    "# Function with kwargs\n",
    "def Evens(num):\n",
    "    if num % 2 == 0:\n",
    "        return num**2\n",
    "    else:\n",
    "        return num**3"
   ]
  },
  {
   "cell_type": "code",
   "execution_count": 129,
   "metadata": {},
   "outputs": [
    {
     "data": {
      "text/plain": [
       "36"
      ]
     },
     "execution_count": 129,
     "metadata": {},
     "output_type": "execute_result"
    }
   ],
   "source": [
    "# Lamda Function\n",
    "evs = lambda num:num**2 if num%2==0 else num**3\n",
    "evs(3)\n",
    "evs(6)"
   ]
  },
  {
   "cell_type": "code",
   "execution_count": 131,
   "metadata": {},
   "outputs": [
    {
     "data": {
      "text/plain": [
       "[1, 4, 27, 16, 125, 36, 343, 64, 729]"
      ]
     },
     "execution_count": 131,
     "metadata": {},
     "output_type": "execute_result"
    }
   ],
   "source": [
    "# map()\n",
    "list(map(evs, [1,2,3,4,5,6,7,8,9]))"
   ]
  },
  {
   "cell_type": "code",
   "execution_count": 136,
   "metadata": {},
   "outputs": [
    {
     "data": {
      "text/plain": [
       "[1, 4, 27, 16, 125, 36, 343, 64, 729]"
      ]
     },
     "execution_count": 136,
     "metadata": {},
     "output_type": "execute_result"
    }
   ],
   "source": [
    "list(map(Evens, [1,2,3,4,5,6,7,8,9]))"
   ]
  },
  {
   "cell_type": "code",
   "execution_count": 141,
   "metadata": {},
   "outputs": [
    {
     "data": {
      "text/plain": [
       "[2, 4, 6, 8]"
      ]
     },
     "execution_count": 141,
     "metadata": {},
     "output_type": "execute_result"
    }
   ],
   "source": [
    "# filter\n",
    "evs = lambda num:True if num%2==0 else False\n",
    "nums = [1,2,3,4,5,6,7,8,9]\n",
    "list(filter(evs, [1,2,3,4,5,6,7,8,9]))"
   ]
  },
  {
   "cell_type": "code",
   "execution_count": 139,
   "metadata": {},
   "outputs": [
    {
     "data": {
      "text/plain": [
       "[1, 3, 5, 7, 9]"
      ]
     },
     "execution_count": 139,
     "metadata": {},
     "output_type": "execute_result"
    }
   ],
   "source": [
    "evs = lambda num:True if num%2!=0 else False\n",
    "nums = [1,2,3,4,5,6,7,8,9]\n",
    "list(filter(evs, [1,2,3,4,5,6,7,8,9]))"
   ]
  },
  {
   "cell_type": "code",
   "execution_count": 151,
   "metadata": {},
   "outputs": [],
   "source": [
    "# Variable scope\n",
    "g = 5\n",
    "def inc():\n",
    "    global g\n",
    "    g = g+1\n",
    "    print(g)\n"
   ]
  },
  {
   "cell_type": "code",
   "execution_count": 152,
   "metadata": {},
   "outputs": [
    {
     "name": "stdout",
     "output_type": "stream",
     "text": [
      "6\n"
     ]
    }
   ],
   "source": [
    "inc()"
   ]
  },
  {
   "cell_type": "code",
   "execution_count": 153,
   "metadata": {},
   "outputs": [
    {
     "data": {
      "text/plain": [
       "6"
      ]
     },
     "execution_count": 153,
     "metadata": {},
     "output_type": "execute_result"
    }
   ],
   "source": [
    "g"
   ]
  },
  {
   "cell_type": "code",
   "execution_count": 157,
   "metadata": {},
   "outputs": [],
   "source": [
    "nums = int(input(\"Enter numbers:\"))"
   ]
  },
  {
   "cell_type": "code",
   "execution_count": null,
   "metadata": {},
   "outputs": [
    {
     "data": {
      "text/plain": [
       "[2, 3, 4, 5, 6, 7]"
      ]
     },
     "execution_count": 161,
     "metadata": {},
     "output_type": "execute_result"
    }
   ],
   "source": [
    "list(map(int, input(\"Enter numbers:\").split()))"
   ]
  },
  {
   "cell_type": "code",
   "execution_count": null,
   "metadata": {},
   "outputs": [],
   "source": [
    "# Task 7\n",
    "# Takes Unlimited length of numbers\n",
    "# Create a function to sort numbers in ascending order\n",
    "\n",
    "def sort_asecen(x):\n",
    "    for i in range(0, len(x)):\n",
    "        min_idex = i\n",
    "        for j in range(i+1, len(x)):\n",
    "            if x[min_idex] > x[j]:\n",
    "                min_idex = j\n",
    "        x[i], x[min_idex] =x[min_idex], x[i] \n",
    "    print(x)    \n",
    "\n",
    "print(sort_asecen(x=[1,2,10,23,4,3,12,65,5,9,6]))"
   ]
  },
  {
   "cell_type": "code",
   "execution_count": null,
   "metadata": {},
   "outputs": [],
   "source": [
    "# Task 8\n",
    "# d = {3:4, 5:55, 6:66, 7:35}\n",
    "# Sort the dictionary depending on keys in Ascending order"
   ]
  }
 ],
 "metadata": {
  "interpreter": {
   "hash": "14a336a61cfaefff504b47e2b8e6e50961f0feafa7b211f8ff23081790c52144"
  },
  "kernelspec": {
   "display_name": "Python 3.9.7 64-bit",
   "language": "python",
   "name": "python3"
  },
  "language_info": {
   "codemirror_mode": {
    "name": "ipython",
    "version": 3
   },
   "file_extension": ".py",
   "mimetype": "text/x-python",
   "name": "python",
   "nbconvert_exporter": "python",
   "pygments_lexer": "ipython3",
   "version": "3.10.0"
  },
  "orig_nbformat": 4
 },
 "nbformat": 4,
 "nbformat_minor": 2
}
