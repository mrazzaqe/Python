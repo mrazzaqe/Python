{
 "cells": [
  {
   "cell_type": "markdown",
   "metadata": {},
   "source": [
    "List:\n",
    "Lists are used to store multiple value in a single variable.\n",
    "Lists are created with square brackets:"
   ]
  },
  {
   "cell_type": "code",
   "execution_count": 2,
   "metadata": {},
   "outputs": [
    {
     "data": {
      "text/plain": [
       "[1, 2, 3, 4, 'Mango', 'Apple', 3.4]"
      ]
     },
     "execution_count": 2,
     "metadata": {},
     "output_type": "execute_result"
    }
   ],
   "source": [
    "test = [1,2,3,4,'Mango','Apple',3.4]\n",
    "test"
   ]
  },
  {
   "cell_type": "markdown",
   "metadata": {},
   "source": [
    "List item:\n",
    "List items are order, changeable, and allow duplicate values\n",
    "list items are indexed, the first item has index [0], second item index[1] and so on\n",
    "\n",
    "List Properties:\n",
    "\n",
    "Changeable/Mutable:\n",
    "The list is changeable, means we can change, add and remove items in a list after it has been creaded.\n",
    "\n",
    "Ordered:\n",
    "When we say that list is ordered, it means that the items have a defined order, and that order not change\n",
    "If you add a new item in a list, the new iten will be placed at the end of the list\n",
    "\n",
    "Duplicates:\n",
    "Since lists are indexed, list can allow items with same value. Thats means list allow duplicates values.\n",
    "\n",
    "Heterogeneous:\n",
    "List can contain different type of data\n",
    "\n",
    "Why we use a list?\n",
    "\n",
    "1. The list data structure is very flexible it has many unique inbuilt functions like pop(), append(), etc which make it easier, where  the data keep changing. \n",
    "2. Also, the list can contain duplicate items, i.e, two or more item s are same value\n",
    "3. Lists are heterogeneous, i.e, different kind of object, elements can be added.\n",
    "4. As the list are mutable it is used in appplication where the values of the items change frequently\n"
   ]
  },
  {
   "cell_type": "code",
   "execution_count": 17,
   "metadata": {},
   "outputs": [
    {
     "data": {
      "text/plain": [
       "[1, 2, 3, 4, 'Mango', 'Apple', 3.4, 2, 3, 4, 'Mango', 'Mango']"
      ]
     },
     "execution_count": 17,
     "metadata": {},
     "output_type": "execute_result"
    }
   ],
   "source": [
    "test = [1,2,3,4,'Mango','Apple',3.4, 2,3,4,\"Mango\"]\n",
    "test\n",
    "test.append(\"kiwi\")\n",
    "test.remove(\"Apple\")\n",
    "test1 =[5,6,9,1,2,6,9,2,3,10,23]\n",
    "test1.sort()\n",
    "test1\n",
    "test = [1,2,3,4,'Mango','Apple',3.4, 2,3,4,\"Mango\"]\n",
    "test.append(\"Mango\")\n",
    "test"
   ]
  },
  {
   "cell_type": "markdown",
   "metadata": {},
   "source": [
    "List Length:\n",
    "To determine how many items a list has, we can use len() function\n",
    "\n",
    "List item data type\n",
    "List can be store any type of data, string, int, float, bool etc.\n",
    "\n",
    "We can checked the list type, using type() function\n",
    "\n",
    "List construction:\n",
    "It is also possible to use list() constructor when creating a new list\n"
   ]
  },
  {
   "cell_type": "code",
   "execution_count": 22,
   "metadata": {},
   "outputs": [
    {
     "data": {
      "text/plain": [
       "[5, 6, 7, 8, 9, 'kiwi', 'apple']"
      ]
     },
     "execution_count": 22,
     "metadata": {},
     "output_type": "execute_result"
    }
   ],
   "source": [
    "lst1 = [2,4,\"Mango\", bool, 4.6, \"Mango\",\"kiwi\", 2,4]\n",
    "lst1\n",
    "len(lst1) # To determine the length of list\n",
    "type(lst1)\n",
    "lst2 =list((5,6,7,8,9,\"kiwi\",\"apple\")) # construct new list using list() function\n",
    "lst2"
   ]
  },
  {
   "cell_type": "markdown",
   "metadata": {},
   "source": [
    "Accessing items of a lsit:\n",
    "The items of list can be accessed through the indexing  and slicing. We will access the items in a list using indexing and Slicing\n",
    "\n",
    "Using undexing: \n",
    "We can access any item from a list using its index number\n",
    "\n",
    "Using Slicing:\n",
    "We can access a range of items from a list\n",
    "\n",
    "Indexing:\n",
    "The list elements  can be accessed using the \"indexing\" technique. Lists are ordered collections with unique indexes for  each item. We can access the items in the list using the index number.\n",
    " when ever"
   ]
  },
  {
   "cell_type": "code",
   "execution_count": 30,
   "metadata": {},
   "outputs": [
    {
     "data": {
      "text/plain": [
       "4"
      ]
     },
     "execution_count": 30,
     "metadata": {},
     "output_type": "execute_result"
    }
   ],
   "source": [
    "#Indexing\n",
    "#\n",
    "lst1 = [2,4,\"Mango\", bool, 4.6, \"Mango\",\"kiwi\", 2,4]\n",
    "lst1[3] #print the 4th item from the list\n",
    "lst1[0]\n",
    "\n",
    "#Negetive indexing: The elements in the list can be accessed from right to left by using negetive indexing.\n",
    "lst1[-1]\n",
    "\n"
   ]
  },
  {
   "cell_type": "markdown",
   "metadata": {},
   "source": [
    "List Slicing:\n",
    "Slicing a list implies, accessing a range  of elements in a list. For example, if we want to get the elements in the position  from 3 to 7. \n",
    "We can even modify  the values in a range by using the slicing(function)"
   ]
  },
  {
   "cell_type": "code",
   "execution_count": 39,
   "metadata": {},
   "outputs": [
    {
     "data": {
      "text/plain": [
       "[12.5, 'Emma', 25, 50]"
      ]
     },
     "execution_count": 39,
     "metadata": {},
     "output_type": "execute_result"
    }
   ],
   "source": [
    "#Slicing syntex\n",
    "#listname[start_index:end_index : step]\n",
    "my_list = [10, 20, 'Jessa', 12.50, 'Emma', 25, 50]\n",
    "my_list\n",
    "my_list[1:5]\n",
    "my_list[1:5:2]\n",
    "#Slice first four item\n",
    "my_list[:4]\n",
    "#print every 2nd items by skipting 2\n",
    "my_list[::2]\n",
    "\n",
    "#reversing the list\n",
    "my_list[::-1]\n",
    "\n",
    "#without end value, start from 3rd item to last item\n",
    "my_list[3:]"
   ]
  },
  {
   "cell_type": "markdown",
   "metadata": {},
   "source": [
    "Iterating a list\n",
    "The objects in the list can be iterated over one by one , by using a for loop\n"
   ]
  },
  {
   "cell_type": "code",
   "execution_count": 40,
   "metadata": {},
   "outputs": [
    {
     "name": "stdout",
     "output_type": "stream",
     "text": [
      "10\n",
      "20\n",
      "Jessa\n",
      "12.5\n",
      "Emma\n",
      "25\n",
      "50\n"
     ]
    }
   ],
   "source": [
    "my_list = [10, 20, 'Jessa', 12.50, 'Emma', 25, 50]\n",
    "\n",
    "#iterating a list\n",
    "\n",
    "for item in my_list:\n",
    "    print(item)"
   ]
  },
  {
   "cell_type": "code",
   "execution_count": 41,
   "metadata": {},
   "outputs": [
    {
     "name": "stdout",
     "output_type": "stream",
     "text": [
      "10\n",
      "20\n",
      "Jessa\n",
      "12.5\n",
      "Emma\n",
      "25\n",
      "50\n"
     ]
    }
   ],
   "source": [
    "#iterating along with index number\n",
    "my_list = [10, 20, 'Jessa', 12.50, 'Emma', 25, 50]\n",
    "\n",
    "for i in range(0,len(my_list)):\n",
    "    print(my_list[i])\n"
   ]
  },
  {
   "cell_type": "markdown",
   "metadata": {},
   "source": [
    "Adding elements in the list\n",
    "We can add a new elements or list of elements to the list using the list methods such as append(), insert(), and extend()\n",
    "\n",
    "The append() function will accept only one parameter and add it in the end of the list.\n",
    "The insert() function add the item at the specified position in the list. The insert method accepts two paramters position and object.\n",
    "The extend() function will accet the list of elements and add them in the end of the list. We can even add another list by using this method\n"
   ]
  },
  {
   "cell_type": "code",
   "execution_count": 46,
   "metadata": {},
   "outputs": [
    {
     "data": {
      "text/plain": [
       "[10, 20, 'Jessa', 12.5, 'Emma', 25, 50, 'Tom', 5, 15]"
      ]
     },
     "execution_count": 46,
     "metadata": {},
     "output_type": "execute_result"
    }
   ],
   "source": [
    "my_list = [10, 20, 'Jessa', 12.50, 'Emma', 25, 50]\n",
    "my_list.append(\"Tom\")\n",
    "my_list\n",
    "my_list.insert(2, 35)\n",
    "my_list\n",
    "\n",
    "# extend() function can take only one parameter\n",
    "my_list = [10, 20, 'Jessa', 12.50, 'Emma', 25, 50]\n",
    "\n",
    "my_list.extend([\"Tom\", 5, 15])\n",
    "my_list"
   ]
  },
  {
   "cell_type": "markdown",
   "metadata": {},
   "source": [
    "Modify the list\n",
    "\n",
    "The list is a mutable sequence of iteraable objects. It means we can modify the items od a list. Use the index number and assignment operator(=) to assign a new value to an item.\n",
    "\n",
    "We can modify the list in two ways\n",
    "1. Modify the individual item\n",
    "2. Modify the range of items\n"
   ]
  },
  {
   "cell_type": "code",
   "execution_count": 64,
   "metadata": {},
   "outputs": [
    {
     "data": {
      "text/plain": [
       "16"
      ]
     },
     "execution_count": 64,
     "metadata": {},
     "output_type": "execute_result"
    }
   ],
   "source": [
    "my_list =[10, 20, 'Jessa', 12.5, 'Emma']\n",
    "\n",
    "#modify single item\n",
    "my_list[-1]=\"Tom\"\n",
    "my_list\n",
    "my_list[0]=\"Emma\"\n",
    "my_list\n",
    "#Modify multiple items\n",
    "my_list =[10, 20, 'Jessa', 12.5, 'Emma']\n",
    "my_list[0:1]=[\"Tom\",\"Jery\"]\n",
    "my_list\n",
    "\n",
    "#modify all items\n",
    "my_list = list([2, 4, 6, 8])\n",
    "my_list.pop()\n",
    "\n",
    "#change value of all items\n",
    "for i in range(len(my_list)):\n",
    "    square = my_list[i] ** 2\n",
    "    my_list[i]=square\n",
    "my_list \n"
   ]
  },
  {
   "cell_type": "markdown",
   "metadata": {},
   "source": [
    "Removing items from a list\n",
    "The items  from the list can be removed using the following list methods.\n",
    "remove(item): To remove the first item from the list\n",
    "pop(index) : Removes and return at the given index from the list\n",
    "pop(): Removes and return the last item from the list\n",
    "clear(): To removes all the items from the list. The output will empty.\n",
    "del my_list: Delete the entire list or delete range of items from the list\n"
   ]
  },
  {
   "cell_type": "code",
   "execution_count": 79,
   "metadata": {},
   "outputs": [
    {
     "data": {
      "text/plain": [
       "[2, 4, 6]"
      ]
     },
     "execution_count": 79,
     "metadata": {},
     "output_type": "execute_result"
    }
   ],
   "source": [
    "my_list = list([2, 4, 6, 8, 10, 12])\n",
    "#remove item 6 from the list\n",
    "my_list.remove(6)\n",
    "my_list\n",
    "#remove and return the last item\n",
    "my_list.pop()\n",
    "\n",
    "#remove and return given index\n",
    "my_list = list([2, 4, 6, 8, 10, 12])\n",
    "my_list.pop(2)\n",
    "\n",
    "#remove all items from the list and display the empty list\n",
    "my_list.clear()\n",
    "my_list\n",
    "# remove range of items\n",
    "# remove item from index 2 to 4\n",
    "my_list = list([2, 4, 6, 8, 10, 12])\n",
    "del my_list[2:4]\n",
    "my_list\n",
    "# remove all items starting from index 3\n",
    "my_list = list([2, 4, 6, 8, 10, 12])\n",
    "del my_list[3:]\n",
    "my_list"
   ]
  },
  {
   "cell_type": "markdown",
   "metadata": {},
   "source": [
    "Sort(): The sort() function is used to sort the elements in the list in ascending order.\n",
    "reverse(): The reverse() function is used to reverse the elements in the list.\n",
    "copy(): The copy() function can be used to create a copy of a list. "
   ]
  },
  {
   "cell_type": "code",
   "execution_count": 83,
   "metadata": {},
   "outputs": [
    {
     "data": {
      "text/plain": [
       "[3, 4, 5]"
      ]
     },
     "execution_count": 83,
     "metadata": {},
     "output_type": "execute_result"
    }
   ],
   "source": [
    "#sort()\n",
    "my_list = [9,7,2,3,12,5,10,1]\n",
    "my_list.sort()\n",
    "my_list\n",
    "#reverse ()\n",
    "my_list = [9,7,2,3,12,5,10,1]\n",
    "my_list.reverse()\n",
    "my_list\n",
    "\n",
    "#copy()\n",
    "my_list =[3,4,5]\n",
    "new_list=my_list.copy()\n",
    "new_list"
   ]
  },
  {
   "cell_type": "markdown",
   "metadata": {},
   "source": [
    "Python building functions with list\n",
    "some building function available in list.\n",
    "max():\n",
    "min():\n",
    "sum():"
   ]
  },
  {
   "cell_type": "code",
   "execution_count": 87,
   "metadata": {},
   "outputs": [
    {
     "name": "stdout",
     "output_type": "stream",
     "text": [
      "3\n",
      "6\n",
      "18\n"
     ]
    }
   ],
   "source": [
    "my_list = [3,5,4,6]\n",
    "print(min(my_list))\n",
    "print(max(my_list))\n",
    "print(sum(my_list))"
   ]
  },
  {
   "cell_type": "markdown",
   "metadata": {},
   "source": [
    "Nested list\n",
    "The list can contains another list (sublist), which in turn contains another list and so on. This is called anested list"
   ]
  },
  {
   "cell_type": "code",
   "execution_count": 92,
   "metadata": {},
   "outputs": [
    {
     "name": "stdout",
     "output_type": "stream",
     "text": [
      "Access the 3rd item of 2nd list is: 7\n"
     ]
    }
   ],
   "source": [
    "mylist = [3, 4, 5, 6, 3, [1, 2, 3],[3,6,7], 4]\n",
    "mylist\n",
    "nestedlist = [[2,4,6,8,10],[1,3,5,7,9]]\n",
    "print(\"Access the 3rd item of 2nd list is:\", nestedlist[1][3])"
   ]
  },
  {
   "cell_type": "markdown",
   "metadata": {},
   "source": [
    "List Comprehension \n",
    "List comprehension is a simplest methods to create a new list from an existing list. It is generally a list of iterables generated with an option to include only the items which satisfy a condition.\n",
    "syntex :\n",
    "outputList = {expression(variable) for variable in inputList [if variable condition1][if variable condition2]\n",
    "\n",
    "expression: Optional. expression to compute the members of the output List which satisfies the optional conditions\n",
    "variable: Required. a variable that represents the members of the input List.\n",
    "inputList: Required. Represents the input set.\n",
    "condition1, condition2 etc; : Optional. Filter conditions for the members of the output List."
   ]
  },
  {
   "cell_type": "code",
   "execution_count": 96,
   "metadata": {},
   "outputs": [
    {
     "data": {
      "text/plain": [
       "[16, True, True, True, 324, 400]"
      ]
     },
     "execution_count": 96,
     "metadata": {},
     "output_type": "execute_result"
    }
   ],
   "source": [
    "# List comprehension\n",
    "fruits = ['apple', 'banana', 'mango', 'kiwi', 'orange', 'lemon']\n",
    "new_fruits =[x for x in fruits if 'a' in x]\n",
    "#print(fruits)\n",
    "new_fruits\n",
    "h_letter=[]\n",
    "\n",
    "for letter in 'human':\n",
    "    h_letter.append(letter)\n",
    "h_letter\n",
    "\n",
    "h_letter =[letter for letter in \"abdur\"]\n",
    "h_letter\n",
    "\n",
    "\n",
    "inputlist = [4,7,11,13,18,20]\n",
    "squarelist =[var**2 for var in inputlist if var % 2 == 0 ]\n",
    "cuvelist = [var**3 for var in inputlist if var%2 != 0]\n",
    "squarelist =[var**2  if var % 2 == 0 else var % 2 !=0 for var in inputlist]\n",
    "squarelist\n"
   ]
  },
  {
   "cell_type": "code",
   "execution_count": 181,
   "metadata": {},
   "outputs": [
    {
     "data": {
      "text/plain": [
       "[10, 20, 30, 40, 50, 60, 40, 50, 60]"
      ]
     },
     "execution_count": 181,
     "metadata": {},
     "output_type": "execute_result"
    }
   ],
   "source": [
    "l1 =[10,20,30,40,50,60,40,50,60]\n",
    "l1.index(30, 2, 5)\n",
    "l1"
   ]
  },
  {
   "cell_type": "markdown",
   "metadata": {},
   "source": [
    "List Exercise "
   ]
  },
  {
   "cell_type": "code",
   "execution_count": 115,
   "metadata": {},
   "outputs": [
    {
     "data": {
      "text/plain": [
       "[100, 200, 300, 400, 500]"
      ]
     },
     "execution_count": 115,
     "metadata": {},
     "output_type": "execute_result"
    }
   ],
   "source": [
    "#Exercise 1: Reverse a list in Python\n",
    "#solution 1\n",
    "list1 = [100, 200, 300, 400, 500]\n",
    "list1.reverse()\n",
    "list1\n",
    "list1 = list1[::-1]\n",
    "list1\n"
   ]
  },
  {
   "cell_type": "code",
   "execution_count": 116,
   "metadata": {},
   "outputs": [
    {
     "data": {
      "text/plain": [
       "[500, 400, 300, 200, 100]"
      ]
     },
     "execution_count": 116,
     "metadata": {},
     "output_type": "execute_result"
    }
   ],
   "source": [
    "#solution2\n",
    "list1 = [100, 200, 300, 400, 500]\n",
    "list1 = list1[::-1]\n",
    "list1"
   ]
  },
  {
   "cell_type": "code",
   "execution_count": 127,
   "metadata": {},
   "outputs": [
    {
     "data": {
      "text/plain": [
       "['My', 'name', 'is', 'Kelly']"
      ]
     },
     "execution_count": 127,
     "metadata": {},
     "output_type": "execute_result"
    }
   ],
   "source": [
    "#Exercise 2: Concatenate two lists index-wise\n",
    "#solution\n",
    "list1 = [\"M\", \"na\", \"i\", \"Ke\"]\n",
    "list2 = [\"y\", \"me\", \"s\", \"lly\"]\n",
    " \n",
    "list3 =[i+j for i , j in zip(list1, list2)]   \n",
    "list3\n",
    "\n"
   ]
  },
  {
   "cell_type": "code",
   "execution_count": 128,
   "metadata": {},
   "outputs": [
    {
     "data": {
      "text/plain": [
       "[1, 4, 9, 16, 25, 36, 49]"
      ]
     },
     "execution_count": 128,
     "metadata": {},
     "output_type": "execute_result"
    }
   ],
   "source": [
    "#Exercise 3: Turn every item of a list into its square\n",
    "#solution1\n",
    "numbers = [1, 2, 3, 4, 5, 6, 7]\n",
    "square =[i**2 for i in numbers]\n",
    "square"
   ]
  },
  {
   "cell_type": "code",
   "execution_count": 129,
   "metadata": {},
   "outputs": [
    {
     "data": {
      "text/plain": [
       "[1, 4, 9, 16, 25, 36, 49]"
      ]
     },
     "execution_count": 129,
     "metadata": {},
     "output_type": "execute_result"
    }
   ],
   "source": [
    "#solution2\n",
    "numbers = [1, 2, 3, 4, 5, 6, 7]\n",
    "square = []\n",
    "for i in numbers:\n",
    "    square.append(i**2)\n",
    "square    "
   ]
  },
  {
   "cell_type": "code",
   "execution_count": 7,
   "metadata": {},
   "outputs": [
    {
     "data": {
      "text/plain": [
       "[0, 1, 2, 3, 4]"
      ]
     },
     "execution_count": 7,
     "metadata": {},
     "output_type": "execute_result"
    }
   ],
   "source": [
    "newlist = [x for x in range(10+1)]\n",
    "newlist = [x for x in range(10+1) if x < 5]\n",
    "newlist"
   ]
  },
  {
   "cell_type": "code",
   "execution_count": 131,
   "metadata": {},
   "outputs": [
    {
     "data": {
      "text/plain": [
       "['Hello Dear', 'Hello Sir', 'take Dear', 'take Sir']"
      ]
     },
     "execution_count": 131,
     "metadata": {},
     "output_type": "execute_result"
    }
   ],
   "source": [
    "#Exercise 4: Concatenate two lists in the following order\n",
    "#solution1\n",
    "list1 = [\"Hello \", \"take \"]\n",
    "list2 = [\"Dear\", \"Sir\"]\n",
    "display =[]\n",
    "for i in list1:\n",
    "    for j in list2:\n",
    "        display.append(i+j)\n",
    "display        "
   ]
  },
  {
   "cell_type": "code",
   "execution_count": 134,
   "metadata": {},
   "outputs": [
    {
     "data": {
      "text/plain": [
       "['Hello Dear', 'Hello Sir', 'take Dear', 'take Sir']"
      ]
     },
     "execution_count": 134,
     "metadata": {},
     "output_type": "execute_result"
    }
   ],
   "source": [
    "#solution2\n",
    "list1 = [\"Hello \", \"take \"]\n",
    "list2 = [\"Dear\", \"Sir\"]\n",
    "list3=[i+j for i in list1 for j in list2]\n",
    "list3\n"
   ]
  },
  {
   "cell_type": "code",
   "execution_count": 144,
   "metadata": {},
   "outputs": [
    {
     "name": "stdout",
     "output_type": "stream",
     "text": [
      "10 400\n",
      "20 300\n",
      "30 200\n",
      "40 100\n"
     ]
    }
   ],
   "source": [
    "#Exercise 5: Iterate both lists simultaneously\n",
    "list1 = [10, 20, 30, 40]\n",
    "list2 = [100, 200, 300, 400]\n",
    "\n",
    "for i, j in zip(list1, list2[::-1]):\n",
    "    print(i, j)\n",
    "  "
   ]
  },
  {
   "cell_type": "code",
   "execution_count": 146,
   "metadata": {},
   "outputs": [
    {
     "data": {
      "text/plain": [
       "['Mike', 'Emma', 'Kelly', 'Brad']"
      ]
     },
     "execution_count": 146,
     "metadata": {},
     "output_type": "execute_result"
    }
   ],
   "source": [
    "#Exercise 6: Remove empty strings from the list of strings\n",
    "\n",
    "list1 = [\"Mike\", \"\", \"Emma\", \"Kelly\", \"\", \"Brad\"]\n",
    "\n",
    "res = list(filter(None, list1))\n",
    "res\n",
    " "
   ]
  },
  {
   "cell_type": "code",
   "execution_count": 165,
   "metadata": {},
   "outputs": [
    {
     "data": {
      "text/plain": [
       "[10, 20, [300, 400, [5000, 6000, 7000], 500], 30, 40]"
      ]
     },
     "execution_count": 165,
     "metadata": {},
     "output_type": "execute_result"
    }
   ],
   "source": [
    "#Exercise 7: Add new item to list after a specified item\n",
    "#Write a program to add item 7000 after 6000 in the following Python List\n",
    "list1 = [10, 20, [300, 400, [5000, 6000], 500], 30, 40]\n",
    "list1[2][2].append(7000)\n",
    "list1\n"
   ]
  },
  {
   "cell_type": "code",
   "execution_count": 178,
   "metadata": {},
   "outputs": [
    {
     "data": {
      "text/plain": [
       "['a', 'b', ['c', ['d', 'e', ['f', 'g', 'h', 'i', 'j'], 'k'], 'l'], 'm', 'n']"
      ]
     },
     "execution_count": 178,
     "metadata": {},
     "output_type": "execute_result"
    }
   ],
   "source": [
    "#Exercise 8: Extend nested list by adding the sublist\n",
    "#Write a program to extend it by adding the sublist [\"h\", \"i\", \"j\"] in such a way that it will look like the following list.\n",
    "list1 = [\"a\", \"b\", [\"c\", [\"d\", \"e\", [\"f\", \"g\"], \"k\"], \"l\"], \"m\", \"n\"]\n",
    "\n",
    "# sub list to add\n",
    "sub_list = [\"h\", \"i\", \"j\"]\n",
    "#['a', 'b', ['c', ['d', 'e', ['f', 'g', 'h', 'i', 'j'], 'k'], 'l'], 'm', 'n']\n",
    "list1[2][1][2].extend(sub_list)\n",
    "list1"
   ]
  },
  {
   "cell_type": "code",
   "execution_count": 186,
   "metadata": {},
   "outputs": [
    {
     "data": {
      "text/plain": [
       "[5, 10, 15, 200, 25, 50, 20]"
      ]
     },
     "execution_count": 186,
     "metadata": {},
     "output_type": "execute_result"
    }
   ],
   "source": [
    "#Exercise 9: Replace list’s item with new value if found\n",
    "#Write a program to find value 20 in the list, and if it is present, replace it with 200. Only update the first occurrence of an item.\n",
    "list1 = [5, 10, 15, 20, 25, 50, 20]\n",
    "#[5, 10, 15, 200, 25, 50, 20]\n",
    "index =list1.index(20)\n",
    "list1[index]=200\n",
    "list1\n"
   ]
  },
  {
   "cell_type": "code",
   "execution_count": 195,
   "metadata": {},
   "outputs": [
    {
     "data": {
      "text/plain": [
       "[5, 15, 25, 50]"
      ]
     },
     "execution_count": 195,
     "metadata": {},
     "output_type": "execute_result"
    }
   ],
   "source": [
    "#Exercise 10: Remove all occurrences of a specific item from a list.\n",
    "#write a program to remove all occurrences of item 20.\n",
    "list1 = [5, 20, 15, 20, 25, 50, 20]\n",
    "#[5, 15, 25, 50]\n",
    "\n",
    "while 20 in list1:\n",
    "    list1.remove(20)\n",
    "list1 \n",
    "   \n"
   ]
  },
  {
   "cell_type": "code",
   "execution_count": 204,
   "metadata": {},
   "outputs": [
    {
     "name": "stdout",
     "output_type": "stream",
     "text": [
      "[list[4], 35, 9, 56, 12]\n"
     ]
    }
   ],
   "source": []
  },
  {
   "cell_type": "code",
   "execution_count": null,
   "metadata": {},
   "outputs": [],
   "source": [
    "#1. Write a Python program to sum all the items in a list.\n",
    "\n",
    "list1 =[2,3,4,5,6,7,8,9]\n",
    "sum = 0\n",
    "for i in list1:\n",
    "    sum = sum +i\n",
    "print(\"The sum of list is:\", sum)  "
   ]
  },
  {
   "cell_type": "code",
   "execution_count": 7,
   "metadata": {},
   "outputs": [
    {
     "name": "stdout",
     "output_type": "stream",
     "text": [
      "54\n"
     ]
    }
   ],
   "source": [
    "def sum_list(items):\n",
    "    sum_items = 0\n",
    "    for i in items:\n",
    "        sum_items += i\n",
    "    return sum_items\n",
    "print(sum_list([2,3,4,5,6,7,8,9,10]))        \n",
    "\n"
   ]
  },
  {
   "cell_type": "code",
   "execution_count": 8,
   "metadata": {},
   "outputs": [
    {
     "name": "stdout",
     "output_type": "stream",
     "text": [
      "24\n"
     ]
    }
   ],
   "source": [
    "#2. Write a Python program to multiply all the items in a list.\n",
    "def mul_list(items):\n",
    "    mul =1\n",
    "    for i in items:\n",
    "        mul *= i\n",
    "    return mul\n",
    "print(mul_list([2,3,4]))    \n",
    "         \n"
   ]
  },
  {
   "cell_type": "code",
   "execution_count": 10,
   "metadata": {},
   "outputs": [
    {
     "name": "stdout",
     "output_type": "stream",
     "text": [
      "The Multipling of all items in a list is: 24\n"
     ]
    }
   ],
   "source": [
    "list_m = [2,3,4]\n",
    "\n",
    "mul = 1\n",
    "for i in list_m:\n",
    "    mul *= i\n",
    "print(\"The Multipling of all items in a list is:\", mul)    "
   ]
  },
  {
   "cell_type": "code",
   "execution_count": 17,
   "metadata": {},
   "outputs": [
    {
     "name": "stdout",
     "output_type": "stream",
     "text": [
      "67\n"
     ]
    }
   ],
   "source": [
    "#3. Write a Python program to get the largest number from a list.\n",
    "def max_list(items):\n",
    "\n",
    "    max = items[0]\n",
    "    for a in items:\n",
    "        if a > max:\n",
    "            max = a\n",
    "    return max\n",
    "print(max_list([2, 7, 8, 23, 45, 67]))            "
   ]
  },
  {
   "cell_type": "code",
   "execution_count": 20,
   "metadata": {},
   "outputs": [
    {
     "name": "stdout",
     "output_type": "stream",
     "text": [
      "The largest number in a list is: 321\n"
     ]
    }
   ],
   "source": [
    "list1 = [2,34,56,76,87,98,321]\n",
    "max = list1[0]\n",
    "for x in list1:\n",
    "    if x > max:\n",
    "        max = x\n",
    "print(\"The largest number in a list is:\", max)        \n"
   ]
  },
  {
   "cell_type": "code",
   "execution_count": 205,
   "metadata": {},
   "outputs": [
    {
     "name": "stdout",
     "output_type": "stream",
     "text": [
      "The smallest number in list is: 1\n"
     ]
    }
   ],
   "source": [
    "#4. Write a Python program to get the smallest number from a list.\n",
    "list2 = [3,12,1,45,34,56,78,54]\n",
    "\n",
    "min = list2[0]\n",
    "for x in list2:\n",
    "    if x < min:\n",
    "        min = x\n",
    "print(\"The smallest number in list is:\", min)\n"
   ]
  },
  {
   "cell_type": "code",
   "execution_count": 22,
   "metadata": {},
   "outputs": [
    {
     "name": "stdout",
     "output_type": "stream",
     "text": [
      "3\n"
     ]
    }
   ],
   "source": [
    "def min_list(items):\n",
    "    min = items[0]\n",
    "    for x in items:\n",
    "        if x < min:\n",
    "            min = x\n",
    "    return min\n",
    "print(min_list([4,3,56,45,76,87,98]))            "
   ]
  },
  {
   "cell_type": "code",
   "execution_count": 24,
   "metadata": {},
   "outputs": [
    {
     "name": "stdout",
     "output_type": "stream",
     "text": [
      "2\n"
     ]
    }
   ],
   "source": [
    "#5. Write a Python program to count the number of strings where the string length is 2 or more \n",
    "# and the first and last character are same from a given list of strings.\n",
    "#Sample List : ['abc', 'xyz', 'aba', '1221']\n",
    "#Expected Result : 2\n",
    "\n",
    "def string_count(items):\n",
    "    count = 0\n",
    "    for x in items:\n",
    "        if (len(x) >= 2) and (x[0] == x[-1]):\n",
    "            count += 1\n",
    "    return count\n",
    "print(string_count(['abc','xvz', 'aba', '1221']))            \n",
    "            \n"
   ]
  },
  {
   "cell_type": "code",
   "execution_count": 25,
   "metadata": {},
   "outputs": [
    {
     "name": "stdout",
     "output_type": "stream",
     "text": [
      "[(2, 1), (1, 2), (2, 3), (4, 4), (2, 5)]\n"
     ]
    }
   ],
   "source": [
    "#6. Write a Python program to get a list, sorted in increasing order by the last element in each tuple \n",
    "# from a given list of non-empty tuples.\n",
    "##Sample List : [(2, 5), (1, 2), (4, 4), (2, 3), (2, 1)]\n",
    "##Expected Result : [(2, 1), (1, 2), (2, 3), (4, 4), (2, 5)]\n",
    "\n",
    "def last(item):\n",
    "    return item[-1]\n",
    "def sort_list_tuple(tuples):\n",
    "    return sorted(tuples, key=last)    \n",
    "print(sort_list_tuple([(2, 5), (1, 2), (4, 4), (2, 3), (2, 1)]))    "
   ]
  },
  {
   "cell_type": "code",
   "execution_count": 28,
   "metadata": {},
   "outputs": [
    {
     "name": "stdout",
     "output_type": "stream",
     "text": [
      "{40, 10, 12, 15, 50, 20, 30}\n"
     ]
    }
   ],
   "source": [
    "#7. Write a Python program to remove duplicates from a list.\n",
    "\n",
    "a = [10,12,15,10,15,20,40,30,50,50,30]\n",
    "\n",
    "dup_items = set()\n",
    "uniq_items =[]\n",
    "\n",
    "for x in a:\n",
    "    if x not in dup_items:\n",
    "        uniq_items.append(x)\n",
    "        dup_items.add(x)\n",
    "    \n",
    "print(dup_items)\n",
    "\n"
   ]
  },
  {
   "cell_type": "code",
   "execution_count": 29,
   "metadata": {},
   "outputs": [
    {
     "name": "stdout",
     "output_type": "stream",
     "text": [
      "The list is empty.\n"
     ]
    }
   ],
   "source": [
    "#8. Write a Python program to check a list is empty or not.\n",
    "l =[]\n",
    "if not l:\n",
    "    print(\"The list is empty.\")"
   ]
  },
  {
   "cell_type": "code",
   "execution_count": 207,
   "metadata": {},
   "outputs": [
    {
     "name": "stdout",
     "output_type": "stream",
     "text": [
      "[2, 4, 3, 6, 7]\n",
      "[2, 4, 3, 6, 7]\n"
     ]
    }
   ],
   "source": [
    "#9. Write a Python program to clone or copy a list.\n",
    "#solution1\n",
    "list1 = [2,4,3,6,7]\n",
    "list2=list1.copy()\n",
    "print(list2)\n",
    "#solution 2\n",
    "list1 = [2,4,3,6,7]\n",
    "list3 =list(list1)\n",
    "print(list3)\n"
   ]
  },
  {
   "cell_type": "code",
   "execution_count": 212,
   "metadata": {},
   "outputs": [
    {
     "name": "stdout",
     "output_type": "stream",
     "text": [
      "['are', 'live', 'Dhaka', 'and', 'Dhaka', 'the', 'capital', 'Bangladesh']\n"
     ]
    }
   ],
   "source": [
    "#10. Write a Python program to find the list of words that are longer than n from a given list of words.\n",
    "st =\"We are live in Dhaka and Dhaka is the capital of Bangladesh\"\n",
    "n =2\n",
    "word = []\n",
    "text =st.split (\" \")\n",
    "\n",
    "for x in text:\n",
    "    if len(x)>n:\n",
    "        word.append(x)\n",
    "print(word)        "
   ]
  },
  {
   "cell_type": "code",
   "execution_count": 216,
   "metadata": {},
   "outputs": [
    {
     "name": "stdout",
     "output_type": "stream",
     "text": [
      "True\n"
     ]
    }
   ],
   "source": [
    "#11. Write a Python function that takes two lists and returns True if they have at least one common member.\n",
    "\n",
    "list1=[1,2,3,4,5]\n",
    "list2=[5,6,7,8,9]\n",
    "\n",
    "def myfunc(list1, list2):\n",
    "    result = False\n",
    "    for i in list1:\n",
    "        for j in list2:\n",
    "            if i == j:\n",
    "                result = True\n",
    "                return result\n",
    "print(myfunc(list1, list2))                \n",
    "           \n"
   ]
  },
  {
   "cell_type": "code",
   "execution_count": 219,
   "metadata": {},
   "outputs": [
    {
     "name": "stdout",
     "output_type": "stream",
     "text": [
      "False\n"
     ]
    }
   ],
   "source": [
    "list1=[1,2,3,4,3]\n",
    "list2=[5,6,7,8,9]\n",
    "\n",
    "def myfunc(list1, list2):\n",
    "    for x in list1:\n",
    "        if x in list2:\n",
    "            return True\n",
    "    return False\n",
    "print(myfunc(list1, list2))            "
   ]
  },
  {
   "cell_type": "code",
   "execution_count": 3,
   "metadata": {},
   "outputs": [
    {
     "data": {
      "text/plain": [
       "['Green', 'White', 'Black']"
      ]
     },
     "execution_count": 3,
     "metadata": {},
     "output_type": "execute_result"
    }
   ],
   "source": [
    "#12. Write a Python program to print a specified list after removing the 0th, 4th and 5th elements.\n",
    "#Sample List : ['Red', 'Green', 'White', 'Black', 'Pink', 'Yellow']\n",
    "#Expected Output : ['Green', 'White', 'Black']\n",
    "#solution 1\n",
    "lista=['Red', 'Green', 'White', 'Black', 'Pink', 'Yellow']\n",
    "lista[1:4]\n"
   ]
  },
  {
   "cell_type": "code",
   "execution_count": 6,
   "metadata": {},
   "outputs": [
    {
     "data": {
      "text/plain": [
       "[(1, 'Green'), (2, 'White'), (3, 'Black')]"
      ]
     },
     "execution_count": 6,
     "metadata": {},
     "output_type": "execute_result"
    }
   ],
   "source": [
    "#Solution2\n",
    "\n",
    "color = ['Red', 'Green', 'White', 'Black', 'Pink', 'Yellow']\n",
    "color = [(i,x) for (i,x) in enumerate(color) if i not in (0,4,5)]\n",
    "color"
   ]
  },
  {
   "cell_type": "code",
   "execution_count": 7,
   "metadata": {},
   "outputs": [
    {
     "data": {
      "text/plain": [
       "[[['*', '*', '*', '*', '*', '*'],\n",
       "  ['*', '*', '*', '*', '*', '*'],\n",
       "  ['*', '*', '*', '*', '*', '*'],\n",
       "  ['*', '*', '*', '*', '*', '*']],\n",
       " [['*', '*', '*', '*', '*', '*'],\n",
       "  ['*', '*', '*', '*', '*', '*'],\n",
       "  ['*', '*', '*', '*', '*', '*'],\n",
       "  ['*', '*', '*', '*', '*', '*']],\n",
       " [['*', '*', '*', '*', '*', '*'],\n",
       "  ['*', '*', '*', '*', '*', '*'],\n",
       "  ['*', '*', '*', '*', '*', '*'],\n",
       "  ['*', '*', '*', '*', '*', '*']]]"
      ]
     },
     "execution_count": 7,
     "metadata": {},
     "output_type": "execute_result"
    }
   ],
   "source": [
    "#13. Write a Python program to generate a 3*4*6 3D array whose each element is *. \n",
    "array =[[['*' for col in range(6)] for col in range(4)]for col in range(3)]\n",
    "array"
   ]
  },
  {
   "cell_type": "code",
   "execution_count": 13,
   "metadata": {},
   "outputs": [
    {
     "data": {
      "text/plain": [
       "[7, 25, 27]"
      ]
     },
     "execution_count": 13,
     "metadata": {},
     "output_type": "execute_result"
    }
   ],
   "source": [
    "#14. Write a Python program to print the numbers of a specified list after removing even numbers from it.\n",
    "num = [7,8, 120, 25, 44, 20, 27]\n",
    "num = [x for x in num if x%2 !=0]\n",
    "num"
   ]
  },
  {
   "cell_type": "code",
   "execution_count": 14,
   "metadata": {},
   "outputs": [
    {
     "data": {
      "text/plain": [
       "[8, 120, 44, 20]"
      ]
     },
     "execution_count": 14,
     "metadata": {},
     "output_type": "execute_result"
    }
   ],
   "source": [
    "#14.1. Write a Python program to print the numbers of a specified list after removing odd numbers from it.\n",
    "num = [7,8, 120, 25, 44, 20, 27]\n",
    "num = [x for x in num if x%2 ==0]\n",
    "num"
   ]
  },
  {
   "cell_type": "code",
   "execution_count": 26,
   "metadata": {},
   "outputs": [
    {
     "data": {
      "text/plain": [
       "[2, 6, 4, 1, 5, 3]"
      ]
     },
     "execution_count": 26,
     "metadata": {},
     "output_type": "execute_result"
    }
   ],
   "source": [
    "#15. Write a Python program to shuffle and print a specified list.\n",
    "from random import shuffle\n",
    "num =[1,2,3,4,5,6]\n",
    "shuffle(num)\n",
    "num\n"
   ]
  },
  {
   "cell_type": "code",
   "execution_count": 120,
   "metadata": {},
   "outputs": [
    {
     "data": {
      "text/plain": [
       "6"
      ]
     },
     "execution_count": 120,
     "metadata": {},
     "output_type": "execute_result"
    }
   ],
   "source": [
    "#Write a Python program to generate random number from range(1,6)\n",
    "import random \n",
    "x=random.randint(1,6)\n",
    "x"
   ]
  },
  {
   "cell_type": "code",
   "execution_count": 121,
   "metadata": {},
   "outputs": [
    {
     "name": "stdout",
     "output_type": "stream",
     "text": [
      "[1, 4, 9, 16, 25]\n",
      "[676, 729, 784, 841, 900]\n"
     ]
    }
   ],
   "source": [
    "#16. Write a Python program to generate and print a list of first and last 5 elements \n",
    "# where the values are square of numbers between 1 and 30 (both included).\n",
    "\n",
    "li1 =[]\n",
    "for i in range(1,31):\n",
    "    li1.append(i**2)\n",
    "print(li1[:5])   \n",
    "print(li1[-5:]) \n"
   ]
  },
  {
   "cell_type": "code",
   "execution_count": 122,
   "metadata": {},
   "outputs": [
    {
     "name": "stdout",
     "output_type": "stream",
     "text": [
      "[36, 49, 64, 81, 100, 121, 144, 169, 196, 225, 256, 289, 324, 361, 400, 441, 484, 529, 576, 625, 676, 729, 784, 841, 900]\n"
     ]
    }
   ],
   "source": [
    "#17. Write a Python program to generate and print a list except for the first 5 elements,\n",
    "#  where the values are square of numbers between 1 and 30 (both included).\n",
    "li2 =[]\n",
    "for i in range(1,31):\n",
    "    li2.append(i**2)\n",
    "print(li2[5:])    \n"
   ]
  },
  {
   "cell_type": "code",
   "execution_count": 133,
   "metadata": {},
   "outputs": [
    {
     "name": "stdout",
     "output_type": "stream",
     "text": [
      "[(1, 2, 3), (1, 3, 2), (2, 1, 3), (2, 3, 1), (3, 1, 2), (3, 2, 1)]\n"
     ]
    }
   ],
   "source": [
    "#18. Write a Python program to generate all permutations of a list in Python.\n",
    "\n",
    "import itertools\n",
    "print(list(itertools.permutations([1,2,3])))"
   ]
  },
  {
   "cell_type": "code",
   "execution_count": 138,
   "metadata": {},
   "outputs": [
    {
     "data": {
      "text/plain": [
       "[8, 5, 6, 1, 11, 13]"
      ]
     },
     "execution_count": 138,
     "metadata": {},
     "output_type": "execute_result"
    }
   ],
   "source": [
    "#19. Write a Python program to get the difference between the two lists. \n",
    "list1 = [2,3,4,5,6,7,8]\n",
    "list2 = [2,1,3,4,13,7,11]\n",
    "list3 = set(list1).difference(set(list2))\n",
    "list4 = set(list2).difference(set(list1))\n",
    "list5 = list(list3) + list(list4)\n",
    "list5\n"
   ]
  },
  {
   "cell_type": "code",
   "execution_count": 146,
   "metadata": {},
   "outputs": [
    {
     "name": "stdout",
     "output_type": "stream",
     "text": [
      "0 Green\n",
      "1 Red\n",
      "2 Yello\n",
      "3 Orange\n",
      "4 Black\n",
      "5 Blue\n"
     ]
    }
   ],
   "source": [
    "#20. Write a Python program access the index of a list.\n",
    "l1 = [\"Green\", \"Red\",\"Yello\",\"Orange\",\"Black\",\"Blue\"]\n",
    "for i ,j in enumerate(l1):\n",
    "        print(i,j)\n"
   ]
  },
  {
   "cell_type": "code",
   "execution_count": 151,
   "metadata": {},
   "outputs": [
    {
     "data": {
      "text/plain": [
       "'PYTHON'"
      ]
     },
     "execution_count": 151,
     "metadata": {},
     "output_type": "execute_result"
    }
   ],
   "source": [
    "#21.Write a Python program to convert a list of characters into a string.\n",
    "la=[\"P\",\"Y\",\"T\",\"H\",\"O\",\"N\"]\n",
    "str1 = \"\".join(la)    \n",
    "str1"
   ]
  },
  {
   "cell_type": "code",
   "execution_count": 154,
   "metadata": {},
   "outputs": [
    {
     "data": {
      "text/plain": [
       "3"
      ]
     },
     "execution_count": 154,
     "metadata": {},
     "output_type": "execute_result"
    }
   ],
   "source": [
    "#22. Write a Python program to find the index of an item in a specified list.\n",
    "l1 = [\"Green\", \"Red\",\"Yello\",\"Orange\",\"Black\",\"Blue\"]\n",
    "l1.index(\"Orange\")"
   ]
  },
  {
   "cell_type": "code",
   "execution_count": 158,
   "metadata": {},
   "outputs": [
    {
     "data": {
      "text/plain": [
       "[2, 3, 4, 9, 5, 7, 6, 1, 30, 23]"
      ]
     },
     "execution_count": 158,
     "metadata": {},
     "output_type": "execute_result"
    }
   ],
   "source": [
    "#23. Write a Python program to flatten a shallow list.\n",
    "#Solution1\n",
    "l2 =[[2,3,4],[9],[5,7,6],[1,30,23]]\n",
    "l3 = []\n",
    "for i in l2:\n",
    "    for j in i:\n",
    "        l3.append(j)\n",
    "l3        \n",
    "        \n"
   ]
  },
  {
   "cell_type": "code",
   "execution_count": 2,
   "metadata": {},
   "outputs": [
    {
     "data": {
      "text/plain": [
       "[2, 3, 4, 9, 5, 7, 6, 1, 30, 23]"
      ]
     },
     "execution_count": 2,
     "metadata": {},
     "output_type": "execute_result"
    }
   ],
   "source": [
    "#Solution2\n",
    "import itertools\n",
    "original_list =[[2,3,4],[9],[5,7,6],[1,30,23]]\n",
    "new_marge_list = list(itertools.chain(*original_list))\n",
    "new_marge_list"
   ]
  },
  {
   "cell_type": "code",
   "execution_count": 3,
   "metadata": {},
   "outputs": [
    {
     "data": {
      "text/plain": [
       "['Green', 'Red', 'Yello', 'Orange', 'Black', 'Blue', 2, 3, 4, 5, 12, 56]"
      ]
     },
     "execution_count": 3,
     "metadata": {},
     "output_type": "execute_result"
    }
   ],
   "source": [
    "#24. Write a Python program to append a list to the second list.\n",
    "#Solution1\n",
    "l1 = [\"Green\", \"Red\",\"Yello\",\"Orange\",\"Black\",\"Blue\"]\n",
    "l2 = [2,3,4,5,12,56]\n",
    "l1.extend(l2)\n",
    "l1"
   ]
  },
  {
   "cell_type": "code",
   "execution_count": 4,
   "metadata": {},
   "outputs": [
    {
     "data": {
      "text/plain": [
       "['Green', 'Red', 'Yello', 'Orange', 'Black', 'Blue', 2, 3, 4, 5, 12, 56]"
      ]
     },
     "execution_count": 4,
     "metadata": {},
     "output_type": "execute_result"
    }
   ],
   "source": [
    "#Solution2\n",
    "l1 = [\"Green\", \"Red\",\"Yello\",\"Orange\",\"Black\",\"Blue\"]\n",
    "l2 = [2,3,4,5,12,56]\n",
    "l3 = l1 + l2\n",
    "l3"
   ]
  },
  {
   "cell_type": "code",
   "execution_count": 24,
   "metadata": {},
   "outputs": [
    {
     "data": {
      "text/plain": [
       "[5, 3, 5, 4, 6, 7, 8, 12, 9]"
      ]
     },
     "execution_count": 24,
     "metadata": {},
     "output_type": "execute_result"
    }
   ],
   "source": [
    "#25. Write a Python program to select an item randomly from a list.\n",
    "import random\n",
    "list1 = [3,5,4,6,7,8,12,9]\n",
    "list1.insert(0,5)\n",
    "#random.choice(list1)\n",
    "list1"
   ]
  },
  {
   "cell_type": "code",
   "execution_count": 34,
   "metadata": {},
   "outputs": [
    {
     "name": "stdout",
     "output_type": "stream",
     "text": [
      "[6, 5, 10]\n",
      "[1, 5, 9, 10]\n",
      "[9, 5, 1]\n"
     ]
    }
   ],
   "source": [
    "\n",
    "list1 =[]\n",
    "list1.insert(0,5)\n",
    "list1.insert(1,10)\n",
    "list1.insert(0,6)\n",
    "print(list1)\n",
    "list1.remove(6)\n",
    "list1.append(9)\n",
    "list1.append(1)\n",
    "list1.sort()\n",
    "print(list1)\n",
    "list1.pop(-1)\n",
    "list1.reverse()\n",
    "print(list1)\n"
   ]
  },
  {
   "cell_type": "code",
   "execution_count": 46,
   "metadata": {},
   "outputs": [
    {
     "name": "stdout",
     "output_type": "stream",
     "text": [
      "alpha\n",
      "beta\n"
     ]
    }
   ],
   "source": [
    "la = ['beta','alpha']\n",
    "la.sort()\n",
    "for i in la:\n",
    "    print(i)"
   ]
  },
  {
   "cell_type": "code",
   "execution_count": 44,
   "metadata": {},
   "outputs": [
    {
     "name": "stdout",
     "output_type": "stream",
     "text": [
      "5\n",
      "any\n",
      "50\n",
      "berry\n",
      "30\n",
      "carry\n",
      "40\n",
      "vany\n",
      "40\n",
      "hanny\n",
      "40\n"
     ]
    },
    {
     "data": {
      "text/plain": [
       "[50, 30, 40, 40, 40]"
      ]
     },
     "execution_count": 44,
     "metadata": {},
     "output_type": "execute_result"
    }
   ],
   "source": [
    "ns = int(input(\"Enter number of studensts:\"))\n",
    "print(ns)\n",
    "name1 =[]\n",
    "score1 =[]\n",
    "for i in range(ns):\n",
    "    name = input(\"Enter student name:\")\n",
    "    score =int(input(\"Enter score\"))\n",
    "    print(name) \n",
    "    print(score)  \n",
    "    name1.append(name) \n",
    "    score1.append(score)\n",
    "print(name1)\n",
    "print(score1)\n",
    "\n"
   ]
  },
  {
   "cell_type": "code",
   "execution_count": 63,
   "metadata": {},
   "outputs": [
    {
     "name": "stdout",
     "output_type": "stream",
     "text": [
      "2\n",
      "rana  ['30', '50', '70']\n",
      "raju ['50', '70', '90']\n"
     ]
    },
    {
     "ename": "TypeError",
     "evalue": "unsupported operand type(s) for +: 'int' and 'str'",
     "output_type": "error",
     "traceback": [
      "\u001b[1;31m---------------------------------------------------------------------------\u001b[0m",
      "\u001b[1;31mTypeError\u001b[0m                                 Traceback (most recent call last)",
      "\u001b[1;32mC:\\Users\\ABDURR~1\\AppData\\Local\\Temp/ipykernel_1636/2763213096.py\u001b[0m in \u001b[0;36m<module>\u001b[1;34m\u001b[0m\n\u001b[0;32m     10\u001b[0m \u001b[0mna\u001b[0m \u001b[1;33m=\u001b[0m\u001b[0minput\u001b[0m\u001b[1;33m(\u001b[0m\u001b[1;34m\"Enter query name:\"\u001b[0m\u001b[1;33m)\u001b[0m\u001b[1;33m\u001b[0m\u001b[1;33m\u001b[0m\u001b[0m\n\u001b[0;32m     11\u001b[0m \u001b[1;32mif\u001b[0m \u001b[0mna\u001b[0m \u001b[1;33m==\u001b[0m \u001b[0mname\u001b[0m\u001b[1;33m:\u001b[0m\u001b[1;33m\u001b[0m\u001b[1;33m\u001b[0m\u001b[0m\n\u001b[1;32m---> 12\u001b[1;33m     \u001b[0msum\u001b[0m \u001b[1;33m=\u001b[0m \u001b[0msum\u001b[0m\u001b[1;33m(\u001b[0m\u001b[0mscore\u001b[0m\u001b[1;33m)\u001b[0m\u001b[1;33m\u001b[0m\u001b[1;33m\u001b[0m\u001b[0m\n\u001b[0m\u001b[0;32m     13\u001b[0m \u001b[0msum\u001b[0m\u001b[1;33m\u001b[0m\u001b[1;33m\u001b[0m\u001b[0m\n\u001b[0;32m     14\u001b[0m \u001b[1;33m\u001b[0m\u001b[0m\n",
      "\u001b[1;31mTypeError\u001b[0m: unsupported operand type(s) for +: 'int' and 'str'"
     ]
    }
   ],
   "source": [
    "n = int(input(\"Enter number of students:\"))\n",
    "print(n)\n",
    "student_marks = {}\n",
    "line =[]\n",
    "for i in range(n):\n",
    "    name = input(\"Enter student name:\")\n",
    "    score =(input(\"Enter score:\")).split()\n",
    "    \n",
    "    print(name,score)\n",
    "na =input(\"Enter query name:\")\n",
    "if na == name:\n",
    "    \n",
    "      \n",
    "\n",
    "\n",
    "    \n"
   ]
  },
  {
   "cell_type": "code",
   "execution_count": 72,
   "metadata": {},
   "outputs": [
    {
     "name": "stdout",
     "output_type": "stream",
     "text": [
      "My Name\n"
     ]
    }
   ],
   "source": [
    "s = input()\n",
    "swap = s.swapcase()\n",
    "print(swap)"
   ]
  },
  {
   "cell_type": "code",
   "execution_count": 73,
   "metadata": {},
   "outputs": [
    {
     "name": "stdout",
     "output_type": "stream",
     "text": [
      "hACKERrANK.COM PRESENTS \"pYTHONIST 2\".\n",
      "ackerRank.com presents \"Pythonist 2\".\n"
     ]
    }
   ],
   "source": [
    "def swap_case(s):\n",
    "    return s.swapcase()\n",
    "print(swap_case('HackerRank.com presents \"Pythonist 2\".'))\n",
    "if __name__ == '__main__':\n",
    "    s = input()\n",
    "    result = swap_case(s)\n",
    "    print(result)"
   ]
  },
  {
   "cell_type": "code",
   "execution_count": 93,
   "metadata": {},
   "outputs": [
    {
     "data": {
      "text/plain": [
       "[3, 5, 8, 9, 12, 'Green', 'Blue', 'Orange', 'Red', 'Black']"
      ]
     },
     "execution_count": 93,
     "metadata": {},
     "output_type": "execute_result"
    }
   ],
   "source": [
    "#24. Write a Python program to append a list to the second list.\n",
    "#solution 1\n",
    "list1 =[3,5,8,9,12]\n",
    "list2 =[\"Green\",\"Blue\",\"Orange\", \"Red\", \"Black\"]\n",
    "list1.extend(list2)\n",
    "list1"
   ]
  },
  {
   "cell_type": "code",
   "execution_count": 94,
   "metadata": {},
   "outputs": [
    {
     "name": "stdout",
     "output_type": "stream",
     "text": [
      "[3, 5, 8, 9, 12, 'Green', 'Blue', 'Orange', 'Red', 'Black']\n"
     ]
    }
   ],
   "source": [
    "#solution 2\n",
    "list1 =[3,5,8,9,12]\n",
    "list2 =[\"Green\",\"Blue\",\"Orange\", \"Red\", \"Black\"]\n",
    "list3 = list1 + list2\n",
    "print(list3)"
   ]
  },
  {
   "cell_type": "code",
   "execution_count": 103,
   "metadata": {},
   "outputs": [
    {
     "data": {
      "text/plain": [
       "3"
      ]
     },
     "execution_count": 103,
     "metadata": {},
     "output_type": "execute_result"
    }
   ],
   "source": [
    "#25. Write a Python program to select an item randomly from a list.\n",
    "import random\n",
    "list1 =[1,2,3,4,5,6]\n",
    "r=random.choice(list1)\n",
    "r"
   ]
  },
  {
   "cell_type": "code",
   "execution_count": 13,
   "metadata": {},
   "outputs": [
    {
     "name": "stdout",
     "output_type": "stream",
     "text": [
      "Compare list1 and List2\n",
      "True\n",
      "Compare list1 and list3\n",
      "False\n",
      "Compare list2 and list3\n",
      "False\n"
     ]
    }
   ],
   "source": [
    "##26. Write a python program to check whether two lists are circularly identical.\n",
    "list1 = [10,10,10,0]\n",
    "list2 = [10,10,10,0]\n",
    "list3 = [8,0,10,0]\n",
    "print(\"Compare list1 and List2\")\n",
    "print(''.join(map(str, list2)) in ''.join(map(str, list1)))\n",
    "print(\"Compare list1 and list3\")\n",
    "print(''.join(map(str, list3)) in ''.join(map(str, list1)))\n",
    "print(\"Compare list2 and list3\")\n",
    "print(''.join(map(str, list2)) in ''.join(map(str, list3)))\n"
   ]
  },
  {
   "cell_type": "code",
   "execution_count": 17,
   "metadata": {},
   "outputs": [
    {
     "name": "stdout",
     "output_type": "stream",
     "text": [
      "-2\n"
     ]
    }
   ],
   "source": [
    "#27. Write a Python program to find the second smallest number in a list.\n",
    "def second_smallest(numbers):\n",
    "    if (len(numbers)<2):\n",
    "        return\n",
    "    if ((len(numbers) == 2) and (numbers[0] == numbers[1])):\n",
    "        return\n",
    "    dup_items = set()\n",
    "    uniq_items =[]    \n",
    "    for i in numbers:\n",
    "        if i not in dup_items:\n",
    "            uniq_items.append(i) \n",
    "            dup_items.add(i) \n",
    "    uniq_items.sort()\n",
    "    return uniq_items[1]          \n",
    "print(second_smallest([1, 2, -8, -2, 0, -2]))\n",
    "\n",
    "\n"
   ]
  },
  {
   "cell_type": "code",
   "execution_count": 25,
   "metadata": {},
   "outputs": [
    {
     "name": "stdout",
     "output_type": "stream",
     "text": [
      "60\n"
     ]
    }
   ],
   "source": [
    "#28. Write a Python program to find the second largest number in a list.\n",
    "\n",
    "def second_largest(numbers):\n",
    "    if (len(numbers)<2):\n",
    "        return\n",
    "    if ((len(numbers) == 2) and (numbers[0]==numbers[1])):\n",
    "        return\n",
    "    dup_items=set()   \n",
    "    uniq_items=[]\n",
    "    for i in numbers:\n",
    "        if i not in dup_items:\n",
    "            uniq_items.append(i)\n",
    "            dup_items.add(i)    \n",
    "    uniq_items.sort()\n",
    "    return uniq_items[-2]  \n",
    "print(second_largest([30,45,50,60,90,45]))     \n"
   ]
  },
  {
   "cell_type": "code",
   "execution_count": 29,
   "metadata": {},
   "outputs": [
    {
     "name": "stdout",
     "output_type": "stream",
     "text": [
      "My orginal list: [10, 20, 10, 30, 40, 30, 50]\n",
      "Uniq Value of a List [40, 10, 50, 20, 30]\n"
     ]
    }
   ],
   "source": [
    "#29. Write a Python program to get unique values from a list.\n",
    "\n",
    "list1 = [10,20,10,30,40,30,50]\n",
    "print(\"My orginal list:\", list1)\n",
    "my_list =set(list1)\n",
    "unique_value_list =list(my_list)\n",
    "print(\"Uniq Value of a List\", unique_value_list)"
   ]
  },
  {
   "cell_type": "code",
   "execution_count": 30,
   "metadata": {},
   "outputs": [
    {
     "name": "stdout",
     "output_type": "stream",
     "text": [
      "Orginal list: [10, 30, 20, 10, 30, 10, 40, 50, 30, 40, 10, 20, 30, 60, 90]\n",
      "The frequency of the elements in a list Counter({10: 4, 30: 4, 20: 2, 40: 2, 50: 1, 60: 1, 90: 1})\n"
     ]
    }
   ],
   "source": [
    "#30. Write a Python program to get the frequency of the elements in a list.\n",
    "import collections\n",
    "list1 = [10,30,20,10,30,10,40,50,30,40,10,20,30,60,90]\n",
    "print(\"Orginal list:\",list1)\n",
    "freq_elements_list= collections.Counter(list1)\n",
    "print(\"The frequency of the elements in a list\",freq_elements_list)"
   ]
  },
  {
   "cell_type": "code",
   "execution_count": 43,
   "metadata": {},
   "outputs": [
    {
     "name": "stdout",
     "output_type": "stream",
     "text": [
      "6\n"
     ]
    }
   ],
   "source": [
    "#31. Write a Python program to count the number of elements in a list within a specified range. \n",
    "#solution1\n",
    "list1 = [10,20,30,40,40,40,70,80,99]\n",
    "\n",
    "count = 0\n",
    "min =40\n",
    "max =100\n",
    "for x in list1:\n",
    "   if x in range(min, max):\n",
    "        count +=1\n",
    "print(count)        "
   ]
  },
  {
   "cell_type": "code",
   "execution_count": 40,
   "metadata": {},
   "outputs": [
    {
     "name": "stdout",
     "output_type": "stream",
     "text": [
      "6\n",
      "5\n"
     ]
    }
   ],
   "source": [
    "#Solutions 2\n",
    "def count_range_in_list(li, min, max):\n",
    "    count = 0\n",
    "    for x in li:\n",
    "        if min<= x <= max:\n",
    "            count +=1\n",
    "    return count  \n",
    "list1 = [10,20,30,40,40,40,70,80,99]\n",
    "print(count_range_in_list(list1, 40, 100))  \n",
    "\n",
    "list2 = ['a','b','c','d','e','f']\n",
    "print(count_range_in_list(list2, 'a', 'e'))"
   ]
  },
  {
   "cell_type": "code",
   "execution_count": 50,
   "metadata": {},
   "outputs": [
    {
     "name": "stdout",
     "output_type": "stream",
     "text": [
      "True\n"
     ]
    }
   ],
   "source": [
    "#32. Write a Python program to check whether a list contains a sublist.\n",
    "#solution1\n",
    "list1 = [2,4,6,7,9,10]\n",
    "sublist = [2,4,9]\n",
    "sub=True\n",
    "for x in sublist:\n",
    "    if x in list1:\n",
    "       sub=True\n",
    "    else:\n",
    "        sub=False   \n",
    "print(sub)        \n"
   ]
  },
  {
   "cell_type": "code",
   "execution_count": 55,
   "metadata": {},
   "outputs": [
    {
     "name": "stdout",
     "output_type": "stream",
     "text": [
      "True\n",
      "False\n"
     ]
    }
   ],
   "source": [
    "#Solution 2\n",
    "\n",
    "def is_sublist(l, s):\n",
    "    sub_set = False\n",
    "    if s == []:\n",
    "        sub_set = True\n",
    "    elif s == l:\n",
    "        sub_set =True\n",
    "    elif len(s) > len(l):\n",
    "        sub_set = False\n",
    "    else:\n",
    "        for i in range(len(l)):\n",
    "            if l[i]== s[0]:\n",
    "                n = 1\n",
    "                while (n <len(s)) and (l[i+n] == s[n]):\n",
    "                    n += 1\n",
    "                if n == len(s):\n",
    "                    sub_set = True\n",
    "    return sub_set\n",
    "\n",
    "a = [2,4,3,5,7]\n",
    "b = [4,3]\n",
    "c = [3,7]\n",
    "print(is_sublist(a, b))\n",
    "print(is_sublist(a, c))"
   ]
  },
  {
   "cell_type": "code",
   "execution_count": 56,
   "metadata": {},
   "outputs": [
    {
     "name": "stdout",
     "output_type": "stream",
     "text": [
      "Original list:\n",
      "[10, 20, 30, 40]\n",
      "S\n",
      "[[], [10], [20], [30], [40], [10, 20], [10, 30], [10, 40], [20, 30], [20, 40], [30, 40], [10, 20, 30], [10, 20, 40], [10, 30, 40], [20, 30, 40], [10, 20, 30, 40]]\n",
      "Sublists of the said list:\n",
      "[[], [10], [20], [30], [40], [10, 20], [10, 30], [10, 40], [20, 30], [20, 40], [30, 40], [10, 20, 30], [10, 20, 40], [10, 30, 40], [20, 30, 40], [10, 20, 30, 40]]\n",
      "\n",
      "Original list:\n",
      "['X', 'Y', 'Z']\n",
      "Sublists of the said list:\n",
      "[[], ['X'], ['Y'], ['Z'], ['X', 'Y'], ['X', 'Z'], ['Y', 'Z'], ['X', 'Y', 'Z']]\n"
     ]
    }
   ],
   "source": [
    "#33. Write a Python program to generate all sublists of a list.\n",
    "from itertools import combinations\n",
    "def sub_lists(my_list):\n",
    "    subs =[]\n",
    "    for i in range (0, len(my_list)+1):\n",
    "        temp =[list(x) for x in combinations(my_list, i)]\n",
    "        if len(temp) >0:\n",
    "            subs.extend(temp)\n",
    "    return subs\n",
    "\n",
    "l1 = [10, 20, 30, 40]\n",
    "l2 = ['X', 'Y', 'Z']\n",
    "print(\"Original list:\")\n",
    "print(l1)\n",
    "print(\"S\")\n",
    "print(sub_lists(l1))\n",
    "print(\"Sublists of the said list:\")\n",
    "print(sub_lists(l1))\n",
    "print(\"\\nOriginal list:\")\n",
    "print(l2)\n",
    "print(\"Sublists of the said list:\")\n",
    "print(sub_lists(l2))            "
   ]
  },
  {
   "cell_type": "code",
   "execution_count": 58,
   "metadata": {},
   "outputs": [
    {
     "name": "stdout",
     "output_type": "stream",
     "text": [
      "['socks', '4K drone', 'wine', 'jam', ['socks', 'tshirt', 'pajamas']]\n"
     ]
    }
   ],
   "source": [
    "gift_list=['socks', '4K drone', 'wine', 'jam']\n",
    "# Type your code here.\n",
    "sub=[\"socks\", \"tshirt\", \"pajamas\"]\n",
    "gift_list.append(sub  )\n",
    "\n",
    "print(gift_list)"
   ]
  },
  {
   "cell_type": "code",
   "execution_count": 96,
   "metadata": {},
   "outputs": [
    {
     "name": "stdout",
     "output_type": "stream",
     "text": [
      "18\n"
     ]
    }
   ],
   "source": [
    "def f_1():\n",
    "    num =int(input(\"Enter a number\"))\n",
    "    x = num +5\n",
    "    return x\n",
    "f_1()\n",
    "def f_2():\n",
    "    num1 =int(input(\"Enter a number\"))\n",
    "    x1 = x * 2\n",
    "    return x1\n",
    "\n",
    "\n",
    "\n",
    "print(f_2())   "
   ]
  },
  {
   "cell_type": "code",
   "execution_count": 4,
   "metadata": {},
   "outputs": [
    {
     "name": "stdout",
     "output_type": "stream",
     "text": [
      "this-is-a-string\n"
     ]
    }
   ],
   "source": [
    "s =input(\"Enter a string\")\n",
    "x=s.split(\" \")\n",
    "a = \"-\".join(x).lower()\n",
    "print (a)"
   ]
  }
 ],
 "metadata": {
  "interpreter": {
   "hash": "e753af4684f2c7650636e9fffdd6713faf1cc2bf488ab99a61a658f965dcfd17"
  },
  "kernelspec": {
   "display_name": "Python 3.10.0 64-bit (windows store)",
   "language": "python",
   "name": "python3"
  },
  "language_info": {
   "codemirror_mode": {
    "name": "ipython",
    "version": 3
   },
   "file_extension": ".py",
   "mimetype": "text/x-python",
   "name": "python",
   "nbconvert_exporter": "python",
   "pygments_lexer": "ipython3",
   "version": "3.10.0"
  },
  "orig_nbformat": 4
 },
 "nbformat": 4,
 "nbformat_minor": 2
}
