{
 "cells": [
  {
   "cell_type": "markdown",
   "metadata": {},
   "source": [
    "## Adv Data Types\n"
   ]
  },
  {
   "cell_type": "code",
   "execution_count": 56,
   "metadata": {},
   "outputs": [
    {
     "data": {
      "text/plain": [
       "[]"
      ]
     },
     "execution_count": 56,
     "metadata": {},
     "output_type": "execute_result"
    }
   ],
   "source": [
    "## List\n",
    "r = [1,2,3,4,5,6,7,'John', True]\n",
    "## Accessing Data r[low:up:step]\n",
    "r[5]\n",
    "r[:4]\n",
    "r[4:]\n",
    "r[2:5]\n",
    "r[::3]\n",
    "r[1:5:2]\n",
    "r[::-1]\n",
    "r[-2]\n",
    "\n",
    "## Updating\n",
    "r[0] = 9\n",
    "r[3] = 44\n",
    "r[2:5] = 33,44,44\n",
    "del r[0]\n",
    "## List Functions\n",
    "r.append('end')\n",
    "r.insert(0, 'Start')\n",
    "r.insert(3, 'Loc')\n",
    "r.index(44)\n",
    "r.count(44)\n",
    "r.extend(['end', 'end'])\n",
    "r.pop()\n",
    "r.remove('end')\n",
    "r.reverse()\n",
    "r1 = [2,6,3]\n",
    "r1.sort(reverse=True)\n",
    "sorted(r1, reverse=True)\n",
    "r.clear()\n",
    "r"
   ]
  },
  {
   "cell_type": "code",
   "execution_count": 63,
   "metadata": {},
   "outputs": [
    {
     "ename": "TypeError",
     "evalue": "'tuple' object doesn't support item deletion",
     "output_type": "error",
     "traceback": [
      "\u001b[1;31m---------------------------------------------------------------------------\u001b[0m",
      "\u001b[1;31mTypeError\u001b[0m                                 Traceback (most recent call last)",
      "\u001b[1;32m~\\AppData\\Local\\Temp/ipykernel_1624/3884351655.py\u001b[0m in \u001b[0;36m<module>\u001b[1;34m\u001b[0m\n\u001b[0;32m      4\u001b[0m \u001b[0mt\u001b[0m\u001b[1;33m.\u001b[0m\u001b[0mindex\u001b[0m\u001b[1;33m(\u001b[0m\u001b[1;36m4\u001b[0m\u001b[1;33m)\u001b[0m\u001b[1;33m\u001b[0m\u001b[1;33m\u001b[0m\u001b[0m\n\u001b[0;32m      5\u001b[0m \u001b[1;31m# t[2] = 4\u001b[0m\u001b[1;33m\u001b[0m\u001b[1;33m\u001b[0m\u001b[0m\n\u001b[1;32m----> 6\u001b[1;33m \u001b[1;32mdel\u001b[0m \u001b[0mt\u001b[0m\u001b[1;33m[\u001b[0m\u001b[1;36m2\u001b[0m\u001b[1;33m]\u001b[0m\u001b[1;33m\u001b[0m\u001b[1;33m\u001b[0m\u001b[0m\n\u001b[0m",
      "\u001b[1;31mTypeError\u001b[0m: 'tuple' object doesn't support item deletion"
     ]
    }
   ],
   "source": [
    "## Tuple\n",
    "t = (1,2,3,4,4,5,6,7,'John', True)\n",
    "t.count(4)\n",
    "t.index(4)\n",
    "t[2] = 4\n",
    "del t[2]"
   ]
  },
  {
   "cell_type": "code",
   "execution_count": 89,
   "metadata": {},
   "outputs": [
    {
     "data": {
      "text/plain": [
       "{1, 2.5, 3, 5, 6, 7, 8, 9}"
      ]
     },
     "execution_count": 89,
     "metadata": {},
     "output_type": "execute_result"
    }
   ],
   "source": [
    "## Set\n",
    "s1 = {1,2.5,4.5,4,5,6}\n",
    "s2 = {3,4.5,4,7,8,9}\n",
    "# s1[0]\n",
    "s1.add(3)\n",
    "s1.union(s2)\n",
    "s1.intersection(s2)\n",
    "s1.difference(s2), s2.difference(s1)\n",
    "s1.issubset({1, 2.5})\n",
    "s1.issuperset({1, 2.5})\n",
    "s1.pop()\n",
    "s1.remove(2.5)\n",
    "s1.update({12,13,14})\n",
    "s1 = {1,2.5,4.5,4,5,6}\n",
    "s2 = {3,4.5,4,7,8,9}\n",
    "s1.symmetric_difference(s2)"
   ]
  },
  {
   "cell_type": "code",
   "execution_count": 134,
   "metadata": {},
   "outputs": [
    {
     "data": {
      "text/plain": [
       "{11: 'Default', 12: 'Default', 13: 'Default'}"
      ]
     },
     "execution_count": 134,
     "metadata": {},
     "output_type": "execute_result"
    }
   ],
   "source": [
    "## Dictionary\n",
    "d = {1:'John', 6:'ALexa', 3:'Alley', 'branch':'CSE', 'Sub':[1,2,3]}\n",
    "# Accessing Value\n",
    "d[3]\n",
    "d['branch']\n",
    "# Updating\n",
    "d[1] = 'Johny'\n",
    "d['Sub']\n",
    "#Adding New\n",
    "d['S'] = True\n",
    "\n",
    "## Dictionary Functions\n",
    "d.get('Sub')\n",
    "d.keys()\n",
    "d.values()\n",
    "d.items()\n",
    "d.pop('S')\n",
    "d.popitem()\n",
    "d.update({9:9})\n",
    "d.fromkeys([11,12,13], 'Default')"
   ]
  },
  {
   "cell_type": "code",
   "execution_count": 142,
   "metadata": {},
   "outputs": [
    {
     "data": {
      "text/plain": [
       "{1, 2, 3, 4, 5, 6, 7, 'John'}"
      ]
     },
     "execution_count": 142,
     "metadata": {},
     "output_type": "execute_result"
    }
   ],
   "source": [
    "## Type Conversion\n",
    "tuple(r1)\n",
    "list(t)\n",
    "set(t)"
   ]
  },
  {
   "cell_type": "code",
   "execution_count": 148,
   "metadata": {},
   "outputs": [
    {
     "data": {
      "text/plain": [
       "5"
      ]
     },
     "execution_count": 148,
     "metadata": {},
     "output_type": "execute_result"
    }
   ],
   "source": [
    "l = [1,(2,4),[3,[4, 5]]]\n",
    "l[2][1][1]"
   ]
  },
  {
   "cell_type": "code",
   "execution_count": 152,
   "metadata": {},
   "outputs": [
    {
     "data": {
      "text/plain": [
       "2"
      ]
     },
     "execution_count": 152,
     "metadata": {},
     "output_type": "execute_result"
    }
   ],
   "source": [
    "l[1][0]"
   ]
  },
  {
   "cell_type": "code",
   "execution_count": 5,
   "metadata": {},
   "outputs": [
    {
     "data": {
      "text/plain": [
       "[(-2, ['python', 'Java']), (-1, 'C++')]"
      ]
     },
     "execution_count": 5,
     "metadata": {},
     "output_type": "execute_result"
    }
   ],
   "source": [
    "## Enumerate \n",
    "enum = enumerate([[\"python\", 'Java'], 'C++'], start=-2)\n",
    "list(enum)"
   ]
  },
  {
   "cell_type": "markdown",
   "metadata": {},
   "source": [
    "## Operators"
   ]
  },
  {
   "cell_type": "code",
   "execution_count": 14,
   "metadata": {},
   "outputs": [
    {
     "data": {
      "text/plain": [
       "1"
      ]
     },
     "execution_count": 14,
     "metadata": {},
     "output_type": "execute_result"
    }
   ],
   "source": [
    "## Arithmatic Operator\n",
    "2+3\n",
    "2-3\n",
    "2*3\n",
    "5/2\n",
    "5//2\n",
    "2**3\n",
    "5%2"
   ]
  },
  {
   "cell_type": "code",
   "execution_count": 23,
   "metadata": {},
   "outputs": [
    {
     "data": {
      "text/plain": [
       "True"
      ]
     },
     "execution_count": 23,
     "metadata": {},
     "output_type": "execute_result"
    }
   ],
   "source": [
    "## Comparison\n",
    "2 == 2\n",
    "2 != 2\n",
    "2 < 3\n",
    "2 > 3\n",
    "3 <= 3\n",
    "3 >= 3"
   ]
  },
  {
   "cell_type": "code",
   "execution_count": 38,
   "metadata": {},
   "outputs": [
    {
     "data": {
      "text/plain": [
       "(False, False)"
      ]
     },
     "execution_count": 38,
     "metadata": {},
     "output_type": "execute_result"
    }
   ],
   "source": [
    "## Logical Operators\n",
    "True and True\n",
    "True and False\n",
    "False and True\n",
    "False and False\n",
    "\n",
    "True or True\n",
    "True or False\n",
    "False or True\n",
    "False or False\n",
    "\n",
    "not True\n",
    "not False\n",
    "\n",
    "num = 19\n",
    "num>18 and num%2 == 0, not (num>18 or  num%2 == 0)"
   ]
  },
  {
   "cell_type": "code",
   "execution_count": 43,
   "metadata": {},
   "outputs": [
    {
     "data": {
      "text/plain": [
       "'0b110'"
      ]
     },
     "execution_count": 43,
     "metadata": {},
     "output_type": "execute_result"
    }
   ],
   "source": [
    "## Bitwise operator\n"
   ]
  },
  {
   "cell_type": "code",
   "execution_count": 95,
   "metadata": {},
   "outputs": [
    {
     "data": {
      "text/plain": [
       "-7"
      ]
     },
     "execution_count": 95,
     "metadata": {},
     "output_type": "execute_result"
    }
   ],
   "source": [
    "## Bitwise Operation\n",
    "#5 = 1 0 1\n",
    "#2 = 0 1 0\n",
    "#0 = 0 0 0\n",
    "5 & 2\n",
    "\n",
    "#5 = 1 0 1\n",
    "#2 = 0 1 0\n",
    "#7 = 1 1 1\n",
    "5|2\n",
    "\n",
    "#5 = 1 0 1\n",
    "#        1\n",
    "#6 = 1 1 0\n",
    "~5\n",
    "\n",
    "# Left Shift\n",
    "#5 =     1 0 1\n",
    "#6 = 1 0 1 0 0\n",
    " \n",
    "5<<4\n",
    "# Left Shift\n",
    "#5 =     1 0 1\n",
    "#6 =     0 0 1\n",
    "5>>2\n",
    "\n",
    "#5 = 1 0 1\n",
    "#3 = 0 1 1\n",
    "#7 = 1 1 0\n",
    "5^3\n"
   ]
  },
  {
   "cell_type": "code",
   "execution_count": 54,
   "metadata": {},
   "outputs": [
    {
     "data": {
      "text/plain": [
       "16"
      ]
     },
     "execution_count": 54,
     "metadata": {},
     "output_type": "execute_result"
    }
   ],
   "source": [
    "## Assignment Operator\n",
    "num = 8\n",
    "num += 2\n",
    "num -= 2\n",
    "num *= 2\n",
    "num "
   ]
  },
  {
   "cell_type": "code",
   "execution_count": 90,
   "metadata": {},
   "outputs": [
    {
     "data": {
      "text/plain": [
       "True"
      ]
     },
     "execution_count": 90,
     "metadata": {},
     "output_type": "execute_result"
    }
   ],
   "source": [
    "## Special Operator\n",
    "num = 2\n",
    "num2 = 2.0\n",
    "num == num2\n",
    "\n",
    "num is num2\n",
    "num is not num2\n",
    "\n",
    "'Py' in 'Python'\n",
    "4 in [2,3]\n",
    "4 not in [2,3]\n"
   ]
  },
  {
   "cell_type": "code",
   "execution_count": 105,
   "metadata": {},
   "outputs": [
    {
     "name": "stdout",
     "output_type": "stream",
     "text": [
      "Eligible for Debit Card!\n"
     ]
    }
   ],
   "source": [
    "## Conditional Statement\n",
    "age = 18\n",
    "\n",
    "if age>=18:\n",
    "    print(\"Eligible for Debit Card!\")\n",
    "else:\n",
    "    print(\"Not Eligible for Debit Card!\")"
   ]
  },
  {
   "cell_type": "code",
   "execution_count": 110,
   "metadata": {},
   "outputs": [
    {
     "name": "stdout",
     "output_type": "stream",
     "text": [
      "Odd\n"
     ]
    }
   ],
   "source": [
    "num = 3\n",
    "if num%2 == 0:\n",
    "    print('Even')\n",
    "else:\n",
    "    print('Odd')"
   ]
  },
  {
   "cell_type": "code",
   "execution_count": 3,
   "metadata": {},
   "outputs": [
    {
     "name": "stdout",
     "output_type": "stream",
     "text": [
      "68 is greater than 64 and even\n"
     ]
    }
   ],
   "source": [
    "# Task 1\n",
    "# Take a number from user\n",
    "# Greater than 64 and even number\n",
    "num = int(input(\"Enter a number:\"))\n",
    "if num >= 64 and num%2 == 0:\n",
    "    if num == 64:\n",
    "        print(num, \" is equql to 64 and even number\")\n",
    "    else:    \n",
    "        print(num , \"is greater than 64 and even\")\n",
    "elif num < 64 and num%2 == 0:\n",
    "    print(num,\" is less than 64 and even\")\n",
    "else:\n",
    "    print(num, \"odd number\")  "
   ]
  },
  {
   "cell_type": "code",
   "execution_count": 4,
   "metadata": {},
   "outputs": [
    {
     "name": "stdout",
     "output_type": "stream",
     "text": [
      "The 1st Number is: 12 \n",
      "The 2nd Number is: 34\n",
      "The sum of result is: 432.3529411764706\n"
     ]
    }
   ],
   "source": [
    "## Task 2\n",
    "# Sum of Results\n",
    "# Take two number from user\n",
    "# Show Sum (Addition, Subtraction, Multiplication and Division)\n",
    "num1 =int(input(\"Enter 1st Number:\"))\n",
    "num2 = int(input(\"Enter 2nd Number:\"))\n",
    "print(\"The 1st Number is:\", num1, \"\\nThe 2nd Number is:\", num2)\n",
    "add = num1 + num2\n",
    "sub = num1 - num2\n",
    "mul = num1 * num2\n",
    "div = num1 / num2\n",
    "\n",
    "sum = (add+sub+mul+div)\n",
    "print(\"The sum of result is:\", sum)"
   ]
  },
  {
   "cell_type": "code",
   "execution_count": 1,
   "metadata": {},
   "outputs": [
    {
     "name": "stdout",
     "output_type": "stream",
     "text": [
      "a & b is: 10\n"
     ]
    }
   ],
   "source": [
    "#Bitwise AND Operators\n",
    "a = 14\n",
    "b = 10\n",
    "\n",
    "# a     = 1110\n",
    "# b     = 1010\n",
    "# a & b = 1010\n",
    "\n",
    "print(\"a & b is:\", a & b)"
   ]
  },
  {
   "cell_type": "code",
   "execution_count": 13,
   "metadata": {},
   "outputs": [
    {
     "name": "stdout",
     "output_type": "stream",
     "text": [
      "a & b is: 14\n"
     ]
    }
   ],
   "source": [
    "#Bitwise or(|) Operators\n",
    "a = 14\n",
    "b = 10\n",
    "\n",
    "# a     = 1110\n",
    "# b     = 1010\n",
    "# a & b = 1110\n",
    "\n",
    "print(\"a | b is:\", a | b)"
   ]
  },
  {
   "cell_type": "code",
   "execution_count": 14,
   "metadata": {},
   "outputs": [
    {
     "name": "stdout",
     "output_type": "stream",
     "text": [
      "a ^ b is: 4\n"
     ]
    }
   ],
   "source": [
    "#Bitwise or(|) Operators\n",
    "a = 14\n",
    "b = 10\n",
    "\n",
    "# a     = 1110\n",
    "# b     = 1010\n",
    "# a & b = 0100\n",
    "\n",
    "print(\"a ^ b is:\", a ^ b)"
   ]
  },
  {
   "cell_type": "code",
   "execution_count": 20,
   "metadata": {},
   "outputs": [
    {
     "name": "stdout",
     "output_type": "stream",
     "text": [
      "Not a is: -15\n"
     ]
    }
   ],
   "source": [
    "#Bitwise NOT  Operators\n",
    "a = 14\n",
    "\n",
    "\n",
    "# a     = 1110\n",
    "\n",
    "# not a =\n",
    "\n",
    "print(\"Not a is:\", ~a)"
   ]
  },
  {
   "cell_type": "code",
   "execution_count": 115,
   "metadata": {},
   "outputs": [],
   "source": [
    "## While Loops \n"
   ]
  },
  {
   "cell_type": "code",
   "execution_count": null,
   "metadata": {},
   "outputs": [],
   "source": [
    "## For Loops"
   ]
  },
  {
   "cell_type": "code",
   "execution_count": null,
   "metadata": {},
   "outputs": [],
   "source": [
    "## Break and Continue"
   ]
  },
  {
   "cell_type": "code",
   "execution_count": null,
   "metadata": {},
   "outputs": [],
   "source": [
    "## Pass "
   ]
  },
  {
   "cell_type": "code",
   "execution_count": null,
   "metadata": {},
   "outputs": [],
   "source": [
    "## Multi-Dimentional Data"
   ]
  },
  {
   "cell_type": "code",
   "execution_count": null,
   "metadata": {},
   "outputs": [],
   "source": [
    "## List Coprehension"
   ]
  },
  {
   "cell_type": "code",
   "execution_count": null,
   "metadata": {},
   "outputs": [],
   "source": [
    "## Functions and args"
   ]
  },
  {
   "cell_type": "code",
   "execution_count": null,
   "metadata": {},
   "outputs": [],
   "source": [
    "## Variable Scopes"
   ]
  },
  {
   "cell_type": "code",
   "execution_count": null,
   "metadata": {},
   "outputs": [],
   "source": [
    "## Lambda Functions"
   ]
  },
  {
   "cell_type": "code",
   "execution_count": null,
   "metadata": {},
   "outputs": [],
   "source": [
    "## map() and filter()"
   ]
  },
  {
   "cell_type": "code",
   "execution_count": null,
   "metadata": {},
   "outputs": [],
   "source": [
    "## Generators"
   ]
  },
  {
   "cell_type": "code",
   "execution_count": null,
   "metadata": {},
   "outputs": [],
   "source": [
    "## Decorators"
   ]
  },
  {
   "cell_type": "code",
   "execution_count": null,
   "metadata": {},
   "outputs": [],
   "source": [
    "## Working with File "
   ]
  },
  {
   "cell_type": "code",
   "execution_count": null,
   "metadata": {},
   "outputs": [],
   "source": [
    "## Exception Handeling"
   ]
  }
 ],
 "metadata": {
  "interpreter": {
   "hash": "14a336a61cfaefff504b47e2b8e6e50961f0feafa7b211f8ff23081790c52144"
  },
  "kernelspec": {
   "display_name": "Python 3.9.7 64-bit",
   "name": "python3"
  },
  "language_info": {
   "codemirror_mode": {
    "name": "ipython",
    "version": 3
   },
   "file_extension": ".py",
   "mimetype": "text/x-python",
   "name": "python",
   "nbconvert_exporter": "python",
   "pygments_lexer": "ipython3",
   "version": "3.10.0"
  },
  "orig_nbformat": 4
 },
 "nbformat": 4,
 "nbformat_minor": 2
}
