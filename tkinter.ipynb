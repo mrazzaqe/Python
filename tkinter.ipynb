{
 "cells": [
  {
   "cell_type": "code",
   "execution_count": 6,
   "metadata": {},
   "outputs": [
    {
     "data": {
      "text/plain": [
       "<bound method Misc.mainloop of <tkinter.Tk object .>>"
      ]
     },
     "execution_count": 6,
     "metadata": {},
     "output_type": "execute_result"
    }
   ],
   "source": [
    "#1. Write a Python GUI program to import Tkinter package and create a window and set its title.\n",
    "\n",
    "import tkinter as tk\n",
    "\n",
    "#create instance\n",
    "parent = tk .Tk()\n",
    "\n",
    "#Add a title\n",
    "parent.title(\"-Welcome  to Python  tkinter Basic exercises-\")\n",
    "\n",
    "#Start GUI\n",
    "parent.mainloop"
   ]
  },
  {
   "cell_type": "code",
   "execution_count": null,
   "metadata": {},
   "outputs": [],
   "source": [
    "#2. Write a Python GUI program to import Tkinter package and create a window. Set its title and add a label to the window. \n",
    "import tkinter as tk\n",
    "#create instance\n",
    "parent =tk.Tk()\n",
    "\n",
    "#Add a title\n"
   ]
  },
  {
   "cell_type": "code",
   "execution_count": 7,
   "metadata": {},
   "outputs": [],
   "source": [
    "import tkinter as tk\n",
    "parent = tk.Tk()\n",
    "parent.title(\"-Welcome to Python tkinter Basic exercises-\")\n",
    "my_label = tk.Label(parent, text=\"Hello\", font=(\"Arial Bold\", 70))\n",
    "my_label.grid(column=0, row=0)\n",
    "parent.mainloop()"
   ]
  },
  {
   "cell_type": "code",
   "execution_count": null,
   "metadata": {},
   "outputs": [],
   "source": [
    "import tkinter as tk\n",
    "\n",
    "parent = tk.Tk()\n",
    "# create the widget.\n",
    "mytext = tk.Text(parent)\n",
    "\n",
    "# insert a string at the beginning\n",
    "mytext.insert('1.0', \"- Python exercises, solution -\")\n",
    "\n",
    "# insert a string into the current text\n",
    "mytext.insert('1.19', ' Practice,')\n",
    "\n",
    "# delete the first and last character (including a newline character)\n",
    "mytext.delete('1.0')\n",
    "mytext.delete('end - 2 chars')\n",
    "mytext.pack()\n",
    "parent.mainloop()"
   ]
  }
 ],
 "metadata": {
  "interpreter": {
   "hash": "955b5dbf1c9568fcdca6427b82ed9dd3b5652756bab72d537c2112a7dd2607f3"
  },
  "kernelspec": {
   "display_name": "Python 3.10.0 64-bit",
   "language": "python",
   "name": "python3"
  },
  "language_info": {
   "codemirror_mode": {
    "name": "ipython",
    "version": 3
   },
   "file_extension": ".py",
   "mimetype": "text/x-python",
   "name": "python",
   "nbconvert_exporter": "python",
   "pygments_lexer": "ipython3",
   "version": "3.10.0"
  },
  "orig_nbformat": 4
 },
 "nbformat": 4,
 "nbformat_minor": 2
}
