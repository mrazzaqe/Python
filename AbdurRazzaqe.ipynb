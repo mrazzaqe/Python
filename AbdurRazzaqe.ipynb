{
 "cells": [
  {
   "cell_type": "code",
   "execution_count": null,
   "metadata": {},
   "outputs": [],
   "source": [
    "# Task 1\n",
    "# Take a number from user\n",
    "# Greater than 64 and even number\n",
    "num = int(input(\"Enter a number:\"))\n",
    "if num >= 64 and num%2 == 0:\n",
    "    if num == 64:\n",
    "        print(num, \" is equql to 64 and even number\")\n",
    "    else:    \n",
    "        print(num , \"is greater than 64 and even\")\n",
    "elif num < 64 and num%2 == 0:\n",
    "    print(num,\" is less than 64 and even\")\n",
    "else:\n",
    "    print(num, \"odd number\")  "
   ]
  },
  {
   "cell_type": "code",
   "execution_count": null,
   "metadata": {},
   "outputs": [],
   "source": [
    "## Task 2\n",
    "# Sum of Results\n",
    "# Take two number from user\n",
    "# Show Sum (Addition, Subtraction, Multiplication and Division)\n",
    "num1 =int(input(\"Enter 1st Number:\"))\n",
    "num2 = int(input(\"Enter 2nd Number:\"))\n",
    "print(\"The 1st Number is:\", num1, \"\\nThe 2nd Number is:\", num2)\n",
    "add = num1 + num2\n",
    "sub = num1 - num2\n",
    "mul = num1 * num2\n",
    "div = num1 / num2\n",
    "\n",
    "sum = (add+sub+mul+div)\n",
    "print(\"The sum of result is:\", sum)"
   ]
  },
  {
   "cell_type": "code",
   "execution_count": 7,
   "metadata": {},
   "outputs": [
    {
     "name": "stdout",
     "output_type": "stream",
     "text": [
      "Wrong passward, please try again\n"
     ]
    }
   ],
   "source": [
    "#Task3 Smart door\n",
    "# Take password from user password = open@123, if password is matches then print Open the door\n",
    "# if password is not match then print wrong password, try again\n",
    "#Maxtry = 3\n",
    "\n",
    "pw =input(\"Enter door password:\")\n",
    "\n",
    "if pw == \"open123\":\n",
    "    print(\"Door Opening...\")\n",
    "else:\n",
    "    print(\"Wrong passward, please try again\")    "
   ]
  },
  {
   "cell_type": "code",
   "execution_count": 10,
   "metadata": {},
   "outputs": [
    {
     "name": "stdout",
     "output_type": "stream",
     "text": [
      "Door Opening...\n"
     ]
    }
   ],
   "source": [
    "Maxtry = 0\n",
    "while Maxtry < 3:\n",
    "    pw =input(\"Enter door password:\")\n",
    "    if pw == \"open123\":\n",
    "        print(\"Door Opening...\")\n",
    "        break\n",
    "    else:\n",
    "        print(\"Wrong passward, please try again\")  \n",
    "    Maxtry +=1\n",
    "    if Maxtry == 3 and pw != 'open123':\n",
    "        \n",
    "        print(\"You try 3 time with wrong passward and the Door is loocked\")  \n",
    "          \n",
    "\n"
   ]
  }
 ],
 "metadata": {
  "interpreter": {
   "hash": "e753af4684f2c7650636e9fffdd6713faf1cc2bf488ab99a61a658f965dcfd17"
  },
  "kernelspec": {
   "display_name": "Python 3.10.0 64-bit (windows store)",
   "language": "python",
   "name": "python3"
  },
  "language_info": {
   "codemirror_mode": {
    "name": "ipython",
    "version": 3
   },
   "file_extension": ".py",
   "mimetype": "text/x-python",
   "name": "python",
   "nbconvert_exporter": "python",
   "pygments_lexer": "ipython3",
   "version": "3.10.0"
  },
  "orig_nbformat": 4
 },
 "nbformat": 4,
 "nbformat_minor": 2
}
