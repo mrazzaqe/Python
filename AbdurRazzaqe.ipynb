{
 "cells": [
  {
   "cell_type": "code",
   "execution_count": null,
   "metadata": {},
   "outputs": [],
   "source": [
    "# Task 1\n",
    "# Take a number from user\n",
    "# Greater than 64 and even number\n",
    "num = int(input(\"Enter a number:\"))\n",
    "if num >= 64 and num%2 == 0:\n",
    "    if num == 64:\n",
    "        print(num, \" is equql to 64 and even number\")\n",
    "    else:    \n",
    "        print(num , \"is greater than 64 and even\")\n",
    "elif num < 64 and num%2 == 0:\n",
    "    print(num,\" is less than 64 and even\")\n",
    "else:\n",
    "    print(num, \"odd number\")  "
   ]
  },
  {
   "cell_type": "code",
   "execution_count": null,
   "metadata": {},
   "outputs": [],
   "source": [
    "## Task 2\n",
    "# Sum of Results\n",
    "# Take two number from user\n",
    "# Show Sum (Addition, Subtraction, Multiplication and Division)\n",
    "num1 =int(input(\"Enter 1st Number:\"))\n",
    "num2 = int(input(\"Enter 2nd Number:\"))\n",
    "print(\"The 1st Number is:\", num1, \"\\nThe 2nd Number is:\", num2)\n",
    "add = num1 + num2\n",
    "sub = num1 - num2\n",
    "mul = num1 * num2\n",
    "div = num1 / num2\n",
    "\n",
    "sum = (add+sub+mul+div)\n",
    "print(\"The sum of result is:\", sum)"
   ]
  },
  {
   "cell_type": "code",
   "execution_count": 19,
   "metadata": {},
   "outputs": [
    {
     "name": "stdout",
     "output_type": "stream",
     "text": [
      "Door Opening...\n"
     ]
    }
   ],
   "source": [
    "#Task3 Smart door\n",
    "# Take password from user password = open@123, if password is matches then print Open the door\n",
    "# if password is not match then print wrong password, try again\n",
    "#Maxtry = 3\n",
    "Maxtry = 0\n",
    "password = 'open123'\n",
    "while Maxtry < 3:  # define the maximum try\n",
    "    pw =input(\"Enter door password:\") # take password from user\n",
    "    if pw == password: # Check match with user given password and define password\n",
    "        print(\"Door Opening...\")\n",
    "        break \n",
    "    else:\n",
    "        print(\"Wrong passward, please try again\")  \n",
    "    Maxtry +=1 # update the maxTry\n",
    "    if Maxtry == 3 and pw != 'open123':\n",
    "        \n",
    "        print(\"You try 3 time with wrong passward and the Door is loocked\")  \n",
    "          \n"
   ]
  },
  {
   "cell_type": "code",
   "execution_count": 13,
   "metadata": {},
   "outputs": [
    {
     "name": "stdout",
     "output_type": "stream",
     "text": [
      "Wrong passward, please try again\n",
      "Wrong passward, please try again\n",
      "Wrong passward, please try again\n",
      "passqord changed\n",
      "Wrong passward, please try again\n",
      "Door Opening...\n"
     ]
    }
   ],
   "source": [
    "#Task3 Smart door\n",
    "# Take password from user password = open@123, if password is matches then print Open the door\n",
    "# if password is not match then print wrong password, try again\n",
    "#Maxtry = 3\n",
    "# add reset option\n",
    "\n",
    "Maxtry = 0\n",
    "password = 'open123'\n",
    "fcolor = 'black'\n",
    "while Maxtry < 3:  # define the maximum try\n",
    "    pw =input(\"Enter door password:\") # take password from user\n",
    "    if pw == password: # Check match with user given password and define password\n",
    "        print(\"Door Opening...\")\n",
    "        break \n",
    "    else:\n",
    "        print(\"Wrong passward, please try again\")  \n",
    "    Maxtry +=1 # update the maxTry\n",
    "    if Maxtry > 2:\n",
    "        icolor = input(\"What is you favarit color\").lower()\n",
    "        if icolor == fcolor:\n",
    "            password = input(\"Enter new password\")\n",
    "           \n",
    "            print(\"passqord changed\")\n",
    "            Maxtry = 0\n",
    "        else:\n",
    "            print(\"Door locked, you are Robber\")\n",
    "            break\n",
    "      \n",
    " "
   ]
  },
  {
   "cell_type": "code",
   "execution_count": 12,
   "metadata": {},
   "outputs": [
    {
     "name": "stdout",
     "output_type": "stream",
     "text": [
      "Wrong Password Try again!\n",
      "Wrong Password Try again!\n",
      "Wrong Password Try again!\n",
      "Password Changed\n",
      "Wrong Password Try again!\n",
      "Opening Door...\n"
     ]
    }
   ],
   "source": [
    "securityQAnswer = 'black'\n",
    "originalPassword = 'open@door'\n",
    "maxTry = 0\n",
    "while maxTry < 3:\n",
    "    password = input(\"Enter Password to Open Door: \")\n",
    "    if password == originalPassword:\n",
    "        print(\"Opening Door...\")\n",
    "        break\n",
    "    else:\n",
    "        print(\"Wrong Password Try again!\")\n",
    "        maxTry += 1\n",
    "        if maxTry > 2:\n",
    "            ans = input(\"Tell Your Favourite Color?\").lower()\n",
    "            if securityQAnswer == ans:\n",
    "                originalPassword = input(\"Enter New Password: \")\n",
    "                print(\"Password Changed\")\n",
    "                maxTry = 0\n",
    "            else:\n",
    "                print(\"Door is Locked!, You are  Robber!\")\n",
    "                break"
   ]
  },
  {
   "cell_type": "code",
   "execution_count": 16,
   "metadata": {},
   "outputs": [
    {
     "name": "stdout",
     "output_type": "stream",
     "text": [
      " \n",
      "*  \n",
      "* *  \n",
      "* * *  \n",
      "* * * *  \n",
      "* * * * *  \n",
      "* * * * * *  \n"
     ]
    }
   ],
   "source": [
    "#Taks4 Write a Python program to print below half pyramid pattern\n",
    "# *\n",
    "# * *\n",
    "# * * *\n",
    "# * * * *\n",
    "# * * * * *\n",
    "\n",
    "# take input from user\n",
    "rows = int(input(\"Enter a number:\"))\n",
    "#outter loop for rows\n",
    "for i in range(0, rows+1):\n",
    "    #inner loop for columns\n",
    "    for j in range(i):\n",
    "        #Display the *\n",
    "        print(\"*\", end = ' ')\n",
    "    # add new line    \n",
    "    print(\" \")    "
   ]
  },
  {
   "cell_type": "code",
   "execution_count": 17,
   "metadata": {},
   "outputs": [
    {
     "name": "stdout",
     "output_type": "stream",
     "text": [
      "* * * * * *  \n",
      "* * * * *  \n",
      "* * * *  \n",
      "* * *  \n",
      "* *  \n",
      "*  \n"
     ]
    }
   ],
   "source": [
    "#Taks5  Write a Python program to print below half pyramid reverves pattern\n",
    "# * * * * *\n",
    "# * * * *\n",
    "# * * *\n",
    "# * * \n",
    "# * \n",
    "\n",
    "# Take a number from user\n",
    "rows = int(input(\"Enter a number:\"))\n",
    "#outter loop for rows\n",
    "for i in range(rows, 0, -1):\n",
    "    #inner loop for columns\n",
    "    for j in range(i):\n",
    "        # Print *\n",
    "        print( \"*\", end = ' ')\n",
    "    # add new line    \n",
    "    print(\" \")    \n"
   ]
  },
  {
   "cell_type": "code",
   "execution_count": 27,
   "metadata": {},
   "outputs": [
    {
     "name": "stdout",
     "output_type": "stream",
     "text": [
      "[2, 3, 4, 4, 5, 5, 6, 7, 7, 8, 9]\n"
     ]
    }
   ],
   "source": [
    "## l1 = [2,5,3,4,6,7,9,4,5,8,7]\n",
    "# Sort in Ascending Order without sort() function\n",
    "\n",
    "l1 = [2,5,3,4,6,7,9,4,5,8,7]\n",
    "temp = []\n",
    "for i in range(len(l1)):\n",
    "    for j in range(i+1, len(l1)):\n",
    "        if l1[i] > l1[j]:\n",
    "            temp = l1[i]\n",
    "            l1[i]=l1[j]\n",
    "            l1[j]=temp\n",
    "print(l1)            \n",
    "\n"
   ]
  },
  {
   "cell_type": "code",
   "execution_count": 28,
   "metadata": {},
   "outputs": [
    {
     "name": "stdout",
     "output_type": "stream",
     "text": [
      "[9, 8, 7, 7, 6, 5, 5, 4, 4, 3, 2]\n"
     ]
    }
   ],
   "source": [
    "# l1 = [2,5,3,4,6,7,9,4,5,8,7]\n",
    "# Sort in descending Order\n",
    "l1 = [2,5,3,4,6,7,9,4,5,8,7]\n",
    "temp = []\n",
    "for i in range(len(l1)):\n",
    "    for j in range(i+1, len(l1)):\n",
    "        if l1[i] <  l1[j]:\n",
    "            temp = l1[i]\n",
    "            l1[i]=l1[j]\n",
    "            l1[j]=temp\n",
    "print(l1) "
   ]
  },
  {
   "cell_type": "code",
   "execution_count": 62,
   "metadata": {},
   "outputs": [
    {
     "data": {
      "text/plain": [
       "{'an': 1,\n",
       " 'article': 1,\n",
       " 'is': 1,\n",
       " 'any': 1,\n",
       " 'member': 1,\n",
       " 'of': 8,\n",
       " 'a': 3,\n",
       " 'class': 1,\n",
       " 'dedicated': 1,\n",
       " 'words': 1,\n",
       " 'that': 1,\n",
       " 'are': 4,\n",
       " 'used': 1,\n",
       " 'with': 2,\n",
       " 'noun': 4,\n",
       " 'phrases': 1,\n",
       " 'to': 2,\n",
       " 'mark': 1,\n",
       " 'the': 5,\n",
       " 'identifiability': 1,\n",
       " '\\nthe': 1,\n",
       " 'referents': 1,\n",
       " 'phrases.': 2,\n",
       " 'category': 2,\n",
       " 'articles': 3,\n",
       " 'constitutes': 1,\n",
       " 'part': 2,\n",
       " 'speech.in': 1,\n",
       " 'english,': 1,\n",
       " 'both': 1,\n",
       " '\"the\"': 1,\n",
       " 'and': 3,\n",
       " '\"a/an\"': 1,\n",
       " 'articles,': 1,\n",
       " '\\nwhich': 1,\n",
       " 'combine': 1,\n",
       " 'nouns': 1,\n",
       " 'form': 1,\n",
       " 'typically': 1,\n",
       " 'specify': 1,\n",
       " 'grammatical': 2,\n",
       " 'definiteness': 1,\n",
       " 'phrase,': 1,\n",
       " 'but': 1,\n",
       " 'in': 2,\n",
       " 'many\\nlanguages,': 1,\n",
       " 'they': 1,\n",
       " 'carry': 1,\n",
       " 'additional': 1,\n",
       " 'information': 1,\n",
       " 'such': 1,\n",
       " 'as': 2,\n",
       " 'gender,': 1,\n",
       " 'number,': 1,\n",
       " 'case.': 1,\n",
       " 'broader': 1,\n",
       " '\\ncalled': 1,\n",
       " 'determiners,': 2,\n",
       " 'which': 1,\n",
       " 'also': 1,\n",
       " 'include': 1,\n",
       " 'demonstratives,': 1,\n",
       " 'possessive': 1,\n",
       " 'quantifiers.': 1,\n",
       " 'linguistic': 1,\n",
       " 'interlinear': 1,\n",
       " 'glossing,\\narticles': 1,\n",
       " 'abbreviated': 1,\n",
       " 'art.': 1}"
      ]
     },
     "execution_count": 62,
     "metadata": {},
     "output_type": "execute_result"
    }
   ],
   "source": [
    "# Word Counter\n",
    "# Output :{'An':2, 'article':3}\n",
    "\n",
    "string = \"\"\"An article is any member of a class of dedicated words that are used with noun phrases to mark the identifiability of \n",
    "the referents of the noun phrases. The category of articles constitutes a part of speech.In English, both \"the\" and \"a/an\" are articles, \n",
    "which combine with nouns to form noun phrases. Articles typically specify the grammatical definiteness of the noun phrase, but in many\n",
    "languages, they carry additional grammatical information such as gender, number, and case. Articles are part of a broader category \n",
    "called determiners, which also include demonstratives, possessive determiners, and quantifiers. In linguistic interlinear glossing,\n",
    "articles are abbreviated as art.\"\"\"\n",
    "\n",
    "s=string.casefold()\n",
    "s1 =s.split(\" \")\n",
    "freq = {}\n",
    "\n",
    "for i in s1:\n",
    "    if(i in freq):\n",
    "        freq[i] +=1\n",
    "    else:\n",
    "        freq[i]= 1    \n",
    "freq        "
   ]
  },
  {
   "cell_type": "code",
   "execution_count": 10,
   "metadata": {},
   "outputs": [
    {
     "name": "stdout",
     "output_type": "stream",
     "text": [
      "[2, 3, 4, 4, 5, 5, 6, 7, 7, 8, 9]\n",
      "9\n"
     ]
    },
    {
     "data": {
      "text/plain": [
       "8"
      ]
     },
     "execution_count": 10,
     "metadata": {},
     "output_type": "execute_result"
    }
   ],
   "source": [
    "# l1 = [2,5,3,4,6,7,9,4,5,8,7]\n",
    "# Find Maximum Value and 2nd Maximum\n",
    "l1 = [2,5,3,4,6,7,9,4,5,8,7]\n",
    "\n",
    "temp =[]\n",
    "for i in range(len(l1)):\n",
    "    for j in range(i+1, len(l1)):\n",
    "        if l1[i] > l1[j]:\n",
    "            temp = l1[i]\n",
    "            l1[i] = l1[j]\n",
    "            l1[j] = temp\n",
    "print(l1)\n",
    "print(l1[-1])\n",
    "l1.pop() \n",
    "l1[-1]             \n",
    "\n"
   ]
  },
  {
   "cell_type": "code",
   "execution_count": 14,
   "metadata": {},
   "outputs": [
    {
     "name": "stdout",
     "output_type": "stream",
     "text": [
      "[2, 3, 4, 4, 5, 5, 6, 7, 7, 8, 9]\n",
      "2\n",
      "3\n"
     ]
    }
   ],
   "source": [
    "# l1 = [2,5,3,4,6,7,9,4,5,8,7]\n",
    "# Find Minimum Value and 2nd Minimum\n",
    "l1 = [2,5,3,4,6,7,9,4,5,8,7]\n",
    "\n",
    "temp=[]\n",
    "for i in range(len(l1)):\n",
    "    for j in range(i+1, len(l1)):\n",
    "        if l1[i]>l1[j]:\n",
    "            temp = l1[i]\n",
    "            l1[i] = l1[j]\n",
    "            l1[j] = temp\n",
    "print(l1) \n",
    "print(l1[0])   \n",
    "print(l1[1])        \n"
   ]
  },
  {
   "cell_type": "code",
   "execution_count": null,
   "metadata": {},
   "outputs": [],
   "source": [
    "# Fibbonacci Series\n",
    "# Input : up=10\n",
    "# Series: 0 , 1, 1, 2, 3, 5 ......."
   ]
  },
  {
   "cell_type": "code",
   "execution_count": null,
   "metadata": {},
   "outputs": [],
   "source": [
    "# Factorial of Number\n",
    "# Factorial of 6: 6*5*4*3*2*1"
   ]
  }
 ],
 "metadata": {
  "interpreter": {
   "hash": "e753af4684f2c7650636e9fffdd6713faf1cc2bf488ab99a61a658f965dcfd17"
  },
  "kernelspec": {
   "display_name": "Python 3.10.0 64-bit (windows store)",
   "language": "python",
   "name": "python3"
  },
  "language_info": {
   "codemirror_mode": {
    "name": "ipython",
    "version": 3
   },
   "file_extension": ".py",
   "mimetype": "text/x-python",
   "name": "python",
   "nbconvert_exporter": "python",
   "pygments_lexer": "ipython3",
   "version": "3.10.0"
  },
  "orig_nbformat": 4
 },
 "nbformat": 4,
 "nbformat_minor": 2
}
