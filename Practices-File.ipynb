{
 "cells": [
  {
   "cell_type": "markdown",
   "metadata": {},
   "source": [
    "1. Write a Python program to find those numbers which are divisible by 7 and multiple of 5, between 1500 and 2700 (both included).\n",
    "  "
   ]
  },
  {
   "cell_type": "code",
   "execution_count": 11,
   "metadata": {},
   "outputs": [
    {
     "name": "stdout",
     "output_type": "stream",
     "text": [
      "1505 1540 1575 1610 1645 1680 1715 1750 1785 1820 1855 1890 1925 1960 1995 2030 2065 2100 2135 2170 2205 2240 2275 2310 2345 2380 2415 2450 2485 2520 2555 2590 2625 2660 2695 "
     ]
    }
   ],
   "source": [
    "for i in range(1500,2700):\n",
    "    if(i%7 == 0 and i%5 == 0):\n",
    "        print(i, end=\" \")\n",
    "    "
   ]
  },
  {
   "cell_type": "markdown",
   "metadata": {},
   "source": [
    "2. Write a Python program to convert temperatures to and from celsius, fahrenheit. Go to the editor\n",
    "[ Formula : c/5 = f-32/9 [ where c = temperature in celsius and f = temperature in fahrenheit ]\n",
    "Expected Output :\n",
    "60°C is 140 in Fahrenheit\n",
    "45°F is 7 in Celsius"
   ]
  },
  {
   "cell_type": "code",
   "execution_count": 14,
   "metadata": {},
   "outputs": [
    {
     "name": "stdout",
     "output_type": "stream",
     "text": [
      "Enter Fahrenheit60\n",
      "Enter celsius45\n",
      "60 °C is 140 in Fahrenheit\n",
      "45 °F is 7 in Celsius\n"
     ]
    }
   ],
   "source": [
    "m=int(input(\"Enter Fahrenheit\"))\n",
    "n=int(input(\"Enter celsius\"))\n",
    "Fahrenheit =int((m*9/5)+32)\n",
    "Celsius=int((n-32)*5/9)\n",
    "print(m,\"°C is\",Fahrenheit,\"in Fahrenheit\")\n",
    "print(n,\"°F is\",Celsius,\"in Celsius\")"
   ]
  },
  {
   "cell_type": "markdown",
   "metadata": {},
   "source": [
    "3. Write a Python program to guess a number between 1 to 9. Go to the editor\n",
    "Note : User is prompted to enter a guess. If the user guesses wrong then the prompt appears again until the guess is correct, on successful guess, user will get a \"Well guessed!\" message, and the program will exit."
   ]
  },
  {
   "cell_type": "code",
   "execution_count": 17,
   "metadata": {},
   "outputs": [
    {
     "ename": "KeyboardInterrupt",
     "evalue": "Interrupted by user",
     "output_type": "error",
     "traceback": [
      "\u001b[1;31m---------------------------------------------------------------------------\u001b[0m",
      "\u001b[1;31mKeyboardInterrupt\u001b[0m                         Traceback (most recent call last)",
      "\u001b[1;32m<ipython-input-17-f17e220654a7>\u001b[0m in \u001b[0;36m<module>\u001b[1;34m\u001b[0m\n\u001b[0;32m      3\u001b[0m \u001b[1;33m\u001b[0m\u001b[0m\n\u001b[0;32m      4\u001b[0m \u001b[1;32mwhile\u001b[0m \u001b[0mnum\u001b[0m \u001b[1;33m!=\u001b[0m \u001b[0mguss_num\u001b[0m\u001b[1;33m:\u001b[0m\u001b[1;33m\u001b[0m\u001b[1;33m\u001b[0m\u001b[0m\n\u001b[1;32m----> 5\u001b[1;33m     \u001b[0mnum\u001b[0m\u001b[1;33m=\u001b[0m\u001b[0minput\u001b[0m\u001b[1;33m(\u001b[0m\u001b[1;34m\"Enter a number:\"\u001b[0m\u001b[1;33m)\u001b[0m\u001b[1;33m\u001b[0m\u001b[1;33m\u001b[0m\u001b[0m\n\u001b[0m\u001b[0;32m      6\u001b[0m \u001b[1;33m\u001b[0m\u001b[0m\n\u001b[0;32m      7\u001b[0m \u001b[0mprint\u001b[0m\u001b[1;33m(\u001b[0m\u001b[1;34m\"Well guessed!\"\u001b[0m\u001b[1;33m)\u001b[0m\u001b[1;33m\u001b[0m\u001b[1;33m\u001b[0m\u001b[0m\n",
      "\u001b[1;32m~\\anaconda3\\lib\\site-packages\\ipykernel\\kernelbase.py\u001b[0m in \u001b[0;36mraw_input\u001b[1;34m(self, prompt)\u001b[0m\n\u001b[0;32m    858\u001b[0m                 \u001b[1;34m\"raw_input was called, but this frontend does not support input requests.\"\u001b[0m\u001b[1;33m\u001b[0m\u001b[1;33m\u001b[0m\u001b[0m\n\u001b[0;32m    859\u001b[0m             )\n\u001b[1;32m--> 860\u001b[1;33m         return self._input_request(str(prompt),\n\u001b[0m\u001b[0;32m    861\u001b[0m             \u001b[0mself\u001b[0m\u001b[1;33m.\u001b[0m\u001b[0m_parent_ident\u001b[0m\u001b[1;33m,\u001b[0m\u001b[1;33m\u001b[0m\u001b[1;33m\u001b[0m\u001b[0m\n\u001b[0;32m    862\u001b[0m             \u001b[0mself\u001b[0m\u001b[1;33m.\u001b[0m\u001b[0m_parent_header\u001b[0m\u001b[1;33m,\u001b[0m\u001b[1;33m\u001b[0m\u001b[1;33m\u001b[0m\u001b[0m\n",
      "\u001b[1;32m~\\anaconda3\\lib\\site-packages\\ipykernel\\kernelbase.py\u001b[0m in \u001b[0;36m_input_request\u001b[1;34m(self, prompt, ident, parent, password)\u001b[0m\n\u001b[0;32m    902\u001b[0m             \u001b[1;32mexcept\u001b[0m \u001b[0mKeyboardInterrupt\u001b[0m\u001b[1;33m:\u001b[0m\u001b[1;33m\u001b[0m\u001b[1;33m\u001b[0m\u001b[0m\n\u001b[0;32m    903\u001b[0m                 \u001b[1;31m# re-raise KeyboardInterrupt, to truncate traceback\u001b[0m\u001b[1;33m\u001b[0m\u001b[1;33m\u001b[0m\u001b[1;33m\u001b[0m\u001b[0m\n\u001b[1;32m--> 904\u001b[1;33m                 \u001b[1;32mraise\u001b[0m \u001b[0mKeyboardInterrupt\u001b[0m\u001b[1;33m(\u001b[0m\u001b[1;34m\"Interrupted by user\"\u001b[0m\u001b[1;33m)\u001b[0m \u001b[1;32mfrom\u001b[0m \u001b[1;32mNone\u001b[0m\u001b[1;33m\u001b[0m\u001b[1;33m\u001b[0m\u001b[0m\n\u001b[0m\u001b[0;32m    905\u001b[0m             \u001b[1;32mexcept\u001b[0m \u001b[0mException\u001b[0m \u001b[1;32mas\u001b[0m \u001b[0me\u001b[0m\u001b[1;33m:\u001b[0m\u001b[1;33m\u001b[0m\u001b[1;33m\u001b[0m\u001b[0m\n\u001b[0;32m    906\u001b[0m                 \u001b[0mself\u001b[0m\u001b[1;33m.\u001b[0m\u001b[0mlog\u001b[0m\u001b[1;33m.\u001b[0m\u001b[0mwarning\u001b[0m\u001b[1;33m(\u001b[0m\u001b[1;34m\"Invalid Message:\"\u001b[0m\u001b[1;33m,\u001b[0m \u001b[0mexc_info\u001b[0m\u001b[1;33m=\u001b[0m\u001b[1;32mTrue\u001b[0m\u001b[1;33m)\u001b[0m\u001b[1;33m\u001b[0m\u001b[1;33m\u001b[0m\u001b[0m\n",
      "\u001b[1;31mKeyboardInterrupt\u001b[0m: Interrupted by user"
     ]
    }
   ],
   "source": [
    "import random\n",
    "guss_num=random.randint(1,9)\n",
    "\n",
    "while num != guss_num:\n",
    "    num=input(\"Enter a number:\")\n",
    "    \n",
    "print(\"Well guessed!\")    "
   ]
  },
  {
   "cell_type": "markdown",
   "metadata": {},
   "source": [
    "5. Write a Python program that accepts a word from the user and reverse it. "
   ]
  },
  {
   "cell_type": "code",
   "execution_count": 22,
   "metadata": {},
   "outputs": [
    {
     "name": "stdout",
     "output_type": "stream",
     "text": [
      "Enter a wordWelcome\n",
      "emocleW"
     ]
    }
   ],
   "source": [
    "word = input(\"Enter a word\")\n",
    "for i in range(len(word)-1, -1, -1):\n",
    "    print(word[i], end=\"\")\n"
   ]
  },
  {
   "cell_type": "markdown",
   "metadata": {},
   "source": [
    "6. Write a Python program to count the number of even and odd numbers from a series of numbers. \n",
    "Sample numbers : numbers = (1, 2, 3, 4, 5, 6, 7, 8, 9) \n",
    "Expected Output :\n",
    "Number of even numbers : 5\n",
    "Number of odd numbers : 4"
   ]
  },
  {
   "cell_type": "code",
   "execution_count": 25,
   "metadata": {},
   "outputs": [
    {
     "name": "stdout",
     "output_type": "stream",
     "text": [
      "Number of even numbers: 4\n",
      "Number of odd numbers: 5\n"
     ]
    }
   ],
   "source": [
    "numbers = (1, 2, 3, 4, 5, 6, 7, 8, 9)\n",
    "odd=0\n",
    "even=0\n",
    "for i in numbers:\n",
    "    if i%2 == 0:\n",
    "        even +=1\n",
    "    else:\n",
    "        odd +=1\n",
    "print(\"Number of even numbers:\", even)\n",
    "print(\"Number of odd numbers:\", odd)\n",
    "        \n",
    "    "
   ]
  },
  {
   "cell_type": "markdown",
   "metadata": {},
   "source": [
    "7. Write a Python program that prints each item and its corresponding type from the following list.\n",
    "Sample List : datalist = [1452, 11.23, 1+2j, True, 'w3resource', (0, -1), [5, 12], {\"class\":'V', \"section\":'A'}]"
   ]
  },
  {
   "cell_type": "code",
   "execution_count": 26,
   "metadata": {},
   "outputs": [
    {
     "name": "stdout",
     "output_type": "stream",
     "text": [
      "1452 <class 'int'>\n",
      "11.23 <class 'float'>\n",
      "(1+2j) <class 'complex'>\n",
      "True <class 'bool'>\n",
      "w3resource <class 'str'>\n",
      "(0, -1) <class 'tuple'>\n",
      "[5, 12] <class 'list'>\n",
      "{'class': 'V', 'section': 'A'} <class 'dict'>\n"
     ]
    }
   ],
   "source": [
    "datalist = [1452, 11.23, 1+2j, True, 'w3resource', (0, -1), [5, 12], {\"class\":'V', \"section\":'A'}]\n",
    "\n",
    "for i in datalist:\n",
    "    print(i, type(i))"
   ]
  },
  {
   "cell_type": "markdown",
   "metadata": {},
   "source": [
    "8. Write a Python program that prints all the numbers from 0 to 6 except 3 and 6.\n",
    "Note : Use 'continue' statement.\n",
    "Expected Output : 0 1 2 4 5"
   ]
  },
  {
   "cell_type": "code",
   "execution_count": 29,
   "metadata": {},
   "outputs": [
    {
     "name": "stdout",
     "output_type": "stream",
     "text": [
      "0\n",
      "1\n",
      "2\n",
      "4\n",
      "5\n"
     ]
    }
   ],
   "source": [
    "for i in range(0,6):\n",
    "    if i == 3 or i == 6:\n",
    "        continue\n",
    "    print(i)   "
   ]
  },
  {
   "cell_type": "markdown",
   "metadata": {},
   "source": [
    "9. Write a Python program to get the Fibonacci series between 0 to 50. \n",
    "Note : The Fibonacci Sequence is the series of numbers :\n",
    "0, 1, 1, 2, 3, 5, 8, 13, 21, ....\n",
    "Every next number is found by adding up the two numbers before it.\n",
    "Expected Output : 1 1 2 3 5 8 13 21 34"
   ]
  },
  {
   "cell_type": "code",
   "execution_count": 34,
   "metadata": {},
   "outputs": [
    {
     "name": "stdout",
     "output_type": "stream",
     "text": [
      "1 1 2 3 5 8 13 21 34 "
     ]
    }
   ],
   "source": [
    "a = 1\n",
    "b = 0\n",
    "x = 50\n",
    "#print(b, end=\" \")\n",
    "while a < x:\n",
    "    c=b\n",
    "    b=a\n",
    "    print(a, end=\" \")\n",
    "    a=c+b\n",
    "   \n"
   ]
  },
  {
   "cell_type": "markdown",
   "metadata": {},
   "source": [
    "10. Write a Python program which iterates the integers from 1 to 50. For multiples of three print \"Fizz\" instead of the number and for the multiples of five print \"Buzz\". For numbers which are multiples of both three and five print \"FizzBuzz\".\n",
    "Sample Output :\n",
    "fizzbuzz\n",
    "1\n",
    "2\n",
    "fizz\n",
    "4\n",
    "buzz"
   ]
  },
  {
   "cell_type": "code",
   "execution_count": 39,
   "metadata": {},
   "outputs": [
    {
     "name": "stdout",
     "output_type": "stream",
     "text": [
      "fizzbuzz FizzBuzz 1 2 Fizz 4 Buzz Fizz 7 8 Fizz Buzz 11 Fizz 13 14 FizzBuzz 16 17 Fizz 19 Buzz Fizz 22 23 Fizz Buzz 26 Fizz 28 29 FizzBuzz 31 32 Fizz 34 Buzz Fizz 37 38 Fizz Buzz 41 Fizz 43 44 FizzBuzz 46 47 Fizz 49 "
     ]
    }
   ],
   "source": [
    "print(\"fizzbuzz\", end=\" \")\n",
    "for i in range(50):\n",
    "    if (i%3==0 and i%5==0):\n",
    "        i=\"FizzBuzz\"\n",
    "    elif i%3 == 0:\n",
    "        i=\"Fizz\"\n",
    "    elif i%5 ==0:\n",
    "        i=\"Buzz\"\n",
    "    else:\n",
    "        i=i\n",
    "    print(i, end=\" \")    \n",
    "   \n",
    "\n",
    "        \n",
    "        "
   ]
  },
  {
   "cell_type": "code",
   "execution_count": 47,
   "metadata": {},
   "outputs": [
    {
     "name": "stdout",
     "output_type": "stream",
     "text": [
      "fizzbuzz 1 2 fizz 4 buzz fizz 7 8 fizz buzz 11 fizz 13 14 fizzbuzz 16 17 fizz 19 buzz fizz 22 23 fizz buzz 26 fizz 28 29 fizzbuzz 31 32 fizz 34 buzz fizz 37 38 fizz buzz 41 fizz 43 44 fizzbuzz 46 47 fizz 49 buzz "
     ]
    }
   ],
   "source": [
    "for fizzbuzz in range(51):\n",
    "    if (fizzbuzz%3==0 and fizzbuzz%5==0):\n",
    "        print(\"fizzbuzz\", end=\" \")\n",
    "        continue\n",
    "    elif fizzbuzz%3 == 0:\n",
    "        print(\"fizz\", end=\" \")\n",
    "        continue\n",
    "    elif fizzbuzz%5 ==0:\n",
    "        print(\"buzz\", end=\" \")\n",
    "        continue\n",
    "    print(fizzbuzz, end=\" \") \n",
    "    \n",
    "     "
   ]
  },
  {
   "cell_type": "markdown",
   "metadata": {},
   "source": [
    "11. Write a Python program which takes two digits m (row) and n (column) as input and generates a two-dimensional array. The element value in the i-th row and j-th column of the array should be i*j. \n",
    "Note :\n",
    "i = 0,1.., m-1\n",
    "j = 0,1, n-1.\n",
    "\n",
    "Test Data : Rows = 3, Columns = 4\n",
    "Expected Result : [[0, 0, 0, 0], [0, 1, 2, 3], [0, 2, 4, 6]]\n"
   ]
  },
  {
   "cell_type": "code",
   "execution_count": 54,
   "metadata": {},
   "outputs": [
    {
     "data": {
      "text/plain": [
       "True"
      ]
     },
     "execution_count": 54,
     "metadata": {},
     "output_type": "execute_result"
    }
   ],
   "source": [
    "a=100\n",
    "b=100\n",
    "b is a\n",
    "\n",
    "\n"
   ]
  },
  {
   "cell_type": "code",
   "execution_count": 53,
   "metadata": {},
   "outputs": [
    {
     "data": {
      "text/plain": [
       "True"
      ]
     },
     "execution_count": 53,
     "metadata": {},
     "output_type": "execute_result"
    }
   ],
   "source": [
    "a =200\n",
    "b =200\n",
    "b is a"
   ]
  },
  {
   "cell_type": "code",
   "execution_count": 56,
   "metadata": {},
   "outputs": [
    {
     "name": "stdout",
     "output_type": "stream",
     "text": [
      "EnterBangla\n",
      "EnterEnglish\n",
      "The favorite language is Bangla and English\n"
     ]
    }
   ],
   "source": [
    "a=input(\"Enter\")\n",
    "b=input(\"Enter\")\n",
    "print(\"The favorite language is %s and %s\" %(a, b))"
   ]
  },
  {
   "cell_type": "code",
   "execution_count": 62,
   "metadata": {},
   "outputs": [
    {
     "name": "stdout",
     "output_type": "stream",
     "text": [
      "B\n",
      "a\n",
      "n\n",
      "g\n",
      "l\n",
      "a\n"
     ]
    }
   ],
   "source": [
    "a = \"Bangla\"\n",
    "\n",
    "for i in a:\n",
    "    \n",
    "    print(i)"
   ]
  },
  {
   "cell_type": "code",
   "execution_count": 67,
   "metadata": {},
   "outputs": [
    {
     "data": {
      "text/plain": [
       "'Dhaka-isthe-Capitalcity.'"
      ]
     },
     "execution_count": 67,
     "metadata": {},
     "output_type": "execute_result"
    }
   ],
   "source": [
    "a=\"Dhaka\"\n",
    "b=\"isthe\"\n",
    "c=\"Capitalcity.\"\n",
    "\n",
    "d='-'.join((a, b, c))\n",
    "d"
   ]
  },
  {
   "cell_type": "code",
   "execution_count": 70,
   "metadata": {},
   "outputs": [
    {
     "data": {
      "text/plain": [
       "'Dhaka Is The Capital Of Bangladesh'"
      ]
     },
     "execution_count": 70,
     "metadata": {},
     "output_type": "execute_result"
    }
   ],
   "source": [
    "a.lower()\n",
    "b= \"dhaka is the capital of bangladesh\"\n",
    "b.title()"
   ]
  },
  {
   "cell_type": "code",
   "execution_count": 71,
   "metadata": {},
   "outputs": [
    {
     "data": {
      "text/plain": [
       "'dHAKA'"
      ]
     },
     "execution_count": 71,
     "metadata": {},
     "output_type": "execute_result"
    }
   ],
   "source": [
    "a=\"Dhaka\"\n",
    "a.swapcase()"
   ]
  },
  {
   "cell_type": "code",
   "execution_count": 72,
   "metadata": {},
   "outputs": [
    {
     "data": {
      "text/plain": [
       "'dhaka is the capital of bangladesh'"
      ]
     },
     "execution_count": 72,
     "metadata": {},
     "output_type": "execute_result"
    }
   ],
   "source": [
    "a='Dhaka Is The Capital Of Bangladesh'\n",
    "a.casefold()"
   ]
  },
  {
   "cell_type": "code",
   "execution_count": 81,
   "metadata": {},
   "outputs": [
    {
     "name": "stdout",
     "output_type": "stream",
     "text": [
      "6\n",
      "2\n"
     ]
    }
   ],
   "source": [
    "a='Dhaka Is The Capital Of Bangladesh'.lower()\n",
    "print(a.count('a'))\n",
    "print(a.count('a',5 ,20))"
   ]
  },
  {
   "cell_type": "code",
   "execution_count": 82,
   "metadata": {},
   "outputs": [
    {
     "data": {
      "text/plain": [
       "13"
      ]
     },
     "execution_count": 82,
     "metadata": {},
     "output_type": "execute_result"
    }
   ],
   "source": [
    "b= \"dhaka is the capital of bangladesh\"\n",
    "b.find('c')"
   ]
  },
  {
   "cell_type": "code",
   "execution_count": 11,
   "metadata": {},
   "outputs": [
    {
     "data": {
      "text/plain": [
       "-1"
      ]
     },
     "execution_count": 11,
     "metadata": {},
     "output_type": "execute_result"
    }
   ],
   "source": [
    "b= \"dhaka is the capital of bangladesh\"\n",
    "b.find('a',30)\n",
    "b.find('x')\n"
   ]
  },
  {
   "cell_type": "code",
   "execution_count": 15,
   "metadata": {},
   "outputs": [
    {
     "data": {
      "text/plain": [
       "'dhaka is the capitalcity of bangladesh'"
      ]
     },
     "execution_count": 15,
     "metadata": {},
     "output_type": "execute_result"
    }
   ],
   "source": [
    "b= \"dhaka is the capital of bangladesh\"\n",
    "b.replace('capital', 'capitalcity')\n"
   ]
  },
  {
   "cell_type": "code",
   "execution_count": 17,
   "metadata": {},
   "outputs": [
    {
     "data": {
      "text/plain": [
       "['How', 'can', 'a', 'clam', 'cram', 'in', 'a', 'clean', 'cream', 'can?']"
      ]
     },
     "execution_count": 17,
     "metadata": {},
     "output_type": "execute_result"
    }
   ],
   "source": [
    "b= 'How can a clam cram in a clean cream can?'\n",
    "b.strip(\"?\")\n",
    "b.split(\" \")"
   ]
  },
  {
   "cell_type": "markdown",
   "metadata": {},
   "source": [
    "List\n"
   ]
  },
  {
   "cell_type": "code",
   "execution_count": 18,
   "metadata": {},
   "outputs": [
    {
     "data": {
      "text/plain": [
       "list"
      ]
     },
     "execution_count": 18,
     "metadata": {},
     "output_type": "execute_result"
    }
   ],
   "source": [
    "a = []\n",
    "type(a)"
   ]
  },
  {
   "cell_type": "code",
   "execution_count": 20,
   "metadata": {},
   "outputs": [
    {
     "data": {
      "text/plain": [
       "'onion'"
      ]
     },
     "execution_count": 20,
     "metadata": {},
     "output_type": "execute_result"
    }
   ],
   "source": [
    "a=['onion','potato', 'ginger', 'cucumber']\n",
    "type(a)\n",
    "a[0]"
   ]
  },
  {
   "cell_type": "code",
   "execution_count": 68,
   "metadata": {},
   "outputs": [
    {
     "name": "stdout",
     "output_type": "stream",
     "text": [
      "['onion', 'potato', 'ginger', 'cucumber', 'Bean', 6, 'Orange', 'Apple', 'Kiwi', 'Rose', 'Banana', 'Oil', 3, 7, 'add', 3, 5, 6, 'Blue', 9]"
     ]
    },
    {
     "data": {
      "text/plain": [
       "1"
      ]
     },
     "execution_count": 68,
     "metadata": {},
     "output_type": "execute_result"
    }
   ],
   "source": [
    "b=['onion','potato', 'ginger', 'cucumber',1,6,3.4,(1,2,3),{2:'raju'},{4,5}]\n",
    "type(b[0])\n",
    "b.index({2:'raju'})\n",
    "b[8]=\"Apple\"\n",
    "b[7]= \"Orange\"\n",
    "b[9]=\"Kiwi\"\n",
    "b.append(\"Rose\")\n",
    "b.insert(5,\"Bean\")\n",
    "b.extend([\"Banana\", \"Oil\", 3, 7])\n",
    "b=b+['add',3,5,6]+['Blue',9,1]\n",
    "del b[7]\n",
    "b.remove(1)\n",
    "b.pop()\n",
    "print(b, end= '')\n",
    "len(b)\n",
    "b.count(9)\n"
   ]
  },
  {
   "cell_type": "code",
   "execution_count": 69,
   "metadata": {},
   "outputs": [
    {
     "name": "stdout",
     "output_type": "stream",
     "text": [
      "[9, 'Blue', 6, 5, 3, 'add', 7, 3, 'Oil', 'Banana', 'Rose', 'Kiwi', 'Apple', 'Orange', 6, 'Bean', 'cucumber', 'ginger', 'potato', 'onion'] "
     ]
    }
   ],
   "source": [
    "b.reverse()\n",
    "print(b, end=\" \")"
   ]
  },
  {
   "cell_type": "code",
   "execution_count": 75,
   "metadata": {},
   "outputs": [
    {
     "name": "stdout",
     "output_type": "stream",
     "text": [
      "['3', ':', 'Apple', 'Banana', 'Bean', 'Blue', 'Kiwi', 'Oil', 'Orange', 'Rose', 'add', 'cucumber', 'ginger', 'onion', 'potato'] "
     ]
    }
   ],
   "source": [
    "c=['onion', 'potato', 'ginger', 'cucumber', 'Bean','Orange', 'Apple', 'Kiwi', 'Rose', 'Banana', 'Oil','add','Blue', ':','3']\n",
    "c.sort()\n",
    "print(c, end=\" \")"
   ]
  },
  {
   "cell_type": "code",
   "execution_count": 74,
   "metadata": {},
   "outputs": [
    {
     "data": {
      "text/plain": [
       "[1, 3, 4, 5, 6, 8, 9, 10, 22]"
      ]
     },
     "execution_count": 74,
     "metadata": {},
     "output_type": "execute_result"
    }
   ],
   "source": [
    "d=[9,1,10,22,3,4,5,6,8]\n",
    "d.sort()\n",
    "d"
   ]
  },
  {
   "cell_type": "markdown",
   "metadata": {},
   "source": [
    "Tuple"
   ]
  },
  {
   "cell_type": "code",
   "execution_count": 104,
   "metadata": {},
   "outputs": [
    {
     "data": {
      "text/plain": [
       "3"
      ]
     },
     "execution_count": 104,
     "metadata": {},
     "output_type": "execute_result"
    }
   ],
   "source": [
    "a=(2,4,5,6,7,3,9,2,3,2,3,9.5,\"Rose\",\"Apple\")\n",
    "type(a)\n",
    "a.count(2)\n",
    "a.index(3)\n",
    "a\n",
    "a[2:14:2]\n",
    "a[-1]\n",
    "a[::-2]\n",
    "type(a[11])\n",
    "a=a+('orange',)\n",
    "a\n",
    "len(a)\n",
    "a.count(2)\n"
   ]
  },
  {
   "cell_type": "markdown",
   "metadata": {},
   "source": [
    "Set"
   ]
  },
  {
   "cell_type": "code",
   "execution_count": 117,
   "metadata": {},
   "outputs": [
    {
     "name": "stdout",
     "output_type": "stream",
     "text": [
      "a= {1, 2, 3, 4, 5, 6, 7, 8, 9} \n",
      "b= {5, 6, 7, 8, 10, 11, 12, 13}\n"
     ]
    },
    {
     "data": {
      "text/plain": [
       "set"
      ]
     },
     "execution_count": 117,
     "metadata": {},
     "output_type": "execute_result"
    }
   ],
   "source": [
    "a = {1,2,3,4,5,6,7,8,9}\n",
    "b = {5,6,7,8,10,11,12,13}\n",
    "print('a=',a, '\\nb=',b)\n",
    "c=set(\"Banana\")\n",
    "c\n",
    "type(c)"
   ]
  },
  {
   "cell_type": "code",
   "execution_count": 128,
   "metadata": {},
   "outputs": [
    {
     "data": {
      "text/plain": [
       "{'banana', 'kiwi', 'orange', 'pear'}"
      ]
     },
     "execution_count": 128,
     "metadata": {},
     "output_type": "execute_result"
    }
   ],
   "source": [
    "A = {'apple', 'orange', 'apple', 'pear', 'orange', 'banana'}\n",
    "A\n",
    "A.update({\"kiwi\"})\n",
    "#A.remove(\"blue\")\n",
    "A.discard(\"banana\")\n",
    "A.update({\"banana\"})\n",
    "A.pop()\n",
    "A"
   ]
  },
  {
   "cell_type": "code",
   "execution_count": 132,
   "metadata": {},
   "outputs": [
    {
     "name": "stdout",
     "output_type": "stream",
     "text": [
      "a= {1, 2, 3, 4, 5, 6, 7, 8, 9} \n",
      "b= {5, 6, 7, 8, 10, 11, 12, 13} \n",
      "c(a u b )= {1, 2, 3, 4, 5, 6, 7, 8, 9, 10, 11, 12, 13}\n"
     ]
    }
   ],
   "source": [
    "#Union\n",
    "a = {1,2,3,4,5,6,7,8,9}\n",
    "b = {5,6,7,8,10,11,12,13}\n",
    "c=a.union(b)\n",
    "print(\"a=\",a,\"\\nb=\",b,\"\\nc(a u b )=\",c)"
   ]
  },
  {
   "cell_type": "code",
   "execution_count": 139,
   "metadata": {},
   "outputs": [
    {
     "name": "stdout",
     "output_type": "stream",
     "text": [
      "a= {1, 2, 3, 4, 5, 6, 7, 8, 9} \n",
      "b= {5, 6, 7, 8, 10, 11, 12, 13}\n"
     ]
    },
    {
     "data": {
      "text/plain": [
       "{5, 6, 7, 8}"
      ]
     },
     "execution_count": 139,
     "metadata": {},
     "output_type": "execute_result"
    }
   ],
   "source": [
    "#intersection\n",
    "a = {1,2,3,4,5,6,7,8,9}\n",
    "b = {5,6,7,8,10,11,12,13}\n",
    "c=a.intersection(b)\n",
    "\n",
    "print(\"a=\",a,\"\\nb=\",b)\n",
    "c\n",
    "#A = {1, 2, 3, 4, 5}\n",
    "#B = {2, 3, 4, 5, 6, 7}\n",
    "#A.intersection(B)"
   ]
  },
  {
   "cell_type": "code",
   "execution_count": 142,
   "metadata": {},
   "outputs": [
    {
     "name": "stdout",
     "output_type": "stream",
     "text": [
      "{1, 2, 3, 4, 9}\n"
     ]
    },
    {
     "data": {
      "text/plain": [
       "{10, 11, 12, 13}"
      ]
     },
     "execution_count": 142,
     "metadata": {},
     "output_type": "execute_result"
    }
   ],
   "source": [
    "#difference\n",
    "a = {1,2,3,4,5,6,7,8,9}\n",
    "b = {5,6,7,8,10,11,12,13}\n",
    "print(a.difference(b))\n",
    "b.difference(a)"
   ]
  },
  {
   "cell_type": "markdown",
   "metadata": {},
   "source": [
    "Dictionaries"
   ]
  },
  {
   "cell_type": "code",
   "execution_count": 151,
   "metadata": {},
   "outputs": [
    {
     "data": {
      "text/plain": [
       "{'name': 'Muhammad Abdur Razzaqe',\n",
       " 'nickname': 'Maateen',\n",
       " 'email': 'maateen@outlook.com',\n",
       " 'phone': '01711223344',\n",
       " 'hometown': 'Savar'}"
      ]
     },
     "execution_count": 151,
     "metadata": {},
     "output_type": "execute_result"
    }
   ],
   "source": [
    "a = {'name' : 'MD. Maksudur Rahman Khan', 'nickname' : 'Maateen', 'email' : 'maateen@outlook.com', 'phone' : '01711223344'}\n",
    "a['name']=\"Muhammad Abdur Razzaqe\"\n",
    "a['hometown'] = 'Savar'\n",
    "a\n"
   ]
  },
  {
   "cell_type": "code",
   "execution_count": 153,
   "metadata": {},
   "outputs": [
    {
     "data": {
      "text/plain": [
       "{'name': 'MD. Maksudur Rahman Khan',\n",
       " 'nickname': 'Maateen',\n",
       " 'email': 'maateen@outlook.com',\n",
       " 'phone': '01711223344',\n",
       " 'home': 'Dhamrai',\n",
       " 'Dist': 'Dhaka'}"
      ]
     },
     "execution_count": 153,
     "metadata": {},
     "output_type": "execute_result"
    }
   ],
   "source": [
    "a = {'name' : 'MD. Maksudur Rahman Khan', 'nickname' : 'Maateen', 'email' : 'maateen@outlook.com', 'phone' : '01711223344'}\n",
    "\n",
    "b = {'home' : 'Dhamrai', 'Dist': 'Dhaka'}\n",
    "a.update(b)\n",
    "a"
   ]
  },
  {
   "cell_type": "markdown",
   "metadata": {},
   "source": [
    "প্রবলেম-১\n",
    "ইউজার একটা পূর্ণসংখ্যা ইনপুট দেবে। সংখ্যাটি ৩ ও ৫ দ্বারা নিঃশেষে বিভাজ্য হলে আউটপুট হবে Yes আর না হলে আউটপুট হবে No।"
   ]
  },
  {
   "cell_type": "code",
   "execution_count": 155,
   "metadata": {},
   "outputs": [
    {
     "name": "stdout",
     "output_type": "stream",
     "text": [
      "Enter a number:15\n",
      "Yes\n"
     ]
    }
   ],
   "source": [
    "n=int(input(\"Enter a number:\"))\n",
    "if n%3 == 0 and n%5 ==0:\n",
    "    print(\"Yes\")\n",
    "else:\n",
    "    print(\"No\")"
   ]
  },
  {
   "cell_type": "markdown",
   "metadata": {},
   "source": [
    "প্রবলেম-২\n",
    "ইউজার একটা সংখ্যা ইনপুট দেবে। সংখ্যাটি ধনাত্মক হলে আউটপুট হবে Positive, ঋণাত্মক হলে আউটপুট হবে Negative আর জিরো হলে আউটপুট Zero হবে।"
   ]
  },
  {
   "cell_type": "code",
   "execution_count": 164,
   "metadata": {},
   "outputs": [
    {
     "name": "stdout",
     "output_type": "stream",
     "text": [
      "Enter a number1\n",
      "Positive\n"
     ]
    }
   ],
   "source": [
    "num=int(input(\"Enter a number\"))\n",
    "\n",
    "if num > 0:\n",
    "    print(\"Positive\")\n",
    "elif num < 0:\n",
    "    print(\"Negative\")\n",
    "else:\n",
    "    print(\"Zero\")"
   ]
  },
  {
   "cell_type": "markdown",
   "metadata": {},
   "source": [
    "প্রবলেম-৩\n",
    "ইউজার একটি পূর্ণসংখ্যা ইনপুট দেবে। সংখ্যাটি জোড় হলে আউটপুট হবে Even আর বিজোড় হলে আউটপুট Odd হবে।"
   ]
  },
  {
   "cell_type": "code",
   "execution_count": 166,
   "metadata": {},
   "outputs": [
    {
     "name": "stdout",
     "output_type": "stream",
     "text": [
      "Enter a number9\n",
      "Odd number\n"
     ]
    }
   ],
   "source": [
    "num=int(input(\"Enter a number\"))\n",
    "if num%2 == 0:\n",
    "    print(\"Even number\")\n",
    "else:\n",
    "    print(\"Odd number\")\n"
   ]
  },
  {
   "cell_type": "markdown",
   "metadata": {},
   "source": [
    "প্রবলেম-৪\n",
    "ইউজার একটি ক্যারেক্টার (আলফাবেট) ইনপুট দেবে। ক্যারেক্টারটা ছোট হাতের অক্ষর হলে আউটপুট হবে Lower Case আর বড় হাতের অক্ষর হলে হবে Upper Case। যদি ক্যারেক্টারটা আলফাবেটের মধ্যে না পড়ে, তবে আউটপুট Nothing হবে।"
   ]
  },
  {
   "cell_type": "code",
   "execution_count": 173,
   "metadata": {},
   "outputs": [
    {
     "name": "stdout",
     "output_type": "stream",
     "text": [
      "A\n",
      "Upper Case\n"
     ]
    }
   ],
   "source": [
    "char=input()\n",
    "\n",
    "if char >='a' and char <='z':\n",
    "    print(\"Lower Case\")\n",
    "elif char >='A' and char <='Z':\n",
    "    print(\"Upper Case\")\n",
    "else:\n",
    "    print(\"Nothing\")\n",
    "    "
   ]
  },
  {
   "cell_type": "markdown",
   "metadata": {},
   "source": [
    "প্রবলেম-৫\n",
    "ইউজার একটি ক্যারেক্টার (আলফাবেট) ইনপুট দেবে। ক্যারেক্টারটা ভাওয়েল (Vowel) হলে আউটপুট হবে Vowel আর কনসোনেন্ট (Consonant) হলে হবে Consonant; যদি ক্যারেক্টারটা আলফাবেটের মধ্যে না পড়ে, তবে আউটপুট হবে Nothing."
   ]
  },
  {
   "cell_type": "code",
   "execution_count": 178,
   "metadata": {},
   "outputs": [
    {
     "name": "stdout",
     "output_type": "stream",
     "text": [
      "d\n",
      "Consonant\n"
     ]
    }
   ],
   "source": [
    "char = input()\n",
    "\n",
    "vowel =('a','e','i','o','u','A','E','I','O','U')\n",
    "\n",
    "if char >='a' and char <='z' or char >='A' and char <='Z':\n",
    "    if char in vowel:\n",
    "        print(\"Vowel\")\n",
    "    else:\n",
    "          print(\"Consonant\")      \n",
    "              \n",
    "else:\n",
    "    print(\"Nothing\")\n",
    "  "
   ]
  },
  {
   "cell_type": "markdown",
   "metadata": {},
   "source": [
    "প্রবলেম-৬\n",
    "ইউজার একটা পূর্ণসংখ্যা ইনপুট দেবে, এই ইনপুট হল তার লাঞ্চ বিল। এবার এটাকে আমাদের দেশের হিসেব অনুযায়ী কত টাকার কয়টা নোট দিয়ে বিল দেয়া যাবে সেটা বের করতে হবে।"
   ]
  },
  {
   "cell_type": "code",
   "execution_count": 12,
   "metadata": {},
   "outputs": [
    {
     "name": "stdout",
     "output_type": "stream",
     "text": [
      "Enter your lunch Bill:1879\n",
      "1 1000 Taka note(s).\n",
      "1 500 Taka note(s),\n",
      "1 200 Taka note(s).\n",
      "1 100 Taka note(s).\n",
      "1 5o Taka note(s).\n",
      "1 20 Taka note(s)\n",
      "0 10 Taka note(s)\n",
      "1 5 Taka note(s)\n",
      "2 2 Taka note(s)\n",
      "0 1 Taka note(s)\n"
     ]
    }
   ],
   "source": [
    "lbill=int(input(\"Enter your lunch Bill:\"))\n",
    "\n",
    "gbill=lbill\n",
    "\n",
    "notes=lbill//1000\n",
    "print(notes,\"1000 Taka note(s).\")\n",
    "\n",
    "if notes > 0:\n",
    "    lbill=lbill%1000\n",
    "    gbill=lbill\n",
    "else:\n",
    "    lbill=gbill\n",
    "    \n",
    "notes=lbill//500\n",
    "print(notes,\"500 Taka note(s),\")\n",
    "\n",
    "if notes > 0:\n",
    "    lbill=lbill%500\n",
    "    gbill=lbill\n",
    "else:\n",
    "    lbill=gbill\n",
    "\n",
    "notes =lbill//200\n",
    "print(notes,\"200 Taka note(s).\")\n",
    "if notes > 0:\n",
    "    lbill=lbill%200\n",
    "    gbill=lbill\n",
    "else:\n",
    "    lbill=gbill\n",
    "    \n",
    "notes=lbill//100\n",
    "print(notes,\"100 Taka note(s).\")\n",
    "if notes > 0:\n",
    "    lbill=lbill%100\n",
    "    gbill=lbill\n",
    "else:\n",
    "    lbill=gbill\n",
    "\n",
    "notes=lbill//50\n",
    "print(notes,\"5o Taka note(s).\")\n",
    "if notes > 0:\n",
    "    lbill=lbill%50\n",
    "    gbill=lbill\n",
    "else:\n",
    "    lbill=gbill\n",
    "\n",
    "notes=lbill//20\n",
    "print(notes,\"20 Taka note(s)\")\n",
    "if notes > 0:\n",
    "    lbill=lbill%20\n",
    "    gbill=lbill\n",
    "else:\n",
    "    lbill=gbill\n",
    "notes=lbill//10\n",
    "print(notes,\"10 Taka note(s)\")\n",
    "if notes > 0:\n",
    "    lbill=lbill%10\n",
    "    gbill=lbill\n",
    "else:\n",
    "    lbill=gbill   \n",
    "notes=lbill//5\n",
    "print(notes,\"5 Taka note(s)\")\n",
    "if notes > 0:\n",
    "    lbill=lbill%5\n",
    "    gbill=lbill\n",
    "else:\n",
    "    lbill=gbill \n",
    "notes=lbill//2\n",
    "print(notes,\"2 Taka note(s)\")\n",
    "if notes > 0:\n",
    "    lbill=lbill%2\n",
    "    gbill=lbill\n",
    "else:18\n",
    "    lbill=gbill \n",
    "notes=lbill//1\n",
    "print(notes,\"1 Taka note(s)\")\n",
    "if notes > 0:\n",
    "    lbill=lbill%1\n",
    "    gbill=lbill\n",
    "else:\n",
    "    lbill=gbill     \n",
    "   \n",
    "   "
   ]
  },
  {
   "cell_type": "markdown",
   "metadata": {},
   "source": [
    "ইউজার তার জন্মসাল ইনপুট দেবে। চেক করে দেখতে হবে সেটা লিপ-ইয়ার কিনা।"
   ]
  },
  {
   "cell_type": "code",
   "execution_count": 23,
   "metadata": {},
   "outputs": [
    {
     "name": "stdout",
     "output_type": "stream",
     "text": [
      "Enter a year:2014\n",
      "2014 is not a leap-year.\n"
     ]
    }
   ],
   "source": [
    "year=int(input(\"Enter a year:\"))\n",
    "\n",
    "if year%4 == 0:\n",
    "    if year%100 == 0:\n",
    "        if year%400 == 0:\n",
    "            print(year,\" is a leap-year.\")\n",
    "        else:\n",
    "            print(year,\"is not a leap-year.\")\n",
    "    else:\n",
    "        print(year,\"is a leap-year.\")\n",
    "else:\n",
    "    print(year,\"is not a leap-year.\")"
   ]
  },
  {
   "cell_type": "markdown",
   "metadata": {},
   "source": [
    "ইউজার একটা সংখ্যা ইনপুট দেবে। সেটাকে আপনার স্কুল/কলেজ/বিশ্ববিদ্যালয়ের গ্রেডিং সিস্টেম অনুসারে হিসেব-নিকেশ করে A+ বা B- বা F ইত্যাদি আউটপুট দেখাতে হবে।"
   ]
  },
  {
   "cell_type": "code",
   "execution_count": 32,
   "metadata": {},
   "outputs": [
    {
     "name": "stdout",
     "output_type": "stream",
     "text": [
      "Enter your marks:49\n",
      "Sorry!, you are fail.\n"
     ]
    }
   ],
   "source": [
    "marks = int(input(\"Enter your marks:\"))\n",
    "\n",
    "if marks >=90:\n",
    "    print(\"Congratulation!, your grade is A+.\")\n",
    "elif marks >=80 and marks <=89:\n",
    "    print(\"Your grade is A.\")\n",
    "elif marks >=70 and marks <=79:\n",
    "    print(\"Your grade is B+.\")\n",
    "elif marks >=60 and marks <=69:\n",
    "    print(\"Your grade is B.\")\n",
    "elif marks >=50 and marks <=59:\n",
    "    print(\"Your grade is C.\")\n",
    "else:\n",
    "    print(\"Sorry!, you are fail.\")\n",
    "    "
   ]
  },
  {
   "cell_type": "markdown",
   "metadata": {},
   "source": [
    "Loop\n"
   ]
  },
  {
   "cell_type": "code",
   "execution_count": 37,
   "metadata": {
    "scrolled": true
   },
   "outputs": [
    {
     "name": "stdout",
     "output_type": "stream",
     "text": [
      "1\n",
      "2\n",
      "3\n",
      "4\n",
      "5\n",
      "6\n",
      "7\n",
      "8\n",
      "9\n",
      "10\n"
     ]
    }
   ],
   "source": [
    "n=1\n",
    "while n <=10:\n",
    "    print(n)\n",
    "    n=n+1"
   ]
  },
  {
   "cell_type": "markdown",
   "metadata": {},
   "source": [
    "শতকিয়া যোগ হল ১ থেকে ১০০ পর্যন্ত সংখ্যাগুলোকে যোগ করা। মানে 1+2+3+4+…+100 = ? বের করা। while লুপ ব্যবহার করে আমরা এখন এটার সলিউশন করব।"
   ]
  },
  {
   "cell_type": "code",
   "execution_count": 40,
   "metadata": {},
   "outputs": [
    {
     "name": "stdout",
     "output_type": "stream",
     "text": [
      "5050\n"
     ]
    }
   ],
   "source": [
    "n=0\n",
    "temp = n\n",
    "while n <=100:\n",
    "    temp=temp+n\n",
    "    n=n+1\n",
    "print(temp)    \n",
    "    "
   ]
  },
  {
   "cell_type": "code",
   "execution_count": 43,
   "metadata": {},
   "outputs": [
    {
     "name": "stdout",
     "output_type": "stream",
     "text": [
      "5050\n"
     ]
    }
   ],
   "source": [
    "n=100\n",
    "\n",
    "temp =int((n*(n+1))/2)\n",
    "print(temp)"
   ]
  },
  {
   "cell_type": "markdown",
   "metadata": {},
   "source": [
    "$$1+3+5+7+ … +97 = ?$$"
   ]
  },
  {
   "cell_type": "code",
   "execution_count": 45,
   "metadata": {},
   "outputs": [
    {
     "name": "stdout",
     "output_type": "stream",
     "text": [
      "2401\n"
     ]
    }
   ],
   "source": [
    "n = 0\n",
    "temp =n\n",
    "while n <=97:\n",
    "    if n%2 != 0:\n",
    "        temp =temp +n\n",
    "    n = n +1\n",
    "print(temp)    \n",
    "    "
   ]
  },
  {
   "cell_type": "code",
   "execution_count": 46,
   "metadata": {},
   "outputs": [
    {
     "name": "stdout",
     "output_type": "stream",
     "text": [
      "2352\n"
     ]
    }
   ],
   "source": [
    "n = 0\n",
    "temp =n\n",
    "while n <=97:\n",
    "    temp = temp + n\n",
    "    n = n + 2\n",
    "print(temp)    "
   ]
  },
  {
   "cell_type": "markdown",
   "metadata": {},
   "source": [
    "For"
   ]
  },
  {
   "cell_type": "code",
   "execution_count": 51,
   "metadata": {},
   "outputs": [
    {
     "name": "stdout",
     "output_type": "stream",
     "text": [
      "<class 'list'>\n",
      "onion\n",
      "potato\n",
      "ginger\n",
      "cucumber\n"
     ]
    }
   ],
   "source": [
    "a = ['onion', 'potato', 'ginger', 'cucumber']\n",
    "print(type(a))\n",
    "for n in a:\n",
    "    print(n)"
   ]
  },
  {
   "cell_type": "code",
   "execution_count": 59,
   "metadata": {
    "scrolled": true
   },
   "outputs": [
    {
     "name": "stdout",
     "output_type": "stream",
     "text": [
      "name MD. Maksudur Rahman Khan\n",
      "nickname Maateen\n",
      "email maateen@outlook.com\n",
      "phone 01711223344\n"
     ]
    }
   ],
   "source": [
    "a = {'name' : 'MD. Maksudur Rahman Khan', 'nickname' : 'Maateen', 'email' : 'maateen@outlook.com', 'phone' : '01711223344'}\n",
    "type(a)\n",
    "a.items()\n",
    "\n",
    "for (key, value) in a.items():\n",
    "    print(key, value)\n",
    "\n"
   ]
  },
  {
   "cell_type": "code",
   "execution_count": 60,
   "metadata": {},
   "outputs": [
    {
     "name": "stdout",
     "output_type": "stream",
     "text": [
      "P\n",
      "y\n",
      "t\n",
      "h\n",
      "o\n",
      "n\n"
     ]
    }
   ],
   "source": [
    "a='Python'\n",
    "for i in a:\n",
    "    print(i)"
   ]
  },
  {
   "cell_type": "code",
   "execution_count": 61,
   "metadata": {},
   "outputs": [
    {
     "data": {
      "text/plain": [
       "[0, 1, 2, 3, 4]"
      ]
     },
     "execution_count": 61,
     "metadata": {},
     "output_type": "execute_result"
    }
   ],
   "source": [
    "list(range(5))"
   ]
  },
  {
   "cell_type": "code",
   "execution_count": 62,
   "metadata": {},
   "outputs": [
    {
     "data": {
      "text/plain": [
       "[1, 3, 5, 7, 9, 11, 13, 15, 17, 19]"
      ]
     },
     "execution_count": 62,
     "metadata": {},
     "output_type": "execute_result"
    }
   ],
   "source": [
    "list(range(1,21,2))"
   ]
  },
  {
   "cell_type": "code",
   "execution_count": 76,
   "metadata": {},
   "outputs": [
    {
     "name": "stdout",
     "output_type": "stream",
     "text": [
      "1\n",
      "2\n",
      "3\n",
      "4\n",
      "5\n",
      "6\n",
      "7\n",
      "8\n",
      "9\n",
      "10\n"
     ]
    }
   ],
   "source": [
    "for i in range(1,11):\n",
    "     \n",
    "    if i == 5:\n",
    "        pass\n",
    "         \n",
    "    print(i)    \n",
    " "
   ]
  },
  {
   "cell_type": "markdown",
   "metadata": {},
   "source": [
    "Whole loop qith else"
   ]
  },
  {
   "cell_type": "code",
   "execution_count": 78,
   "metadata": {},
   "outputs": [
    {
     "name": "stdout",
     "output_type": "stream",
     "text": [
      "1\n",
      "2\n",
      "3\n",
      "4\n",
      "5\n",
      "6\n",
      "7\n",
      "8\n",
      "9\n",
      "10\n",
      "The loop is over\n"
     ]
    }
   ],
   "source": [
    "n=1\n",
    "while n <=10:\n",
    "    print(n)\n",
    "    n=n+1\n",
    "else:\n",
    "    print(\"The loop is over\")"
   ]
  },
  {
   "cell_type": "code",
   "execution_count": 80,
   "metadata": {},
   "outputs": [
    {
     "name": "stdout",
     "output_type": "stream",
     "text": [
      "1\n",
      "2\n",
      "3\n",
      "4\n",
      "5\n",
      "6\n",
      "7\n",
      "8\n",
      "9\n",
      "10\n",
      "loop is over\n"
     ]
    }
   ],
   "source": [
    "for i in range(1,11):\n",
    "    print(i)\n",
    "else:\n",
    "    print(\"loop is over\")\n"
   ]
  },
  {
   "cell_type": "markdown",
   "metadata": {},
   "source": [
    "প্রবলেম-১\n",
    "ইউজার যেকোনো একটা পূর্ণসংখ্যা ইনপুট দেবে। আর ওই পূর্ণসংখ্যার নামতা আউটপুট হিসেবে দেখাতে হবে।"
   ]
  },
  {
   "cell_type": "code",
   "execution_count": 89,
   "metadata": {},
   "outputs": [
    {
     "name": "stdout",
     "output_type": "stream",
     "text": [
      "Enter a number: 3\n",
      "3 X 1 = 3\n",
      "3 X 2 = 6\n",
      "3 X 3 = 9\n",
      "3 X 4 = 12\n",
      "3 X 5 = 15\n",
      "3 X 6 = 18\n",
      "3 X 7 = 21\n",
      "3 X 8 = 24\n",
      "3 X 9 = 27\n",
      "3 X 10 = 30\n"
     ]
    }
   ],
   "source": [
    "num=int(input(\"Enter a number: \"))\n",
    "\n",
    "for i in range(1,11):\n",
    "    j = num * i\n",
    "    print(num,\"X\",i,\"=\",j)"
   ]
  },
  {
   "cell_type": "code",
   "execution_count": 95,
   "metadata": {},
   "outputs": [
    {
     "name": "stdout",
     "output_type": "stream",
     "text": [
      "Enter a number: 5\n",
      "5 X 1 = 5\n",
      "5 X 2 = 10\n",
      "5 X 3 = 15\n",
      "5 X 4 = 20\n",
      "5 X 5 = 25\n",
      "5 X 6 = 30\n",
      "5 X 7 = 35\n",
      "5 X 8 = 40\n",
      "5 X 9 = 45\n",
      "5 X 10 = 50\n"
     ]
    }
   ],
   "source": [
    "num=int(input(\"Enter a number: \"))\n",
    "n=1\n",
    "while n <=10:\n",
    "    j = num * n\n",
    "    print(num,\"X\",n,\"=\",j)\n",
    "    n +=1\n",
    "    "
   ]
  },
  {
   "cell_type": "markdown",
   "metadata": {},
   "source": [
    "প্রবলেম-২\n",
    "১ থেকে ১০০ পর্যন্ত যেসব সংখ্যা ৩ দ্বারা নিঃশেষে বিভাজ্য কিন্তু ৫ দ্বারা নয়, তাদের লিস্ট আউটপুট হিসেবে দেখাতে হবে।"
   ]
  },
  {
   "cell_type": "code",
   "execution_count": 98,
   "metadata": {},
   "outputs": [
    {
     "name": "stdout",
     "output_type": "stream",
     "text": [
      "3 6 9 12 18 21 24 27 33 36 39 42 48 51 54 57 63 66 69 72 78 81 84 87 93 96 99 "
     ]
    }
   ],
   "source": [
    "for i in range(1,101):\n",
    "    if i%3 == 0 and i%5 !=0:\n",
    "        print(i, end=\" \")"
   ]
  },
  {
   "cell_type": "code",
   "execution_count": 99,
   "metadata": {},
   "outputs": [
    {
     "name": "stdout",
     "output_type": "stream",
     "text": [
      "[3, 6, 9, 12, 18, 21, 24, 27, 33, 36, 39, 42, 48, 51, 54, 57, 63, 66, 69, 72, 78, 81, 84, 87, 93, 96, 99]\n"
     ]
    }
   ],
   "source": [
    "my_list=[]\n",
    "for i in range(1,101):\n",
    "    if i%3 == 0 and i%5 !=0:\n",
    "        my_list.append(i)\n",
    "print(my_list)        "
   ]
  },
  {
   "cell_type": "markdown",
   "metadata": {},
   "source": [
    "প্রবলেম-৩\n",
    "ধরা যাক, বিভিন্ন সংখ্যার একটি তালিকা রয়েছে। তালিকাটা নিচের মত -\n",
    "\n",
    "13, 34, 19, 28, 46, 61, 73, 49, 1, 31, 4, 7, 91, 58, 52, 82, 70, 43, 88, 55, 97, 16, 22, 25, 79, 85, 40, 64, 94, 67, 37\n",
    "\n",
    "এই তালিকা থেকে ৫০-এর চেয়ে ছোট সংখ্যাগুলোকে নিয়ে একটি লিস্ট বানিয়ে আউটপুট হিসেবে দেখাতে হবে।"
   ]
  },
  {
   "cell_type": "code",
   "execution_count": 102,
   "metadata": {},
   "outputs": [
    {
     "name": "stdout",
     "output_type": "stream",
     "text": [
      "13 34 19 28 46 49 1 31 4 7 43 16 22 25 40 37 "
     ]
    }
   ],
   "source": [
    "a=[13, 34, 19, 28, 46, 61, 73, 49, 1, 31, 4, 7, 91, 58, 52, 82, 70, 43, 88, 55, 97, 16, 22, 25, 79, 85, 40, 64, 94, 67, 37]\n",
    "\n",
    "for i in a:\n",
    "    if i < 50:\n",
    "        print(i, end= \" \")\n",
    "       \n",
    "        "
   ]
  },
  {
   "cell_type": "code",
   "execution_count": 103,
   "metadata": {},
   "outputs": [
    {
     "name": "stdout",
     "output_type": "stream",
     "text": [
      "[13, 34, 19, 28, 46, 49, 1, 31, 4, 7, 43, 16, 22, 25, 40, 37]\n"
     ]
    }
   ],
   "source": [
    "a=[13, 34, 19, 28, 46, 61, 73, 49, 1, 31, 4, 7, 91, 58, 52, 82, 70, 43, 88, 55, 97, 16, 22, 25, 79, 85, 40, 64, 94, 67, 37]\n",
    "\n",
    "my_list=[]\n",
    "\n",
    "for i in a:\n",
    "    if i < 50:\n",
    "        my_list.append(i)\n",
    "print(my_list)        \n"
   ]
  },
  {
   "cell_type": "markdown",
   "metadata": {},
   "source": [
    "প্রবলেম-৪\n",
    "নিচের তালিকাটি লক্ষ্য করা যাক -\n",
    "\n",
    "40, 45, 33, 34, 8, 38, 28, 22, 1, 7, 49, 41, 14, 5, 22, 39, 15, 19, 36, 37, 43, 2, 5, 42, 46, 48, 49, 12, 48, 37, 8, 20, 30, 20, 4, 37, 27, 29, 7, 44, 15, 32, 35, 10, 28, 18, 2, 15, 36, 38\n",
    "\n",
    "এই তালিকা থেকে সকল ডুপ্লিকেট (duplicate) ভ্যালু রিমুভ করতে হবে।"
   ]
  },
  {
   "cell_type": "code",
   "execution_count": 105,
   "metadata": {},
   "outputs": [
    {
     "name": "stdout",
     "output_type": "stream",
     "text": [
      "[40, 45, 33, 34, 8, 38, 28, 22, 1, 7, 49, 41, 14, 5, 39, 15, 19, 36, 37, 43, 2, 42, 46, 48, 12, 20, 30, 4, 27, 29, 44, 32, 35, 10, 18]\n"
     ]
    }
   ],
   "source": [
    "a=[40, 45, 33, 34, 8, 38, 28, 22, 1, 7, 49, 41, 14, 5, 22, 39, 15, 19, 36, 37, 43, 2, 5, 42, 46, 48, 49, 12, 48, 37, 8, 20, 30, 20, 4, 37, 27, 29, 7, 44, 15, 32, 35, 10, 28, 18, 2, 15, 36, 38]\n",
    "\n",
    "my_list = []\n",
    "\n",
    "for i in a:\n",
    "    if i not in my_list:\n",
    "        my_list.append(i)\n",
    "print(my_list)        "
   ]
  },
  {
   "cell_type": "markdown",
   "metadata": {},
   "source": [
    "প্রবলেম-৫\n",
    "ইউজার একটা পূর্ণসংখ্যা ইনপুট দেবে। সেটির ওপর ভিত্তি করে আমরা *এর স্কয়ার ডিজাইন করব। অর্থাৎ ইউজার যদি 5 ইনপুট দেয় তাহলে নিচের মতো একটা স্কয়ার ডিজাইন করব।\n",
    "*****\n",
    "*****\n",
    "*****\n",
    "*****\n",
    "*****"
   ]
  },
  {
   "cell_type": "code",
   "execution_count": 128,
   "metadata": {},
   "outputs": [
    {
     "name": "stdout",
     "output_type": "stream",
     "text": [
      "Enter a number: 6\n",
      "* * * * * * \n",
      "* * * * * * \n",
      "* * * * * * \n",
      "* * * * * * \n",
      "* * * * * * \n",
      "* * * * * * \n"
     ]
    }
   ],
   "source": [
    "num =int(input(\"Enter a number: \"))\n",
    "\n",
    "for i in range(num+1, 1, -1):\n",
    "    for j in range(num):\n",
    "        print(\"*\", end =\" \")\n",
    "    print(\"\")    \n",
    "       "
   ]
  },
  {
   "cell_type": "code",
   "execution_count": 129,
   "metadata": {},
   "outputs": [
    {
     "name": "stdout",
     "output_type": "stream",
     "text": [
      "Enter a number: 5\n",
      "* * * * * \n",
      "* * * * * \n",
      "* * * * * \n",
      "* * * * * \n",
      "* * * * * \n"
     ]
    }
   ],
   "source": [
    "#alternative solution using while loop\n",
    "num =int(input(\"Enter a number: \"))\n",
    "\n",
    "temp = num\n",
    "\n",
    "while num > 0:\n",
    "    count = temp\n",
    "    while count > 0:\n",
    "        print(\"*\", end = \" \")\n",
    "        count -=1\n",
    "    print()\n",
    "    num -=1\n"
   ]
  },
  {
   "cell_type": "markdown",
   "metadata": {},
   "source": [
    "প্রবলেম-৬\n",
    "ইউজার একটি শব্দ ইনপুট দেবে। আমাদের প্রোগ্রাম দেখবে সেটি একটি প্যালিনড্রোম (Palindrome) কি না! প্যালিনড্রোম হলো কোনো শব্দ, সংখ্যা বা সিক্যুয়েন্স যাদের ওলটালেও ওই এক জিনিসই থাকে। যেমন : 707 কে ওলটালেও 707 ই থাকে। আবার Madam-কে ওলটালে Madam ই থাকে।"
   ]
  },
  {
   "cell_type": "code",
   "execution_count": 140,
   "metadata": {},
   "outputs": [
    {
     "name": "stdout",
     "output_type": "stream",
     "text": [
      "Enter input: 107\n",
      "It's not a Palindrome\n"
     ]
    }
   ],
   "source": [
    "data =input(\"Enter input: \")\n",
    "\n",
    "data =data.casefold()\n",
    "\n",
    "reverse_data=data[::-1]\n",
    "reverse_data\n",
    "\n",
    "if reverse_data == data:\n",
    "    print(\"It's a Palindrome\")\n",
    "else:\n",
    "    print(\"It's not a Palindrome\")\n",
    "\n",
    "    \n"
   ]
  },
  {
   "cell_type": "markdown",
   "metadata": {},
   "source": [
    "প্রবলেম-৭\n",
    "এখন আমরা অনন্ত জলিলের খোঁজ দ্য সার্চ-এর প্রবলেম সলভ করব। ধরা যাক, ছোট থেকে বড় সাজানো বিভিন্ন সংখ্যার একটা তালিকা আছে। তালিকাটা নিচের মতো—\n",
    "\n",
    "1, 3, 5, 7, 11, 13, 15, 17, 20, 26, 31, 44, 54, 56, 65, 77, 94, 100\n",
    "\n",
    "এই তালিকা থেকে ইউজারের ইনপুট দেওয়া নির্দিষ্ট একটি সংখ্যা খোঁজ দ্য সার্চ করে বের করতে হবে।"
   ]
  },
  {
   "cell_type": "code",
   "execution_count": 149,
   "metadata": {},
   "outputs": [
    {
     "name": "stdout",
     "output_type": "stream",
     "text": [
      "Enter a number: 20\n",
      "Found after 1 cycle.\n"
     ]
    }
   ],
   "source": [
    "my_list=[1, 3, 5, 7, 11, 13, 15, 17, 20, 26, 31, 44, 54, 56, 65, 77, 94, 100]\n",
    "\n",
    "num = int(input(\"Enter a number: \"))\n",
    "\n",
    "first =0\n",
    "last = len(my_list)-1\n",
    "found = False\n",
    "cycle =0\n",
    "\n",
    "\n",
    "while first <= last and not found:\n",
    "    midpoint =(first + last)//2\n",
    "    if my_list[midpoint] == num:\n",
    "        found = True\n",
    "    else:\n",
    "        if num < my_list[midpoint]:\n",
    "            last = midpoint -1\n",
    "        else:\n",
    "            first = midpoint +1\n",
    "    cycle +=1\n",
    "print('Found after',cycle, 'cycle.')    \n"
   ]
  },
  {
   "cell_type": "markdown",
   "metadata": {},
   "source": [
    "(১) লুপ ব্যবহার করে ১ থেকে ১০০ পর্যন্ত পূর্ণসংখ্যাগুলোর সমষ্টি বের করতে হবে।"
   ]
  },
  {
   "cell_type": "code",
   "execution_count": 151,
   "metadata": {},
   "outputs": [
    {
     "name": "stdout",
     "output_type": "stream",
     "text": [
      "5050\n"
     ]
    }
   ],
   "source": [
    "sum=0\n",
    "n=1\n",
    "while n <=100:\n",
    "    sum=sum+n\n",
    "    n+=1\n",
    "print(sum)    \n",
    "    "
   ]
  },
  {
   "cell_type": "code",
   "execution_count": 152,
   "metadata": {},
   "outputs": [
    {
     "name": "stdout",
     "output_type": "stream",
     "text": [
      "5050\n"
     ]
    }
   ],
   "source": [
    "sum=0\n",
    "for n in range(1, 101):\n",
    "    sum+=n\n",
    "print(sum)    "
   ]
  },
  {
   "cell_type": "markdown",
   "metadata": {},
   "source": [
    "(২) ইউজার একটা পূর্ণসংখ্যা ইনপুট দেবে। সেটির ওপর ভিত্তি করে আমরা *এর ত্রিভুজ ডিজাইন করব। অর্থাৎ ইউজার যদি 5 ইনপুট দেয় তাহলে নিচের মত একটা ত্রিভুজ ডিজাইন করব।\n",
    "*\n",
    "**\n",
    "***\n",
    "****\n",
    "*****"
   ]
  },
  {
   "cell_type": "code",
   "execution_count": 162,
   "metadata": {},
   "outputs": [
    {
     "name": "stdout",
     "output_type": "stream",
     "text": [
      "Enter a number:5\n",
      " \n",
      "*  \n",
      "* *  \n",
      "* * *  \n",
      "* * * *  \n",
      "* * * * *  \n"
     ]
    }
   ],
   "source": [
    "num=int(input(\"Enter a number:\"))\n",
    "\n",
    "for i in range(0, num+1):\n",
    "    for j in range(i):\n",
    "        print(\"*\", end=\" \")\n",
    "    print(\" \")    \n",
    "   \n",
    "    "
   ]
  },
  {
   "cell_type": "markdown",
   "metadata": {},
   "source": [
    "(৩) ১ থেকে ১০০-এর ভিতর যেসকল সংখ্যা রয়েছে, সেখান থেকে দৈবচয়নের মাধ্যমে বাছাই করে ন্যূনতম ত্রিশ সংখ্যার একটা লিস্ট তৈরি করতে হবে। এই লিস্টে একই সংখ্যা একাধিকবার থাকতে পারবে না। (এখন পর্যন্ত অর্জিত জ্ঞান দিয়ে সলভ করতে না পারলে, পুরো বই শেষ করে আবার চেষ্টা করতে হবে।)"
   ]
  },
  {
   "cell_type": "code",
   "execution_count": 168,
   "metadata": {},
   "outputs": [
    {
     "name": "stdout",
     "output_type": "stream",
     "text": [
      "[3, 85, 81, 84, 9, 72, 5, 47, 100, 69, 70, 65, 50, 86, 47, 33, 85, 37, 43, 48, 75, 4, 24, 6, 16, 80, 63, 62, 6, 90]\n"
     ]
    }
   ],
   "source": [
    "import random\n",
    "\n",
    "ran_number=[]\n",
    "for i in range(30):\n",
    "    num=random.randint(1,100)\n",
    "    ran_number.append(num)\n",
    "print(ran_number)"
   ]
  },
  {
   "cell_type": "markdown",
   "metadata": {},
   "source": [
    "(৪) A = {1, 2, 3, 4, 5} ও B = {5, 6, 7, 8} দুটি সেট। union() ও intersection() ফাংশন (আসলে মেথড) ব্যবহার না করে তাদের ইউনিয়ন ও ইন্টারসেকশন সেট C বের করতে হবে।"
   ]
  },
  {
   "cell_type": "code",
   "execution_count": 197,
   "metadata": {},
   "outputs": [
    {
     "name": "stdout",
     "output_type": "stream",
     "text": [
      "The union of A & B is c = {1, 2, 3, 4, 5, 6, 7, 8}\n"
     ]
    }
   ],
   "source": [
    "A = {1, 2, 3, 4, 5}\n",
    "B = {5, 6, 7, 8}\n",
    "c = A\n",
    "\n",
    "for i in B:\n",
    "    c.add(i)\n",
    "print(\"The union of A & B is c =\", c)  \n"
   ]
  },
  {
   "cell_type": "code",
   "execution_count": 196,
   "metadata": {},
   "outputs": [
    {
     "name": "stdout",
     "output_type": "stream",
     "text": [
      "The intersection of A & B is c= {5}\n"
     ]
    }
   ],
   "source": [
    "A = {1, 2, 3, 4, 5}\n",
    "B = {5, 6, 7, 8}\n",
    "D=[]\n",
    "for i in A:\n",
    "    for j in B:\n",
    "        if (i==j):\n",
    "            D.append(i)\n",
    "print(\"The intersection of A & B is c=\",set(D))            \n",
    " \n",
    "                       "
   ]
  },
  {
   "cell_type": "code",
   "execution_count": 206,
   "metadata": {},
   "outputs": [
    {
     "name": "stdout",
     "output_type": "stream",
     "text": [
      "The union of A & B is c = {1, 2, 3, 4, 5, 6, 7, 8}\n",
      "The intersection of A & B is c= {1, 2, 5, 7, 8}\n"
     ]
    }
   ],
   "source": [
    "A = {1, 2, 3, 4, 5,7,8}\n",
    "B = {5, 6, 7, 8,1,2}\n",
    "c = []\n",
    "\n",
    "for i in B:\n",
    "    if i not in A:\n",
    "        c.append(i)\n",
    "for j in A:\n",
    "    #if j not in B:\n",
    "        c.append(j)\n",
    "        \n",
    "print(\"The union of A & B is c =\", set(c))  \n",
    "\n",
    "\n",
    "D=[]\n",
    "for i in A:\n",
    "    for j in B:\n",
    "        if (i==j):\n",
    "            D.append(i)\n",
    "print(\"The intersection of A & B is c=\",set(D))    "
   ]
  },
  {
   "cell_type": "markdown",
   "metadata": {},
   "source": [
    "List Comprehension"
   ]
  },
  {
   "cell_type": "code",
   "execution_count": 208,
   "metadata": {},
   "outputs": [
    {
     "data": {
      "text/plain": [
       "[4, 16, 36, 64, 100, 144, 196, 256, 324]"
      ]
     },
     "execution_count": 208,
     "metadata": {},
     "output_type": "execute_result"
    }
   ],
   "source": [
    "my_list=[i**2 for i in range(1,20) if i%2 == 0]\n",
    "my_list"
   ]
  },
  {
   "cell_type": "code",
   "execution_count": 210,
   "metadata": {},
   "outputs": [
    {
     "data": {
      "text/plain": [
       "[4, 16, 36, 64, 100, 144, 196, 256, 324]"
      ]
     },
     "execution_count": 210,
     "metadata": {},
     "output_type": "execute_result"
    }
   ],
   "source": [
    "my_list=[]\n",
    "for i in range(1,20):\n",
    "    if i%2 == 0:\n",
    "        my_list.append(i**2)\n",
    "        \n",
    "my_list        "
   ]
  },
  {
   "cell_type": "code",
   "execution_count": 213,
   "metadata": {},
   "outputs": [
    {
     "name": "stdout",
     "output_type": "stream",
     "text": [
      "{1, 3, 5, 7, 9, 11, 13, 15, 17, 19, 21, 23, 25, 27, 29, 31, 33, 35, 37, 39, 41, 43, 45, 47, 49} "
     ]
    }
   ],
   "source": [
    "#Set Comprehension\n",
    "a_list=[1,2,4,5,6,8,9,23,22,24,25]\n",
    "my_set={i for i in range(1,50) if i%2 !=0}\n",
    "print(my_set, end=\" \")\n"
   ]
  },
  {
   "cell_type": "code",
   "execution_count": null,
   "metadata": {},
   "outputs": [],
   "source": []
  }
 ],
 "metadata": {
  "kernelspec": {
   "display_name": "Python 3",
   "language": "python",
   "name": "python3"
  },
  "language_info": {
   "codemirror_mode": {
    "name": "ipython",
    "version": 3
   },
   "file_extension": ".py",
   "mimetype": "text/x-python",
   "name": "python",
   "nbconvert_exporter": "python",
   "pygments_lexer": "ipython3",
   "version": "3.8.5"
  }
 },
 "nbformat": 4,
 "nbformat_minor": 4
}
