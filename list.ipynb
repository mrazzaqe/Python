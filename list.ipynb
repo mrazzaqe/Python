{
 "cells": [
  {
   "cell_type": "code",
   "execution_count": 1,
   "metadata": {},
   "outputs": [
    {
     "name": "stdout",
     "output_type": "stream",
     "text": [
      "The sum of list is: 44\n"
     ]
    }
   ],
   "source": [
    "#1. Write a Python program to sum all the items in a list.\n",
    "\n",
    "list1 =[2,3,4,5,6,7,8,9]\n",
    "sum = 0\n",
    "for i in list1:\n",
    "    sum = sum +i\n",
    "print(\"The sum of list is:\", sum)    "
   ]
  },
  {
   "cell_type": "code",
   "execution_count": 7,
   "metadata": {},
   "outputs": [
    {
     "name": "stdout",
     "output_type": "stream",
     "text": [
      "54\n"
     ]
    }
   ],
   "source": [
    "def sum_list(items):\n",
    "    sum_items = 0\n",
    "    for i in items:\n",
    "        sum_items += i\n",
    "    return sum_items\n",
    "print(sum_list([2,3,4,5,6,7,8,9,10]))        \n",
    "\n"
   ]
  },
  {
   "cell_type": "code",
   "execution_count": 8,
   "metadata": {},
   "outputs": [
    {
     "name": "stdout",
     "output_type": "stream",
     "text": [
      "24\n"
     ]
    }
   ],
   "source": [
    "#2. Write a Python program to multiply all the items in a list.\n",
    "def mul_list(items):\n",
    "    mul =1\n",
    "    for i in items:\n",
    "        mul *= i\n",
    "    return mul\n",
    "print(mul_list([2,3,4]))    \n",
    "         \n"
   ]
  },
  {
   "cell_type": "code",
   "execution_count": 10,
   "metadata": {},
   "outputs": [
    {
     "name": "stdout",
     "output_type": "stream",
     "text": [
      "The Multipling of all items in a list is: 24\n"
     ]
    }
   ],
   "source": [
    "list_m = [2,3,4]\n",
    "\n",
    "mul = 1\n",
    "for i in list_m:\n",
    "    mul *= i\n",
    "print(\"The Multipling of all items in a list is:\", mul)    "
   ]
  },
  {
   "cell_type": "code",
   "execution_count": 17,
   "metadata": {},
   "outputs": [
    {
     "name": "stdout",
     "output_type": "stream",
     "text": [
      "67\n"
     ]
    }
   ],
   "source": [
    "#3. Write a Python program to get the largest number from a list.\n",
    "def max_list(items):\n",
    "\n",
    "    max = items[0]\n",
    "    for a in items:\n",
    "        if a > max:\n",
    "            max = a\n",
    "    return max\n",
    "print(max_list([2, 7, 8, 23, 45, 67]))            "
   ]
  },
  {
   "cell_type": "code",
   "execution_count": 20,
   "metadata": {},
   "outputs": [
    {
     "name": "stdout",
     "output_type": "stream",
     "text": [
      "The largest number in a list is: 321\n"
     ]
    }
   ],
   "source": [
    "list1 = [2,34,56,76,87,98,321]\n",
    "max = list1[0]\n",
    "for x in list1:\n",
    "    if x > max:\n",
    "        max = x\n",
    "print(\"The largest number in a list is:\", max)        \n"
   ]
  },
  {
   "cell_type": "code",
   "execution_count": 21,
   "metadata": {},
   "outputs": [
    {
     "name": "stdout",
     "output_type": "stream",
     "text": [
      "The smallest number in list is: 3\n"
     ]
    }
   ],
   "source": [
    "#4. Write a Python program to get the smallest number from a list.\n",
    "list2 = [3,12,45,34,56,78,54]\n",
    "\n",
    "min = list2[0]\n",
    "for x in list2:\n",
    "    if x < min:\n",
    "        min = x\n",
    "print(\"The smallest number in list is:\", min)\n"
   ]
  },
  {
   "cell_type": "code",
   "execution_count": 22,
   "metadata": {},
   "outputs": [
    {
     "name": "stdout",
     "output_type": "stream",
     "text": [
      "3\n"
     ]
    }
   ],
   "source": [
    "def min_list(items):\n",
    "    min = items[0]\n",
    "    for x in items:\n",
    "        if x < min:\n",
    "            min = x\n",
    "    return min\n",
    "print(min_list([4,3,56,45,76,87,98]))            "
   ]
  }
 ],
 "metadata": {
  "interpreter": {
   "hash": "e753af4684f2c7650636e9fffdd6713faf1cc2bf488ab99a61a658f965dcfd17"
  },
  "kernelspec": {
   "display_name": "Python 3.10.0 64-bit (windows store)",
   "language": "python",
   "name": "python3"
  },
  "language_info": {
   "codemirror_mode": {
    "name": "ipython",
    "version": 3
   },
   "file_extension": ".py",
   "mimetype": "text/x-python",
   "name": "python",
   "nbconvert_exporter": "python",
   "pygments_lexer": "ipython3",
   "version": "3.10.0"
  },
  "orig_nbformat": 4
 },
 "nbformat": 4,
 "nbformat_minor": 2
}
