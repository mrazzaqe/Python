{
 "cells": [
  {
   "cell_type": "code",
   "execution_count": 1,
   "metadata": {},
   "outputs": [
    {
     "name": "stdout",
     "output_type": "stream",
     "text": [
      "Twinkle, twinkle, little star,\n",
      "\t\t How I wonder what you are!\n",
      "\t\t\t Up above the world so high,\n",
      "\t\t\t Like a diamond in the sky.\n",
      " Twinkle, twinkle, little star,\n",
      "\t\t How I wonder what you are\n"
     ]
    }
   ],
   "source": [
    "#\n",
    "print(\"Twinkle, twinkle, little star,\\n\\t\\t How I wonder what you are!\\n\\t\\t\\t Up above the world so high,\\n\\t\\t\\t Like a diamond in the sky.\\n Twinkle, twinkle, little star,\\n\\t\\t How I wonder what you are\")\n"
   ]
  },
  {
   "cell_type": "code",
   "execution_count": 2,
   "metadata": {},
   "outputs": [
    {
     "name": "stdout",
     "output_type": "stream",
     "text": [
      "Python Version:\n",
      "3.8.5 (default, Sep  3 2020, 21:29:08) [MSC v.1916 64 bit (AMD64)]\n"
     ]
    }
   ],
   "source": [
    "# Write a Python program to get the Python version(way-1)\n",
    "import sys\n",
    "print(\"Python Version:\")\n",
    "print(sys.version)\n"
   ]
  },
  {
   "cell_type": "code",
   "execution_count": 4,
   "metadata": {},
   "outputs": [
    {
     "name": "stdout",
     "output_type": "stream",
     "text": [
      "Python Version:\n",
      "3.8.5\n"
     ]
    }
   ],
   "source": [
    "# Write a Python program to get the Python version(way-2)\n",
    "import platform\n",
    "print(\"Python Version:\")\n",
    "print(platform.python_version())\n"
   ]
  },
  {
   "cell_type": "code",
   "execution_count": 5,
   "metadata": {},
   "outputs": [
    {
     "name": "stdout",
     "output_type": "stream",
     "text": [
      "Current Date and Time:\n",
      "2021-11-05 19:20:59\n"
     ]
    }
   ],
   "source": [
    "# 3. Write a Python program to display the current date and time.\n",
    "import datetime\n",
    "now = datetime.datetime.now()\n",
    "print(\"Current Date and Time:\")\n",
    "print(now.strftime(\"%Y-%m-%d %H:%M:%S\"))\n"
   ]
  },
  {
   "cell_type": "code",
   "execution_count": 1,
   "metadata": {},
   "outputs": [
    {
     "name": "stdout",
     "output_type": "stream",
     "text": [
      "The Area of circle is: 78.53750000000001\n"
     ]
    }
   ],
   "source": [
    "# 4. Write a Python program which accepts the radius of a circle from the user and compute the area.\n",
    "radius = float(input(\"Enter Radius:\"))\n",
    "pi = 3.1415\n",
    "area = str(pi * radius**2)\n",
    "print(\"The Area of circle is:\", area)\n"
   ]
  },
  {
   "cell_type": "code",
   "execution_count": 14,
   "metadata": {},
   "outputs": [
    {
     "name": "stdout",
     "output_type": "stream",
     "text": [
      "Razzaqe Abdur\n"
     ]
    }
   ],
   "source": [
    "# 5. Write a Python program which accepts the user's first and last name and print them in reverse order with a space between them\n",
    "Fname = input(\"Enter your First Name:\")\n",
    "Lname = input(\"Enter your last Name:\")\n",
    "\n",
    "print(Lname+\" \"+Fname)\n"
   ]
  },
  {
   "cell_type": "code",
   "execution_count": 13,
   "metadata": {},
   "outputs": [
    {
     "name": "stdout",
     "output_type": "stream",
     "text": [
      "List :  ['1', '2', '3', '4', '5']\n"
     ]
    }
   ],
   "source": [
    "# 6. Write a Python program which accepts a sequence of comma-separated numbers from user and generate a list and a tuple with those numbers.\n",
    "values = input(\"Input some comma seprated numbers : \")\n",
    "list = values.split(\",\")\n",
    "#tuple = tuple(list)\n",
    "print('List : ', list)\n",
    "#print('Tuple : ', tuple)\n"
   ]
  },
  {
   "cell_type": "code",
   "execution_count": 14,
   "metadata": {},
   "outputs": [
    {
     "ename": "TypeError",
     "evalue": "'tuple' object is not callable",
     "output_type": "error",
     "traceback": [
      "\u001b[1;31m---------------------------------------------------------------------------\u001b[0m",
      "\u001b[1;31mTypeError\u001b[0m                                 Traceback (most recent call last)",
      "\u001b[1;32m<ipython-input-14-821a7306ae78>\u001b[0m in \u001b[0;36m<module>\u001b[1;34m\u001b[0m\n\u001b[1;32m----> 1\u001b[1;33m \u001b[0mtuple\u001b[0m\u001b[1;33m(\u001b[0m\u001b[0mlist\u001b[0m\u001b[1;33m)\u001b[0m\u001b[1;33m\u001b[0m\u001b[1;33m\u001b[0m\u001b[0m\n\u001b[0m",
      "\u001b[1;31mTypeError\u001b[0m: 'tuple' object is not callable"
     ]
    }
   ],
   "source": [
    "tuple(list)\n"
   ]
  },
  {
   "cell_type": "code",
   "execution_count": 15,
   "metadata": {},
   "outputs": [
    {
     "name": "stdout",
     "output_type": "stream",
     "text": [
      "The file extension is: py\n",
      "\n"
     ]
    }
   ],
   "source": [
    "# 7. Write a Python program to accept a filename from the user and print the extension of that.\n",
    "\n",
    "filename = input(\"Enter the file name with extension:\")\n",
    "f_extns = filename.split(\".\")\n",
    "\n",
    "print(\"The file extension is:\", f_extns[-1])\n",
    "\n",
    "print()\n"
   ]
  },
  {
   "cell_type": "code",
   "execution_count": 37,
   "metadata": {},
   "outputs": [
    {
     "name": "stdout",
     "output_type": "stream",
     "text": [
      "First Color:Red\n",
      "Last color:Black\n"
     ]
    }
   ],
   "source": [
    "# 8. Write a Python program to display the first and last colors from the following list.\n",
    "color_list = [\"Red\", \"Green\", \"White\", \"Black\"]\n",
    "print(f'First Color:{color_list[0]}\\nLast color:{color_list[-1]}')\n"
   ]
  },
  {
   "cell_type": "code",
   "execution_count": null,
   "metadata": {},
   "outputs": [],
   "source": [
    "# 9. Write a Python program to display the examination schedule. (extract the date from exam_st_date).\n"
   ]
  },
  {
   "cell_type": "code",
   "execution_count": 16,
   "metadata": {},
   "outputs": [
    {
     "name": "stdout",
     "output_type": "stream",
     "text": [
      "The value of n+nn+nnn is: 615\n"
     ]
    }
   ],
   "source": [
    "# 10. Write a Python program that accepts an integer (n) and computes the value of n+nn+nnn.\n",
    "n = input(\"Enter a number:\")\n",
    "n1 = int(\"%s\" % n)\n",
    "n2 = int(\"%s%s\" % (n, n))\n",
    "n3 = int(\"%s%s%s\" % (n, n, n))\n",
    "print(\"The value of n+nn+nnn is:\", (n1+n2+n3))\n"
   ]
  },
  {
   "cell_type": "code",
   "execution_count": 22,
   "metadata": {},
   "outputs": [
    {
     "name": "stdout",
     "output_type": "stream",
     "text": [
      "Return the absolute value of the argument.\n"
     ]
    }
   ],
   "source": [
    "# 11. Write a Python program to print the documents (syntax, description etc.) of Python built-in function(s).\n",
    "print(abs.__doc__)\n"
   ]
  },
  {
   "cell_type": "code",
   "execution_count": 31,
   "metadata": {},
   "outputs": [
    {
     "name": "stdout",
     "output_type": "stream",
     "text": [
      "     July 2012\n",
      "Mo Tu We Th Fr Sa Su\n",
      "                   1\n",
      " 2  3  4  5  6  7  8\n",
      " 9 10 11 12 13 14 15\n",
      "16 17 18 19 20 21 22\n",
      "23 24 25 26 27 28 29\n",
      "30 31\n",
      "\n"
     ]
    }
   ],
   "source": [
    "# 12. Write a Python program to print the calendar of a given month and year.\n",
    "import calendar\n",
    "y = int(input(\"Enter the year:\"))\n",
    "m = int(input(\"Enter the month:\"))\n",
    "\n",
    "print(calendar.month(y, m))\n"
   ]
  },
  {
   "cell_type": "code",
   "execution_count": 2,
   "metadata": {},
   "outputs": [
    {
     "name": "stdout",
     "output_type": "stream",
     "text": [
      "\n",
      "a string that you \"don't\" have to escape\n",
      "This\n",
      "is a ....... multi-line\n",
      "heredoc string --------> example\n"
     ]
    }
   ],
   "source": [
    "# 13. Write a Python program to print the following 'here document'.\n",
    "# Sample string :\n",
    "# a string that you \"don't\" have to escape\n",
    "# This\n",
    "# is a ....... multi-line\n",
    "# heredoc string --------> example\n",
    "\n",
    "print(\"\"\"\n",
    "a string that you \"don't\" have to escape\n",
    "This\n",
    "is a ....... multi-line\n",
    "heredoc string --------> example\"\"\")\n"
   ]
  },
  {
   "cell_type": "code",
   "execution_count": 8,
   "metadata": {},
   "outputs": [
    {
     "name": "stdout",
     "output_type": "stream",
     "text": [
      "9 days\n"
     ]
    }
   ],
   "source": [
    "# 14. Write a Python program to calculate number of days between two dates. Sample dates : (2014, 7, 2), (2014, 7, 11), Expected output : 9 days\n",
    "from datetime import date\n",
    "\n",
    "fdate = date(2014, 7, 2)\n",
    "ldate = date(2014, 7, 11)\n",
    "\n",
    "delta = ldate - fdate\n",
    "print(delta.days, \"days\")\n"
   ]
  },
  {
   "cell_type": "code",
   "execution_count": 10,
   "metadata": {},
   "outputs": [
    {
     "name": "stdout",
     "output_type": "stream",
     "text": [
      "The volume of the sphere is : V = 904.7779199999999\n"
     ]
    }
   ],
   "source": [
    "# 15. Write a Python program to get the volume of a sphere with radius 6. The volume of the sphere is : V = 4/3 × π × r3\n",
    "pi = 3.14159\n",
    "r = 6\n",
    "V = (4/3)*pi*r**3\n",
    "print(\"The volume of the sphere is : V =\", V)\n"
   ]
  },
  {
   "cell_type": "code",
   "execution_count": 16,
   "metadata": {},
   "outputs": [
    {
     "name": "stdout",
     "output_type": "stream",
     "text": [
      "3\n"
     ]
    }
   ],
   "source": [
    "# 16. Write a Python program to get the difference between a given number and 17, if the number is\n",
    "# greater than 17 return double the absolute difference.\n",
    "\n",
    "num = int(input(\"Enter a number:\"))\n",
    "\n",
    "\n",
    "def difference(num):\n",
    "    if num <= 17:\n",
    "        return 17 - num\n",
    "    else:\n",
    "        return (num-17)*2\n",
    "\n",
    "\n",
    "print(difference(num))\n"
   ]
  },
  {
   "cell_type": "code",
   "execution_count": 2,
   "metadata": {},
   "outputs": [
    {
     "name": "stdout",
     "output_type": "stream",
     "text": [
      "12\n"
     ]
    }
   ],
   "source": [
    "n = int(input(\"Enter a number:\"))\n",
    "if n >= 17:\n",
    "    n1 = (n-17)*2\n",
    "    print(n1)\n",
    "else:\n",
    "    n1 = 17-n\n",
    "    print(n1)\n"
   ]
  },
  {
   "cell_type": "code",
   "execution_count": 9,
   "metadata": {},
   "outputs": [
    {
     "name": "stdout",
     "output_type": "stream",
     "text": [
      "Num: 2200\n",
      "False\n"
     ]
    }
   ],
   "source": [
    "# 17. Write a Python program to test whether a number is within 100 of 1000 or 2000.\n",
    "num3 = int(input(\"Enter a number:\"))\n",
    "print(\"Num:\", num3)\n",
    "if ((abs(1000-num3) <= 100) or (abs(2000-n) <= 100)):\n",
    "    print(\"True\")\n",
    "else:\n",
    "    print(\"False\")\n"
   ]
  },
  {
   "cell_type": "code",
   "execution_count": 11,
   "metadata": {},
   "outputs": [
    {
     "name": "stdout",
     "output_type": "stream",
     "text": [
      "The Sum of three numbers are: 12\n"
     ]
    }
   ],
   "source": [
    "# 18. Write a Python program to calculate the sum of three given numbers, if the values are equal then return three times of their sum.\n",
    "n1 = int(input(\"Enter 1st Number:\"))\n",
    "n2 = int(input(\"Enter 2nd Number:\"))\n",
    "n3 = int(input(\"Enter 3rd Number:\"))\n",
    "sum = n1+n2+n3\n",
    "print(\"The Sum of three numbers are:\", sum)\n",
    "if n1 == n2 == n3:\n",
    "    print(\"Three time of their result is:\", sum**3)\n"
   ]
  },
  {
   "cell_type": "code",
   "execution_count": 15,
   "metadata": {},
   "outputs": [
    {
     "name": "stdout",
     "output_type": "stream",
     "text": [
      "Isempty\n"
     ]
    }
   ],
   "source": [
    "# 19. Write a Python program to get a new string from a given string where \"Is\" has been added to the front.\n",
    "# If the given string already begins with \"Is\" then return the string unchanged.\n",
    "String = input(\"Enter a string:\")\n",
    "\n",
    "if (len(String) >= 2 and String[:2] == \"Is\"):\n",
    "    print(String)\n",
    "else:\n",
    "    print(\"Is\"+String)\n"
   ]
  },
  {
   "cell_type": "code",
   "execution_count": 27,
   "metadata": {},
   "outputs": [
    {
     "name": "stdout",
     "output_type": "stream",
     "text": [
      "abcabc\n",
      ".py.py.py\n"
     ]
    }
   ],
   "source": [
    "# 20. Write a Python program to get a string which is n (non-negative integer) copies of a given string.\n",
    "\n",
    "def large_string(str, n):\n",
    "    result = \"\"\n",
    "    for i in range(n):\n",
    "        result = result + str\n",
    "    return result\n",
    "\n",
    "\n",
    "print(large_string('abc', 2))\n",
    "print(large_string('.py', 3))\n"
   ]
  },
  {
   "cell_type": "code",
   "execution_count": 30,
   "metadata": {},
   "outputs": [
    {
     "name": "stdout",
     "output_type": "stream",
     "text": [
      "15 is a odd number\n"
     ]
    }
   ],
   "source": [
    "# 21. Write a Python program to find whether a given number (accept from the user) is even or odd,\n",
    "# print out an appropriate message to the user.\n",
    "\n",
    "num = int(input(\"Enter a number:\"))\n",
    "\n",
    "if num % 2 == 0:\n",
    "    print(num, \"is an even number\")\n",
    "else:\n",
    "    print(num, \"is a odd number\")\n"
   ]
  },
  {
   "cell_type": "code",
   "execution_count": 31,
   "metadata": {},
   "outputs": [
    {
     "data": {
      "text/plain": [
       "3"
      ]
     },
     "execution_count": 31,
     "metadata": {},
     "output_type": "execute_result"
    }
   ],
   "source": [
    "# 22. Write a Python program to count the number 4 in a given list.\n",
    "\n",
    "list = [1, 3, 4, 4, 5, 4, 3, 5, 6, 7]\n",
    "list.count(4)\n"
   ]
  },
  {
   "cell_type": "code",
   "execution_count": 41,
   "metadata": {},
   "outputs": [
    {
     "name": "stdout",
     "output_type": "stream",
     "text": [
      "5\n"
     ]
    }
   ],
   "source": [
    "def list_count(nums):\n",
    "    count = 0\n",
    "\n",
    "    for num in nums:\n",
    "        if num == 4:\n",
    "            count = count + 1\n",
    "    return count\n",
    "\n",
    "\n",
    "print(list_count([1, 2, 4, 5, 4, 5, 4, 3, 4, 4, 6]))\n"
   ]
  },
  {
   "cell_type": "code",
   "execution_count": null,
   "metadata": {},
   "outputs": [],
   "source": [
    "#23. Write a Python program to get the n (non-negative integer) copies of the first 2 characters of a given string.\n",
    "#  Return the n copies of the whole string if the length is less than 2.\n",
    "\n",
    "def given_string(str, n):\n",
    "    result = \"\"\n",
    "    if i in "
   ]
  }
 ],
 "metadata": {
  "interpreter": {
   "hash": "e753af4684f2c7650636e9fffdd6713faf1cc2bf488ab99a61a658f965dcfd17"
  },
  "kernelspec": {
   "display_name": "Python 3.10.0 64-bit (windows store)",
   "language": "python",
   "name": "python3"
  },
  "language_info": {
   "codemirror_mode": {
    "name": "ipython",
    "version": 3
   },
   "file_extension": ".py",
   "mimetype": "text/x-python",
   "name": "python",
   "nbconvert_exporter": "python",
   "pygments_lexer": "ipython3",
   "version": "3.8.5"
  },
  "orig_nbformat": 4
 },
 "nbformat": 4,
 "nbformat_minor": 2
}
