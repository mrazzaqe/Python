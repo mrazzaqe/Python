{
 "cells": [
  {
   "cell_type": "code",
   "execution_count": 1,
   "metadata": {},
   "outputs": [],
   "source": [
    "# Function\n",
    "def evens():\n",
    "    e = []\n",
    "    for num in range(10):\n",
    "        if num%2 == 0:\n",
    "            e.append(num**2)\n",
    "    return e"
   ]
  },
  {
   "cell_type": "code",
   "execution_count": 2,
   "metadata": {},
   "outputs": [
    {
     "name": "stdout",
     "output_type": "stream",
     "text": [
      "[0, 4, 16, 36, 64]\n"
     ]
    }
   ],
   "source": [
    "ev = evens()\n",
    "print(ev)"
   ]
  },
  {
   "cell_type": "code",
   "execution_count": 3,
   "metadata": {},
   "outputs": [],
   "source": [
    "# Function with args\n",
    "def evens(start, stop):\n",
    "    e = []\n",
    "    for num in range(start, stop+1):\n",
    "        if num%2 == 0:\n",
    "            e.append(num**2)\n",
    "    return e"
   ]
  },
  {
   "cell_type": "code",
   "execution_count": 4,
   "metadata": {},
   "outputs": [
    {
     "name": "stdout",
     "output_type": "stream",
     "text": [
      "[100, 144, 196, 256, 324, 400]\n"
     ]
    }
   ],
   "source": [
    "ev = evens(10, 20)\n",
    "print(ev)"
   ]
  },
  {
   "cell_type": "code",
   "execution_count": 5,
   "metadata": {},
   "outputs": [
    {
     "name": "stdout",
     "output_type": "stream",
     "text": [
      "[1, 2, 3, 4, 5, 6, 9, 10, 12, 23, 65]\n",
      "None\n"
     ]
    }
   ],
   "source": [
    "# Task 7\n",
    "# Takes Unlimited length of numbers\n",
    "# Create a function to sort numbers in ascending order\n",
    "\n",
    "def sort_asecen(x):\n",
    "    for i in range(0, len(x)):\n",
    "        min_idex = i\n",
    "        for j in range(i+1, len(x)):\n",
    "            if x[min_idex] > x[j]:\n",
    "                min_idex = j\n",
    "        x[i], x[min_idex] =x[min_idex], x[i] \n",
    "    print(x)    \n",
    "\n",
    "print(sort_asecen(x=[1,2,10,23,4,3,12,65,5,9,6]))"
   ]
  }
 ],
 "metadata": {
  "interpreter": {
   "hash": "955b5dbf1c9568fcdca6427b82ed9dd3b5652756bab72d537c2112a7dd2607f3"
  },
  "kernelspec": {
   "display_name": "Python 3.10.0 64-bit",
   "language": "python",
   "name": "python3"
  },
  "language_info": {
   "codemirror_mode": {
    "name": "ipython",
    "version": 3
   },
   "file_extension": ".py",
   "mimetype": "text/x-python",
   "name": "python",
   "nbconvert_exporter": "python",
   "pygments_lexer": "ipython3",
   "version": "3.10.0"
  },
  "orig_nbformat": 4
 },
 "nbformat": 4,
 "nbformat_minor": 2
}
