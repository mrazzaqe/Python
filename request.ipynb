{
 "cells": [
  {
   "cell_type": "code",
   "execution_count": null,
   "metadata": {},
   "outputs": [],
   "source": [
    "import os\n",
    "\n",
    "os.mkdir(\"picture\")\n"
   ]
  },
  {
   "cell_type": "code",
   "execution_count": 45,
   "metadata": {},
   "outputs": [
    {
     "data": {
      "text/plain": [
       "'d:\\\\MLDS with Python\\\\Python'"
      ]
     },
     "execution_count": 45,
     "metadata": {},
     "output_type": "execute_result"
    }
   ],
   "source": [
    "os.getcwd()"
   ]
  },
  {
   "cell_type": "code",
   "execution_count": 44,
   "metadata": {},
   "outputs": [],
   "source": [
    "os.chdir(r'd:\\\\MLDS with Python\\\\Python\\\\')"
   ]
  },
  {
   "cell_type": "code",
   "execution_count": null,
   "metadata": {},
   "outputs": [],
   "source": [
    "import requests\n",
    "from bs4 import BeautifulSoup\n",
    "requests.__version__"
   ]
  },
  {
   "cell_type": "code",
   "execution_count": null,
   "metadata": {},
   "outputs": [],
   "source": [
    "#send the get request\n",
    "url =\"https://www.techgeekbuzz.com/\"\n",
    "source = requests.get(url)\n",
    "print(source)"
   ]
  },
  {
   "cell_type": "code",
   "execution_count": null,
   "metadata": {},
   "outputs": [],
   "source": [
    "\n",
    "html_page = BeautifulSoup(source.text,'html.parser' )\n",
    "images = html_page.find_all(\"img\")\n",
    "\n",
    "for index, image in enumerate(images):\n",
    "    #img src value\n",
    "    image_url = image.get(\"src\")\n",
    "    #print(image_url)\n",
    "    #get image extension\n",
    "    image_extension= image_url.split(\".\")[-1]\n",
    "    #print(image_extension)\n",
    "    #get the image data\n",
    "    image_byte = requests.get(image_url).content\n",
    "    #print(image_byte)\n",
    "    if image_byte:\n",
    "        with open(f\"Image {index+1}.{image_extension}\",\"wb\") as file:\n",
    "            file.write(image_byte)"
   ]
  },
  {
   "cell_type": "code",
   "execution_count": 46,
   "metadata": {},
   "outputs": [],
   "source": [
    "import os\n",
    "#os.rmdir(\"picture\")"
   ]
  },
  {
   "cell_type": "code",
   "execution_count": 47,
   "metadata": {},
   "outputs": [],
   "source": [
    "#Create folder\n",
    "os.mkdir(\"Picture\")"
   ]
  },
  {
   "cell_type": "code",
   "execution_count": 50,
   "metadata": {},
   "outputs": [
    {
     "data": {
      "text/plain": [
       "'d:\\\\MLDS with Python\\\\Python\\\\Picture'"
      ]
     },
     "execution_count": 50,
     "metadata": {},
     "output_type": "execute_result"
    }
   ],
   "source": [
    "os.getcwd()"
   ]
  },
  {
   "cell_type": "code",
   "execution_count": 49,
   "metadata": {},
   "outputs": [],
   "source": [
    "os.chdir(r'd:\\\\MLDS with Python\\\\Python\\\\Picture')"
   ]
  },
  {
   "cell_type": "code",
   "execution_count": 51,
   "metadata": {},
   "outputs": [],
   "source": [
    "import requests\n",
    "from bs4 import BeautifulSoup"
   ]
  },
  {
   "cell_type": "code",
   "execution_count": 77,
   "metadata": {},
   "outputs": [
    {
     "data": {
      "text/plain": [
       "<Response [200]>"
      ]
     },
     "execution_count": 77,
     "metadata": {},
     "output_type": "execute_result"
    }
   ],
   "source": [
    "url =\"https://gonouniversity.edu.bd/pharmacy/gallery/\"\n",
    "response = requests.get(url)\n",
    "response"
   ]
  },
  {
   "cell_type": "code",
   "execution_count": 76,
   "metadata": {},
   "outputs": [],
   "source": [
    "html_page = BeautifulSoup(response.text, 'html.parser')\n",
    "images = html_page.find_all(\"img\")\n",
    "\n",
    "for index, image in enumerate(images):\n",
    "    image_url =image.get(\"src\")\n",
    "    image_extension = image_url.split(\".\")[-1]\n",
    "    image_byte =requests.get(image_url).content\n",
    "    if image_byte:\n",
    "        with open(f\"Image {index+1}.{image_extension}\", \"wb\") as file:\n",
    "            file.write(image_byte)"
   ]
  }
 ],
 "metadata": {
  "interpreter": {
   "hash": "955b5dbf1c9568fcdca6427b82ed9dd3b5652756bab72d537c2112a7dd2607f3"
  },
  "kernelspec": {
   "display_name": "Python 3.10.0 64-bit",
   "language": "python",
   "name": "python3"
  },
  "language_info": {
   "codemirror_mode": {
    "name": "ipython",
    "version": 3
   },
   "file_extension": ".py",
   "mimetype": "text/x-python",
   "name": "python",
   "nbconvert_exporter": "python",
   "pygments_lexer": "ipython3",
   "version": "3.10.0"
  },
  "orig_nbformat": 4
 },
 "nbformat": 4,
 "nbformat_minor": 2
}
