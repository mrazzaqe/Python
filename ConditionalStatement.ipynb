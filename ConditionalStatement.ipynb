{
 "cells": [
  {
   "cell_type": "code",
   "execution_count": 7,
   "metadata": {},
   "outputs": [
    {
     "name": "stdout",
     "output_type": "stream",
     "text": [
      "0\n"
     ]
    }
   ],
   "source": [
    "#Check if a Number is Positive, Negative or 0\n",
    "\n",
    "num = int(input(\"Enter a number:\"))\n",
    "if num > 0:\n",
    "    print(num,\"is a positive number.\")\n",
    "elif num < 0:\n",
    "    print(num, \"is a negative number.\")\n",
    "else:\n",
    "    print(num,)        "
   ]
  },
  {
   "cell_type": "code",
   "execution_count": 11,
   "metadata": {},
   "outputs": [
    {
     "name": "stdout",
     "output_type": "stream",
     "text": [
      "99 is a odd number.\n"
     ]
    }
   ],
   "source": [
    "#Python Program Check if a Number is Odd or Even\n",
    "num1 = int(input(\"Enter a number:\"))\n",
    "\n",
    "if num1%2 == 0:\n",
    "    print(num1,\"is a even number.\")\n",
    "else:\n",
    "    print(num1, \"is a odd number.\")    "
   ]
  },
  {
   "cell_type": "code",
   "execution_count": 21,
   "metadata": {},
   "outputs": [
    {
     "name": "stdout",
     "output_type": "stream",
     "text": [
      "2020 is a leap year.\n"
     ]
    }
   ],
   "source": [
    "#Python Program to Check Leap Year\n",
    "year = int(input(\"Enter a year:\"))\n",
    "\n",
    "if (year % 4) == 0:\n",
    "    if (year % 100) == 0:\n",
    "        if (year % 400) ==0:\n",
    "            print(year, \"is a leap year.\")\n",
    "        else:\n",
    "            print(year, \"is not a leap year.\")\n",
    "    else:\n",
    "        print(year, 'is a leap year.')\n",
    "else:\n",
    "    print(year, 'is not a leap year.')                    "
   ]
  },
  {
   "cell_type": "code",
   "execution_count": 24,
   "metadata": {},
   "outputs": [
    {
     "name": "stdout",
     "output_type": "stream",
     "text": [
      "Num1: 234 \n",
      "Num2: 456 \n",
      "Num3: 670\n",
      "670  is the largest among the three numbers.\n"
     ]
    }
   ],
   "source": [
    "#Python Program to Find the Largest Among Three Numbers\n",
    "num1 = int(input(\"Enter 1st Number:\"))\n",
    "num2 =int(input(\"Enter  2nd Number:\"))\n",
    "num3 = int(input(\"Enter 3rd Number:\"))\n",
    "print(\"Num1:\", num1 ,\"\\nNum2:\", num2, '\\nNum3:', num3)\n",
    "\n",
    "if (num1 > num2) and (num1 > num3):\n",
    "    print(num1, \" is the largest among three the numbers\")\n",
    "elif (num2 > num1) and (num2 > num3):\n",
    "    print(num3,\" is the largest among the  three numbers\")    \n",
    "else:\n",
    "    print(num3, \" is the largest among the three numbers.\")    \n"
   ]
  },
  {
   "cell_type": "code",
   "execution_count": null,
   "metadata": {},
   "outputs": [],
   "source": [
    "#Python Program to Check Prime Number\n"
   ]
  },
  {
   "cell_type": "code",
   "execution_count": 3,
   "metadata": {},
   "outputs": [
    {
     "name": "stdout",
     "output_type": "stream",
     "text": [
      "1505,1540,1575,1610,1645,1680,1715,1750,1785,1820,1855,1890,1925,1960,1995,2030,2065,2100,2135,2170,2205,2240,2275,2310,2345,2380,2415,2450,2485,2520,2555,2590,2625,2660,2695\n"
     ]
    }
   ],
   "source": [
    "#1. Write a Python program to find those numbers which are divisible by 7 and multiple of 5, between 1500 and 2700 (both included).\n",
    "\n",
    "number = []\n",
    "\n",
    "for n in range(1500, 2700):\n",
    "    if n%7 == 0 and n%5 == 0:\n",
    "        number.append(str(n))\n",
    "print(','.join(number))"
   ]
  },
  {
   "cell_type": "code",
   "execution_count": null,
   "metadata": {},
   "outputs": [
    {
     "ename": "Error",
     "evalue": "Session cannot generate requests",
     "output_type": "error",
     "traceback": [
      "Error: Session cannot generate requests",
      "at S.executeCodeCell (c:\\Users\\Abdur Razzaqe\\.vscode\\extensions\\ms-toolsai.jupyter-2021.10.1001414422\\out\\client\\extension.js:66:301742)",
      "at S.execute (c:\\Users\\Abdur Razzaqe\\.vscode\\extensions\\ms-toolsai.jupyter-2021.10.1001414422\\out\\client\\extension.js:66:300732)",
      "at S.start (c:\\Users\\Abdur Razzaqe\\.vscode\\extensions\\ms-toolsai.jupyter-2021.10.1001414422\\out\\client\\extension.js:66:296408)",
      "at runMicrotasks (<anonymous>)",
      "at processTicksAndRejections (internal/process/task_queues.js:93:5)",
      "at async t.CellExecutionQueue.executeQueuedCells (c:\\Users\\Abdur Razzaqe\\.vscode\\extensions\\ms-toolsai.jupyter-2021.10.1001414422\\out\\client\\extension.js:66:312326)",
      "at async t.CellExecutionQueue.start (c:\\Users\\Abdur Razzaqe\\.vscode\\extensions\\ms-toolsai.jupyter-2021.10.1001414422\\out\\client\\extension.js:66:311862)"
     ]
    }
   ],
   "source": [
    "#2. Write a Python program to convert temperatures to and from celsius, fahrenheit.\n",
    "# [ Formula : c/5 = f-32/9 [ where c = temperature in celsius and f = temperature in fahrenheit ]\n",
    "#Expected Output : 60°C is 140 in Fahrenheit and 45°F is 7 in Celsius\n",
    "\n",
    "Celsius =int(input(\"Enter a tempareture in celsius:\"))\n",
    "\n",
    "c = Celsius\n",
    "f =(c*(9/5)+32)\n",
    "print(c,\"°C is\",f,\"in Fahrenheit\")"
   ]
  }
 ],
 "metadata": {
  "interpreter": {
   "hash": "e753af4684f2c7650636e9fffdd6713faf1cc2bf488ab99a61a658f965dcfd17"
  },
  "kernelspec": {
   "display_name": "Python 3.10.0 64-bit (windows store)",
   "language": "python",
   "name": "python3"
  },
  "language_info": {
   "codemirror_mode": {
    "name": "ipython",
    "version": 3
   },
   "file_extension": ".py",
   "mimetype": "text/x-python",
   "name": "python",
   "nbconvert_exporter": "python",
   "pygments_lexer": "ipython3",
   "version": "3.10.0"
  },
  "orig_nbformat": 4
 },
 "nbformat": 4,
 "nbformat_minor": 2
}
