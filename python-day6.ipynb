{
 "cells": [
  {
   "cell_type": "code",
   "execution_count": 69,
   "metadata": {},
   "outputs": [
    {
     "name": "stdout",
     "output_type": "stream",
     "text": [
      "Welcome  sd 8 sd\n"
     ]
    }
   ],
   "source": [
    "fname = input('Enter First Name: ')\n",
    "lname = input('Enter Last Name: ')\n",
    "print('Welcome ',fname+8+lname )"
   ]
  },
  {
   "cell_type": "code",
   "execution_count": null,
   "metadata": {},
   "outputs": [],
   "source": [
    "## How To Provide Comments in Code"
   ]
  },
  {
   "cell_type": "code",
   "execution_count": null,
   "metadata": {},
   "outputs": [],
   "source": [
    "## Creating Storage or Variables\n",
    "Fname = 'Alexa'\n",
    "Fname, fname"
   ]
  },
  {
   "cell_type": "code",
   "execution_count": null,
   "metadata": {},
   "outputs": [],
   "source": [
    "## Type of Data or Variables\n",
    "name = 'Alexa'\n",
    "age = 23\n",
    "weight = 55.7\n",
    "married = False\n",
    "com = 1+3j\n",
    "type(name), type(age), type(weight), type(married), type(com)"
   ]
  },
  {
   "cell_type": "code",
   "execution_count": null,
   "metadata": {},
   "outputs": [],
   "source": [
    "## String Methods\n",
    "name = \"John Alley\"\n",
    "name*4\n",
    "name+'@'\n",
    "name.split()\n",
    "name.replace('l', 'Yaaa', 1)\n",
    "name.lower()\n",
    "name.upper()\n",
    "name.capitalize()\n",
    "name.title()\n",
    "name.swapcase()"
   ]
  },
  {
   "cell_type": "code",
   "execution_count": null,
   "metadata": {},
   "outputs": [],
   "source": [
    "# John's Father\n",
    "print(\"John's Father\")\n",
    "print('John\"s Father')"
   ]
  },
  {
   "cell_type": "code",
   "execution_count": null,
   "metadata": {},
   "outputs": [],
   "source": [
    "## Type Conversion\n",
    "# Int -> String\n",
    "age, type(age)\n",
    "age = str(age)\n",
    "type(age)\n",
    "\n",
    "# str -> int\n",
    "int(age)\n",
    "\n",
    "# int -> float\n",
    "float(age)\n",
    "\n",
    "# to complex\n",
    "complex(age)\n",
    "\n",
    "# to bool\n",
    "bool(0)"
   ]
  },
  {
   "cell_type": "code",
   "execution_count": null,
   "metadata": {},
   "outputs": [],
   "source": [
    "int(complex(1))"
   ]
  },
  {
   "cell_type": "code",
   "execution_count": null,
   "metadata": {},
   "outputs": [],
   "source": [
    "## String Formatting\n",
    "name = 'John'; age=24; weight = 55.77\n",
    "\n",
    "# print(name,'Your Age: ', age, \"Your Weight: \", weight )\n",
    "print('{0} Your Age:  {1} Your Weight:  {2}'.format(name, age,weight))\n",
    "\n",
    "print('%s Your Age:  %d Your Weight:  %.2f'%(name, age,weight))\n",
    "\n",
    "print(f'{name} Your Age:  {age+1} Your Weight:  {weight}')"
   ]
  },
  {
   "cell_type": "code",
   "execution_count": null,
   "metadata": {},
   "outputs": [],
   "source": [
    "## Taking Input From User\n",
    "input()"
   ]
  },
  {
   "cell_type": "code",
   "execution_count": null,
   "metadata": {},
   "outputs": [],
   "source": [
    "## Providing output to user\n",
    "print(\"Welcome\", name)"
   ]
  },
  {
   "cell_type": "code",
   "execution_count": null,
   "metadata": {},
   "outputs": [],
   "source": [
    "## Indentation and Indentation Error\n",
    "roll = 1\n",
    " name='John'"
   ]
  },
  {
   "cell_type": "code",
   "execution_count": 70,
   "metadata": {},
   "outputs": [],
   "source": [
    "r1 = 1\n",
    "r2 = 2"
   ]
  },
  {
   "cell_type": "markdown",
   "metadata": {},
   "source": [
    "## Adv Data Types\n"
   ]
  },
  {
   "cell_type": "code",
   "execution_count": null,
   "metadata": {},
   "outputs": [],
   "source": [
    "## List\n",
    "r = [1,2,3,4,5,6,7,'John', True]\n",
    "## Accessing Data r[low:up:step]\n",
    "r[5]\n",
    "r[:4]\n",
    "r[4:]\n",
    "r[2:5]\n",
    "r[::3]\n",
    "r[1:5:2]\n",
    "r[::-1]\n",
    "r[-2]\n",
    "\n",
    "## Updating\n",
    "r[0] = 9\n",
    "r[3] = 44\n",
    "r[2:5] = 33,44,44\n",
    "del r[0]\n",
    "## List Functions\n",
    "r.append('end')\n",
    "r.insert(0, 'Start')\n",
    "r.insert(3, 'Loc')\n",
    "r.index(44)\n",
    "r.count(44)\n",
    "r.extend(['end', 'end'])\n",
    "r.pop()\n",
    "r.remove('end')\n",
    "r.reverse()\n",
    "r1 = [2,6,3]\n",
    "r1.sort(reverse=True)\n",
    "sorted(r1, reverse=True)\n",
    "r.clear()\n",
    "r"
   ]
  },
  {
   "cell_type": "code",
   "execution_count": null,
   "metadata": {},
   "outputs": [],
   "source": [
    "## Tuple\n",
    "t = (1,2,3,4,4,5,6,7,'John', True)\n",
    "t.count(4)\n",
    "t.index(4)\n",
    "t[2] = 4\n",
    "del t[2]"
   ]
  },
  {
   "cell_type": "code",
   "execution_count": null,
   "metadata": {},
   "outputs": [],
   "source": [
    "## Set\n",
    "s1 = {1,2.5,4.5,4,5,6}\n",
    "s2 = {3,4.5,4,7,8,9}\n",
    "# s1[0]\n",
    "s1.add(3)\n",
    "s1.union(s2)\n",
    "s1.intersection(s2)\n",
    "s1.difference(s2), s2.difference(s1)\n",
    "s1.issubset({1, 2.5})\n",
    "s1.issuperset({1, 2.5})\n",
    "s1.pop()\n",
    "s1.remove(2.5)\n",
    "s1.update({12,13,14})\n",
    "s1 = {1,2.5,4.5,4,5,6}\n",
    "s2 = {3,4.5,4,7,8,9}\n",
    "s1.symmetric_difference(s2)"
   ]
  },
  {
   "cell_type": "code",
   "execution_count": 72,
   "metadata": {},
   "outputs": [
    {
     "data": {
      "text/plain": [
       "{11: ['Default', None], 12: ['Default', None], 13: ['Default', None]}"
      ]
     },
     "execution_count": 72,
     "metadata": {},
     "output_type": "execute_result"
    }
   ],
   "source": [
    "## Dictionary\n",
    "d = {1:'John', 6:'ALexa', 3:'Alley', 'branch':'CSE', 'Sub':[1,2,3]}\n",
    "# Accessing Value\n",
    "d[3]\n",
    "d['branch']\n",
    "# Updating\n",
    "d[1] = 'Johny'\n",
    "d['Sub']\n",
    "#Adding New\n",
    "d['S'] = True\n",
    "\n",
    "## Dictionary Functions\n",
    "d.get('Sub')\n",
    "d.keys()\n",
    "d.values()\n",
    "d.items()\n",
    "d.pop('S')\n",
    "d.popitem()\n",
    "d.update({9:9})\n",
    "d.fromkeys([11,12,13], 'Default')"
   ]
  },
  {
   "cell_type": "code",
   "execution_count": null,
   "metadata": {},
   "outputs": [],
   "source": [
    "## Type Conversion\n",
    "tuple(r1)\n",
    "list(t)\n",
    "set(t)"
   ]
  },
  {
   "cell_type": "code",
   "execution_count": null,
   "metadata": {},
   "outputs": [],
   "source": [
    "l = [1,(2,4),[3,[4, 5]]]\n",
    "l[2][1][1]"
   ]
  },
  {
   "cell_type": "code",
   "execution_count": null,
   "metadata": {},
   "outputs": [],
   "source": [
    "l[1][0]"
   ]
  },
  {
   "cell_type": "code",
   "execution_count": null,
   "metadata": {},
   "outputs": [],
   "source": [
    "## Enumerate \n",
    "enum = enumerate([[\"python\", 'Java'], 'C++'], start=-2)\n",
    "list(enum)"
   ]
  },
  {
   "cell_type": "markdown",
   "metadata": {},
   "source": [
    "## Operators"
   ]
  },
  {
   "cell_type": "code",
   "execution_count": null,
   "metadata": {},
   "outputs": [],
   "source": [
    "## Arithmatic Operator\n",
    "2+3\n",
    "2-3\n",
    "2*3\n",
    "5/2\n",
    "5//2\n",
    "2**3\n",
    "5%2"
   ]
  },
  {
   "cell_type": "code",
   "execution_count": null,
   "metadata": {},
   "outputs": [],
   "source": [
    "## Comparison\n",
    "2 == 2\n",
    "2 != 2\n",
    "2 < 3\n",
    "2 > 3\n",
    "3 <= 3\n",
    "3 >= 3"
   ]
  },
  {
   "cell_type": "code",
   "execution_count": null,
   "metadata": {},
   "outputs": [],
   "source": [
    "## Logical Operators\n",
    "True and True\n",
    "True and False\n",
    "False and True\n",
    "False and False\n",
    "\n",
    "True or True\n",
    "True or False\n",
    "False or True\n",
    "False or False\n",
    "\n",
    "not True\n",
    "not False\n",
    "\n",
    "num = 19\n",
    "num>18 and num%2 == 0, not (num>18 or  num%2 == 0)"
   ]
  },
  {
   "cell_type": "code",
   "execution_count": null,
   "metadata": {},
   "outputs": [],
   "source": [
    "## Bitwise operator\n"
   ]
  },
  {
   "cell_type": "code",
   "execution_count": null,
   "metadata": {},
   "outputs": [],
   "source": [
    "## Bitwise Operation\n",
    "#5 = 1 0 1\n",
    "#2 = 0 1 0\n",
    "#0 = 0 0 0\n",
    "5 & 2\n",
    "\n",
    "#5 = 1 0 1\n",
    "#2 = 0 1 0\n",
    "#7 = 1 1 1\n",
    "5|2\n",
    "\n",
    "#5 = 1 0 1\n",
    "#        1\n",
    "#6 = 1 1 0\n",
    "~5\n",
    "\n",
    "# Left Shift\n",
    "#5 =     1 0 1\n",
    "#6 = 1 0 1 0 0\n",
    "\n",
    "5<<4\n",
    "# Left Shift\n",
    "#5 =     1 0 1\n",
    "#6 =     0 0 1\n",
    "5>>2\n",
    "\n",
    "#5 = 1 0 1\n",
    "#3 = 0 1 1\n",
    "#7 = 1 1 0\n",
    "5^3\n"
   ]
  },
  {
   "cell_type": "code",
   "execution_count": null,
   "metadata": {},
   "outputs": [],
   "source": [
    "## Assignment Operator\n",
    "num = 8\n",
    "num += 2\n",
    "num -= 2\n",
    "num *= 2\n",
    "num "
   ]
  },
  {
   "cell_type": "code",
   "execution_count": null,
   "metadata": {},
   "outputs": [],
   "source": [
    "## Special Operator\n",
    "num = 2\n",
    "num2 = 2.0\n",
    "num == num2\n",
    "\n",
    "num is num2\n",
    "num is not num2\n",
    "\n",
    "'Py' in 'Python'\n",
    "4 in [2,3]\n",
    "4 not in [2,3]\n"
   ]
  },
  {
   "cell_type": "code",
   "execution_count": null,
   "metadata": {},
   "outputs": [],
   "source": [
    "## Conditional Statement\n",
    "age = 18\n",
    "salary = 20000\n",
    "if age>=18:\n",
    "    if salary >= 40000:\n",
    "        print(\"Eligible for Credit Card!\")\n",
    "    else:\n",
    "        print(\"Eligible for Debit Card!\")\n",
    "elif age < 18 and age > 12:\n",
    "    print(\"Eligible for Green Card!\")\n",
    "elif age <= 12:\n",
    "    print(\"Not Eligible\")\n",
    "else:\n",
    "    print(\"Not Eligible for Debit Card!\")"
   ]
  },
  {
   "cell_type": "code",
   "execution_count": null,
   "metadata": {},
   "outputs": [],
   "source": [
    "num = 3\n",
    "if num%2 == 0:\n",
    "    print('Even')\n",
    "else:\n",
    "    print('Odd')"
   ]
  },
  {
   "cell_type": "code",
   "execution_count": null,
   "metadata": {},
   "outputs": [],
   "source": [
    "# Task 1\n",
    "# Take a number from user\n",
    "# Greater than 64 and even number"
   ]
  },
  {
   "cell_type": "code",
   "execution_count": null,
   "metadata": {},
   "outputs": [],
   "source": [
    "## Task 2\n",
    "# Sum of Results\n",
    "# Take two number from user\n",
    "# Show Sum (Addition, Subtraction, Multiplication and Division)"
   ]
  },
  {
   "cell_type": "code",
   "execution_count": null,
   "metadata": {},
   "outputs": [],
   "source": [
    "## While Loops\n",
    "eatenCount = 0\n",
    "while eatenCount < 6:\n",
    "    print(\"Eating...\")\n",
    "    eatenCount += 1\n"
   ]
  },
  {
   "cell_type": "code",
   "execution_count": null,
   "metadata": {},
   "outputs": [],
   "source": [
    "start = 1\n",
    "stop = 5\n",
    "while start <= stop:\n",
    "    print(start)\n",
    "    start += 2"
   ]
  },
  {
   "cell_type": "code",
   "execution_count": null,
   "metadata": {},
   "outputs": [],
   "source": [
    "list(range(1,6,2))"
   ]
  },
  {
   "cell_type": "code",
   "execution_count": null,
   "metadata": {},
   "outputs": [],
   "source": [
    "## For Loops\n",
    "for num in list(range(1,6,2)):\n",
    "    print(num)"
   ]
  },
  {
   "cell_type": "code",
   "execution_count": null,
   "metadata": {},
   "outputs": [],
   "source": [
    "for num in [1,2,3,4]:\n",
    "    print(num)"
   ]
  },
  {
   "cell_type": "code",
   "execution_count": null,
   "metadata": {},
   "outputs": [],
   "source": [
    "for num in {1,2,3,4}:\n",
    "    print(num)"
   ]
  },
  {
   "cell_type": "code",
   "execution_count": null,
   "metadata": {},
   "outputs": [],
   "source": [
    "for c in \"Python\":\n",
    "    print(c)"
   ]
  },
  {
   "cell_type": "code",
   "execution_count": null,
   "metadata": {},
   "outputs": [],
   "source": [
    "for key, val in d.items():\n",
    "    print(key, val)"
   ]
  },
  {
   "cell_type": "code",
   "execution_count": null,
   "metadata": {},
   "outputs": [],
   "source": [
    "for num, sq in [(1,1), (2,4), (3,9)]:\n",
    "    print(num+sq)"
   ]
  },
  {
   "cell_type": "code",
   "execution_count": null,
   "metadata": {},
   "outputs": [],
   "source": [
    "for num, sq in ([1,1], [2,4], [3,9]):\n",
    "    print(num+sq)"
   ]
  },
  {
   "cell_type": "code",
   "execution_count": null,
   "metadata": {},
   "outputs": [],
   "source": [
    "a, b = 2, 3\n",
    "a,b = b, a\n",
    "a,b"
   ]
  },
  {
   "cell_type": "code",
   "execution_count": null,
   "metadata": {},
   "outputs": [],
   "source": [
    "a,b = [4,5]\n",
    "print(a,b)"
   ]
  },
  {
   "cell_type": "code",
   "execution_count": null,
   "metadata": {},
   "outputs": [],
   "source": [
    "(key1, val1), (key2, val2) = {1:'John',2:'Alexa'}.items()\n",
    "key1, key2"
   ]
  },
  {
   "cell_type": "code",
   "execution_count": null,
   "metadata": {},
   "outputs": [],
   "source": [
    "## Break and Continue\n",
    "start = 1\n",
    "stop = 5\n",
    "while start <= stop:\n",
    "    print(start)\n",
    "    if start == 3:\n",
    "        break\n",
    "    start += 1"
   ]
  },
  {
   "cell_type": "code",
   "execution_count": null,
   "metadata": {},
   "outputs": [],
   "source": [
    "start = 1\n",
    "stop = 5\n",
    "while start < stop:\n",
    "    start += 1\n",
    "    if start <= 3:\n",
    "        continue\n",
    "    print(start)"
   ]
  },
  {
   "cell_type": "code",
   "execution_count": 3,
   "metadata": {},
   "outputs": [
    {
     "name": "stdout",
     "output_type": "stream",
     "text": [
      "Wrong Password Try again!\n",
      "Wrong Password Try again!\n",
      "Wrong Password Try again!\n",
      "Password Changed\n",
      "Opening Door...\n"
     ]
    }
   ],
   "source": [
    "## Task Smart Door\n",
    "# Door will have an \"originalPassword = open@door\"\n",
    "# Take password from user, if password matches with originalPassword, Opening\n",
    "# Wrong Password try again\n",
    "# maxTry = 3, Door is locked.\n",
    "# reset option\n",
    "securityQAnswer = 'black'\n",
    "originalPassword = 'open@door'\n",
    "maxTry = 0\n",
    "while maxTry < 3:\n",
    "    password = input(\"Enter Password to Open Door: \")\n",
    "    if password == originalPassword:\n",
    "        print(\"Opening Door...\")\n",
    "        break\n",
    "    else:\n",
    "        print(\"Wrong Password Try again!\")\n",
    "        maxTry += 1\n",
    "        if maxTry > 2:\n",
    "            ans = input(\"Tell Your Favourite Color?\").lower()\n",
    "            if securityQAnswer == ans:\n",
    "                originalPassword = input(\"Enter New Password: \")\n",
    "                print(\"Password Changed\")\n",
    "                maxTry = 0\n",
    "            else:\n",
    "                print(\"Door is Locked!, You are  Robber!\")\n",
    "                break"
   ]
  },
  {
   "cell_type": "code",
   "execution_count": null,
   "metadata": {},
   "outputs": [],
   "source": [
    "## Multi-Dimentional Data\n",
    "# d1 = [1,2,3,4,5,6,7]\n",
    "d2 = [\n",
    "  [1,2,3],\n",
    "  [6,7,8],\n",
    "  [8,9,3]\n",
    "]\n",
    "d3 = [\n",
    "  [1,2,5],\n",
    "  [6,7,5],\n",
    "  [8,9,5]\n",
    "]\n",
    "r = [\n",
    "  [0,0,0],\n",
    "  [0,0,0],\n",
    "  [0,0,0]\n",
    "]\n",
    "for row in range(len(d2)):\n",
    "    for col in range(len(d2[row])):\n",
    "        r[row][col] = d2[row][col] + d3[row][col]\n",
    "    print(r[row])\n"
   ]
  },
  {
   "cell_type": "code",
   "execution_count": null,
   "metadata": {},
   "outputs": [],
   "source": [
    "## Pass \n",
    "if 2 == 2:\n",
    "    pass\n",
    "2+2"
   ]
  },
  {
   "cell_type": "code",
   "execution_count": null,
   "metadata": {},
   "outputs": [],
   "source": [
    "## List Coprehension\n",
    "nums = [1,2,3,3,3,4,5,6]\n",
    "numSq = [num**2 if num%2==0 else num**3 for num in nums]\n",
    "numSq"
   ]
  },
  {
   "cell_type": "code",
   "execution_count": null,
   "metadata": {},
   "outputs": [],
   "source": [
    "r = [[d2[row][col] + d3[row][col] for col in range(len(d2[row]))] for row in range(len(d2))]\n",
    "r"
   ]
  },
  {
   "cell_type": "code",
   "execution_count": null,
   "metadata": {},
   "outputs": [],
   "source": [
    "numSq = (num**2 if num%2==0 else num**3 for num in nums)\n",
    "tuple(numSq)"
   ]
  },
  {
   "cell_type": "code",
   "execution_count": null,
   "metadata": {},
   "outputs": [],
   "source": [
    "numSq = {num:num**2 for num in nums if num%2==0}\n",
    "numSq"
   ]
  },
  {
   "cell_type": "code",
   "execution_count": null,
   "metadata": {},
   "outputs": [],
   "source": [
    "numSq = {num**2 if num%2==0 else num**3 for num in nums}\n",
    "numSq"
   ]
  },
  {
   "cell_type": "code",
   "execution_count": null,
   "metadata": {},
   "outputs": [],
   "source": [
    "## Task 4\n",
    "# Take a integer number and print pyramid\n",
    "# n = 6\n",
    "\"\"\"\n",
    "#\n",
    "##\n",
    "###\n",
    "####\n",
    "#####\n",
    "######\n",
    "\"\"\""
   ]
  },
  {
   "cell_type": "code",
   "execution_count": null,
   "metadata": {},
   "outputs": [],
   "source": [
    "## Task 5\n",
    "# Take a integer number and print pyramid\n",
    "# n = 5\n",
    "\"\"\"\n",
    "######\n",
    "#####\n",
    "###\n",
    "##\n",
    "#\n",
    "\"\"\""
   ]
  },
  {
   "cell_type": "code",
   "execution_count": null,
   "metadata": {},
   "outputs": [],
   "source": [
    "## Functions and args"
   ]
  },
  {
   "cell_type": "code",
   "execution_count": null,
   "metadata": {},
   "outputs": [],
   "source": [
    "## Variable Scopes"
   ]
  },
  {
   "cell_type": "code",
   "execution_count": null,
   "metadata": {},
   "outputs": [],
   "source": [
    "## Lambda Functions"
   ]
  },
  {
   "cell_type": "code",
   "execution_count": null,
   "metadata": {},
   "outputs": [],
   "source": [
    "## map() and filter()"
   ]
  },
  {
   "cell_type": "code",
   "execution_count": null,
   "metadata": {},
   "outputs": [],
   "source": [
    "## Generators"
   ]
  },
  {
   "cell_type": "code",
   "execution_count": null,
   "metadata": {},
   "outputs": [],
   "source": [
    "## Decorators"
   ]
  }
 ],
 "metadata": {
  "interpreter": {
   "hash": "14a336a61cfaefff504b47e2b8e6e50961f0feafa7b211f8ff23081790c52144"
  },
  "kernelspec": {
   "display_name": "Python 3.9.7 64-bit",
   "name": "python3"
  },
  "language_info": {
   "codemirror_mode": {
    "name": "ipython",
    "version": 3
   },
   "file_extension": ".py",
   "mimetype": "text/x-python",
   "name": "python",
   "nbconvert_exporter": "python",
   "pygments_lexer": "ipython3",
   "version": "3.10.0"
  },
  "orig_nbformat": 4
 },
 "nbformat": 4,
 "nbformat_minor": 2
}
