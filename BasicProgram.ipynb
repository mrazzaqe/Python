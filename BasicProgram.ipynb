{
 "cells": [
  {
   "cell_type": "code",
   "execution_count": 1,
   "metadata": {},
   "outputs": [
    {
     "name": "stdout",
     "output_type": "stream",
     "text": [
      "Twinkle, twinkle, little star,\n",
      "\t\t How I wonder what you are!\n",
      "\t\t\t Up above the world so high,\n",
      "\t\t\t Like a diamond in the sky.\n",
      " Twinkle, twinkle, little star,\n",
      "\t\t How I wonder what you are\n"
     ]
    }
   ],
   "source": [
    "#\n",
    "print( \"Twinkle, twinkle, little star,\\n\\t\\t How I wonder what you are!\\n\\t\\t\\t Up above the world so high,\\n\\t\\t\\t Like a diamond in the sky.\\n Twinkle, twinkle, little star,\\n\\t\\t How I wonder what you are\" )"
   ]
  },
  {
   "cell_type": "code",
   "execution_count": 2,
   "metadata": {},
   "outputs": [
    {
     "name": "stdout",
     "output_type": "stream",
     "text": [
      "Python Version:\n",
      "3.8.5 (default, Sep  3 2020, 21:29:08) [MSC v.1916 64 bit (AMD64)]\n"
     ]
    }
   ],
   "source": [
    "#Write a Python program to get the Python version(way-1)\n",
    "import sys\n",
    "print(\"Python Version:\")\n",
    "print(sys.version)"
   ]
  },
  {
   "cell_type": "code",
   "execution_count": 4,
   "metadata": {},
   "outputs": [
    {
     "name": "stdout",
     "output_type": "stream",
     "text": [
      "Python Version:\n",
      "3.8.5\n"
     ]
    }
   ],
   "source": [
    "#Write a Python program to get the Python version(way-2)\n",
    "import platform\n",
    "print(\"Python Version:\")\n",
    "print(platform.python_version())"
   ]
  },
  {
   "cell_type": "code",
   "execution_count": 5,
   "metadata": {},
   "outputs": [
    {
     "name": "stdout",
     "output_type": "stream",
     "text": [
      "Current Date and Time:\n",
      "2021-11-05 19:20:59\n"
     ]
    }
   ],
   "source": [
    "# 3. Write a Python program to display the current date and time.\n",
    "import datetime\n",
    "now = datetime.datetime.now()\n",
    "print(\"Current Date and Time:\")\n",
    "print(now.strftime(\"%Y-%m-%d %H:%M:%S\"))"
   ]
  },
  {
   "cell_type": "code",
   "execution_count": 1,
   "metadata": {},
   "outputs": [
    {
     "name": "stdout",
     "output_type": "stream",
     "text": [
      "The Area of circle is: 78.53750000000001\n"
     ]
    }
   ],
   "source": [
    "#4. Write a Python program which accepts the radius of a circle from the user and compute the area. \n",
    "radius =float(input(\"Enter Radius:\"))\n",
    "pi = 3.1415\n",
    "area= str(pi * radius**2)\n",
    "print(\"The Area of circle is:\", area)"
   ]
  },
  {
   "cell_type": "code",
   "execution_count": 14,
   "metadata": {},
   "outputs": [
    {
     "name": "stdout",
     "output_type": "stream",
     "text": [
      "Razzaqe Abdur\n"
     ]
    }
   ],
   "source": [
    "#5. Write a Python program which accepts the user's first and last name and print them in reverse order with a space between them\n",
    "Fname=input(\"Enter your First Name:\")\n",
    "Lname=input(\"Enter your last Name:\")\n",
    "\n",
    "print(Lname+\" \"+Fname)"
   ]
  },
  {
   "cell_type": "code",
   "execution_count": 13,
   "metadata": {},
   "outputs": [
    {
     "name": "stdout",
     "output_type": "stream",
     "text": [
      "List :  ['1', '2', '3', '4', '5']\n"
     ]
    }
   ],
   "source": [
    "#6. Write a Python program which accepts a sequence of comma-separated numbers from user and generate a list and a tuple with those numbers.\n",
    "values = input(\"Input some comma seprated numbers : \")\n",
    "list = values.split(\",\")\n",
    "#tuple = tuple(list)\n",
    "print('List : ',list)\n",
    "#print('Tuple : ', tuple)\n"
   ]
  },
  {
   "cell_type": "code",
   "execution_count": 14,
   "metadata": {},
   "outputs": [
    {
     "ename": "TypeError",
     "evalue": "'tuple' object is not callable",
     "output_type": "error",
     "traceback": [
      "\u001b[1;31m---------------------------------------------------------------------------\u001b[0m",
      "\u001b[1;31mTypeError\u001b[0m                                 Traceback (most recent call last)",
      "\u001b[1;32m<ipython-input-14-821a7306ae78>\u001b[0m in \u001b[0;36m<module>\u001b[1;34m\u001b[0m\n\u001b[1;32m----> 1\u001b[1;33m \u001b[0mtuple\u001b[0m\u001b[1;33m(\u001b[0m\u001b[0mlist\u001b[0m\u001b[1;33m)\u001b[0m\u001b[1;33m\u001b[0m\u001b[1;33m\u001b[0m\u001b[0m\n\u001b[0m",
      "\u001b[1;31mTypeError\u001b[0m: 'tuple' object is not callable"
     ]
    }
   ],
   "source": [
    "tuple(list)"
   ]
  },
  {
   "cell_type": "code",
   "execution_count": 15,
   "metadata": {},
   "outputs": [
    {
     "name": "stdout",
     "output_type": "stream",
     "text": [
      "The file extension is: py\n",
      "\n"
     ]
    }
   ],
   "source": [
    "#7. Write a Python program to accept a filename from the user and print the extension of that.\n",
    "\n",
    "filename = input(\"Enter the file name with extension:\")\n",
    "f_extns = filename.split(\".\")\n",
    "\n",
    "print(\"The file extension is:\", f_extns[-1])\n",
    "\n",
    "print()"
   ]
  },
  {
   "cell_type": "code",
   "execution_count": 37,
   "metadata": {},
   "outputs": [
    {
     "name": "stdout",
     "output_type": "stream",
     "text": [
      "First Color:Red\n",
      "Last color:Black\n"
     ]
    }
   ],
   "source": [
    "#8. Write a Python program to display the first and last colors from the following list.\n",
    "color_list = [\"Red\", \"Green\", \"White\",\"Black\"]\n",
    "print(f'First Color:{color_list[0]}\\nLast color:{color_list[-1]}')"
   ]
  },
  {
   "cell_type": "code",
   "execution_count": null,
   "metadata": {},
   "outputs": [],
   "source": [
    "#9. Write a Python program to display the examination schedule. (extract the date from exam_st_date).\n",
    "\n"
   ]
  },
  {
   "cell_type": "code",
   "execution_count": 16,
   "metadata": {},
   "outputs": [
    {
     "name": "stdout",
     "output_type": "stream",
     "text": [
      "The value of n+nn+nnn is: 615\n"
     ]
    }
   ],
   "source": [
    "#10. Write a Python program that accepts an integer (n) and computes the value of n+nn+nnn. \n",
    "n = input(\"Enter a number:\")\n",
    "n1 = int(\"%s\" % n)\n",
    "n2 = int(\"%s%s\" %(n, n))\n",
    "n3 =int(\"%s%s%s\" %(n,n,n))\n",
    "print(\"The value of n+nn+nnn is:\", (n1+n2+n3))"
   ]
  },
  {
   "cell_type": "code",
   "execution_count": 22,
   "metadata": {},
   "outputs": [
    {
     "name": "stdout",
     "output_type": "stream",
     "text": [
      "Return the absolute value of the argument.\n"
     ]
    }
   ],
   "source": [
    "#11. Write a Python program to print the documents (syntax, description etc.) of Python built-in function(s).\n",
    "print(abs.__doc__)"
   ]
  },
  {
   "cell_type": "code",
   "execution_count": 31,
   "metadata": {},
   "outputs": [
    {
     "name": "stdout",
     "output_type": "stream",
     "text": [
      "     July 2012\n",
      "Mo Tu We Th Fr Sa Su\n",
      "                   1\n",
      " 2  3  4  5  6  7  8\n",
      " 9 10 11 12 13 14 15\n",
      "16 17 18 19 20 21 22\n",
      "23 24 25 26 27 28 29\n",
      "30 31\n",
      "\n"
     ]
    }
   ],
   "source": [
    "#12. Write a Python program to print the calendar of a given month and year.\n",
    "import calendar\n",
    "y=int(input(\"Enter the year:\"))\n",
    "m=int(input(\"Enter the month:\"))\n",
    "\n",
    "print(calendar.month(y,m))"
   ]
  },
  {
   "cell_type": "code",
   "execution_count": 35,
   "metadata": {},
   "outputs": [
    {
     "name": "stdout",
     "output_type": "stream",
     "text": [
      "<title>Biggest Online Tutorials Library</title>\n"
     ]
    }
   ],
   "source": [
    "from bs4 import BeautifulSoup\n",
    "import requests\n",
    "url = \"https://www.tutorialspoint.com/index.htm\"\n",
    "req = requests.get(url)\n",
    "soup = BeautifulSoup(req.text, \"html.parser\")\n",
    "print(soup.title)\n"
   ]
  },
  {
   "cell_type": "code",
   "execution_count": 36,
   "metadata": {},
   "outputs": [
    {
     "name": "stdout",
     "output_type": "stream",
     "text": [
      "https://www.tutorialspoint.com/index.htm\n",
      "https://www.tutorialspoint.com/about/about_careers.htm\n",
      "https://www.tutorialspoint.com/questions/index.php\n",
      "https://www.tutorialspoint.com/online_dev_tools.htm\n",
      "https://www.tutorialspoint.com/codingground.htm\n",
      "https://www.tutorialspoint.com/upsc_ias_exams.htm\n",
      "https://www.tutorialspoint.com/whiteboard.htm\n",
      "https://www.tutorix.com\n",
      "https://www.tutorialspoint.com/market/login.jsp?v=1.3\n",
      "https://www.tutorialspoint.com/market/signup.jsp?v=1.3\n",
      "https://www.tutorialspoint.com/index.htm\n",
      "https://www.tutorialspoint.com/tutorialslibrary.htm\n",
      "https://www.tutorialspoint.com/market/index.php\n",
      "https://www.tutorialspoint.com/ebooks\n",
      "https://www.tutorialspoint.com/latest/prime-packs\n",
      "https://www.tutorialspoint.com/codingground.htm\n",
      "https://www.tutorialspoint.com/prime-pack/fullstack-web-development-prime-pack/index.asp\n",
      "https://www.tutorialspoint.com/prime-pack/fullstack-web-development-prime-pack/index.asp\n",
      "https://www.tutorialspoint.com/profile/tutorialspoint_com\n",
      "https://www.tutorialspoint.com/prime-pack/fullstack-web-development-prime-pack/index.asp\n",
      "https://www.tutorialspoint.com/prime-pack/mysql-technologies-pack/index.asp\n",
      "https://www.tutorialspoint.com/prime-pack/mysql-technologies-pack/index.asp\n",
      "https://www.tutorialspoint.com/profile/tutorialspoint_com\n",
      "https://www.tutorialspoint.com/prime-pack/mysql-technologies-pack/index.asp\n",
      "https://www.tutorialspoint.com/prime-pack/complete-python-prime-pack/index.asp\n",
      "https://www.tutorialspoint.com/prime-pack/complete-python-prime-pack/index.asp\n",
      "https://www.tutorialspoint.com/profile/tutorialspoint_com\n",
      "https://www.tutorialspoint.com/prime-pack/complete-python-prime-pack/index.asp\n",
      "https://www.tutorialspoint.com/prime-pack/java-prime-pack/index.asp\n",
      "https://www.tutorialspoint.com/prime-pack/java-prime-pack/index.asp\n",
      "https://www.tutorialspoint.com/profile/tutorialspoint_com\n",
      "https://www.tutorialspoint.com/prime-pack/java-prime-pack/index.asp\n",
      "https://www.tutorialspoint.com/latest/prime-packs\n",
      "https://www.tutorialspoint.com/the_full_stack_web_development/index.asp\n",
      "https://www.tutorialspoint.com/the_full_stack_web_development/index.asp\n",
      "https://www.tutorialspoint.com/profile/eduonix_learning_solutions\n",
      "https://www.tutorialspoint.com/the_full_stack_web_development/index.asp\n",
      "https://www.tutorialspoint.com/angular_8_full_stack_development_with_spring_boot/index.asp\n",
      "https://www.tutorialspoint.com/angular_8_full_stack_development_with_spring_boot/index.asp\n",
      "https://www.tutorialspoint.com/profile/senol_atac\n",
      "https://www.tutorialspoint.com/angular_8_full_stack_development_with_spring_boot/index.asp\n",
      "https://www.tutorialspoint.com/python_for_beginners_learn_python_programming_python_3/index.asp\n",
      "https://www.tutorialspoint.com/python_for_beginners_learn_python_programming_python_3/index.asp\n",
      "https://www.tutorialspoint.com/profile/jason_cannon\n",
      "https://www.tutorialspoint.com/python_for_beginners_learn_python_programming_python_3/index.asp\n",
      "https://www.tutorialspoint.com/cplusplus_online_training/index.asp\n",
      "https://www.tutorialspoint.com/cplusplus_online_training/index.asp\n",
      "https://www.tutorialspoint.com/profile/Arnab-Chakraborty\n",
      "https://www.tutorialspoint.com/cplusplus_online_training/index.asp\n",
      "https://www.tutorialspoint.com/market/index.php\n",
      "https://www.tutorialspoint.com/tutorialslibrary.htm\n",
      "https://www.tutorialspoint.com/bitcoin/index.htm\n",
      "https://www.tutorialspoint.com/blockchain/index.htm\n",
      "https://www.tutorialspoint.com/blue_prism/index.htm\n",
      "https://www.tutorialspoint.com/ethereum/index.htm\n",
      "https://www.tutorialspoint.com/openshift/index.htm\n",
      "https://www.tutorialspoint.com/python_blockchain/index.htm\n",
      "https://www.tutorialspoint.com/latest_technologies.htm\n",
      "https://www.tutorialspoint.com/machine_learning/index.htm\n",
      "https://www.tutorialspoint.com/tensorflow/index.htm\n",
      "https://www.tutorialspoint.com/machine_learning_with_python/index.htm\n",
      "https://www.tutorialspoint.com/artificial_intelligence_with_python/index.htm\n",
      "https://www.tutorialspoint.com/time_series/index.htm\n",
      "https://www.tutorialspoint.com/pytorch/index.htm\n",
      "https://www.tutorialspoint.com/machine_learning_tutorials.htm\n",
      "https://www.tutorialspoint.com/computer_fundamentals/index.htm\n",
      "https://www.tutorialspoint.com/compiler_design/index.htm\n",
      "https://www.tutorialspoint.com/operating_system/index.htm\n",
      "https://www.tutorialspoint.com/data_structures_algorithms/index.htm\n",
      "https://www.tutorialspoint.com/dbms/index.htm\n",
      "https://www.tutorialspoint.com/data_communication_computer_network/index.htm\n",
      "https://www.tutorialspoint.com/computer_science_tutorials.htm\n",
      "https://www.tutorialspoint.com/html/index.htm\n",
      "https://www.tutorialspoint.com/css/index.htm\n",
      "https://www.tutorialspoint.com/javascript/index.htm\n",
      "https://www.tutorialspoint.com/php/index.htm\n",
      "https://www.tutorialspoint.com/angular4/index.htm\n",
      "https://www.tutorialspoint.com/mysql/index.htm\n",
      "https://www.tutorialspoint.com/web_development_tutorials.htm\n",
      "https://www.tutorialspoint.com/cprogramming/index.htm\n",
      "https://www.tutorialspoint.com/cplusplus/index.htm\n",
      "https://www.tutorialspoint.com/java8/index.htm\n",
      "https://www.tutorialspoint.com/python/index.htm\n",
      "https://www.tutorialspoint.com/scala/index.htm\n",
      "https://www.tutorialspoint.com/csharp/index.htm\n",
      "https://www.tutorialspoint.com/computer_programming_tutorials.htm\n",
      "https://www.tutorialspoint.com/java8/index.htm\n",
      "https://www.tutorialspoint.com/jdbc/index.htm\n",
      "https://www.tutorialspoint.com/swing/index.htm\n",
      "https://www.tutorialspoint.com/servlets/index.htm\n",
      "https://www.tutorialspoint.com/spring/index.htm\n",
      "https://www.tutorialspoint.com/hibernate/index.htm\n",
      "https://www.tutorialspoint.com/java_technology_tutorials.htm\n",
      "https://www.tutorialspoint.com/android/index.htm\n",
      "https://www.tutorialspoint.com/swift/index.htm\n",
      "https://www.tutorialspoint.com/ios/index.htm\n",
      "https://www.tutorialspoint.com/kotlin/index.htm\n",
      "https://www.tutorialspoint.com/react_native/index.htm\n",
      "https://www.tutorialspoint.com/xamarin/index.htm\n",
      "https://www.tutorialspoint.com/mobile_development_tutorials.htm\n",
      "https://www.tutorialspoint.com/mongodb/index.htm\n",
      "https://www.tutorialspoint.com/plsql/index.htm\n",
      "https://www.tutorialspoint.com/sql/index.htm\n",
      "https://www.tutorialspoint.com/db2/index.htm\n",
      "https://www.tutorialspoint.com/mysql/index.htm\n",
      "https://www.tutorialspoint.com/memcached/index.htm\n",
      "https://www.tutorialspoint.com/database_tutorials.htm\n",
      "https://www.tutorialspoint.com/asp.net/index.htm\n",
      "https://www.tutorialspoint.com/entity_framework/index.htm\n",
      "https://www.tutorialspoint.com/vb.net/index.htm\n",
      "https://www.tutorialspoint.com/ms_project/index.htm\n",
      "https://www.tutorialspoint.com/excel/index.htm\n",
      "https://www.tutorialspoint.com/word/index.htm\n",
      "https://www.tutorialspoint.com/microsoft_technologies_tutorials.htm\n",
      "https://www.tutorialspoint.com/big_data_analytics/index.htm\n",
      "https://www.tutorialspoint.com/hadoop/index.htm\n",
      "https://www.tutorialspoint.com/sas/index.htm\n",
      "https://www.tutorialspoint.com/qlikview/index.htm\n",
      "https://www.tutorialspoint.com/power_bi/index.htm\n",
      "https://www.tutorialspoint.com/tableau/index.htm\n",
      "https://www.tutorialspoint.com/big_data_tutorials.htm\n",
      "https://www.tutorialspoint.com/tutorialslibrary.htm\n",
      "https://www.tutorialspoint.com/codingground.htm\n",
      "https://www.tutorialspoint.com/coding_platform_for_websites.htm\n",
      "https://www.tutorialspoint.com/developers_best_practices/index.htm\n",
      "https://www.tutorialspoint.com/effective_resume_writing.htm\n",
      "https://www.tutorialspoint.com/computer_glossary.htm\n",
      "https://www.tutorialspoint.com/computer_whoiswho.htm\n",
      "https://www.tutorialspoint.com/questions_and_answers.htm\n",
      "https://www.tutorialspoint.com/multi_language_tutorials.htm\n",
      "https://itunes.apple.com/us/app/tutorials-point/id914891263?ls=1&mt=8\n",
      "https://play.google.com/store/apps/details?id=com.tutorialspoint.onlineviewer\n",
      "http://www.windowsphone.com/s?appid=91249671-7184-4ad6-8a5f-d11847946b09\n",
      "/about/index.htm\n",
      "/about/about_team.htm\n",
      "/about/about_careers.htm\n",
      "/about/about_privacy.htm\n",
      "/about/about_cookies.htm\n",
      "/about/about_terms_of_use.htm\n",
      "/about/return_refund_policy.htm\n",
      "https://www.tutorialspoint.com/online_dev_tools.htm\n",
      "https://www.tutorialspoint.com/free_web_graphics.htm\n",
      "https://www.tutorialspoint.com/online_file_conversion.htm\n",
      "https://www.tutorialspoint.com/netmeeting.php\n",
      "https://www.tutorialspoint.com/free_online_whiteboard.htm\n",
      "http://www.tutorialspoint.com\n",
      "https://www.facebook.com/tutorialspointindia\n",
      "https://plus.google.com/u/0/+tutorialspoint\n",
      "http://www.twitter.com/tutorialspoint\n",
      "http://www.linkedin.com/company/tutorialspoint\n",
      "https://www.youtube.com/channel/UCVLbzhxVTiTLiVKeGV7WEBg\n",
      "https://www.tutorialspoint.com/index.htm\n",
      "/about/about_privacy.htm#cookies\n",
      "/about/faq.htm\n",
      "/about/about_helping.htm\n",
      "/about/contact_us.htm\n"
     ]
    }
   ],
   "source": [
    "for link in soup.find_all('a'):\n",
    "    print(link.get('href'))"
   ]
  },
  {
   "cell_type": "code",
   "execution_count": 37,
   "metadata": {},
   "outputs": [
    {
     "ename": "FileNotFoundError",
     "evalue": "[Errno 2] No such file or directory: 'example.html'",
     "output_type": "error",
     "traceback": [
      "\u001b[1;31m---------------------------------------------------------------------------\u001b[0m",
      "\u001b[1;31mFileNotFoundError\u001b[0m                         Traceback (most recent call last)",
      "\u001b[1;32m<ipython-input-37-11cf6c5d1588>\u001b[0m in \u001b[0;36m<module>\u001b[1;34m\u001b[0m\n\u001b[0;32m      1\u001b[0m \u001b[1;32mfrom\u001b[0m \u001b[0mbs4\u001b[0m \u001b[1;32mimport\u001b[0m \u001b[0mBeautifulSoup\u001b[0m\u001b[1;33m\u001b[0m\u001b[1;33m\u001b[0m\u001b[0m\n\u001b[1;32m----> 2\u001b[1;33m \u001b[1;32mwith\u001b[0m \u001b[0mopen\u001b[0m\u001b[1;33m(\u001b[0m\u001b[1;34m\"example.html\"\u001b[0m\u001b[1;33m)\u001b[0m \u001b[1;32mas\u001b[0m \u001b[0mfp\u001b[0m\u001b[1;33m:\u001b[0m\u001b[1;33m\u001b[0m\u001b[1;33m\u001b[0m\u001b[0m\n\u001b[0m\u001b[0;32m      3\u001b[0m    \u001b[0msoup\u001b[0m \u001b[1;33m=\u001b[0m \u001b[0mBeautifulSoup\u001b[0m\u001b[1;33m(\u001b[0m\u001b[0mfp\u001b[0m\u001b[1;33m)\u001b[0m\u001b[1;33m\u001b[0m\u001b[1;33m\u001b[0m\u001b[0m\n\u001b[0;32m      4\u001b[0m \u001b[0msoup\u001b[0m \u001b[1;33m=\u001b[0m \u001b[0mBeautifulSoup\u001b[0m\u001b[1;33m(\u001b[0m\u001b[1;34m\"<html>data</html>\"\u001b[0m\u001b[1;33m)\u001b[0m\u001b[1;33m\u001b[0m\u001b[1;33m\u001b[0m\u001b[0m\n",
      "\u001b[1;31mFileNotFoundError\u001b[0m: [Errno 2] No such file or directory: 'example.html'"
     ]
    }
   ],
   "source": [
    "from bs4 import BeautifulSoup\n",
    "with open(\"example.html\") as fp:\n",
    "   soup = BeautifulSoup(fp)\n",
    "soup = BeautifulSoup(\"<html>data</html>\")"
   ]
  },
  {
   "cell_type": "code",
   "execution_count": 38,
   "metadata": {},
   "outputs": [
    {
     "name": "stdout",
     "output_type": "stream",
     "text": [
      "<html><body><b>tutorialspoint</b>, <i>&amp;web scraping &amp;data science;</i></body></html>\n"
     ]
    }
   ],
   "source": [
    "import bs4\n",
    "html = '''<b>tutorialspoint</b>, <i>&web scraping &data science;</i>'''\n",
    "soup = bs4.BeautifulSoup(html, 'lxml')\n",
    "print(soup)"
   ]
  }
 ],
 "metadata": {
  "interpreter": {
   "hash": "e753af4684f2c7650636e9fffdd6713faf1cc2bf488ab99a61a658f965dcfd17"
  },
  "kernelspec": {
   "display_name": "Python 3.10.0 64-bit (windows store)",
   "language": "python",
   "name": "python3"
  },
  "language_info": {
   "codemirror_mode": {
    "name": "ipython",
    "version": 3
   },
   "file_extension": ".py",
   "mimetype": "text/x-python",
   "name": "python",
   "nbconvert_exporter": "python",
   "pygments_lexer": "ipython3",
   "version": "3.8.5"
  },
  "orig_nbformat": 4
 },
 "nbformat": 4,
 "nbformat_minor": 2
}
