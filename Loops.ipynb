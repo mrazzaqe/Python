{
 "cells": [
  {
   "cell_type": "code",
   "execution_count": null,
   "metadata": {},
   "outputs": [],
   "source": [
    "# the For loop in python is used to iterate over a sequence (list, tuple, string) or other iterate objects. \n",
    "# Iterating over a  sequence is called traversal. \n",
    "# Syntex of for loop\n",
    "# for val in sequence:\n",
    "#      loop body  "
   ]
  },
  {
   "cell_type": "code",
   "execution_count": 1,
   "metadata": {},
   "outputs": [
    {
     "name": "stdout",
     "output_type": "stream",
     "text": [
      "The sum is: 38\n"
     ]
    }
   ],
   "source": [
    "# For loop\n",
    "# Program to find the sum of all numbers stored in a list\n",
    "# List  of numbers\n",
    "numbers = [6,5,7,4,7,9]\n",
    "# variable to store the sum\n",
    "sum =0\n",
    "#iterate over the list\n",
    "\n",
    "for i in numbers:\n",
    "    sum = sum + i\n",
    "print(\"The sum is:\", sum)    \n",
    "\n"
   ]
  },
  {
   "cell_type": "code",
   "execution_count": null,
   "metadata": {},
   "outputs": [],
   "source": []
  },
  {
   "cell_type": "code",
   "execution_count": 2,
   "metadata": {},
   "outputs": [
    {
     "name": "stdout",
     "output_type": "stream",
     "text": [
      "I Like genre: pop\n",
      "I Like genre: rock\n",
      "I Like genre: jazz\n",
      "I Like genre: rockstar\n"
     ]
    }
   ],
   "source": [
    "## Program to iterate through a list using indexin\n",
    "\n",
    "genre = ['pop', 'rock', 'jazz', 'rockstar']\n",
    "\n",
    "# iterate over the list using index\n",
    "for i in range(len(genre)):\n",
    "    print(\"I Like genre:\", genre[i])"
   ]
  },
  {
   "cell_type": "code",
   "execution_count": 5,
   "metadata": {},
   "outputs": [
    {
     "name": "stdout",
     "output_type": "stream",
     "text": [
      "0\n",
      "1\n",
      "5\n",
      "6\n",
      "No item left.\n"
     ]
    }
   ],
   "source": [
    "# For loop with else\n",
    "\n",
    "digits = [0,1,5,6]\n",
    "for i in digits:\n",
    "    print(i)\n",
    "else:\n",
    "    print(\"No item left.\")    "
   ]
  },
  {
   "cell_type": "code",
   "execution_count": 10,
   "metadata": {},
   "outputs": [
    {
     "name": "stdout",
     "output_type": "stream",
     "text": [
      "No entry with that name found.\n"
     ]
    }
   ],
   "source": [
    "# program to display student's marks from record\n",
    "\n",
    "student_name =\"Mostaq\"\n",
    "\n",
    "marks = {'James': 90, 'Jules': 87, 'Artu': 80, 'Saqlain': 97}\n",
    "\n",
    "for student in marks:\n",
    "    if student == student_name:\n",
    "        print(marks[student])\n",
    "        break\n",
    "else:\n",
    "    print(\"No entry with that name found.\")    "
   ]
  },
  {
   "cell_type": "code",
   "execution_count": 13,
   "metadata": {},
   "outputs": [
    {
     "name": "stdout",
     "output_type": "stream",
     "text": [
      "P\n",
      "y\n",
      "t\n",
      "h\n",
      "o\n",
      "n\n"
     ]
    }
   ],
   "source": [
    "#Iterating string using for loop\n",
    "\n",
    "str1 =\"Python310\"\n",
    "for i in str1:\n",
    "    print(i)\n",
    "    if i == 'n':\n",
    "        break\n",
    "    "
   ]
  },
  {
   "cell_type": "code",
   "execution_count": 20,
   "metadata": {},
   "outputs": [
    {
     "name": "stdout",
     "output_type": "stream",
     "text": [
      "1 X 5 = 5\n",
      "2 X 5 = 10\n",
      "3 X 5 = 15\n",
      "4 X 5 = 20\n",
      "5 X 5 = 25\n",
      "6 X 5 = 30\n",
      "7 X 5 = 35\n",
      "8 X 5 = 40\n",
      "9 X 5 = 45\n",
      "10 X 5 = 50\n"
     ]
    }
   ],
   "source": [
    "#Program to print the table of the given number .\n",
    "list = [1,2,3,4,5,6,7,8,9,10]\n",
    "n =5\n",
    "for i in list:\n",
    "    c = n *i\n",
    "    print(i, 'X', n, '=', c)"
   ]
  },
  {
   "cell_type": "code",
   "execution_count": 21,
   "metadata": {},
   "outputs": [
    {
     "name": "stdout",
     "output_type": "stream",
     "text": [
      "0123456789"
     ]
    }
   ],
   "source": [
    "#Program to print numbers in sequence.\n",
    "for i in range(10):\n",
    "    print(i, end ='')"
   ]
  },
  {
   "cell_type": "code",
   "execution_count": 25,
   "metadata": {},
   "outputs": [
    {
     "name": "stdout",
     "output_type": "stream",
     "text": [
      "2\n",
      "4\n",
      "6\n",
      "8\n",
      "10\n"
     ]
    }
   ],
   "source": [
    "# Program to print even number using step size in range().\n",
    "n = int(input(\"Enter  the number:\"))\n",
    "\n",
    "for i in range(2,n,2):\n",
    "    print(i)"
   ]
  },
  {
   "cell_type": "code",
   "execution_count": 30,
   "metadata": {},
   "outputs": [
    {
     "name": "stdout",
     "output_type": "stream",
     "text": [
      "Hello! Peter\n",
      "Hello! Saqlain\n",
      "Hello! Raju\n",
      "Hello! Joseph\n"
     ]
    }
   ],
   "source": [
    "#The len() function is combined with range() function which iterate through a sequence using indexing. \n",
    "\n",
    "list =['Peter', 'Saqlain', 'Raju','Joseph']\n",
    "for i in range(len(list)):\n",
    "    print(\"Hello!\",list[i])"
   ]
  },
  {
   "cell_type": "code",
   "execution_count": 32,
   "metadata": {},
   "outputs": [
    {
     "name": "stdout",
     "output_type": "stream",
     "text": [
      "\n",
      "*\n",
      "**\n",
      "***\n",
      "****\n",
      "*****\n",
      "******\n"
     ]
    }
   ],
   "source": [
    "#Nested for loop Syntax\n",
    "\n",
    "'''for iterating_var1 in sequence:  #outer loop  \n",
    "    for iterating_var2 in sequence:  #inner loop  \n",
    "        #block of statements     \n",
    "#Other statements '''\n",
    "\n",
    "## User input for number of rows  \n",
    "rows =int(input(\"Enter the row:\"))\n",
    "# Outer loop will print number of rows  \n",
    "for i in range(0, rows+1):\n",
    "\n",
    "# Inner loop will print number of Astrisk\n",
    "    for j in range(i):\n",
    "        print(\"*\",end='')\n",
    "    print()      \n",
    "\n"
   ]
  },
  {
   "cell_type": "code",
   "execution_count": 8,
   "metadata": {},
   "outputs": [
    {
     "name": "stdout",
     "output_type": "stream",
     "text": [
      "1\n",
      "2\n",
      "3\n",
      "4\n"
     ]
    }
   ],
   "source": [
    "#While loop\n",
    "\n",
    "i = 1\n",
    "while i < 10:\n",
    "    print(i)\n",
    "    if i == 4:\n",
    "        break\n",
    "    i += 1\n",
    "\n",
    "\n"
   ]
  },
  {
   "cell_type": "code",
   "execution_count": 17,
   "metadata": {},
   "outputs": [
    {
     "name": "stdout",
     "output_type": "stream",
     "text": [
      "2\n",
      "4\n",
      "5\n",
      "6\n",
      "7\n",
      "8\n",
      "9\n",
      "10\n",
      " i is not no longer less than 10.\n"
     ]
    }
   ],
   "source": [
    "i = 1\n",
    "while i < 10:\n",
    "    i += 1\n",
    "    if i == 3:\n",
    "        continue\n",
    "    print(i)\n",
    "else:\n",
    "    print(\" i is not no longer less than 10.\")    \n"
   ]
  },
  {
   "cell_type": "code",
   "execution_count": 1,
   "metadata": {},
   "outputs": [
    {
     "name": "stdout",
     "output_type": "stream",
     "text": [
      "The sum is 24976\n"
     ]
    }
   ],
   "source": [
    "# Program to add natural numbers up to sum = 1+2+3+...+n\n",
    "# To take input from the user,\n",
    "n = int(input(\"Enter n: \"))\n",
    "\n",
    "# initialize sum and counter\n",
    "sum = 0\n",
    "i = 1\n",
    "while i <= n:\n",
    "    sum = sum + i\n",
    "    i += 1  # update counter\n",
    "\n",
    "# print the sum\n",
    "print(\"The sum is\", sum)\n"
   ]
  }
 ],
 "metadata": {
  "interpreter": {
   "hash": "e753af4684f2c7650636e9fffdd6713faf1cc2bf488ab99a61a658f965dcfd17"
  },
  "kernelspec": {
   "display_name": "Python 3.10.0 64-bit (windows store)",
   "language": "python",
   "name": "python3"
  },
  "language_info": {
   "codemirror_mode": {
    "name": "ipython",
    "version": 3
   },
   "file_extension": ".py",
   "mimetype": "text/x-python",
   "name": "python",
   "nbconvert_exporter": "python",
   "pygments_lexer": "ipython3",
   "version": "3.10.0"
  },
  "orig_nbformat": 4
 },
 "nbformat": 4,
 "nbformat_minor": 2
}
