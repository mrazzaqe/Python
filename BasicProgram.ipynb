{
 "cells": [
  {
   "cell_type": "code",
   "execution_count": 1,
   "metadata": {},
   "outputs": [
    {
     "name": "stdout",
     "output_type": "stream",
     "text": [
      "Twinkle, twinkle, little star,\n",
      "\t\t How I wonder what you are!\n",
      "\t\t\t Up above the world so high,\n",
      "\t\t\t Like a diamond in the sky.\n",
      " Twinkle, twinkle, little star,\n",
      "\t\t How I wonder what you are\n"
     ]
    }
   ],
   "source": [
    "#\n",
    "print( \"Twinkle, twinkle, little star,\\n\\t\\t How I wonder what you are!\\n\\t\\t\\t Up above the world so high,\\n\\t\\t\\t Like a diamond in the sky.\\n Twinkle, twinkle, little star,\\n\\t\\t How I wonder what you are\" )"
   ]
  },
  {
   "cell_type": "code",
   "execution_count": 2,
   "metadata": {},
   "outputs": [
    {
     "name": "stdout",
     "output_type": "stream",
     "text": [
      "Python Version:\n",
      "3.8.5 (default, Sep  3 2020, 21:29:08) [MSC v.1916 64 bit (AMD64)]\n"
     ]
    }
   ],
   "source": [
    "#Write a Python program to get the Python version(way-1)\n",
    "import sys\n",
    "print(\"Python Version:\")\n",
    "print(sys.version)"
   ]
  },
  {
   "cell_type": "code",
   "execution_count": 4,
   "metadata": {},
   "outputs": [
    {
     "name": "stdout",
     "output_type": "stream",
     "text": [
      "Python Version:\n",
      "3.8.5\n"
     ]
    }
   ],
   "source": [
    "#Write a Python program to get the Python version(way-2)\n",
    "import platform\n",
    "print(\"Python Version:\")\n",
    "print(platform.python_version())"
   ]
  },
  {
   "cell_type": "code",
   "execution_count": 5,
   "metadata": {},
   "outputs": [
    {
     "name": "stdout",
     "output_type": "stream",
     "text": [
      "Current Date and Time:\n",
      "2021-11-05 19:20:59\n"
     ]
    }
   ],
   "source": [
    "# 3. Write a Python program to display the current date and time.\n",
    "import datetime\n",
    "now = datetime.datetime.now()\n",
    "print(\"Current Date and Time:\")\n",
    "print(now.strftime(\"%Y-%m-%d %H:%M:%S\"))"
   ]
  },
  {
   "cell_type": "code",
   "execution_count": 12,
   "metadata": {},
   "outputs": [
    {
     "name": "stdout",
     "output_type": "stream",
     "text": [
      "The Area of circle is: 78.53975\n"
     ]
    }
   ],
   "source": [
    "#4. Write a Python program which accepts the radius of a circle from the user and compute the area. \n",
    "radius =float(input(\"Enter Radius:\"))\n",
    "area= str(pi * radius**2)\n",
    "print(\"The Area of circle is:\", area)"
   ]
  },
  {
   "cell_type": "code",
   "execution_count": 14,
   "metadata": {},
   "outputs": [
    {
     "name": "stdout",
     "output_type": "stream",
     "text": [
      "Razzaqe Abdur\n"
     ]
    }
   ],
   "source": [
    "#5. Write a Python program which accepts the user's first and last name and print them in reverse order with a space between them\n",
    "Fname=input(\"Enter your First Name:\")\n",
    "Lname=input(\"Enter your last Name:\")\n",
    "\n",
    "print(Lname+\" \"+Fname)"
   ]
  },
  {
   "cell_type": "code",
   "execution_count": 30,
   "metadata": {},
   "outputs": [
    {
     "name": "stdout",
     "output_type": "stream",
     "text": [
      "List: ['3,4,5,6,7']\n"
     ]
    }
   ],
   "source": [
    "#6. Write a Python program which accepts a sequence of comma-separated numbers from user and generate a list and a tuple with those numbers.\n",
    "values = input(\"Input comma separated number:\")\n",
    "\n",
    "lists = values.split()\n",
    "#tuple = tuple(lists)\n",
    "\n",
    "print(\"List:\", lists)\n",
    "#print(\"Tuple:\", tuple)"
   ]
  },
  {
   "cell_type": "code",
   "execution_count": 28,
   "metadata": {},
   "outputs": [
    {
     "name": "stdout",
     "output_type": "stream",
     "text": [
      "The file extension is: java\n",
      "\n"
     ]
    }
   ],
   "source": [
    "#7. Write a Python program to accept a filename from the user and print the extension of that.\n",
    "\n",
    "filename = input(\"Enter the file name with extension:\")\n",
    "f_extns = filename.split(\".\")\n",
    "\n",
    "print(\"The file extension is:\", f_extns[-1])\n",
    "\n",
    "print()"
   ]
  },
  {
   "cell_type": "code",
   "execution_count": 37,
   "metadata": {},
   "outputs": [
    {
     "name": "stdout",
     "output_type": "stream",
     "text": [
      "First Color:Red\n",
      "Last color:Black\n"
     ]
    }
   ],
   "source": [
    "#8. Write a Python program to display the first and last colors from the following list.\n",
    "color_list = [\"Red\", \"Green\", \"White\",\"Black\"]\n",
    "print(f'First Color:{color_list[0]}\\nLast color:{color_list[-1]}')"
   ]
  },
  {
   "cell_type": "code",
   "execution_count": null,
   "metadata": {},
   "outputs": [],
   "source": [
    "#"
   ]
  }
 ],
 "metadata": {
  "interpreter": {
   "hash": "e753af4684f2c7650636e9fffdd6713faf1cc2bf488ab99a61a658f965dcfd17"
  },
  "kernelspec": {
   "display_name": "Python 3.10.0 64-bit (windows store)",
   "language": "python",
   "name": "python3"
  },
  "language_info": {
   "codemirror_mode": {
    "name": "ipython",
    "version": 3
   },
   "file_extension": ".py",
   "mimetype": "text/x-python",
   "name": "python",
   "nbconvert_exporter": "python",
   "pygments_lexer": "ipython3",
   "version": "3.8.5"
  },
  "orig_nbformat": 4
 },
 "nbformat": 4,
 "nbformat_minor": 2
}
