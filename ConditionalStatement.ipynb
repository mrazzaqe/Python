{
 "cells": [
  {
   "cell_type": "code",
   "execution_count": 7,
   "metadata": {},
   "outputs": [
    {
     "name": "stdout",
     "output_type": "stream",
     "text": [
      "0\n"
     ]
    }
   ],
   "source": [
    "#Check if a Number is Positive, Negative or 0\n",
    "\n",
    "num = int(input(\"Enter a number:\"))\n",
    "if num > 0:\n",
    "    print(num,\"is a positive number.\")\n",
    "elif num < 0:\n",
    "    print(num, \"is a negative number.\")\n",
    "else:\n",
    "    print(num,)        "
   ]
  },
  {
   "cell_type": "code",
   "execution_count": 11,
   "metadata": {},
   "outputs": [
    {
     "name": "stdout",
     "output_type": "stream",
     "text": [
      "99 is a odd number.\n"
     ]
    }
   ],
   "source": [
    "#Python Program Check if a Number is Odd or Even\n",
    "num1 = int(input(\"Enter a number:\"))\n",
    "\n",
    "if num1%2 == 0:\n",
    "    print(num1,\"is a even number.\")\n",
    "else:\n",
    "    print(num1, \"is a odd number.\")    "
   ]
  },
  {
   "cell_type": "code",
   "execution_count": 21,
   "metadata": {},
   "outputs": [
    {
     "name": "stdout",
     "output_type": "stream",
     "text": [
      "2020 is a leap year.\n"
     ]
    }
   ],
   "source": [
    "#Python Program to Check Leap Year\n",
    "year = int(input(\"Enter a year:\"))\n",
    "\n",
    "if (year % 4) == 0:\n",
    "    if (year % 100) == 0:\n",
    "        if (year % 400) ==0:\n",
    "            print(year, \"is a leap year.\")\n",
    "        else:\n",
    "            print(year, \"is not a leap year.\")\n",
    "    else:\n",
    "        print(year, 'is a leap year.')\n",
    "else:\n",
    "    print(year, 'is not a leap year.')                    "
   ]
  },
  {
   "cell_type": "code",
   "execution_count": 24,
   "metadata": {},
   "outputs": [
    {
     "name": "stdout",
     "output_type": "stream",
     "text": [
      "Num1: 234 \n",
      "Num2: 456 \n",
      "Num3: 670\n",
      "670  is the largest among the three numbers.\n"
     ]
    }
   ],
   "source": [
    "#Python Program to Find the Largest Among Three Numbers\n",
    "num1 = int(input(\"Enter 1st Number:\"))\n",
    "num2 =int(input(\"Enter  2nd Number:\"))\n",
    "num3 = int(input(\"Enter 3rd Number:\"))\n",
    "print(\"Num1:\", num1 ,\"\\nNum2:\", num2, '\\nNum3:', num3)\n",
    "\n",
    "if (num1 > num2) and (num1 > num3):\n",
    "    print(num1, \" is the largest among three the numbers\")\n",
    "elif (num2 > num1) and (num2 > num3):\n",
    "    print(num3,\" is the largest among the  three numbers\")    \n",
    "else:\n",
    "    print(num3, \" is the largest among the three numbers.\")    \n"
   ]
  },
  {
   "cell_type": "code",
   "execution_count": null,
   "metadata": {},
   "outputs": [],
   "source": [
    "#Python Program to Check Prime Number\n"
   ]
  },
  {
   "cell_type": "code",
   "execution_count": 1,
   "metadata": {},
   "outputs": [
    {
     "name": "stdout",
     "output_type": "stream",
     "text": [
      "1505,1540,1575,1610,1645,1680,1715,1750,1785,1820,1855,1890,1925,1960,1995,2030,2065,2100,2135,2170,2205,2240,2275,2310,2345,2380,2415,2450,2485,2520,2555,2590,2625,2660,2695\n"
     ]
    }
   ],
   "source": [
    "#1. Write a Python program to find those numbers which are divisible by 7 and multiple of 5, between 1500 and 2700 (both included).\n",
    "\n",
    "number = []\n",
    "\n",
    "for n in range(1500, 2700):\n",
    "    if n%7 == 0 and n%5 == 0:\n",
    "        number.append(str(n))\n",
    "print(','.join(number))"
   ]
  },
  {
   "cell_type": "code",
   "execution_count": 11,
   "metadata": {},
   "outputs": [
    {
     "name": "stdout",
     "output_type": "stream",
     "text": [
      "60 °C is 140 in Fahrenheit and 45 °F is 7 in Celsius.\n"
     ]
    }
   ],
   "source": [
    "#2. Write a Python program to convert temperatures to and from celsius, fahrenheit.\n",
    "# [ Formula : c/5 = f-32/9 [ where c = temperature in celsius and f = temperature in fahrenheit ]\n",
    "#Expected Output : 60°C is 140 in Fahrenheit and 45°F is 7 in Celsius\n",
    "\n",
    "Celsius =int(input(\"Enter a tempareture in celsius:\"))\n",
    "Fah = int(input(\"Enter temperatur in Fahrenheit:\"))\n",
    "\n",
    "c = Celsius\n",
    "f =int(c*(9/5)+32)\n",
    "\n",
    "d = Fah\n",
    "g =int((d-32)*(5/9))\n",
    "print(c,\"°C is\",f,\"in Fahrenheit and\",d,\"°F is\",g,\"in Celsius.\")"
   ]
  },
  {
   "cell_type": "code",
   "execution_count": 1,
   "metadata": {},
   "outputs": [
    {
     "ename": "KeyboardInterrupt",
     "evalue": "Interrupted by user",
     "output_type": "error",
     "traceback": [
      "\u001b[1;31m---------------------------------------------------------------------------\u001b[0m",
      "\u001b[1;31mKeyboardInterrupt\u001b[0m                         Traceback (most recent call last)",
      "\u001b[1;32mC:\\Users\\ABDURR~1\\AppData\\Local\\Temp/ipykernel_4684/1487234594.py\u001b[0m in \u001b[0;36m<module>\u001b[1;34m\u001b[0m\n\u001b[0;32m      8\u001b[0m \u001b[1;33m\u001b[0m\u001b[0m\n\u001b[0;32m      9\u001b[0m \u001b[1;32mwhile\u001b[0m \u001b[0mtarget_num\u001b[0m \u001b[1;33m!=\u001b[0m \u001b[0mguess_num\u001b[0m\u001b[1;33m:\u001b[0m\u001b[1;33m\u001b[0m\u001b[1;33m\u001b[0m\u001b[0m\n\u001b[1;32m---> 10\u001b[1;33m     \u001b[0mguess_num\u001b[0m \u001b[1;33m=\u001b[0m\u001b[0minput\u001b[0m\u001b[1;33m(\u001b[0m\u001b[1;34m\"Enter a guess number between 1 to 10 until you get it right:\"\u001b[0m\u001b[1;33m)\u001b[0m\u001b[1;33m\u001b[0m\u001b[1;33m\u001b[0m\u001b[0m\n\u001b[0m\u001b[0;32m     11\u001b[0m \u001b[1;33m\u001b[0m\u001b[0m\n\u001b[0;32m     12\u001b[0m \u001b[0mprint\u001b[0m\u001b[1;33m(\u001b[0m\u001b[1;34m\"Well gussed!\"\u001b[0m\u001b[1;33m)\u001b[0m\u001b[1;33m\u001b[0m\u001b[1;33m\u001b[0m\u001b[0m\n",
      "\u001b[1;32mC:\\Python3.10\\lib\\site-packages\\ipykernel\\kernelbase.py\u001b[0m in \u001b[0;36mraw_input\u001b[1;34m(self, prompt)\u001b[0m\n\u001b[0;32m   1004\u001b[0m                 \u001b[1;34m\"raw_input was called, but this frontend does not support input requests.\"\u001b[0m\u001b[1;33m\u001b[0m\u001b[1;33m\u001b[0m\u001b[0m\n\u001b[0;32m   1005\u001b[0m             )\n\u001b[1;32m-> 1006\u001b[1;33m         return self._input_request(\n\u001b[0m\u001b[0;32m   1007\u001b[0m             \u001b[0mstr\u001b[0m\u001b[1;33m(\u001b[0m\u001b[0mprompt\u001b[0m\u001b[1;33m)\u001b[0m\u001b[1;33m,\u001b[0m\u001b[1;33m\u001b[0m\u001b[1;33m\u001b[0m\u001b[0m\n\u001b[0;32m   1008\u001b[0m             \u001b[0mself\u001b[0m\u001b[1;33m.\u001b[0m\u001b[0m_parent_ident\u001b[0m\u001b[1;33m[\u001b[0m\u001b[1;34m\"shell\"\u001b[0m\u001b[1;33m]\u001b[0m\u001b[1;33m,\u001b[0m\u001b[1;33m\u001b[0m\u001b[1;33m\u001b[0m\u001b[0m\n",
      "\u001b[1;32mC:\\Python3.10\\lib\\site-packages\\ipykernel\\kernelbase.py\u001b[0m in \u001b[0;36m_input_request\u001b[1;34m(self, prompt, ident, parent, password)\u001b[0m\n\u001b[0;32m   1049\u001b[0m             \u001b[1;32mexcept\u001b[0m \u001b[0mKeyboardInterrupt\u001b[0m\u001b[1;33m:\u001b[0m\u001b[1;33m\u001b[0m\u001b[1;33m\u001b[0m\u001b[0m\n\u001b[0;32m   1050\u001b[0m                 \u001b[1;31m# re-raise KeyboardInterrupt, to truncate traceback\u001b[0m\u001b[1;33m\u001b[0m\u001b[1;33m\u001b[0m\u001b[0m\n\u001b[1;32m-> 1051\u001b[1;33m                 \u001b[1;32mraise\u001b[0m \u001b[0mKeyboardInterrupt\u001b[0m\u001b[1;33m(\u001b[0m\u001b[1;34m\"Interrupted by user\"\u001b[0m\u001b[1;33m)\u001b[0m \u001b[1;32mfrom\u001b[0m \u001b[1;32mNone\u001b[0m\u001b[1;33m\u001b[0m\u001b[1;33m\u001b[0m\u001b[0m\n\u001b[0m\u001b[0;32m   1052\u001b[0m             \u001b[1;32mexcept\u001b[0m \u001b[0mException\u001b[0m\u001b[1;33m:\u001b[0m\u001b[1;33m\u001b[0m\u001b[1;33m\u001b[0m\u001b[0m\n\u001b[0;32m   1053\u001b[0m                 \u001b[0mself\u001b[0m\u001b[1;33m.\u001b[0m\u001b[0mlog\u001b[0m\u001b[1;33m.\u001b[0m\u001b[0mwarning\u001b[0m\u001b[1;33m(\u001b[0m\u001b[1;34m\"Invalid Message:\"\u001b[0m\u001b[1;33m,\u001b[0m \u001b[0mexc_info\u001b[0m\u001b[1;33m=\u001b[0m\u001b[1;32mTrue\u001b[0m\u001b[1;33m)\u001b[0m\u001b[1;33m\u001b[0m\u001b[1;33m\u001b[0m\u001b[0m\n",
      "\u001b[1;31mKeyboardInterrupt\u001b[0m: Interrupted by user"
     ]
    }
   ],
   "source": [
    "#3. Write a Python program to guess a number between 1 to 9.\n",
    "#Note : User is prompted to enter a guess. If the user guesses wrong then the prompt appears again until the guess is correct,\n",
    "# on successful guess, user will get a \"Well guessed!\" message, and the program will exit.\n",
    "\n",
    "import random\n",
    "target_num= random.randint(1 ,9)\n",
    "guess_num = 0\n",
    "\n",
    "while target_num != guess_num:\n",
    "    guess_num =input(\"Enter a guess number between 1 to 10 until you get it right:\")\n",
    "     \n",
    "print(\"Well gussed!\")    \n"
   ]
  },
  {
   "cell_type": "code",
   "execution_count": 5,
   "metadata": {},
   "outputs": [
    {
     "name": "stdout",
     "output_type": "stream",
     "text": [
      "1\n"
     ]
    }
   ],
   "source": [
    "import random\n",
    "target_num = random.randint(1,10)\n",
    "print(target_num)"
   ]
  },
  {
   "cell_type": "code",
   "execution_count": 8,
   "metadata": {},
   "outputs": [
    {
     "name": "stdout",
     "output_type": "stream",
     "text": [
      "My name is abdur razzaqe. I am from dhaka.\n",
      "9\n"
     ]
    }
   ],
   "source": [
    "# Write a python program where you take some text from user and count the total word in given text.\n",
    "\n",
    "text = input(\"Enter your text:\")\n",
    "\n",
    "count = 0\n",
    "for char in text:\n",
    "    if char == \" \":\n",
    "        count = count +1\n",
    "#addcount for last char\n",
    "count = count + 1\n",
    "print(text)\n",
    "print(count)        "
   ]
  },
  {
   "cell_type": "code",
   "execution_count": 18,
   "metadata": {},
   "outputs": [
    {
     "name": "stdout",
     "output_type": "stream",
     "text": [
      "My name is Muhammad Abdur Razzaqe and I am 40 years old.\n",
      "17\n"
     ]
    }
   ],
   "source": [
    "# Write a python program where you take some text from user and count the total vowel in given text.\n",
    "\n",
    "text =input(\"Enter a sentence:\")\n",
    "\n",
    "vowel = ['a','e','i','o','u','A','E','I','O','U']\n",
    "count = 0\n",
    "for n in text:\n",
    "    if n in vowel:\n",
    "        count = count + 1\n",
    "print(text)        \n",
    "print(count)        "
   ]
  },
  {
   "cell_type": "code",
   "execution_count": 24,
   "metadata": {},
   "outputs": [
    {
     "name": "stdout",
     "output_type": "stream",
     "text": [
      "[10, 20, 30, 40, 50, 60]\n"
     ]
    }
   ],
   "source": [
    "# Write a python program to remove duplicate items from the list\n",
    "\n",
    "list1 = [10,20,30,10,30,40,50,60,50]\n",
    "\n",
    "dul_item = set()\n",
    "uniq_item =[]\n",
    "\n",
    "for n in list1:\n",
    "    if n not in dul_item:\n",
    "        uniq_item.append(n)\n",
    "        dul_item.add(n)\n",
    "\n",
    "print(uniq_item)        \n",
    "    "
   ]
  },
  {
   "cell_type": "code",
   "execution_count": 34,
   "metadata": {},
   "outputs": [
    {
     "name": "stdout",
     "output_type": "stream",
     "text": [
      " \n",
      "*  \n",
      "* *  \n",
      "* * *  \n",
      "* * * *  \n",
      "* * * * *  \n",
      "* * * *  \n",
      "* * *  \n",
      "* *  \n",
      "*  \n"
     ]
    }
   ],
   "source": [
    "#4. Write a Python program to construct the following pattern, using a nested for loop.\n",
    "# \n",
    "# #\n",
    "# # #\n",
    "# # # #\n",
    "# # # # #\n",
    "# # # #\n",
    "# # #\n",
    "# #\n",
    "#\n",
    "row = 5\n",
    "for i in range(0, row+1):\n",
    "    for j in range(0,i):\n",
    "        print(\"*\", end=\" \")\n",
    "    print(\" \")     \n",
    "for i in range(row-1, 0, -1):\n",
    "    for j in range(0,i):\n",
    "        print(\"*\", end=\" \")\n",
    "    print(\" \")            \n"
   ]
  },
  {
   "cell_type": "code",
   "execution_count": 38,
   "metadata": {},
   "outputs": [
    {
     "name": "stdout",
     "output_type": "stream",
     "text": [
      "1505 1540 1575 1610 1645 1680 1715 1750 1785 1820 1855 1890 1925 1960 1995 2030 2065 2100 2135 2170 2205 2240 2275 2310 2345 2380 2415 2450 2485 2520 2555 2590 2625 2660 2695 "
     ]
    }
   ],
   "source": [
    "#1. Write a Python program to find those numbers which are divisible by 7 and multiple of 5, between 1500 and 2700 (both included).\n",
    "\n",
    "for x in range(1500, 2700):\n",
    "    if x%7 == 0 and x%5 == 0:\n",
    "        print(x, end =\" \")"
   ]
  },
  {
   "cell_type": "code",
   "execution_count": 8,
   "metadata": {},
   "outputs": [
    {
     "name": "stdout",
     "output_type": "stream",
     "text": [
      "emocleW\n",
      " \n"
     ]
    }
   ],
   "source": [
    "#5. Write a Python program that accepts a word from the user and reverse it.\n",
    "word = input(\"enter a word:\")\n",
    "\n",
    "for char in range(len(word)-1, -1, -1):\n",
    "    print(word[char], end= \"\")\n",
    "print(\"\\n \")    \n"
   ]
  },
  {
   "cell_type": "code",
   "execution_count": 19,
   "metadata": {},
   "outputs": [
    {
     "name": "stdout",
     "output_type": "stream",
     "text": [
      "Number of even numbers: 4\n",
      "Number of odd numbers: 5\n"
     ]
    }
   ],
   "source": [
    "#6. Write a Python program to count the number of even and odd numbers from a series of numbers.\n",
    "\n",
    "numbers = (1, 2, 3, 4, 5, 6, 7, 8, 9)\n",
    "\n",
    "even =0\n",
    "odd =0\n",
    "\n",
    "for i in numbers:\n",
    "    if i%2 == 0:\n",
    "        even +=1\n",
    "    else:\n",
    "        odd += 1\n",
    "print(\"Number of even numbers:\", even)  \n",
    "print(\"Number of odd numbers:\",odd)         \n"
   ]
  },
  {
   "cell_type": "code",
   "execution_count": 21,
   "metadata": {},
   "outputs": [
    {
     "name": "stdout",
     "output_type": "stream",
     "text": [
      "The type of 1452 is <class 'int'>\n",
      "The type of 11.23 is <class 'float'>\n",
      "The type of (1+2j) is <class 'complex'>\n",
      "The type of True is <class 'bool'>\n",
      "The type of w3resource is <class 'str'>\n",
      "The type of (0, -1) is <class 'tuple'>\n",
      "The type of [5, 12] is <class 'list'>\n",
      "The type of {'class': 'V', 'section': 'A'} is <class 'dict'>\n"
     ]
    }
   ],
   "source": [
    "#7. Write a Python program that prints each item and its corresponding type from the following list.\n",
    "\n",
    "datalist = [1452, 11.23, 1+2j, True, 'w3resource', (0, -1), [5, 12], {\"class\":'V', \"section\":'A'}]\n",
    "\n",
    "for i in datalist:\n",
    "    print(\"The type of\",i,\"is\", type(i))\n"
   ]
  },
  {
   "cell_type": "code",
   "execution_count": 29,
   "metadata": {},
   "outputs": [
    {
     "name": "stdout",
     "output_type": "stream",
     "text": [
      "0\n",
      "1\n",
      "2\n",
      "4\n",
      "5\n"
     ]
    }
   ],
   "source": [
    "# 8. Write a Python program that prints all the numbers from 0 to 6 except 3 and 6.\n",
    "#Note : Use 'continue' statement.\n",
    "#Expected Output : 0 1 2 4 5\n",
    "\n",
    "numbers = (0,1,2,3,4,5,6)\n",
    "for i in numbers:\n",
    "    if i == 3 or i == 6:\n",
    "        continue\n",
    "    print(i)\n",
    "  \n",
    "     "
   ]
  },
  {
   "cell_type": "code",
   "execution_count": 10,
   "metadata": {},
   "outputs": [
    {
     "name": "stdout",
     "output_type": "stream",
     "text": [
      " \n",
      "*  \n",
      "* *  \n",
      "* * *  \n",
      "* * * *  \n",
      "* * * * *  \n",
      "* * * *  \n",
      "* * *  \n",
      "* *  \n",
      "*  \n"
     ]
    }
   ],
   "source": [
    "row = 5\n",
    "for i in range(0, row+1):\n",
    "    for j in range(0, i):\n",
    "        print(\"*\", end=\" \")\n",
    "    print(\" \")    \n",
    "for i in range(row-1, 0, -1):\n",
    "    for j in range(0, i):\n",
    "        print(\"*\", end=\" \")\n",
    "    print(\" \")    \n"
   ]
  },
  {
   "cell_type": "code",
   "execution_count": 12,
   "metadata": {},
   "outputs": [
    {
     "name": "stdout",
     "output_type": "stream",
     "text": [
      "e\n",
      "n\n",
      "t\n",
      "e\n",
      "r\n"
     ]
    }
   ],
   "source": []
  },
  {
   "cell_type": "code",
   "execution_count": 38,
   "metadata": {},
   "outputs": [
    {
     "name": "stdout",
     "output_type": "stream",
     "text": [
      "1\n",
      "1\n",
      "2\n",
      "3\n",
      "5\n",
      "8\n",
      "13\n",
      "21\n",
      "34\n"
     ]
    }
   ],
   "source": [
    "# 9. Write a Python program to get the Fibonacci series between 0 to 50.\n",
    "#Expected Output : 0 1 1 2 3 5 8 13 21 34\n",
    "a =1\n",
    "b = 0\n",
    "\n",
    "x = 50\n",
    "\n",
    "while a < x:\n",
    "    c = b\n",
    "    b = a\n",
    "    print(a)\n",
    "    a = c+b\n"
   ]
  },
  {
   "cell_type": "code",
   "execution_count": 47,
   "metadata": {},
   "outputs": [
    {
     "name": "stdout",
     "output_type": "stream",
     "text": [
      "1 2 Fizz 4 Buzz Fizz 7 8 Fizz Buzz 11 Fizz 13 14 FizzBuzz 16 17 Fizz 19 Buzz Fizz 22 23 Fizz Buzz 26 Fizz 28 29 FizzBuzz 31 32 Fizz 34 Buzz Fizz 37 38 Fizz Buzz 41 Fizz 43 44 FizzBuzz 46 47 Fizz 49 "
     ]
    }
   ],
   "source": [
    "#10. Write a Python program which iterates the integers from 1 to 50.\n",
    "#  For multiples of three print \"Fizz\" instead of the number and for the multiples of five print \"Buzz\".\n",
    "#  For numbers which are multiples of both three and five print \"FizzBuzz\".\n",
    "\n",
    "for i in range(1,50):\n",
    "    if i%3 == 0:\n",
    "        if i%5 == 0:\n",
    "            i = \"FizzBuzz\"\n",
    "        else:\n",
    "            i = \"Fizz\"    \n",
    "    elif i%5 == 0:\n",
    "        i = \"Buzz\"  \n",
    "    else:\n",
    "        i \n",
    "    print(i, end=\" \")          \n",
    "\n",
    "                    "
   ]
  },
  {
   "cell_type": "code",
   "execution_count": 49,
   "metadata": {},
   "outputs": [
    {
     "name": "stdout",
     "output_type": "stream",
     "text": [
      "1 2 Fizz 4 5 Fizz 7 8 Fizz 10 11 Fizz 13 14 FizzBuzz 16 17 Fizz 19 20 Fizz 22 23 Fizz 25 26 Fizz 28 29 FizzBuzz 31 32 Fizz 34 35 Fizz 37 38 Fizz 40 41 Fizz 43 44 FizzBuzz 46 47 Fizz 49 "
     ]
    }
   ],
   "source": [
    "for i in range(1,50):\n",
    "    if (i%3==0 and i%5==0):\n",
    "        i =\"FizzBuzz\"\n",
    "    elif i%3 == 0:\n",
    "        i =\"Fizz\"\n",
    "    elif 1%5 ==0:\n",
    "        i = \"Buzz\"\n",
    "    print(i, end =\" \")            "
   ]
  },
  {
   "cell_type": "code",
   "execution_count": 62,
   "metadata": {},
   "outputs": [
    {
     "name": "stdout",
     "output_type": "stream",
     "text": [
      "[[0, 0, 0, 0], [0, 1, 2, 3], [0, 2, 4, 6]]\n"
     ]
    }
   ],
   "source": [
    "#11. Write a Python program which takes two digits m (row) and n (column) as input and generates a two-dimensional array. \n",
    "# The element value in the i-th row and j-th column of the array should be i*j.\n",
    "m =int(input(\"Enter number of rows\"))\n",
    "n =int(input(\"Enter number of column\"))\n",
    "\n",
    "arr=[[0 for j in range(n)] for i in range(m)]\n",
    "\n",
    "for i in range(m):\n",
    "    for j in range(n):\n",
    "        arr[i][j] = i*j\n",
    "print(arr)    \n",
    "  "
   ]
  },
  {
   "cell_type": "code",
   "execution_count": 69,
   "metadata": {},
   "outputs": [
    {
     "name": "stdout",
     "output_type": "stream",
     "text": [
      "this is my pen\n",
      "the pen is red\n"
     ]
    }
   ],
   "source": [
    "#12. Write a Python program that accepts a sequence of lines (blank line to terminate) as input \n",
    "# and prints the lines as output (all characters in lower case).\n",
    "\n",
    "line = []\n",
    "while True:\n",
    "    l= input()\n",
    "    if l:\n",
    "        line.append(l.lower())\n",
    "    else:\n",
    "        break    \n",
    "for l in line:\n",
    "    print(l)   \n"
   ]
  },
  {
   "cell_type": "code",
   "execution_count": 87,
   "metadata": {},
   "outputs": [
    {
     "ename": "TypeError",
     "evalue": "'int' object is not iterable",
     "output_type": "error",
     "traceback": [
      "\u001b[1;31m---------------------------------------------------------------------------\u001b[0m",
      "\u001b[1;31mTypeError\u001b[0m                                 Traceback (most recent call last)",
      "\u001b[1;32mC:\\Users\\ABDURR~1\\AppData\\Local\\Temp/ipykernel_12812/827361164.py\u001b[0m in \u001b[0;36m<module>\u001b[1;34m\u001b[0m\n\u001b[0;32m      8\u001b[0m             \u001b[0mnum\u001b[0m\u001b[1;33m=\u001b[0m\u001b[0mmax_num\u001b[0m\u001b[1;33m\u001b[0m\u001b[1;33m\u001b[0m\u001b[0m\n\u001b[0;32m      9\u001b[0m     \u001b[1;32mreturn\u001b[0m \u001b[0mmax_num\u001b[0m\u001b[1;33m\u001b[0m\u001b[1;33m\u001b[0m\u001b[0m\n\u001b[1;32m---> 10\u001b[1;33m \u001b[0mprint\u001b[0m\u001b[1;33m(\u001b[0m\u001b[0mfind_max\u001b[0m\u001b[1;33m(\u001b[0m\u001b[1;36m100\u001b[0m\u001b[1;33m)\u001b[0m\u001b[1;33m)\u001b[0m\u001b[1;33m\u001b[0m\u001b[1;33m\u001b[0m\u001b[0m\n\u001b[0m",
      "\u001b[1;32mC:\\Users\\ABDURR~1\\AppData\\Local\\Temp/ipykernel_12812/827361164.py\u001b[0m in \u001b[0;36mfind_max\u001b[1;34m(nums)\u001b[0m\n\u001b[0;32m      4\u001b[0m \u001b[1;32mdef\u001b[0m \u001b[0mfind_max\u001b[0m\u001b[1;33m(\u001b[0m\u001b[0mnums\u001b[0m\u001b[1;33m)\u001b[0m\u001b[1;33m:\u001b[0m\u001b[1;33m\u001b[0m\u001b[1;33m\u001b[0m\u001b[0m\n\u001b[0;32m      5\u001b[0m     \u001b[0mmax_num\u001b[0m \u001b[1;33m=\u001b[0m \u001b[0mfloat\u001b[0m\u001b[1;33m(\u001b[0m\u001b[1;34m\"-inf\"\u001b[0m\u001b[1;33m)\u001b[0m \u001b[1;31m# smaller than all other numbers\u001b[0m\u001b[1;33m\u001b[0m\u001b[1;33m\u001b[0m\u001b[0m\n\u001b[1;32m----> 6\u001b[1;33m     \u001b[1;32mfor\u001b[0m \u001b[0mnum\u001b[0m \u001b[1;32min\u001b[0m \u001b[0mnums\u001b[0m\u001b[1;33m:\u001b[0m\u001b[1;33m\u001b[0m\u001b[1;33m\u001b[0m\u001b[0m\n\u001b[0m\u001b[0;32m      7\u001b[0m         \u001b[1;32mif\u001b[0m \u001b[0mnum\u001b[0m \u001b[1;33m>\u001b[0m \u001b[0mmax_num\u001b[0m\u001b[1;33m:\u001b[0m\u001b[1;33m\u001b[0m\u001b[1;33m\u001b[0m\u001b[0m\n\u001b[0;32m      8\u001b[0m             \u001b[0mnum\u001b[0m\u001b[1;33m=\u001b[0m\u001b[0mmax_num\u001b[0m\u001b[1;33m\u001b[0m\u001b[1;33m\u001b[0m\u001b[0m\n",
      "\u001b[1;31mTypeError\u001b[0m: 'int' object is not iterable"
     ]
    }
   ],
   "source": [
    "#13. Write a Python program which accepts a sequence of comma separated 4 digit binary numbers \n",
    "# as its input and print the numbers that are divisible by 5 in a comma separated sequence.\n",
    "\n",
    "def find_max(nums):\n",
    "    max_num = float(\"-inf\") # smaller than all other numbers\n",
    "    for num in nums:\n",
    "        if num > max_num:\n",
    "            num=max_num \n",
    "    return max_num\n",
    "print(find_max(100))    \n"
   ]
  }
 ],
 "metadata": {
  "interpreter": {
   "hash": "e753af4684f2c7650636e9fffdd6713faf1cc2bf488ab99a61a658f965dcfd17"
  },
  "kernelspec": {
   "display_name": "Python 3.10.0 64-bit (windows store)",
   "language": "python",
   "name": "python3"
  },
  "language_info": {
   "codemirror_mode": {
    "name": "ipython",
    "version": 3
   },
   "file_extension": ".py",
   "mimetype": "text/x-python",
   "name": "python",
   "nbconvert_exporter": "python",
   "pygments_lexer": "ipython3",
   "version": "3.10.0"
  },
  "orig_nbformat": 4
 },
 "nbformat": 4,
 "nbformat_minor": 2
}
