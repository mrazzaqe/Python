{
 "cells": [
  {
   "cell_type": "code",
   "execution_count": null,
   "metadata": {},
   "outputs": [],
   "source": [
    "# Task 1\n",
    "# Take a number from user\n",
    "# Greater than 64 and even number\n",
    "num = int(input(\"Enter a number:\"))\n",
    "if num >= 64 and num%2 == 0:\n",
    "    if num == 64:\n",
    "        print(num, \" is equql to 64 and even number\")\n",
    "    else:    \n",
    "        print(num , \"is greater than 64 and even\")\n",
    "elif num < 64 and num%2 == 0:\n",
    "    print(num,\" is less than 64 and even\")\n",
    "else:\n",
    "    print(num, \"odd number\")  "
   ]
  },
  {
   "cell_type": "code",
   "execution_count": null,
   "metadata": {},
   "outputs": [],
   "source": [
    "## Task 2\n",
    "# Sum of Results\n",
    "# Take two number from user\n",
    "# Show Sum (Addition, Subtraction, Multiplication and Division)\n",
    "num1 =int(input(\"Enter 1st Number:\"))\n",
    "num2 = int(input(\"Enter 2nd Number:\"))\n",
    "print(\"The 1st Number is:\", num1, \"\\nThe 2nd Number is:\", num2)\n",
    "add = num1 + num2\n",
    "sub = num1 - num2\n",
    "mul = num1 * num2\n",
    "div = num1 / num2\n",
    "\n",
    "sum = (add+sub+mul+div)\n",
    "print(\"The sum of result is:\", sum)"
   ]
  },
  {
   "cell_type": "code",
   "execution_count": 19,
   "metadata": {},
   "outputs": [
    {
     "name": "stdout",
     "output_type": "stream",
     "text": [
      "Door Opening...\n"
     ]
    }
   ],
   "source": [
    "#Task3 Smart door\n",
    "# Take password from user password = open@123, if password is matches then print Open the door\n",
    "# if password is not match then print wrong password, try again\n",
    "#Maxtry = 3\n",
    "Maxtry = 0\n",
    "password = 'open123'\n",
    "while Maxtry < 3:  # define the maximum try\n",
    "    pw =input(\"Enter door password:\") # take password from user\n",
    "    if pw == password: # Check match with user given password and define password\n",
    "        print(\"Door Opening...\")\n",
    "        break \n",
    "    else:\n",
    "        print(\"Wrong passward, please try again\")  \n",
    "    Maxtry +=1 # update the maxTry\n",
    "    if Maxtry == 3 and pw != 'open123':\n",
    "        \n",
    "        print(\"You try 3 time with wrong passward and the Door is loocked\")  \n",
    "          \n"
   ]
  },
  {
   "cell_type": "code",
   "execution_count": null,
   "metadata": {},
   "outputs": [],
   "source": [
    "#Task3 Smart door\n",
    "# Take password from user password = open@123, if password is matches then print Open the door\n",
    "# if password is not match then print wrong password, try again\n",
    "#Maxtry = 3\n",
    "# add reset option\n",
    "\n",
    "Maxtry = 0\n",
    "password = 'open123'\n",
    "while Maxtry < 3:  # define the maximum try\n",
    "    pw =input(\"Enter door password:\") # take password from user\n",
    "    if pw == password: # Check match with user given password and define password\n",
    "        print(\"Door Opening...\")\n",
    "        break \n",
    "    else:\n",
    "        print(\"Wrong passward, please try again\")  \n",
    "    Maxtry +=1 # update the maxTry\n",
    "    if Maxtry == 3 and pw != 'open123':\n",
    "        \n",
    "        print(\"You try 3 time with wrong passward and the Door is loocked\")  "
   ]
  },
  {
   "cell_type": "code",
   "execution_count": 16,
   "metadata": {},
   "outputs": [
    {
     "name": "stdout",
     "output_type": "stream",
     "text": [
      " \n",
      "*  \n",
      "* *  \n",
      "* * *  \n",
      "* * * *  \n",
      "* * * * *  \n",
      "* * * * * *  \n"
     ]
    }
   ],
   "source": [
    "#Taks4 Write a Python program to print below half pyramid pattern\n",
    "# *\n",
    "# * *\n",
    "# * * *\n",
    "# * * * *\n",
    "# * * * * *\n",
    "\n",
    "# take input from user\n",
    "rows = int(input(\"Enter a number:\"))\n",
    "#outter loop for rows\n",
    "for i in range(0, rows+1):\n",
    "    #inner loop for columns\n",
    "    for j in range(i):\n",
    "        #Display the *\n",
    "        print(\"*\", end = ' ')\n",
    "    # add new line    \n",
    "    print(\" \")    "
   ]
  },
  {
   "cell_type": "code",
   "execution_count": 17,
   "metadata": {},
   "outputs": [
    {
     "name": "stdout",
     "output_type": "stream",
     "text": [
      "* * * * * *  \n",
      "* * * * *  \n",
      "* * * *  \n",
      "* * *  \n",
      "* *  \n",
      "*  \n"
     ]
    }
   ],
   "source": [
    "#Taks5  Write a Python program to print below half pyramid reverves pattern\n",
    "# * * * * *\n",
    "# * * * *\n",
    "# * * *\n",
    "# * * \n",
    "# * \n",
    "\n",
    "# Take a number from user\n",
    "rows = int(input(\"Enter a number:\"))\n",
    "#outter loop for rows\n",
    "for i in range(rows, 0, -1):\n",
    "    #inner loop for columns\n",
    "    for j in range(i):\n",
    "        # Print *\n",
    "        print( \"*\", end = ' ')\n",
    "    # add new line    \n",
    "    print(\" \")    \n"
   ]
  }
 ],
 "metadata": {
  "interpreter": {
   "hash": "e753af4684f2c7650636e9fffdd6713faf1cc2bf488ab99a61a658f965dcfd17"
  },
  "kernelspec": {
   "display_name": "Python 3.10.0 64-bit (windows store)",
   "language": "python",
   "name": "python3"
  },
  "language_info": {
   "codemirror_mode": {
    "name": "ipython",
    "version": 3
   },
   "file_extension": ".py",
   "mimetype": "text/x-python",
   "name": "python",
   "nbconvert_exporter": "python",
   "pygments_lexer": "ipython3",
   "version": "3.10.0"
  },
  "orig_nbformat": 4
 },
 "nbformat": 4,
 "nbformat_minor": 2
}
