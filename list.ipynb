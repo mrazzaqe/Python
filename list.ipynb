{
 "cells": [
  {
   "cell_type": "markdown",
   "metadata": {},
   "source": [
    "List:\n",
    "Lists are used to store multiple value in a single variable.\n",
    "Lists are created with square brackets:"
   ]
  },
  {
   "cell_type": "code",
   "execution_count": 2,
   "metadata": {},
   "outputs": [
    {
     "data": {
      "text/plain": [
       "[1, 2, 3, 4, 'Mango', 'Apple', 3.4]"
      ]
     },
     "execution_count": 2,
     "metadata": {},
     "output_type": "execute_result"
    }
   ],
   "source": [
    "test = [1,2,3,4,'Mango','Apple',3.4]\n",
    "test"
   ]
  },
  {
   "cell_type": "markdown",
   "metadata": {},
   "source": [
    "List item:\n",
    "List items are order, changeable, and allow duplicate values\n",
    "list items are indexed, the first item has index [0], second item index[1] and so on\n",
    "\n",
    "List Properties:\n",
    "\n",
    "Changeable/Mutable:\n",
    "The list is changeable, means we can change, add and remove items in a list after it has been creaded.\n",
    "\n",
    "Ordered:\n",
    "When we say that list is ordered, it means that the items have a defined order, and that order not change\n",
    "If you add a new item in a list, the new iten will be placed at the end of the list\n",
    "\n",
    "Duplicates:\n",
    "Since lists are indexed, list can allow items with same value. Thats means list allow duplicates values.\n",
    "\n",
    "Heterogeneous:\n",
    "List can contain different type of data\n",
    "\n",
    "Why we use a list?\n",
    "\n",
    "1. The list data structure is very flexible it has many unique inbuilt functions like pop(), append(), etc which make it easier, where  the data keep changing. \n",
    "2. Also, the list can contain duplicate items, i.e, two or more item s are same value\n",
    "3. Lists are heterogeneous, i.e, different kind of object, elements can be added.\n",
    "4. As the list are mutable it is used in appplication where the values of the items change frequently\n"
   ]
  },
  {
   "cell_type": "code",
   "execution_count": 17,
   "metadata": {},
   "outputs": [
    {
     "data": {
      "text/plain": [
       "[1, 2, 3, 4, 'Mango', 'Apple', 3.4, 2, 3, 4, 'Mango', 'Mango']"
      ]
     },
     "execution_count": 17,
     "metadata": {},
     "output_type": "execute_result"
    }
   ],
   "source": [
    "test = [1,2,3,4,'Mango','Apple',3.4, 2,3,4,\"Mango\"]\n",
    "test\n",
    "test.append(\"kiwi\")\n",
    "test.remove(\"Apple\")\n",
    "test1 =[5,6,9,1,2,6,9,2,3,10,23]\n",
    "test1.sort()\n",
    "test1\n",
    "test = [1,2,3,4,'Mango','Apple',3.4, 2,3,4,\"Mango\"]\n",
    "test.append(\"Mango\")\n",
    "test"
   ]
  },
  {
   "cell_type": "markdown",
   "metadata": {},
   "source": [
    "List Length:\n",
    "To determine how many items a list has, we can use len() function\n",
    "\n",
    "List item data type\n",
    "List can be store any type of data, string, int, float, bool etc.\n",
    "\n",
    "We can checked the list type, using type() function\n",
    "\n",
    "List construction:\n",
    "It is also possible to use list() constructor when creating a new list\n"
   ]
  },
  {
   "cell_type": "code",
   "execution_count": 22,
   "metadata": {},
   "outputs": [
    {
     "data": {
      "text/plain": [
       "[5, 6, 7, 8, 9, 'kiwi', 'apple']"
      ]
     },
     "execution_count": 22,
     "metadata": {},
     "output_type": "execute_result"
    }
   ],
   "source": [
    "lst1 = [2,4,\"Mango\", bool, 4.6, \"Mango\",\"kiwi\", 2,4]\n",
    "lst1\n",
    "len(lst1) # To determine the length of list\n",
    "type(lst1)\n",
    "lst2 =list((5,6,7,8,9,\"kiwi\",\"apple\")) # construct new list using list() function\n",
    "lst2"
   ]
  },
  {
   "cell_type": "markdown",
   "metadata": {},
   "source": [
    "Accessing items of a lsit:\n",
    "The items of list can be accessed through the indexing  and slicing. We will access the items in a list using indexing and Slicing\n",
    "\n",
    "Using undexing: \n",
    "We can access any item from a list using its index number\n",
    "\n",
    "Using Slicing:\n",
    "We can access a range of items from a list\n",
    "\n",
    "Indexing:\n",
    "The list elements  can be accessed using the \"indexing\" technique. Lists are ordered collections with unique indexes for  each item. We can access the items in the list using the index number.\n",
    " when ever"
   ]
  },
  {
   "cell_type": "code",
   "execution_count": 30,
   "metadata": {},
   "outputs": [
    {
     "data": {
      "text/plain": [
       "4"
      ]
     },
     "execution_count": 30,
     "metadata": {},
     "output_type": "execute_result"
    }
   ],
   "source": [
    "#Indexing\n",
    "#\n",
    "lst1 = [2,4,\"Mango\", bool, 4.6, \"Mango\",\"kiwi\", 2,4]\n",
    "lst1[3] #print the 4th item from the list\n",
    "lst1[0]\n",
    "\n",
    "#Negetive indexing: The elements in the list can be accessed from right to left by using negetive indexing.\n",
    "lst1[-1]\n",
    "\n"
   ]
  },
  {
   "cell_type": "markdown",
   "metadata": {},
   "source": [
    "List Slicing:\n",
    "Slicing a list implies, accessing a range  of elements in a list. For example, if we want to get the elements in the position  from 3 to 7. \n",
    "We can even modify  the values in a range by using the slicing(function)"
   ]
  },
  {
   "cell_type": "code",
   "execution_count": 39,
   "metadata": {},
   "outputs": [
    {
     "data": {
      "text/plain": [
       "[12.5, 'Emma', 25, 50]"
      ]
     },
     "execution_count": 39,
     "metadata": {},
     "output_type": "execute_result"
    }
   ],
   "source": [
    "#Slicing syntex\n",
    "#listname[start_index:end_index : step]\n",
    "my_list = [10, 20, 'Jessa', 12.50, 'Emma', 25, 50]\n",
    "my_list\n",
    "my_list[1:5]\n",
    "my_list[1:5:2]\n",
    "#Slice first four item\n",
    "my_list[:4]\n",
    "#print every 2nd items by skipting 2\n",
    "my_list[::2]\n",
    "\n",
    "#reversing the list\n",
    "my_list[::-1]\n",
    "\n",
    "#without end value, start from 3rd item to last item\n",
    "my_list[3:]"
   ]
  },
  {
   "cell_type": "markdown",
   "metadata": {},
   "source": [
    "Iterating a list\n",
    "The objects in the list can be iterated over one by one , by using a for loop\n"
   ]
  },
  {
   "cell_type": "code",
   "execution_count": 40,
   "metadata": {},
   "outputs": [
    {
     "name": "stdout",
     "output_type": "stream",
     "text": [
      "10\n",
      "20\n",
      "Jessa\n",
      "12.5\n",
      "Emma\n",
      "25\n",
      "50\n"
     ]
    }
   ],
   "source": [
    "my_list = [10, 20, 'Jessa', 12.50, 'Emma', 25, 50]\n",
    "\n",
    "#iterating a list\n",
    "\n",
    "for item in my_list:\n",
    "    print(item)"
   ]
  },
  {
   "cell_type": "code",
   "execution_count": 41,
   "metadata": {},
   "outputs": [
    {
     "name": "stdout",
     "output_type": "stream",
     "text": [
      "10\n",
      "20\n",
      "Jessa\n",
      "12.5\n",
      "Emma\n",
      "25\n",
      "50\n"
     ]
    }
   ],
   "source": [
    "#iterating along with index number\n",
    "my_list = [10, 20, 'Jessa', 12.50, 'Emma', 25, 50]\n",
    "\n",
    "for i in range(0,len(my_list)):\n",
    "    print(my_list[i])\n"
   ]
  },
  {
   "cell_type": "markdown",
   "metadata": {},
   "source": [
    "Adding elements in the list\n",
    "We can add a new elements or list of elements to the list using the list methods such as append(), insert(), and extend()\n",
    "\n",
    "The append() function will accept only one parameter and add it in the end of the list.\n",
    "The insert() function add the item at the specified position in the list. The insert method accepts two paramters position and object.\n",
    "The extend() function will accet the list of elements and add them in the end of the list. We can even add another list by using this method\n"
   ]
  },
  {
   "cell_type": "code",
   "execution_count": 46,
   "metadata": {},
   "outputs": [
    {
     "data": {
      "text/plain": [
       "[10, 20, 'Jessa', 12.5, 'Emma', 25, 50, 'Tom', 5, 15]"
      ]
     },
     "execution_count": 46,
     "metadata": {},
     "output_type": "execute_result"
    }
   ],
   "source": [
    "my_list = [10, 20, 'Jessa', 12.50, 'Emma', 25, 50]\n",
    "my_list.append(\"Tom\")\n",
    "my_list\n",
    "my_list.insert(2, 35)\n",
    "my_list\n",
    "\n",
    "# extend() function can take only one parameter\n",
    "my_list = [10, 20, 'Jessa', 12.50, 'Emma', 25, 50]\n",
    "\n",
    "my_list.extend([\"Tom\", 5, 15])\n",
    "my_list"
   ]
  },
  {
   "cell_type": "markdown",
   "metadata": {},
   "source": [
    "Modify the list\n",
    "\n",
    "The list is a mutable sequence of iteraable objects. It means we can modify the items od a list. Use the index number and assignment operator(=) to assign a new value to an item.\n",
    "\n",
    "We can modify the list in two ways\n",
    "1. Modify the individual item\n",
    "2. Modify the range of items\n"
   ]
  },
  {
   "cell_type": "code",
   "execution_count": 62,
   "metadata": {},
   "outputs": [
    {
     "data": {
      "text/plain": [
       "[4, 16, 36, 64]"
      ]
     },
     "execution_count": 62,
     "metadata": {},
     "output_type": "execute_result"
    }
   ],
   "source": [
    "my_list =[10, 20, 'Jessa', 12.5, 'Emma']\n",
    "\n",
    "#modify single item\n",
    "my_list[-1]=\"Tom\"\n",
    "my_list\n",
    "my_list[0]=\"Emma\"\n",
    "my_list\n",
    "#Modify multiple items\n",
    "my_list =[10, 20, 'Jessa', 12.5, 'Emma']\n",
    "my_list[0:1]=[\"Tom\",\"Jery\"]\n",
    "my_list\n",
    "\n",
    "#modify all items\n",
    "my_list = list([2, 4, 6, 8])\n",
    "\n",
    "#change value of all items\n",
    "for i in range(len(my_list)):\n",
    "    square = my_list[i] ** 2\n",
    "    my_list[i]=square\n",
    "my_list    "
   ]
  },
  {
   "cell_type": "code",
   "execution_count": null,
   "metadata": {},
   "outputs": [],
   "source": [
    "# List comprehension\n",
    "fruits = ['apple', 'banana', 'mango', 'kiwi', 'orange', 'lemon']\n",
    "new_fruits =[x for x in fruits if 'a' in x]\n",
    "#print(fruits)\n",
    "new_fruits\n",
    "h_letter=[]\n",
    "\n",
    "for letter in 'human':\n",
    "    h_letter.append(letter)\n",
    "h_letter\n",
    "\n",
    "h_letter =[letter for letter in \"abdur\"]\n",
    "h_letter"
   ]
  },
  {
   "cell_type": "code",
   "execution_count": null,
   "metadata": {},
   "outputs": [],
   "source": []
  },
  {
   "cell_type": "code",
   "execution_count": 7,
   "metadata": {},
   "outputs": [
    {
     "data": {
      "text/plain": [
       "[0, 1, 2, 3, 4]"
      ]
     },
     "execution_count": 7,
     "metadata": {},
     "output_type": "execute_result"
    }
   ],
   "source": [
    "newlist = [x for x in range(10+1)]\n",
    "newlist = [x for x in range(10+1) if x < 5]\n",
    "newlist"
   ]
  },
  {
   "cell_type": "code",
   "execution_count": null,
   "metadata": {},
   "outputs": [],
   "source": [
    "#1. Write a Python program to sum all the items in a list.\n",
    "\n",
    "list1 =[2,3,4,5,6,7,8,9]\n",
    "sum = 0\n",
    "for i in list1:\n",
    "    sum = sum +i\n",
    "print(\"The sum of list is:\", sum)  "
   ]
  },
  {
   "cell_type": "code",
   "execution_count": 7,
   "metadata": {},
   "outputs": [
    {
     "name": "stdout",
     "output_type": "stream",
     "text": [
      "54\n"
     ]
    }
   ],
   "source": [
    "def sum_list(items):\n",
    "    sum_items = 0\n",
    "    for i in items:\n",
    "        sum_items += i\n",
    "    return sum_items\n",
    "print(sum_list([2,3,4,5,6,7,8,9,10]))        \n",
    "\n"
   ]
  },
  {
   "cell_type": "code",
   "execution_count": 8,
   "metadata": {},
   "outputs": [
    {
     "name": "stdout",
     "output_type": "stream",
     "text": [
      "24\n"
     ]
    }
   ],
   "source": [
    "#2. Write a Python program to multiply all the items in a list.\n",
    "def mul_list(items):\n",
    "    mul =1\n",
    "    for i in items:\n",
    "        mul *= i\n",
    "    return mul\n",
    "print(mul_list([2,3,4]))    \n",
    "         \n"
   ]
  },
  {
   "cell_type": "code",
   "execution_count": 10,
   "metadata": {},
   "outputs": [
    {
     "name": "stdout",
     "output_type": "stream",
     "text": [
      "The Multipling of all items in a list is: 24\n"
     ]
    }
   ],
   "source": [
    "list_m = [2,3,4]\n",
    "\n",
    "mul = 1\n",
    "for i in list_m:\n",
    "    mul *= i\n",
    "print(\"The Multipling of all items in a list is:\", mul)    "
   ]
  },
  {
   "cell_type": "code",
   "execution_count": 17,
   "metadata": {},
   "outputs": [
    {
     "name": "stdout",
     "output_type": "stream",
     "text": [
      "67\n"
     ]
    }
   ],
   "source": [
    "#3. Write a Python program to get the largest number from a list.\n",
    "def max_list(items):\n",
    "\n",
    "    max = items[0]\n",
    "    for a in items:\n",
    "        if a > max:\n",
    "            max = a\n",
    "    return max\n",
    "print(max_list([2, 7, 8, 23, 45, 67]))            "
   ]
  },
  {
   "cell_type": "code",
   "execution_count": 20,
   "metadata": {},
   "outputs": [
    {
     "name": "stdout",
     "output_type": "stream",
     "text": [
      "The largest number in a list is: 321\n"
     ]
    }
   ],
   "source": [
    "list1 = [2,34,56,76,87,98,321]\n",
    "max = list1[0]\n",
    "for x in list1:\n",
    "    if x > max:\n",
    "        max = x\n",
    "print(\"The largest number in a list is:\", max)        \n"
   ]
  },
  {
   "cell_type": "code",
   "execution_count": 21,
   "metadata": {},
   "outputs": [
    {
     "name": "stdout",
     "output_type": "stream",
     "text": [
      "The smallest number in list is: 3\n"
     ]
    }
   ],
   "source": [
    "#4. Write a Python program to get the smallest number from a list.\n",
    "list2 = [3,12,45,34,56,78,54]\n",
    "\n",
    "min = list2[0]\n",
    "for x in list2:\n",
    "    if x < min:\n",
    "        min = x\n",
    "print(\"The smallest number in list is:\", min)\n"
   ]
  },
  {
   "cell_type": "code",
   "execution_count": 22,
   "metadata": {},
   "outputs": [
    {
     "name": "stdout",
     "output_type": "stream",
     "text": [
      "3\n"
     ]
    }
   ],
   "source": [
    "def min_list(items):\n",
    "    min = items[0]\n",
    "    for x in items:\n",
    "        if x < min:\n",
    "            min = x\n",
    "    return min\n",
    "print(min_list([4,3,56,45,76,87,98]))            "
   ]
  },
  {
   "cell_type": "code",
   "execution_count": 24,
   "metadata": {},
   "outputs": [
    {
     "name": "stdout",
     "output_type": "stream",
     "text": [
      "2\n"
     ]
    }
   ],
   "source": [
    "#5. Write a Python program to count the number of strings where the string length is 2 or more \n",
    "# and the first and last character are same from a given list of strings.\n",
    "#Sample List : ['abc', 'xyz', 'aba', '1221']\n",
    "#Expected Result : 2\n",
    "\n",
    "def string_count(items):\n",
    "    count = 0\n",
    "    for x in items:\n",
    "        if (len(x) >= 2) and (x[0] == x[-1]):\n",
    "            count += 1\n",
    "    return count\n",
    "print(string_count(['abc','xvz', 'aba', '1221']))            \n",
    "            \n"
   ]
  },
  {
   "cell_type": "code",
   "execution_count": 25,
   "metadata": {},
   "outputs": [
    {
     "name": "stdout",
     "output_type": "stream",
     "text": [
      "[(2, 1), (1, 2), (2, 3), (4, 4), (2, 5)]\n"
     ]
    }
   ],
   "source": [
    "#6. Write a Python program to get a list, sorted in increasing order by the last element in each tuple \n",
    "# from a given list of non-empty tuples.\n",
    "##Sample List : [(2, 5), (1, 2), (4, 4), (2, 3), (2, 1)]\n",
    "##Expected Result : [(2, 1), (1, 2), (2, 3), (4, 4), (2, 5)]\n",
    "\n",
    "def last(item):\n",
    "    return item[-1]\n",
    "def sort_list_tuple(tuples):\n",
    "    return sorted(tuples, key=last)    \n",
    "print(sort_list_tuple([(2, 5), (1, 2), (4, 4), (2, 3), (2, 1)]))    "
   ]
  },
  {
   "cell_type": "code",
   "execution_count": 28,
   "metadata": {},
   "outputs": [
    {
     "name": "stdout",
     "output_type": "stream",
     "text": [
      "{40, 10, 12, 15, 50, 20, 30}\n"
     ]
    }
   ],
   "source": [
    "#7. Write a Python program to remove duplicates from a list.\n",
    "\n",
    "a = [10,12,15,10,15,20,40,30,50,50,30]\n",
    "\n",
    "dup_items = set()\n",
    "uniq_items =[]\n",
    "\n",
    "for x in a:\n",
    "    if x not in dup_items:\n",
    "        uniq_items.append(x)\n",
    "        dup_items.add(x)\n",
    "    \n",
    "print(dup_items)\n",
    "\n"
   ]
  },
  {
   "cell_type": "code",
   "execution_count": 29,
   "metadata": {},
   "outputs": [
    {
     "name": "stdout",
     "output_type": "stream",
     "text": [
      "The list is empty.\n"
     ]
    }
   ],
   "source": [
    "#8. Write a Python program to check a list is empty or not.\n",
    "l =[]\n",
    "if not l:\n",
    "    print(\"The list is empty.\")"
   ]
  },
  {
   "cell_type": "code",
   "execution_count": null,
   "metadata": {},
   "outputs": [],
   "source": []
  }
 ],
 "metadata": {
  "interpreter": {
   "hash": "e753af4684f2c7650636e9fffdd6713faf1cc2bf488ab99a61a658f965dcfd17"
  },
  "kernelspec": {
   "display_name": "Python 3.10.0 64-bit (windows store)",
   "language": "python",
   "name": "python3"
  },
  "language_info": {
   "codemirror_mode": {
    "name": "ipython",
    "version": 3
   },
   "file_extension": ".py",
   "mimetype": "text/x-python",
   "name": "python",
   "nbconvert_exporter": "python",
   "pygments_lexer": "ipython3",
   "version": "3.10.0"
  },
  "orig_nbformat": 4
 },
 "nbformat": 4,
 "nbformat_minor": 2
}
