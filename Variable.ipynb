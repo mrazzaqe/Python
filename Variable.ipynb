{
 "cells": [
  {
   "cell_type": "code",
   "execution_count": 1,
   "metadata": {},
   "outputs": [
    {
     "name": "stdout",
     "output_type": "stream",
     "text": [
      "Welcome ! Abdur Razzaqe\n"
     ]
    }
   ],
   "source": [
    "fname = input(\"Enter first name:\")\n",
    "lname = input(\"Enter last name:\")\n",
    "print(\"Welcome !\", fname+\" \"+lname)"
   ]
  },
  {
   "cell_type": "markdown",
   "metadata": {},
   "source": [
    "Variable:\n",
    "Variable is a container that storing data values.\n",
    "Python has no command for declaring a variable.\n",
    "Variable do not need to declared with any particular type, and can even change type after they have been set"
   ]
  },
  {
   "cell_type": "code",
   "execution_count": 6,
   "metadata": {},
   "outputs": [
    {
     "name": "stdout",
     "output_type": "stream",
     "text": [
      "x+y 35\n"
     ]
    }
   ],
   "source": [
    "#A variable is created  the moment we first asign a value to it\n",
    "x = 10 ; y = 25 \n",
    "print(\"x+y\",x+y)"
   ]
  },
  {
   "cell_type": "markdown",
   "metadata": {},
   "source": [
    "Casting"
   ]
  },
  {
   "cell_type": "code",
   "execution_count": 19,
   "metadata": {},
   "outputs": [
    {
     "name": "stdout",
     "output_type": "stream",
     "text": [
      "3\n",
      "3\n"
     ]
    },
    {
     "data": {
      "text/plain": [
       "int"
      ]
     },
     "execution_count": 19,
     "metadata": {},
     "output_type": "execute_result"
    }
   ],
   "source": [
    "#If we want to specify the data type of a variable, this can be done with casting\n",
    "x = str(3) #X will be '3'\n",
    "print(x)\n",
    "type(x)\n",
    "\n",
    "y =int(3)\n",
    "print(3)\n",
    "type(y)"
   ]
  },
  {
   "cell_type": "code",
   "execution_count": 10,
   "metadata": {},
   "outputs": [
    {
     "name": "stdout",
     "output_type": "stream",
     "text": [
      "<class 'int'>\n",
      "<class 'str'>\n"
     ]
    }
   ],
   "source": [
    "#We can get the data type of a variable with the type() function.\n",
    "x = 5\n",
    "y = \"Jhon\"\n",
    "print(type(x))\n",
    "print(type(y))"
   ]
  },
  {
   "cell_type": "code",
   "execution_count": null,
   "metadata": {},
   "outputs": [],
   "source": [
    "# Single and double code\n",
    "#String variable can be declared either by using single or double quotes:\n",
    "\n",
    "x = \"Jhon\"\n",
    "#single and double code is the same \n",
    "x = 'Jhon'"
   ]
  },
  {
   "cell_type": "code",
   "execution_count": 22,
   "metadata": {},
   "outputs": [
    {
     "name": "stdout",
     "output_type": "stream",
     "text": [
      "Abdur\n"
     ]
    }
   ],
   "source": [
    "#Multi word variable name\n",
    "# 1 Camel Case: Each word, except the first, starts with a capital letter:\n",
    "myVariableName = \"Abdur\"\n",
    "print(myVariableName)\n"
   ]
  },
  {
   "cell_type": "markdown",
   "metadata": {},
   "source": [
    "Case sensitive\n",
    "Variable names are case-sensitives"
   ]
  },
  {
   "cell_type": "code",
   "execution_count": null,
   "metadata": {},
   "outputs": [],
   "source": [
    "a = 4\n",
    "A = 'Jhon'\n",
    "# A will not overwrite a"
   ]
  },
  {
   "cell_type": "markdown",
   "metadata": {},
   "source": [
    "Variable Names\n",
    "A variable can have a short name like x and y or a more descriptive name(age, name, carname,total_volume). Rules for python variables:\n",
    "1. A variable name must be start with a letter or the underscore character\n",
    "2. A variable name cannot start with a number\n",
    "3. A variable name only contains alpha-numeric character and underscores(A-z, 0-9 and _)\n",
    "4. Variable names are case-sensetive(age, Age and AGE are not same, they are different variables)"
   ]
  },
  {
   "cell_type": "code",
   "execution_count": null,
   "metadata": {},
   "outputs": [],
   "source": [
    "#legal variable\n",
    "name = 'Jhon'\n",
    "_name =\"Abdur\"\n",
    "my_name = \"Razzaqe\"\n",
    "NAME = \"Raju\"\n",
    "Name = \"Saqlain\"\n",
    "myname2 =\"Mostaq\""
   ]
  },
  {
   "cell_type": "code",
   "execution_count": null,
   "metadata": {},
   "outputs": [],
   "source": [
    "#illegal variable\n",
    "2myname = "
   ]
  },
  {
   "cell_type": "code",
   "execution_count": 23,
   "metadata": {},
   "outputs": [
    {
     "name": "stdout",
     "output_type": "stream",
     "text": [
      "Razzaqe\n"
     ]
    }
   ],
   "source": [
    "#Pascal Case:Each word starts with a capital letter:\n",
    "MyVariableName = \"Razzaqe\"\n",
    "print(MyVariableName)"
   ]
  },
  {
   "cell_type": "code",
   "execution_count": 24,
   "metadata": {},
   "outputs": [
    {
     "name": "stdout",
     "output_type": "stream",
     "text": [
      "Abdur\n"
     ]
    }
   ],
   "source": [
    "#Snake Case : Each word separeted with underscore\n",
    "\n",
    "my_variable_name = \"Abdur\"\n",
    "print(my_variable_name)"
   ]
  },
  {
   "cell_type": "code",
   "execution_count": 26,
   "metadata": {},
   "outputs": [
    {
     "name": "stdout",
     "output_type": "stream",
     "text": [
      "Banana\n",
      "Orange\n",
      "Apple\n"
     ]
    }
   ],
   "source": [
    "#Many value to multiple variable\n",
    "x ,y, z = \"Banana\", \"Orange\", \"Apple\"\n",
    "print(x)\n",
    "print(y)\n",
    "print(z)"
   ]
  },
  {
   "cell_type": "code",
   "execution_count": 28,
   "metadata": {},
   "outputs": [
    {
     "name": "stdout",
     "output_type": "stream",
     "text": [
      "Apple\n",
      "Apple\n",
      "Apple\n"
     ]
    }
   ],
   "source": [
    "#One value in multiple variable\n",
    "\n",
    "x=y=z= \"Apple\"\n",
    "print(x)\n",
    "print(y)\n",
    "print(z)\n"
   ]
  },
  {
   "cell_type": "code",
   "execution_count": 31,
   "metadata": {},
   "outputs": [
    {
     "name": "stdout",
     "output_type": "stream",
     "text": [
      "Apple\n",
      "Banana\n",
      "Orange\n"
     ]
    }
   ],
   "source": [
    "#Unpack collection \n",
    "##If we have a collection of value in a list, tuple ect. Python allow to extract the values into variables. This called Unpack collection.\n",
    "\n",
    "friuts = [\"Apple\", \"Banana\", \"Orange\"]\n",
    "x, y, z = friuts\n",
    "\n",
    "print(x)\n",
    "print(y)\n",
    "print(z)\n"
   ]
  },
  {
   "cell_type": "code",
   "execution_count": 8,
   "metadata": {},
   "outputs": [
    {
     "name": "stdout",
     "output_type": "stream",
     "text": [
      "Python is awesome\n",
      "Python is awesome 8\n"
     ]
    }
   ],
   "source": [
    "#Output variable\n",
    "# The python print statements is often used to output variables.\n",
    "# To combain both text and a variable , python uses the + character\n",
    "\n",
    "x = \"awesome\"\n",
    "\n",
    "print(\"Python is\" +\" \"+ x)\n",
    "\n",
    "# We can also use the + character to add a variable to other variable:\n",
    "\n",
    "x = \"Python is\"\n",
    "y = \"awesome\"\n",
    "print(x,y, 8)\n",
    "# difference between + and ,\n",
    "# + concatenation only the string and , concatenation both string and number"
   ]
  },
  {
   "cell_type": "code",
   "execution_count": 33,
   "metadata": {},
   "outputs": [
    {
     "name": "stdout",
     "output_type": "stream",
     "text": [
      "Python is a awesome\n"
     ]
    }
   ],
   "source": [
    "# Global Variable\n",
    "# Variables that are  created  outside of  a function are known as a Global variable\n",
    "# Global variable  can be used every one, inside or outside of the functions\n",
    "\n",
    "x = \"awesome\"\n",
    "\n",
    "def myfunc():\n",
    "    print(\"Python is a \" + x)\n",
    "myfunc()    \n"
   ]
  },
  {
   "cell_type": "code",
   "execution_count": 9,
   "metadata": {},
   "outputs": [
    {
     "name": "stdout",
     "output_type": "stream",
     "text": [
      "Python is a fantastic\n"
     ]
    }
   ],
   "source": [
    "# Creating a variable inside the function, with the same name as  the gloval variable\n",
    "\n",
    "x = \"awesome\"\n",
    "def myfunc():\n",
    "    x = \" fantastic\"\n",
    "    print(\"Python is a\" + x)\n",
    "myfunc()    \n",
    "# If we create a variable with the same name inside a function,  "
   ]
  }
 ],
 "metadata": {
  "interpreter": {
   "hash": "955b5dbf1c9568fcdca6427b82ed9dd3b5652756bab72d537c2112a7dd2607f3"
  },
  "kernelspec": {
   "display_name": "Python 3.10.0 64-bit",
   "name": "python3"
  },
  "language_info": {
   "codemirror_mode": {
    "name": "ipython",
    "version": 3
   },
   "file_extension": ".py",
   "mimetype": "text/x-python",
   "name": "python",
   "nbconvert_exporter": "python",
   "pygments_lexer": "ipython3",
   "version": "3.10.0"
  },
  "orig_nbformat": 4
 },
 "nbformat": 4,
 "nbformat_minor": 2
}
