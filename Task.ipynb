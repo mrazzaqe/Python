{
 "cells": [
  {
   "cell_type": "code",
   "execution_count": null,
   "metadata": {},
   "outputs": [],
   "source": [
    "# Task 1\n",
    "# Take a number from user\n",
    "# Greater than 64 and even number\n",
    "num = int(input(\"Enter a number:\"))\n",
    "if num >= 64 and num%2 == 0:\n",
    "    if num == 64:\n",
    "        print(num, \" is equql to 64 and even number\")\n",
    "    else:    \n",
    "        print(num , \"is greater than 64 and even\")\n",
    "elif num < 64 and num%2 == 0:\n",
    "    print(num,\" is less than 64 and even\")\n",
    "else:\n",
    "    print(num, \"odd number\")  "
   ]
  },
  {
   "cell_type": "code",
   "execution_count": null,
   "metadata": {},
   "outputs": [],
   "source": [
    "## Task 2\n",
    "# Sum of Results\n",
    "# Take two number from user\n",
    "# Show Sum (Addition, Subtraction, Multiplication and Division)\n",
    "num1 =int(input(\"Enter 1st Number:\"))\n",
    "num2 = int(input(\"Enter 2nd Number:\"))\n",
    "print(\"The 1st Number is:\", num1, \"\\nThe 2nd Number is:\", num2)\n",
    "add = num1 + num2\n",
    "sub = num1 - num2\n",
    "mul = num1 * num2\n",
    "div = num1 / num2\n",
    "\n",
    "sum = (add+sub+mul+div)\n",
    "print(\"The sum of result is:\", sum)"
   ]
  },
  {
   "cell_type": "code",
   "execution_count": 19,
   "metadata": {},
   "outputs": [
    {
     "name": "stdout",
     "output_type": "stream",
     "text": [
      "Door Opening...\n"
     ]
    }
   ],
   "source": [
    "#Task3 Smart door\n",
    "# Take password from user password = open@123, if password is matches then print Open the door\n",
    "# if password is not match then print wrong password, try again\n",
    "#Maxtry = 3\n",
    "Maxtry = 0\n",
    "password = 'open123'\n",
    "while Maxtry < 3:  # define the maximum try\n",
    "    pw =input(\"Enter door password:\") # take password from user\n",
    "    if pw == password: # Check match with user given password and define password\n",
    "        print(\"Door Opening...\")\n",
    "        break \n",
    "    else:\n",
    "        print(\"Wrong passward, please try again\")  \n",
    "    Maxtry +=1 # update the maxTry\n",
    "    if Maxtry == 3 and pw != 'open123':\n",
    "        \n",
    "        print(\"You try 3 time with wrong passward and the Door is loocked\")  \n",
    "          \n"
   ]
  },
  {
   "cell_type": "code",
   "execution_count": 13,
   "metadata": {},
   "outputs": [
    {
     "name": "stdout",
     "output_type": "stream",
     "text": [
      "Wrong passward, please try again\n",
      "Wrong passward, please try again\n",
      "Wrong passward, please try again\n",
      "passqord changed\n",
      "Wrong passward, please try again\n",
      "Door Opening...\n"
     ]
    }
   ],
   "source": [
    "#Task3 Smart door\n",
    "# Take password from user password = open@123, if password is matches then print Open the door\n",
    "# if password is not match then print wrong password, try again\n",
    "#Maxtry = 3\n",
    "# add reset option\n",
    "\n",
    "Maxtry = 0\n",
    "password = 'open123'\n",
    "fcolor = 'black'\n",
    "while Maxtry < 3:  # define the maximum try\n",
    "    pw =input(\"Enter door password:\") # take password from user\n",
    "    if pw == password: # Check match with user given password and define password\n",
    "        print(\"Door Opening...\")\n",
    "        break \n",
    "    else:\n",
    "        print(\"Wrong passward, please try again\")  \n",
    "    Maxtry +=1 # update the maxTry\n",
    "    if Maxtry > 2:\n",
    "        icolor = input(\"What is you favarit color\").lower()\n",
    "        if icolor == fcolor:\n",
    "            password = input(\"Enter new password\")\n",
    "           \n",
    "            print(\"passqord changed\")\n",
    "            Maxtry = 0\n",
    "        else:\n",
    "            print(\"Door locked, you are Robber\")\n",
    "            break\n",
    "      \n",
    " "
   ]
  },
  {
   "cell_type": "code",
   "execution_count": 12,
   "metadata": {},
   "outputs": [
    {
     "name": "stdout",
     "output_type": "stream",
     "text": [
      "Wrong Password Try again!\n",
      "Wrong Password Try again!\n",
      "Wrong Password Try again!\n",
      "Password Changed\n",
      "Wrong Password Try again!\n",
      "Opening Door...\n"
     ]
    }
   ],
   "source": [
    "securityQAnswer = 'black'\n",
    "originalPassword = 'open@door'\n",
    "maxTry = 0\n",
    "while maxTry < 3:\n",
    "    password = input(\"Enter Password to Open Door: \")\n",
    "    if password == originalPassword:\n",
    "        print(\"Opening Door...\")\n",
    "        break\n",
    "    else:\n",
    "        print(\"Wrong Password Try again!\")\n",
    "        maxTry += 1\n",
    "        if maxTry > 2:\n",
    "            ans = input(\"Tell Your Favourite Color?\").lower()\n",
    "            if securityQAnswer == ans:\n",
    "                originalPassword = input(\"Enter New Password: \")\n",
    "                print(\"Password Changed\")\n",
    "                maxTry = 0\n",
    "            else:\n",
    "                print(\"Door is Locked!, You are  Robber!\")\n",
    "                break"
   ]
  },
  {
   "cell_type": "code",
   "execution_count": 16,
   "metadata": {},
   "outputs": [
    {
     "name": "stdout",
     "output_type": "stream",
     "text": [
      " \n",
      "*  \n",
      "* *  \n",
      "* * *  \n",
      "* * * *  \n",
      "* * * * *  \n",
      "* * * * * *  \n"
     ]
    }
   ],
   "source": [
    "#Taks4 Write a Python program to print below half pyramid pattern\n",
    "# *\n",
    "# * *\n",
    "# * * *\n",
    "# * * * *\n",
    "# * * * * *\n",
    "\n",
    "# take input from user\n",
    "rows = int(input(\"Enter a number:\"))\n",
    "#outter loop for rows\n",
    "for i in range(0, rows+1):\n",
    "    #inner loop for columns\n",
    "    for j in range(i):\n",
    "        #Display the *\n",
    "        print(\"*\", end = ' ')\n",
    "    # add new line    \n",
    "    print(\" \")    "
   ]
  },
  {
   "cell_type": "code",
   "execution_count": 17,
   "metadata": {},
   "outputs": [
    {
     "name": "stdout",
     "output_type": "stream",
     "text": [
      "* * * * * *  \n",
      "* * * * *  \n",
      "* * * *  \n",
      "* * *  \n",
      "* *  \n",
      "*  \n"
     ]
    }
   ],
   "source": [
    "#Taks5  Write a Python program to print below half pyramid reverves pattern\n",
    "# * * * * *\n",
    "# * * * *\n",
    "# * * *\n",
    "# * * \n",
    "# * \n",
    "\n",
    "# Take a number from user\n",
    "rows = int(input(\"Enter a number:\"))\n",
    "#outter loop for rows\n",
    "for i in range(rows, 0, -1):\n",
    "    #inner loop for columns\n",
    "    for j in range(i):\n",
    "        # Print *\n",
    "        print( \"*\", end = ' ')\n",
    "    # add new line    \n",
    "    print(\" \")    \n"
   ]
  },
  {
   "cell_type": "code",
   "execution_count": 6,
   "metadata": {},
   "outputs": [
    {
     "name": "stdout",
     "output_type": "stream",
     "text": [
      "Sort in Ascending Order [2, 3, 4, 4, 5, 5, 6, 7, 7, 8, 9]\n"
     ]
    }
   ],
   "source": [
    "#Taks=6\n",
    "# # l1 = [2,5,3,4,6,7,9,4,5,8,7]\n",
    "# Sort in Ascending Order without sort() function\n",
    "\n",
    "l1 = [2,5,3,4,6,7,9,4,5,8,7]\n",
    "temp = []\n",
    "for i in range(len(l1)):\n",
    "    for j in range(i+1, len(l1)):\n",
    "        if l1[i] > l1[j]:\n",
    "            temp = l1[i]\n",
    "            l1[i]=l1[j]\n",
    "            l1[j]=temp\n",
    "print(\"Sort in Ascending Order\",l1)            \n",
    "\n"
   ]
  },
  {
   "cell_type": "code",
   "execution_count": 16,
   "metadata": {},
   "outputs": [
    {
     "name": "stdout",
     "output_type": "stream",
     "text": [
      "||||||||||"
     ]
    },
    {
     "data": {
      "text/plain": [
       "[2, 3, 4, 4, 5, 5, 6, 7, 7, 8, 9]"
      ]
     },
     "execution_count": 16,
     "metadata": {},
     "output_type": "execute_result"
    }
   ],
   "source": [
    "l1= [2,5,3,4,6,7,9,4,5,8,7]\n",
    "\n",
    "for i in range(0, len(l1)):\n",
    "    min_ind = i\n",
    "    for j in range(i+1, len(l1)):\n",
    "        if  l1[min_ind] >  l1[j]:\n",
    "             min_ind = j\n",
    "             print(\"|\", end=\"\")\n",
    "    l1[i], l1[min_ind]  =  l1[min_ind], l1[i]\n",
    "l1    \n",
    "        \n"
   ]
  },
  {
   "cell_type": "code",
   "execution_count": 3,
   "metadata": {},
   "outputs": [
    {
     "name": "stdout",
     "output_type": "stream",
     "text": [
      "||||||||||[2, 3, 4, 4, 5, 5, 6, 7, 7, 8, 9]\n"
     ]
    }
   ],
   "source": [
    "l1= [2,5,3,4,6,7,9,4,5,8,7]\n",
    "\n",
    "for i in range(0, len(l1)):\n",
    "    min_ind = i\n",
    "    for j in range(i+1, len(l1)):\n",
    "        if  l1[min_ind] >  l1[j]:\n",
    "             min_ind = j\n",
    "             print(\"|\", end=\"\")\n",
    "    l1[i], l1[min_ind]  =  l1[min_ind], l1[i]\n",
    "print(l1)   \n",
    "\n"
   ]
  },
  {
   "cell_type": "code",
   "execution_count": 5,
   "metadata": {},
   "outputs": [
    {
     "name": "stdout",
     "output_type": "stream",
     "text": [
      "Sort in descending Order: [9, 8, 7, 7, 6, 5, 5, 4, 4, 3, 2]\n"
     ]
    }
   ],
   "source": [
    "#Task-7\n",
    "#  l1 = [2,5,3,4,6,7,9,4,5,8,7]\n",
    "# Sort in descending Order\n",
    "l1 = [2,5,3,4,6,7,9,4,5,8,7]\n",
    "temp = []\n",
    "for i in range(len(l1)):\n",
    "    for j in range(i+1, len(l1)):\n",
    "        if l1[i] <  l1[j]:\n",
    "            temp = l1[i]\n",
    "            l1[i]=l1[j]\n",
    "            l1[j]=temp\n",
    "print(\"Sort in descending Order:\",l1) "
   ]
  },
  {
   "cell_type": "code",
   "execution_count": 17,
   "metadata": {},
   "outputs": [
    {
     "data": {
      "text/plain": [
       "[9, 8, 7, 7, 6, 5, 5, 4, 4, 3, 2]"
      ]
     },
     "execution_count": 17,
     "metadata": {},
     "output_type": "execute_result"
    }
   ],
   "source": [
    "l1 = [2,5,3,4,6,7,9,4,5,8,7]\n",
    "for i in range(0, len(l1)):\n",
    "    min_ind = i\n",
    "    for j in range(i+1, len(l1)):\n",
    "        if l1[min_ind] < l1[j]:\n",
    "            min_ind = j\n",
    "    l1[i], l1[min_ind] =l1[min_ind], l1[i] \n",
    "l1           "
   ]
  },
  {
   "cell_type": "code",
   "execution_count": 4,
   "metadata": {},
   "outputs": [
    {
     "name": "stdout",
     "output_type": "stream",
     "text": [
      "{'an': 1, 'article': 1, 'is': 1, 'any': 1, 'member': 1, 'of': 8, 'a': 3, 'class': 1, 'dedicated': 1, 'words': 1, 'that': 1, 'are': 4, 'used': 1, 'with': 2, 'noun': 4, 'phrases': 1, 'to': 2, 'mark': 1, 'the': 5, 'identifiability': 1, '\\nthe': 1, 'referents': 1, 'phrases.': 2, 'category': 2, 'articles': 3, 'constitutes': 1, 'part': 2, 'speech.in': 1, 'english,': 1, 'both': 1, '\"the\"': 1, 'and': 3, '\"a/an\"': 1, 'articles,': 1, '\\nwhich': 1, 'combine': 1, 'nouns': 1, 'form': 1, 'typically': 1, 'specify': 1, 'grammatical': 2, 'definiteness': 1, 'phrase,': 1, 'but': 1, 'in': 2, 'many\\nlanguages,': 1, 'they': 1, 'carry': 1, 'additional': 1, 'information': 1, 'such': 1, 'as': 2, 'gender,': 1, 'number,': 1, 'case.': 1, 'broader': 1, '\\ncalled': 1, 'determiners,': 2, 'which': 1, 'also': 1, 'include': 1, 'demonstratives,': 1, 'possessive': 1, 'quantifiers.': 1, 'linguistic': 1, 'interlinear': 1, 'glossing,\\narticles': 1, 'abbreviated': 1, 'art.': 1} "
     ]
    }
   ],
   "source": [
    "# task-8\n",
    "# Word Counter\n",
    "# Output :{'An':2, 'article':3}\n",
    "\n",
    "string = \"\"\"An article is any member of a class of dedicated words that are used with noun phrases to mark the identifiability of \n",
    "the referents of the noun phrases. The category of articles constitutes a part of speech.In English, both \"the\" and \"a/an\" are articles, \n",
    "which combine with nouns to form noun phrases. Articles typically specify the grammatical definiteness of the noun phrase, but in many\n",
    "languages, they carry additional grammatical information such as gender, number, and case. Articles are part of a broader category \n",
    "called determiners, which also include demonstratives, possessive determiners, and quantifiers. In linguistic interlinear glossing,\n",
    "articles are abbreviated as art.\"\"\"\n",
    "\n",
    "s=string.casefold()\n",
    "s1 =s.split(\" \")\n",
    "freq = {}\n",
    "\n",
    "for i in s1:\n",
    "    if(i in freq):\n",
    "        freq[i] +=1\n",
    "    else:\n",
    "        freq[i]= 1    \n",
    "print(freq, end=\" \")        "
   ]
  },
  {
   "cell_type": "code",
   "execution_count": 3,
   "metadata": {},
   "outputs": [
    {
     "name": "stdout",
     "output_type": "stream",
     "text": [
      "[2, 3, 4, 4, 5, 5, 6, 7, 7, 8, 9]\n",
      "The Maximum value: 9\n",
      "2nd Maximum value: 8\n"
     ]
    }
   ],
   "source": [
    "# task-9\n",
    "# l1 = [2,5,3,4,6,7,9,4,5,8,7]\n",
    "# Find Maximum Value and 2nd Maximum\n",
    "l1 = [2,5,3,4,6,7,9,4,5,8,7]\n",
    "\n",
    "temp =[]\n",
    "for i in range(len(l1)):\n",
    "    for j in range(i+1, len(l1)):\n",
    "        if l1[i] > l1[j]:\n",
    "            temp = l1[i]\n",
    "            l1[i] = l1[j]\n",
    "            l1[j] = temp\n",
    "print(l1)\n",
    "print(\"The Maximum value:\",l1[-1])\n",
    "l1.pop() \n",
    "print(\"2nd Maximum value:\",l1[-1] )            \n",
    "\n"
   ]
  },
  {
   "cell_type": "code",
   "execution_count": 3,
   "metadata": {},
   "outputs": [
    {
     "name": "stdout",
     "output_type": "stream",
     "text": [
      "[2, 3, 4, 4, 5, 5, 6, 7, 7, 8, 9]\n",
      "The Maximum value: 9\n",
      "2nd Maximum value: 8\n"
     ]
    }
   ],
   "source": [
    "l1= [2,5,3,4,6,7,9,4,5,8,7]\n",
    "\n",
    "for i in range(0, len(l1)):\n",
    "    min_ind = i\n",
    "    for j in range(i+1, len(l1)):\n",
    "        if  l1[min_ind] >  l1[j]:\n",
    "             min_ind = j\n",
    "             \n",
    "    l1[i], l1[min_ind]  =  l1[min_ind], l1[i]\n",
    "print(l1) \n",
    "print(\"The Maximum value:\",l1[-1])\n",
    "l1.pop() \n",
    "print(\"2nd Maximum value:\",l1[-1] ) "
   ]
  },
  {
   "cell_type": "code",
   "execution_count": 4,
   "metadata": {},
   "outputs": [
    {
     "name": "stdout",
     "output_type": "stream",
     "text": [
      "[2, 3, 3, 4, 4, 5, 5, 6, 7, 7, 8, 9]\n",
      "Minimum Value: 2\n",
      "2nd Minimum Value 3\n"
     ]
    }
   ],
   "source": [
    "# Task-10\n",
    "# l1 = [2,5,3,4,6,7,9,4,5,8,7]\n",
    "# Find Minimum Value and 2nd Minimum\n",
    "l1 = [2,5,3,3,4,6,7,9,4,5,8,7]\n",
    "\n",
    "temp=[]\n",
    "for i in range(len(l1)):\n",
    "    for j in range(i+1, len(l1)):\n",
    "        if l1[i]>l1[j]:\n",
    "            temp = l1[i]\n",
    "            l1[i] = l1[j]\n",
    "            l1[j] = temp\n",
    "print(l1) \n",
    "print(\"Minimum Value:\",l1[0])  \n",
    "if l1[0] <l1[1] and l1[1]<l1[2]:\n",
    "    print(\"2nd Minimum Value\",l1[1])\n",
    "else:\n",
    "    print(\"2nd Minimum Value\",l1[2])       \n"
   ]
  },
  {
   "cell_type": "code",
   "execution_count": 19,
   "metadata": {},
   "outputs": [
    {
     "name": "stdout",
     "output_type": "stream",
     "text": [
      "0 1 1 2 3 5 8 "
     ]
    }
   ],
   "source": [
    "# Task-11\n",
    "# Fibbonacci Series\n",
    "# Input : up=10\n",
    "# Series: 0 , 1, 1, 2, 3, 5 .......\n",
    "x =int(input(\"Enter a number:\"))\n",
    "\n",
    "a = 0\n",
    "b = 1\n",
    "\n",
    "while( a < x):\n",
    "    c=b\n",
    "    b=a\n",
    "    print(a, end=\" \")  \n",
    "    a = c+b \n",
    "   \n"
   ]
  },
  {
   "cell_type": "code",
   "execution_count": 13,
   "metadata": {},
   "outputs": [
    {
     "name": "stdout",
     "output_type": "stream",
     "text": [
      "The factorial of 5 is 120\n"
     ]
    }
   ],
   "source": [
    "# Task-12\n",
    "# Factorial of Number\n",
    "# Factorial of 6: 6*5*4*3*2*1\n",
    "#using for loop\n",
    "num = int(input(\"Enter number\"))\n",
    "\n",
    "fac =1\n",
    "\n",
    "for i in range(1, num+1):\n",
    "    fac = fac * i\n",
    "print(\"The factorial of\", num, \"is\", fac)    \n",
    "\n"
   ]
  },
  {
   "cell_type": "code",
   "execution_count": 17,
   "metadata": {},
   "outputs": [
    {
     "name": "stdout",
     "output_type": "stream",
     "text": [
      "The factorial of 5 is 120\n"
     ]
    }
   ],
   "source": [
    "# Factorial of Number\n",
    "# Factorial of 6: 6*5*4*3*2*1\n",
    "#using for loop\n",
    "num = int(input(\"Enter number\"))\n",
    "\n",
    "fac =1\n",
    "\n",
    "for i in range(num, 1, -1):\n",
    "    fac = fac * i\n",
    "print(\"The factorial of\", num, \"is\", fac) "
   ]
  },
  {
   "cell_type": "code",
   "execution_count": 1,
   "metadata": {},
   "outputs": [
    {
     "name": "stdout",
     "output_type": "stream",
     "text": [
      "The factorial is 479001600\n"
     ]
    }
   ],
   "source": [
    "#Using while loop\n",
    "num = int(input(\"Enter number\"))\n",
    "\n",
    "fac =1\n",
    "while num > 0:\n",
    "    fac = fac * num\n",
    "    num = num -1\n",
    "print(\"The factorial is\",fac)    \n",
    "\n"
   ]
  },
  {
   "cell_type": "code",
   "execution_count": 30,
   "metadata": {},
   "outputs": [
    {
     "ename": "ValueError",
     "evalue": "invalid literal for int() with base 10: '3 2 1'",
     "output_type": "error",
     "traceback": [
      "\u001b[1;31m---------------------------------------------------------------------------\u001b[0m",
      "\u001b[1;31mValueError\u001b[0m                                Traceback (most recent call last)",
      "\u001b[1;32mC:\\Users\\ABDURR~1\\AppData\\Local\\Temp/ipykernel_14692/4285315312.py\u001b[0m in \u001b[0;36m<module>\u001b[1;34m\u001b[0m\n\u001b[0;32m      2\u001b[0m \u001b[1;31m#Takes unlimited number from user\u001b[0m\u001b[1;33m\u001b[0m\u001b[1;33m\u001b[0m\u001b[0m\n\u001b[0;32m      3\u001b[0m \u001b[1;31m#Sort the number in ascending order using function()\u001b[0m\u001b[1;33m\u001b[0m\u001b[1;33m\u001b[0m\u001b[0m\n\u001b[1;32m----> 4\u001b[1;33m \u001b[0mnum\u001b[0m \u001b[1;33m=\u001b[0m \u001b[0mint\u001b[0m\u001b[1;33m(\u001b[0m\u001b[0minput\u001b[0m\u001b[1;33m(\u001b[0m\u001b[1;34m\"Enter a comma seperated number:\"\u001b[0m\u001b[1;33m)\u001b[0m\u001b[1;33m)\u001b[0m\u001b[1;33m\u001b[0m\u001b[1;33m\u001b[0m\u001b[0m\n\u001b[0m\u001b[0;32m      5\u001b[0m \u001b[0mnum\u001b[0m \u001b[1;33m=\u001b[0m \u001b[0mnum\u001b[0m\u001b[1;33m.\u001b[0m\u001b[0msplit\u001b[0m\u001b[1;33m(\u001b[0m\u001b[1;34m\",\"\u001b[0m\u001b[1;33m)\u001b[0m\u001b[1;33m\u001b[0m\u001b[1;33m\u001b[0m\u001b[0m\n\u001b[0;32m      6\u001b[0m \u001b[1;33m\u001b[0m\u001b[0m\n",
      "\u001b[1;31mValueError\u001b[0m: invalid literal for int() with base 10: '3 2 1'"
     ]
    }
   ],
   "source": [
    "#Task-13\n",
    "#Takes unlimited number from user\n",
    "#Sort the number in ascending order using function()\n",
    "\n",
    "\n",
    "   \n"
   ]
  },
  {
   "cell_type": "code",
   "execution_count": 14,
   "metadata": {},
   "outputs": [
    {
     "data": {
      "text/plain": [
       "[1, 6, 9, 10, 11, 20, 23, 24, 30]"
      ]
     },
     "execution_count": 14,
     "metadata": {},
     "output_type": "execute_result"
    }
   ],
   "source": [
    "#Task-13\n",
    "#Takes unlimited number from user\n",
    "#Sort the number in ascending order using function()\n",
    "def sort(num):\n",
    "    for i in range(0, len(num)):\n",
    "        min_ind = i\n",
    "        for j in range(i+1, len(num)):\n",
    "            if  num[min_ind] >  num[j]:\n",
    "                min_ind = j\n",
    "            \n",
    "        num[i], num[min_ind]  =  num[min_ind], num[i]\n",
    "    return num\n",
    "num = list(map(int, input(\"Enter a number seperated by space\").split()))    \n",
    "sort(num)    \n"
   ]
  },
  {
   "cell_type": "code",
   "execution_count": 24,
   "metadata": {},
   "outputs": [
    {
     "name": "stdout",
     "output_type": "stream",
     "text": [
      "1:11 2:22 3:33 4:44 5:55 6:66 "
     ]
    }
   ],
   "source": [
    "#Task-14\n",
    "dict = {4:44,3:33,5:55,1:11,6:66,2:22}\n",
    "def dict_sort(dict):\n",
    "    for key in sorted(dict):\n",
    "        print(\"%s:%s\" %(key, dict[key]),end=\" \")\n",
    "dict_sort(dict)        \n",
    "        "
   ]
  },
  {
   "cell_type": "code",
   "execution_count": 33,
   "metadata": {},
   "outputs": [
    {
     "ename": "KeyError",
     "evalue": "0",
     "output_type": "error",
     "traceback": [
      "\u001b[1;31m---------------------------------------------------------------------------\u001b[0m",
      "\u001b[1;31mKeyError\u001b[0m                                  Traceback (most recent call last)",
      "\u001b[1;32mC:\\Users\\ABDURR~1\\AppData\\Local\\Temp/ipykernel_14692/1799370534.py\u001b[0m in \u001b[0;36m<module>\u001b[1;34m\u001b[0m\n\u001b[0;32m      3\u001b[0m     \u001b[1;32mfor\u001b[0m \u001b[0mkey\u001b[0m \u001b[1;32min\u001b[0m \u001b[0msorted\u001b[0m\u001b[1;33m(\u001b[0m\u001b[0mdict\u001b[0m\u001b[1;33m.\u001b[0m\u001b[0mitems\u001b[0m\u001b[1;33m(\u001b[0m\u001b[1;33m)\u001b[0m\u001b[1;33m)\u001b[0m\u001b[1;33m:\u001b[0m\u001b[1;33m\u001b[0m\u001b[1;33m\u001b[0m\u001b[0m\n\u001b[0;32m      4\u001b[0m         \u001b[0mprint\u001b[0m\u001b[1;33m(\u001b[0m\u001b[1;34m\"%s:%s\"\u001b[0m \u001b[1;33m%\u001b[0m\u001b[1;33m(\u001b[0m\u001b[0mkey\u001b[0m\u001b[1;33m,\u001b[0m \u001b[0mdict\u001b[0m\u001b[1;33m[\u001b[0m\u001b[1;36m0\u001b[0m\u001b[1;33m]\u001b[0m\u001b[1;33m)\u001b[0m\u001b[1;33m,\u001b[0m\u001b[0mend\u001b[0m\u001b[1;33m=\u001b[0m\u001b[1;34m\" \"\u001b[0m\u001b[1;33m)\u001b[0m\u001b[1;33m\u001b[0m\u001b[1;33m\u001b[0m\u001b[0m\n\u001b[1;32m----> 5\u001b[1;33m \u001b[0mdict_sort\u001b[0m\u001b[1;33m(\u001b[0m\u001b[0mdict\u001b[0m\u001b[1;33m)\u001b[0m\u001b[1;33m\u001b[0m\u001b[1;33m\u001b[0m\u001b[0m\n\u001b[0m",
      "\u001b[1;32mC:\\Users\\ABDURR~1\\AppData\\Local\\Temp/ipykernel_14692/1799370534.py\u001b[0m in \u001b[0;36mdict_sort\u001b[1;34m(dict)\u001b[0m\n\u001b[0;32m      2\u001b[0m \u001b[1;32mdef\u001b[0m \u001b[0mdict_sort\u001b[0m\u001b[1;33m(\u001b[0m\u001b[0mdict\u001b[0m\u001b[1;33m)\u001b[0m\u001b[1;33m:\u001b[0m\u001b[1;33m\u001b[0m\u001b[1;33m\u001b[0m\u001b[0m\n\u001b[0;32m      3\u001b[0m     \u001b[1;32mfor\u001b[0m \u001b[0mkey\u001b[0m \u001b[1;32min\u001b[0m \u001b[0msorted\u001b[0m\u001b[1;33m(\u001b[0m\u001b[0mdict\u001b[0m\u001b[1;33m.\u001b[0m\u001b[0mitems\u001b[0m\u001b[1;33m(\u001b[0m\u001b[1;33m)\u001b[0m\u001b[1;33m)\u001b[0m\u001b[1;33m:\u001b[0m\u001b[1;33m\u001b[0m\u001b[1;33m\u001b[0m\u001b[0m\n\u001b[1;32m----> 4\u001b[1;33m         \u001b[0mprint\u001b[0m\u001b[1;33m(\u001b[0m\u001b[1;34m\"%s:%s\"\u001b[0m \u001b[1;33m%\u001b[0m\u001b[1;33m(\u001b[0m\u001b[0mkey\u001b[0m\u001b[1;33m,\u001b[0m \u001b[0mdict\u001b[0m\u001b[1;33m[\u001b[0m\u001b[1;36m0\u001b[0m\u001b[1;33m]\u001b[0m\u001b[1;33m)\u001b[0m\u001b[1;33m,\u001b[0m\u001b[0mend\u001b[0m\u001b[1;33m=\u001b[0m\u001b[1;34m\" \"\u001b[0m\u001b[1;33m)\u001b[0m\u001b[1;33m\u001b[0m\u001b[1;33m\u001b[0m\u001b[0m\n\u001b[0m\u001b[0;32m      5\u001b[0m \u001b[0mdict_sort\u001b[0m\u001b[1;33m(\u001b[0m\u001b[0mdict\u001b[0m\u001b[1;33m)\u001b[0m\u001b[1;33m\u001b[0m\u001b[1;33m\u001b[0m\u001b[0m\n",
      "\u001b[1;31mKeyError\u001b[0m: 0"
     ]
    }
   ],
   "source": [
    "dict = {4:44,3:33,5:55,1:11,6:66,2:22}\n",
    "   "
   ]
  }
 ],
 "metadata": {
  "interpreter": {
   "hash": "e753af4684f2c7650636e9fffdd6713faf1cc2bf488ab99a61a658f965dcfd17"
  },
  "kernelspec": {
   "display_name": "Python 3.10.0 64-bit (windows store)",
   "language": "python",
   "name": "python3"
  },
  "language_info": {
   "codemirror_mode": {
    "name": "ipython",
    "version": 3
   },
   "file_extension": ".py",
   "mimetype": "text/x-python",
   "name": "python",
   "nbconvert_exporter": "python",
   "pygments_lexer": "ipython3",
   "version": "3.10.0"
  },
  "orig_nbformat": 4
 },
 "nbformat": 4,
 "nbformat_minor": 2
}
