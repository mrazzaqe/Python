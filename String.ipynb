{
 "cells": [
  {
   "cell_type": "code",
   "execution_count": 2,
   "metadata": {},
   "outputs": [
    {
     "name": "stdout",
     "output_type": "stream",
     "text": [
      "22\n"
     ]
    }
   ],
   "source": [
    "#1. Write a Python program to calculate the length of a string.\n",
    "st = \"My house near to river\"\n",
    "print(len(st))"
   ]
  },
  {
   "cell_type": "code",
   "execution_count": 5,
   "metadata": {},
   "outputs": [
    {
     "name": "stdout",
     "output_type": "stream",
     "text": [
      "g: 2\n",
      "{'g': 2, 'o': 3, 'l': 1, 'e': 1, '.': 1, 'c': 1, 'm': 1}\n"
     ]
    }
   ],
   "source": [
    "#2. Write a Python program to count the number of characters (character frequency) in a string.\n",
    "#Sample String : google.com'\n",
    "#Expected Result : {'g': 2, 'o': 3, 'l': 1, 'e': 1, '.': 1, 'c': 1, 'm': 1}\n",
    "\n",
    "def chat_frequency(st):\n",
    "    dict = {}\n",
    "    for n in st:\n",
    "        keys = dict.keys()\n",
    "        if n in keys:\n",
    "            dict[n] += 1\n",
    "        else:\n",
    "            dict[n] = 1\n",
    "    return dict\n",
    "print(chat_frequency('google.com'))                \n"
   ]
  },
  {
   "cell_type": "code",
   "execution_count": 19,
   "metadata": {},
   "outputs": [
    {
     "name": "stdout",
     "output_type": "stream",
     "text": [
      "{'w': 3, '.': 2, 'g': 2, 'o': 3, 'l': 1, 'e': 1, 'c': 1, 'm': 1}\n"
     ]
    }
   ],
   "source": [
    "st = input(\"Enter your char_frequency:\")\n",
    "\n",
    "dict = {}\n",
    "for n in st:\n",
    "    keys = dict.keys()\n",
    "    if n in keys:\n",
    "        dict[n] +=1\n",
    "    else:\n",
    "        dict[n] =1\n",
    "print(dict)            \n"
   ]
  },
  {
   "cell_type": "code",
   "execution_count": 9,
   "metadata": {},
   "outputs": [
    {
     "name": "stdout",
     "output_type": "stream",
     "text": [
      "w3ce\n",
      "\n",
      "\n"
     ]
    }
   ],
   "source": [
    "#3. Write a Python program to get a string made of the first 2 and the last 2 chars from a given a string. \n",
    "# If the string length is less than 2, return instead of the empty string.\n",
    "##Sample String : 'w3resource'\n",
    "##Expected Result : 'w3ce'\n",
    "##Sample String : 'w3'\n",
    "##Expected Result : 'w3w3'\n",
    "##Sample String : ' w'\n",
    "##Expected Result : Empty String\n",
    "\n",
    "def string_both_ends(st):\n",
    "    if len(st) <= 2:\n",
    "        return ''\n",
    "    return st[0:2]+st[-2:]   \n",
    "print(string_both_ends('w3resource'))  \n",
    "print(string_both_ends('w3'))\n",
    "print(string_both_ends('w'))   \n"
   ]
  },
  {
   "cell_type": "code",
   "execution_count": 15,
   "metadata": {},
   "outputs": [
    {
     "name": "stdout",
     "output_type": "stream",
     "text": [
      "weme\n"
     ]
    }
   ],
   "source": [
    "st = input(\"Enter your characters:\")\n",
    "if len(st) < 2:\n",
    "    print('')\n",
    "else:\n",
    "    print(st[0:2]+st[-2:])    "
   ]
  },
  {
   "cell_type": "code",
   "execution_count": 25,
   "metadata": {},
   "outputs": [
    {
     "name": "stdout",
     "output_type": "stream",
     "text": [
      "raju$an\n"
     ]
    }
   ],
   "source": [
    "#4. Write a Python program to get a string from a given string where all occurrences of its first char have been changed to '$', \n",
    "# except the first char itself.\n",
    "\n",
    "st = input(\"Enter a String:\")\n",
    "char1 = st[0]\n",
    "st1 = st.replace(char1, '$')\n",
    "st1 = char1 + st1[1:]\n",
    "\n",
    "print(st1)"
   ]
  },
  {
   "cell_type": "code",
   "execution_count": 26,
   "metadata": {},
   "outputs": [
    {
     "name": "stdout",
     "output_type": "stream",
     "text": [
      "xye abz\n"
     ]
    }
   ],
   "source": [
    "#5. Write a Python program to get a single string from two given strings, separated by a space and swap the first\n",
    "#  two characters of each string\n",
    "#Sample String : 'abc', 'xyz'\n",
    "#Expected Result : 'xyc abz'\n",
    "a = 'abe'\n",
    "b = 'xyz'\n",
    "new_a = b[:2] + a[2:]\n",
    "new_b = a[:2] + b[2:]\n",
    "print(new_a +\" \"+new_b)"
   ]
  }
 ],
 "metadata": {
  "interpreter": {
   "hash": "e753af4684f2c7650636e9fffdd6713faf1cc2bf488ab99a61a658f965dcfd17"
  },
  "kernelspec": {
   "display_name": "Python 3.10.0 64-bit (windows store)",
   "language": "python",
   "name": "python3"
  },
  "language_info": {
   "codemirror_mode": {
    "name": "ipython",
    "version": 3
   },
   "file_extension": ".py",
   "mimetype": "text/x-python",
   "name": "python",
   "nbconvert_exporter": "python",
   "pygments_lexer": "ipython3",
   "version": "3.10.0"
  },
  "orig_nbformat": 4
 },
 "nbformat": 4,
 "nbformat_minor": 2
}
