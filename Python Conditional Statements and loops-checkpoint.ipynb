{
 "cells": [
  {
   "cell_type": "markdown",
   "metadata": {},
   "source": [
    "1. Write a Python program to find those numbers which are divisible by 7 and multiple of 5, between 1500 and 2700 (both included)."
   ]
  },
  {
   "cell_type": "code",
   "execution_count": null,
   "metadata": {},
   "outputs": [],
   "source": [
    "for i in range(1500, 2700):\n",
    "    if(i%7 == 0 and i%5 == 0):\n",
    "        print(i, end= \" \")"
   ]
  },
  {
   "cell_type": "markdown",
   "metadata": {},
   "source": [
    "2. Write a Python program to convert temperatures to and from celsius, fahrenheit. \n",
    "[ Formula : c/5 = f-32/9 [ where c = temperature in celsius and f = temperature in fahrenheit ]\n",
    "Expected Output :\n",
    "60°C is 140 in Fahrenheit\n",
    "45°F is 7 in Celsius"
   ]
  },
  {
   "cell_type": "code",
   "execution_count": 6,
   "metadata": {},
   "outputs": [
    {
     "name": "stdout",
     "output_type": "stream",
     "text": [
      "Enter Temperature in Celsius60\n",
      "Enter Temperature in Fahrenheit45\n",
      "60 °C is 140 in Fahrenheit\n",
      "45 °F 7 in Celsius\n"
     ]
    }
   ],
   "source": [
    "m =int(input(\"Enter Temperature in Celsius\"))\n",
    "n=int(input(\"Enter Temperature in Fahrenheit\"))\n",
    "\n",
    "fahrenheit = int((m*9/5)+32)\n",
    "celsius =int((n-32)*5/9)\n",
    "print(m,\"°C is\",fahrenheit,\"in Fahrenheit\")\n",
    "print(n,\"°F\",celsius,\"in Celsius\")"
   ]
  },
  {
   "cell_type": "markdown",
   "metadata": {},
   "source": [
    "3. Write a Python program to guess a number between 1 to 9. \n",
    "Note : User is prompted to enter a guess. If the user guesses wrong then the prompt appears again until the guess is correct, on successful guess, user will get a \"Well guessed!\" message, and the program will exit."
   ]
  },
  {
   "cell_type": "code",
   "execution_count": null,
   "metadata": {},
   "outputs": [],
   "source": [
    "import random\n",
    "\n",
    "target_num=random.randint(1,9)\n",
    "guss_num = 0\n",
    "\n",
    "while guss_num !=target_num:\n",
    "    guss_num=input(\"Enter a guss number\")\n",
    "print(\"Well guessed!\")    \n",
    "\n",
    "   "
   ]
  },
  {
   "cell_type": "markdown",
   "metadata": {},
   "source": [
    "4. Write a Python program to construct the following pattern, using a nested for loop.\n",
    "\n",
    "* \n",
    "* * \n",
    "* * * \n",
    "* * * * \n",
    "* * * * * \n",
    "* * * * \n",
    "* * * \n",
    "* * \n",
    "*"
   ]
  },
  {
   "cell_type": "code",
   "execution_count": null,
   "metadata": {},
   "outputs": [],
   "source": [
    "row = 5\n",
    "for i in range(0, row+1):\n",
    "    for j in range(0, i):\n",
    "        print(\"*\", end=\" \")\n",
    "    print(\" \")  \n",
    "for i in range(row-1, 0, -1):\n",
    "    for j in range(0, i):\n",
    "        print(\"*\", end=\" \")\n",
    "    print(\" \")    \n",
    "    \n",
    "    "
   ]
  },
  {
   "cell_type": "markdown",
   "metadata": {},
   "source": [
    "5. Write a Python program that accepts a word from the user and reverse it."
   ]
  },
  {
   "cell_type": "code",
   "execution_count": 2,
   "metadata": {},
   "outputs": [
    {
     "name": "stdout",
     "output_type": "stream",
     "text": [
      "Enter a word: Welcome\n"
     ]
    },
    {
     "data": {
      "text/plain": [
       "'emocleW'"
      ]
     },
     "execution_count": 2,
     "metadata": {},
     "output_type": "execute_result"
    }
   ],
   "source": [
    "word =input(\"Enter a word: \")\n",
    "\n",
    "new_word=word[::-1]\n",
    "new_word"
   ]
  },
  {
   "cell_type": "code",
   "execution_count": 4,
   "metadata": {},
   "outputs": [
    {
     "name": "stdout",
     "output_type": "stream",
     "text": [
      "Enter a word: Welcome\n",
      "emocleW\n",
      "\n"
     ]
    }
   ],
   "source": [
    "word =input(\"Enter a word: \")\n",
    "for i in range(len(word)-1, -1, -1):\n",
    "    print(word[i], end=\"\")\n",
    "print(\"\\n\")    "
   ]
  },
  {
   "cell_type": "markdown",
   "metadata": {},
   "source": [
    "6. Write a Python program to count the number of even and odd numbers from a series of numbers.\n",
    "Sample numbers : numbers = (1, 2, 3, 4, 5, 6, 7, 8, 9) \n",
    "Expected Output :\n",
    "Number of even numbers : 5\n",
    "Number of odd numbers : 4"
   ]
  },
  {
   "cell_type": "code",
   "execution_count": 5,
   "metadata": {},
   "outputs": [
    {
     "name": "stdout",
     "output_type": "stream",
     "text": [
      "Number of even numbers : 4\n",
      "Number of odd numbers : 5\n"
     ]
    }
   ],
   "source": [
    "numbers = (1, 2, 3, 4, 5, 6, 7, 8, 9) \n",
    "even =0\n",
    "odd=0\n",
    "for i in numbers:\n",
    "    if i%2 == 0:\n",
    "        even +=1\n",
    "    else:\n",
    "        odd +=1\n",
    "print(\"Number of even numbers :\", even)  \n",
    "print(\"Number of odd numbers :\", odd)    \n",
    "        \n"
   ]
  },
  {
   "cell_type": "markdown",
   "metadata": {},
   "source": [
    "7. Write a Python program that prints each item and its corresponding type from the following list.\n",
    "Sample List : datalist = [1452, 11.23, 1+2j, True, 'w3resource', (0, -1), [5, 12], {\"class\":'V', \"section\":'A'}]"
   ]
  },
  {
   "cell_type": "code",
   "execution_count": 7,
   "metadata": {},
   "outputs": [
    {
     "name": "stdout",
     "output_type": "stream",
     "text": [
      "The Item 1452 and its type is: <class 'int'>\n",
      "The Item 11.23 and its type is: <class 'float'>\n",
      "The Item (1+2j) and its type is: <class 'complex'>\n",
      "The Item True and its type is: <class 'bool'>\n",
      "The Item w3resource and its type is: <class 'str'>\n",
      "The Item (0, -1) and its type is: <class 'tuple'>\n",
      "The Item [5, 12] and its type is: <class 'list'>\n",
      "The Item {'class': 'V', 'section': 'A'} and its type is: <class 'dict'>\n"
     ]
    }
   ],
   "source": [
    "datalist = [1452, 11.23, 1+2j, True, 'w3resource', (0, -1), [5, 12], {\"class\":'V', \"section\":'A'}]\n",
    "\n",
    "for i in datalist:\n",
    "    print(\"The Item\",i,\"and its type is:\", type(i))"
   ]
  },
  {
   "cell_type": "markdown",
   "metadata": {},
   "source": [
    "8. Write a Python program that prints all the numbers from 0 to 6 except 3 and 6.\n",
    "Note : Use 'continue' statement.\n",
    "Expected Output : 0 1 2 4 5"
   ]
  },
  {
   "cell_type": "code",
   "execution_count": 8,
   "metadata": {},
   "outputs": [
    {
     "name": "stdout",
     "output_type": "stream",
     "text": [
      "0\n",
      "1\n",
      "2\n",
      "4\n",
      "5\n"
     ]
    }
   ],
   "source": [
    "for i in range(0,6):\n",
    "    if i==3 or i==6:\n",
    "        continue\n",
    "    print(i)    "
   ]
  },
  {
   "cell_type": "markdown",
   "metadata": {},
   "source": [
    "9. Write a Python program to get the Fibonacci series between 0 to 50. \n",
    "Note : The Fibonacci Sequence is the series of numbers :\n",
    "0, 1, 1, 2, 3, 5, 8, 13, 21, ....\n",
    "Every next number is found by adding up the two numbers before it.\n",
    "Expected Output : 1 1 2 3 5 8 13 21 34"
   ]
  },
  {
   "cell_type": "code",
   "execution_count": 16,
   "metadata": {},
   "outputs": [
    {
     "name": "stdout",
     "output_type": "stream",
     "text": [
      "0 1 1 2 3 5 8 13 21 34 "
     ]
    }
   ],
   "source": [
    "\n",
    "a = 0\n",
    "b = 1\n",
    "\n",
    "while a <=50:\n",
    "    c=b\n",
    "    b=a\n",
    "    print(a, end=\" \")\n",
    "    a=c+b  \n",
    "   "
   ]
  },
  {
   "cell_type": "markdown",
   "metadata": {},
   "source": [
    "10. Write a Python program which iterates the integers from 1 to 50. For multiples of three print \"Fizz\" instead of the number and for the multiples of five print \"Buzz\". For numbers which are multiples of both three and five print \"FizzBuzz\".\n",
    "Sample Output :\n",
    "fizzbuzz\n",
    "1\n",
    "2\n",
    "fizz\n",
    "4\n",
    "buzz"
   ]
  },
  {
   "cell_type": "code",
   "execution_count": 24,
   "metadata": {},
   "outputs": [
    {
     "name": "stdout",
     "output_type": "stream",
     "text": [
      "fizzbuzz\n",
      "1\n",
      "2\n",
      "fizz\n",
      "4\n",
      "buzz\n",
      "fizz\n",
      "7\n",
      "8\n",
      "fizz\n",
      "buzz\n",
      "11\n",
      "fizz\n",
      "13\n",
      "14\n",
      "fizzbuzz\n",
      "16\n",
      "17\n",
      "fizz\n",
      "19\n",
      "buzz\n",
      "fizz\n",
      "22\n",
      "23\n",
      "fizz\n",
      "buzz\n",
      "26\n",
      "fizz\n",
      "28\n",
      "29\n",
      "fizzbuzz\n",
      "31\n",
      "32\n",
      "fizz\n",
      "34\n",
      "buzz\n",
      "fizz\n",
      "37\n",
      "38\n",
      "fizz\n",
      "buzz\n",
      "41\n",
      "fizz\n",
      "43\n",
      "44\n",
      "fizzbuzz\n",
      "46\n",
      "47\n",
      "fizz\n",
      "49\n",
      "buzz\n"
     ]
    }
   ],
   "source": [
    "\n",
    "for fizzbuzz in range(51):\n",
    "    if fizzbuzz%3==0 and fizzbuzz%5==0:\n",
    "        print(\"fizzbuzz\")\n",
    "    elif  fizzbuzz%3 == 0:\n",
    "        print(\"fizz\")\n",
    "    elif fizzbuzz%5 == 0:\n",
    "        print(\"buzz\")\n",
    "    else:\n",
    "        print(fizzbuzz)\n",
    "        "
   ]
  },
  {
   "cell_type": "markdown",
   "metadata": {},
   "source": [
    "11. Write a Python program which takes two digits m (row) and n (column) as input and generates a two-dimensional array. The element value in the i-th row and j-th column of the array should be i*j. \n",
    "Note :\n",
    "i = 0,1.., m-1\n",
    "j = 0,1, n-1.\n",
    "\n",
    "Test Data : Rows = 3, Columns = 4\n",
    "Expected Result : [[0, 0, 0, 0], [0, 1, 2, 3], [0, 2, 4, 6]]"
   ]
  },
  {
   "cell_type": "code",
   "execution_count": 30,
   "metadata": {},
   "outputs": [
    {
     "name": "stdout",
     "output_type": "stream",
     "text": [
      "Enter number of rows:3\n",
      "Enter number of Columns:4\n",
      "[[0, 0, 0, 0], [0, 1, 2, 3], [0, 2, 4, 6]]\n"
     ]
    }
   ],
   "source": [
    "rows=int(input(\"Enter number of rows:\"))\n",
    "cols=int(input(\"Enter number of Columns:\"))\n",
    "my_arra=[[0 for j in range(cols)]for i in range(rows)]\n",
    "\n",
    "for i in range(rows):\n",
    "    for j in range(cols):\n",
    "        my_arra[i][j]=i*j\n",
    "print(my_arra)        \n",
    "     "
   ]
  },
  {
   "cell_type": "markdown",
   "metadata": {},
   "source": [
    "12. Write a Python program that accepts a sequence of lines (blank line to terminate) as input and prints the lines as output (all characters in lower case). "
   ]
  },
  {
   "cell_type": "code",
   "execution_count": 37,
   "metadata": {},
   "outputs": [
    {
     "name": "stdout",
     "output_type": "stream",
     "text": [
      "ABDur\n",
      "RazzaQUe\n",
      "\n",
      "abdur\n",
      "razzaque\n"
     ]
    }
   ],
   "source": [
    "lines=[]\n",
    "while True:\n",
    "    l=input()\n",
    "    if l:\n",
    "        lines.append(l.lower())\n",
    "    else:\n",
    "        break\n",
    "        \n",
    "for i in lines:\n",
    "    print(i)\n",
    "    "
   ]
  },
  {
   "cell_type": "markdown",
   "metadata": {},
   "source": [
    "13. Write a Python program which accepts a sequence of comma separated 4 digit binary numbers as its input and print the numbers that are divisible by 5 in a comma separated sequence. \n",
    "Sample Data : 0100,0011,1010,1001,1100,1001\n",
    "Expected Output : 1010"
   ]
  },
  {
   "cell_type": "code",
   "execution_count": 46,
   "metadata": {},
   "outputs": [
    {
     "name": "stdout",
     "output_type": "stream",
     "text": [
      "0100,0011,1010,1001,1100,1001, 0101\n",
      "1010, 0101\n"
     ]
    }
   ],
   "source": [
    "items = []\n",
    "num =[x for x in input().split(',')]\n",
    "\n",
    "for i in num:\n",
    "    x=int(i, 2)\n",
    "    if not x%5:\n",
    "        items.append(i)\n",
    "print(','.join(items))        "
   ]
  },
  {
   "cell_type": "code",
   "execution_count": 48,
   "metadata": {},
   "outputs": [
    {
     "name": "stdout",
     "output_type": "stream",
     "text": [
      "Enter a sequence of comma separated 4 digit binary numbers0100,0011,1010,1001,1100,1001,0101\n",
      "1010\n",
      "0101\n"
     ]
    }
   ],
   "source": [
    "num =input(\"Enter a sequence of comma separated 4 digit binary numbers\")\n",
    "new_num=num.split(',')\n",
    "\n",
    "for i in new_num:\n",
    "    x= int(i, 2)\n",
    "    if x%5 == 0:\n",
    "        print(i)"
   ]
  },
  {
   "cell_type": "markdown",
   "metadata": {},
   "source": [
    "14. Write a Python program that accepts a string and calculate the number of digits and letters. \n",
    "Sample Data : Python 3.2\n",
    "Expected Output :\n",
    "Letters 6\n",
    "Digits 2"
   ]
  },
  {
   "cell_type": "code",
   "execution_count": 54,
   "metadata": {},
   "outputs": [
    {
     "name": "stdout",
     "output_type": "stream",
     "text": [
      "Python 3.10\n",
      "Letters= 6\n",
      "Digits= 3\n"
     ]
    }
   ],
   "source": [
    "data=input()\n",
    "\n",
    "letters=digits=0\n",
    "\n",
    "for i in data:\n",
    "    if i.isalpha():\n",
    "        letters +=1\n",
    "    elif i.isdigit():\n",
    "        digits +=1\n",
    "    else:\n",
    "        pass\n",
    "print(\"Letters=\", letters)\n",
    "print(\"Digits=\", digits)"
   ]
  },
  {
   "cell_type": "code",
   "execution_count": null,
   "metadata": {},
   "outputs": [],
   "source": []
  }
 ],
 "metadata": {
  "kernelspec": {
   "display_name": "Python 3",
   "language": "python",
   "name": "python3"
  },
  "language_info": {
   "codemirror_mode": {
    "name": "ipython",
    "version": 3
   },
   "file_extension": ".py",
   "mimetype": "text/x-python",
   "name": "python",
   "nbconvert_exporter": "python",
   "pygments_lexer": "ipython3",
   "version": "3.8.5"
  }
 },
 "nbformat": 4,
 "nbformat_minor": 4
}
