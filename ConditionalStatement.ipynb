{
 "cells": [
  {
   "cell_type": "code",
   "execution_count": 7,
   "metadata": {},
   "outputs": [
    {
     "name": "stdout",
     "output_type": "stream",
     "text": [
      "0\n"
     ]
    }
   ],
   "source": [
    "#Check if a Number is Positive, Negative or 0\n",
    "\n",
    "num = int(input(\"Enter a number:\"))\n",
    "if num > 0:\n",
    "    print(num,\"is a positive number.\")\n",
    "elif num < 0:\n",
    "    print(num, \"is a negative number.\")\n",
    "else:\n",
    "    print(num,)        "
   ]
  },
  {
   "cell_type": "code",
   "execution_count": 11,
   "metadata": {},
   "outputs": [
    {
     "name": "stdout",
     "output_type": "stream",
     "text": [
      "99 is a odd number.\n"
     ]
    }
   ],
   "source": [
    "#Python Program Check if a Number is Odd or Even\n",
    "num1 = int(input(\"Enter a number:\"))\n",
    "\n",
    "if num1%2 == 0:\n",
    "    print(num1,\"is a even number.\")\n",
    "else:\n",
    "    print(num1, \"is a odd number.\")    "
   ]
  },
  {
   "cell_type": "code",
   "execution_count": 21,
   "metadata": {},
   "outputs": [
    {
     "name": "stdout",
     "output_type": "stream",
     "text": [
      "2020 is a leap year.\n"
     ]
    }
   ],
   "source": [
    "#Python Program to Check Leap Year\n",
    "year = int(input(\"Enter a year:\"))\n",
    "\n",
    "if (year % 4) == 0:\n",
    "    if (year % 100) == 0:\n",
    "        if (year % 400) ==0:\n",
    "            print(year, \"is a leap year.\")\n",
    "        else:\n",
    "            print(year, \"is not a leap year.\")\n",
    "    else:\n",
    "        print(year, 'is a leap year.')\n",
    "else:\n",
    "    print(year, 'is not a leap year.')                    "
   ]
  },
  {
   "cell_type": "code",
   "execution_count": 24,
   "metadata": {},
   "outputs": [
    {
     "name": "stdout",
     "output_type": "stream",
     "text": [
      "Num1: 234 \n",
      "Num2: 456 \n",
      "Num3: 670\n",
      "670  is the largest among the three numbers.\n"
     ]
    }
   ],
   "source": [
    "#Python Program to Find the Largest Among Three Numbers\n",
    "num1 = int(input(\"Enter 1st Number:\"))\n",
    "num2 =int(input(\"Enter  2nd Number:\"))\n",
    "num3 = int(input(\"Enter 3rd Number:\"))\n",
    "print(\"Num1:\", num1 ,\"\\nNum2:\", num2, '\\nNum3:', num3)\n",
    "\n",
    "if (num1 > num2) and (num1 > num3):\n",
    "    print(num1, \" largest among three the numbers\")\n",
    "elif (num2 > num1) and (num2 > num3):\n",
    "    print(num3,\" is the largest among the  three numbers\")    \n",
    "else:\n",
    "    print(num3, \" is the largest among the three numbers.\")    \n"
   ]
  }
 ],
 "metadata": {
  "interpreter": {
   "hash": "e753af4684f2c7650636e9fffdd6713faf1cc2bf488ab99a61a658f965dcfd17"
  },
  "kernelspec": {
   "display_name": "Python 3.10.0 64-bit (windows store)",
   "language": "python",
   "name": "python3"
  },
  "language_info": {
   "codemirror_mode": {
    "name": "ipython",
    "version": 3
   },
   "file_extension": ".py",
   "mimetype": "text/x-python",
   "name": "python",
   "nbconvert_exporter": "python",
   "pygments_lexer": "ipython3",
   "version": "3.10.0"
  },
  "orig_nbformat": 4
 },
 "nbformat": 4,
 "nbformat_minor": 2
}
