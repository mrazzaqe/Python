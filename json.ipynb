{
 "cells": [
  {
   "cell_type": "code",
   "execution_count": 1,
   "metadata": {},
   "outputs": [],
   "source": [
    "import json"
   ]
  },
  {
   "cell_type": "code",
   "execution_count": 9,
   "metadata": {},
   "outputs": [
    {
     "name": "stdout",
     "output_type": "stream",
     "text": [
      "Json data:\n",
      " {\"name\":\"Abdur\", \"age\":30, \"city\":\"Dhaka\", \"code\":1350}\n",
      "\n",
      "Python Object:\n",
      "Name Abdur\n",
      "Age 30\n"
     ]
    }
   ],
   "source": [
    "#1. Write a Python program to convert JSON data to Python object.\n",
    "x = '{\"name\":\"Abdur\", \"age\":30, \"city\":\"Dhaka\", \"code\":1350}'\n",
    "\n",
    "y=json.loads(x)\n",
    "\n",
    "print(\"Json data:\\n\",x)\n",
    "print(\"\\nPython Object:\")\n",
    "print(\"Name\",y[\"name\"])\n",
    "print(\"Age\",y[\"age\"])"
   ]
  },
  {
   "cell_type": "code",
   "execution_count": 15,
   "metadata": {},
   "outputs": [
    {
     "name": "stdout",
     "output_type": "stream",
     "text": [
      "Python Objects:\n",
      "Name Saqlain\n",
      "Age 9\n",
      "\n",
      "Json Object:\n",
      "{\"name\": \"Saqlain\", \"age\": 9, \"city\": \"Dhaka\"}\n"
     ]
    }
   ],
   "source": [
    "#2. Write a Python program to convert Python object to JSON data.\n",
    "\n",
    "x = {\n",
    "    \"name\":\"Saqlain\",\n",
    "    \"age\":9,\n",
    "    \"city\": \"Dhaka\"\n",
    "}\n",
    "\n",
    "y = json.dumps(x)\n",
    "\n",
    "print(\"Python Objects:\")\n",
    "print(\"Name\",x[\"name\"])\n",
    "print(\"Age\",x[\"age\"])\n",
    "\n",
    "print(\"\\nJson Object:\")\n",
    "print(y)"
   ]
  },
  {
   "cell_type": "code",
   "execution_count": 24,
   "metadata": {},
   "outputs": [
    {
     "name": "stdout",
     "output_type": "stream",
     "text": [
      "Python Objects\n",
      "\n",
      "Json Strings:\n",
      "json_list [1, 4, \"Abdur\", \"age\", \"Banana\"]\n",
      "json_tup [\"apple\", \"age\", 2, 6]\n",
      "json_dict1 {\"name\": \"Saqlain\", \"age\": 8, \"class\": 3}\n",
      "json_bol [true, false]\n",
      "json_int 12\n",
      "json_n null\n"
     ]
    }
   ],
   "source": [
    "#3. Write a Python program to convert Python objects into JSON strings. Print all the values. \n",
    "print(\"Python Objects\")\n",
    "list1 =[1,4,\"Abdur\",\"age\",\"Banana\",]\n",
    "tuple1 = (\"apple\",\"age\",2,6)\n",
    "set1 = {2,4,\"apple\",\"banana\"}\n",
    "dict1 ={\"name\":\"Saqlain\",\"age\":8,\"class\":3}\n",
    "bol = (True, False)\n",
    "int_1=(12)\n",
    "py_n = None\n",
    "string1=\"Python to json covert\"\n",
    "\n",
    "json_list = json.dumps(list1)\n",
    "json_tup = json.dumps(tuple1)\n",
    "#json_set1 = json.dumps(set1)\n",
    "json_dict1 = json.dumps(dict1)\n",
    "json_bol = json.dumps(bol)\n",
    "json_int = json.dumps(int_1)\n",
    "json_n = json.dumps(py_n)\n",
    "\n",
    "print(\"\\nJson Strings:\")\n",
    "print(\"json_list:\",json_list)\n",
    "print(\"json_tup\",json_tup,)\n",
    "print(\"json_dict1\",json_dict1,)\n",
    "print(\"json_bol\",json_bol,)\n",
    "print(\"json_int\",json_int,)\n",
    "print(\"json_n\",json_n,)"
   ]
  },
  {
   "cell_type": "code",
   "execution_count": 25,
   "metadata": {},
   "outputs": [],
   "source": [
    "#4. Write a Python program to convert Python dictionary object (sort by key) to JSON data. \n",
    "# Print the object members with indent level 4.\n",
    "\n",
    "py_dict = {\"1\":2,\"5\":10, \"2\":4, \"4\":8, \"3\":6}\n",
    "print(\"Python dict object\")"
   ]
  },
  {
   "cell_type": "code",
   "execution_count": 1,
   "metadata": {},
   "outputs": [],
   "source": [
    "import requests\n",
    "from bs4 import BeautifulSoup"
   ]
  },
  {
   "cell_type": "code",
   "execution_count": 5,
   "metadata": {},
   "outputs": [
    {
     "data": {
      "text/plain": [
       "True"
      ]
     },
     "execution_count": 5,
     "metadata": {},
     "output_type": "execute_result"
    }
   ],
   "source": [
    "url = r'https://quotes.toscrape.com/'\n",
    "\n",
    "resp = requests.get(url)\n",
    "resp.ok"
   ]
  },
  {
   "cell_type": "code",
   "execution_count": null,
   "metadata": {},
   "outputs": [],
   "source": [
    "soup = BeautifulSoup(resp.content, 'lxml')\n",
    "soup"
   ]
  },
  {
   "cell_type": "code",
   "execution_count": null,
   "metadata": {},
   "outputs": [],
   "source": [
    "quote=soup.find('div', class_='quote')\n",
    "quote"
   ]
  },
  {
   "cell_type": "code",
   "execution_count": 20,
   "metadata": {},
   "outputs": [
    {
     "data": {
      "text/plain": [
       "'“The world as we have created it is a process of our thinking. It cannot be changed without changing our thinking.”'"
      ]
     },
     "execution_count": 20,
     "metadata": {},
     "output_type": "execute_result"
    }
   ],
   "source": [
    "quote.span.string"
   ]
  },
  {
   "cell_type": "code",
   "execution_count": 21,
   "metadata": {},
   "outputs": [
    {
     "data": {
      "text/plain": [
       "[<a class=\"tag\" href=\"/tag/change/page/1/\">change</a>,\n",
       " <a class=\"tag\" href=\"/tag/deep-thoughts/page/1/\">deep-thoughts</a>,\n",
       " <a class=\"tag\" href=\"/tag/thinking/page/1/\">thinking</a>,\n",
       " <a class=\"tag\" href=\"/tag/world/page/1/\">world</a>]"
      ]
     },
     "execution_count": 21,
     "metadata": {},
     "output_type": "execute_result"
    }
   ],
   "source": [
    "quote.div.find_all('a', class_='tag')"
   ]
  }
 ],
 "metadata": {
  "interpreter": {
   "hash": "955b5dbf1c9568fcdca6427b82ed9dd3b5652756bab72d537c2112a7dd2607f3"
  },
  "kernelspec": {
   "display_name": "Python 3.10.0 64-bit",
   "language": "python",
   "name": "python3"
  },
  "language_info": {
   "codemirror_mode": {
    "name": "ipython",
    "version": 3
   },
   "file_extension": ".py",
   "mimetype": "text/x-python",
   "name": "python",
   "nbconvert_exporter": "python",
   "pygments_lexer": "ipython3",
   "version": "3.10.0"
  },
  "orig_nbformat": 4
 },
 "nbformat": 4,
 "nbformat_minor": 2
}
